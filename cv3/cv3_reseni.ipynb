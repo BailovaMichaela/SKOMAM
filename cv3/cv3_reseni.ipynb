{
 "cells": [
  {
   "cell_type": "markdown",
   "metadata": {},
   "source": [
    "# **Cvičení 3: Jak se správně trefit do terče**\n",
    "---\n",
    "\n",
    "\n",
    "V tomto cvičení si ukážeme malou ukázku optimalizačních úloh. Ukážeme si metodu nejmenších čtverců a její využití při výpočtu optimálního míření pro trefení do terče.\n",
    "\n",
    "---\n",
    "\n",
    "*Toto jsou knihovny a funkcionality, které budeme využívat:*"
   ]
  },
  {
   "cell_type": "code",
   "execution_count": 26,
   "metadata": {},
   "outputs": [],
   "source": [
    "import numpy as np\n",
    "import matplotlib.pyplot as plt\n",
    "import numba"
   ]
  },
  {
   "cell_type": "markdown",
   "metadata": {},
   "source": [
    "*Toto jsou funkce, které jsme vyrobili v předchozím cvičení a budeme je využívat pro simulace střelby na terč:*"
   ]
  },
  {
   "cell_type": "code",
   "execution_count": 27,
   "metadata": {},
   "outputs": [],
   "source": [
    "@numba.jit\n",
    "def model_pohybu(beta, gamma, rho, alpha, wx, wy):\n",
    "    # vstupni parametry jsou:\n",
    "    # beta - úhel vychýlení oprotí míření na střed v ose z\n",
    "    # gamma - úhel vychýlení oprotí míření na střed v ose y\n",
    "    # rho - ustova rychlost\n",
    "    # alpha - koeficient odporu vzduchu\n",
    "    # wx - rychlost větru ve směru osy x\n",
    "    # wy - rychlost větru ve směru osy y\n",
    "    # výstupní hodnoty jsou:\n",
    "    # x, y - souřadnice kde střela dopadne na rovině terče\n",
    "\n",
    "    # inicializace proměnných\n",
    "    g = 9.81\n",
    "    m = 0.00051\n",
    "    dt = 0.01\n",
    "    n_max = 100\n",
    "    vzdalenost_terce = 50\n",
    "    r0 = np.array([0, 0, 0])\n",
    "\n",
    "    # výpočet ůhlů pro transformaci počáteční rychlosti\n",
    "    phi = np.pi/2 - np.deg2rad(beta)\n",
    "    theta = np.deg2rad(gamma)\n",
    "\n",
    "    # výpočet počáteční rychlosti\n",
    "    v0 = rho * np.array([np.sin(phi)*np.cos(theta), np.sin(phi)*np.sin(theta), np.cos(phi)])\n",
    "\n",
    "    # inicializace polí pro trajektorii, rychlost a zrychlení\n",
    "    r = np.zeros((n_max, 3))\n",
    "    v = np.zeros((n_max, 3))\n",
    "    a = np.zeros((n_max, 3))\n",
    "    \n",
    "    # inicializace vektorů gravitace a větru\n",
    "    g_vec = np.array([0, 0, -g])\n",
    "    w_vec = np.array([wx, wy, 0])\n",
    "\n",
    "    # počáteční podmínky\n",
    "    r[0] = r0\n",
    "    v[0] = v0\n",
    "    \n",
    "    for i in range(1, n_max):\n",
    "        a[i - 1] = g_vec - alpha / m * np.linalg.norm(v[i - 1] - w_vec) * (v[i - 1] - w_vec)\n",
    "        v[i] = v[i - 1] + a[i - 1] * dt\n",
    "        r[i] = r[i - 1] + (v[i - 1] + v[i]) / 2 * dt\n",
    "        if r[i, 0] > vzdalenost_terce:  # pozici počítáme rovnou a při zásahu terče ukončíme cyklus\n",
    "            break\n",
    "    \n",
    "    # poslední dvě hodnoty jsou právě těsně před a po zásahu terče\n",
    "    j = i - 1\n",
    "    y = r[j, 1] + (r[i, 1] - r[j, 1]) / (r[i, 0] - r[j, 0]) * (vzdalenost_terce - r[j, 0])\n",
    "    z = r[j, 2] + (r[i, 2] - r[j, 2]) / (r[i, 0] - r[j, 0]) * (vzdalenost_terce - r[j, 0])\n",
    "    return z, y\n",
    "\n",
    "\n",
    "def vystrel(beta, gamma):\n",
    "    # skryté parametry, pozor nekoukat!!!\n",
    "    return model_pohybu(beta, gamma, 200, 1.7e-5, -5, 3)"
   ]
  },
  {
   "cell_type": "markdown",
   "metadata": {},
   "source": [
    "---\n",
    "\n",
    "## Střelec matematik\n",
    "\n",
    "Matematik si koupil vzduchovku a chce se naučit střílet. Jelikož má za to, že si to umí spočítat, jde rovnou střílet na 50 metrů vzdálený terč.\n"
   ]
  },
  {
   "cell_type": "markdown",
   "metadata": {},
   "source": [
    "### První čtyři střely\n",
    "\n",
    "Na rozehřátí se rozhodl vystřelit první čtyři střely. A zaznamenal si jak úhly náklonu zbraňe (ve stupních) tak pozice zásahu na \"terči\" (ano, v prvních třech případech to byla zeď na které byl terč pověšen, ale změřit to šlo) v metrech."
   ]
  },
  {
   "cell_type": "code",
   "execution_count": 28,
   "metadata": {},
   "outputs": [],
   "source": [
    "# úhly hlavně ve stupních oproti výstřelu přímo na terč\n",
    "beta = np.array([1, 2.5, 1.5, 1.8])  # úhel ve stupních, náklon v ose z (kladné jsou nahoru)\n",
    "gamma = np.array([-1, -2, -1.5, -1.7]) # úhel ve stupních, náklon v ose y (kladné jsou doprava)\n",
    "\n",
    "# naměřené souřadnice zásahu terče v metrech\n",
    "z = np.array([-0.91936, 0.44877, -0.46353, -0.18994]) # souřadnice zásahu v ose z v metrech\n",
    "y = np.array([ 0.60353, -0.30889, 0.14654,-0.03597]) # souřadnice zásahu v ose y v metrech"
   ]
  },
  {
   "cell_type": "markdown",
   "metadata": {},
   "source": [
    "To matematikovi stačilo. Vzal tušku a papír něco si tam načmáral, spokojeně pokýval hlavou, vzal puškou a vystřelil. \n",
    "\n",
    "Přesně na střed... ani ne milimetr od středu.\n",
    "\n",
    "Nespokojeně zabrblal a šel domů. Tam si to naťukal do počítače a výsledek opsal na papír...\n",
    "\n",
    "Druhý den se vrátil a vystřelil jednu střelu. Dokonalý střed, tak přesně se to ještě nikomu nepovedlo!\n",
    "\n",
    "Spokojeně se usmál, prodal vzduchovku s tím, že už to má vyřešené a šel domů.\n",
    "\n",
    "**Zvládneme to i my?**\n",
    "\n",
    "---"
   ]
  },
  {
   "cell_type": "markdown",
   "metadata": {},
   "source": [
    "# Popis Úlohy\n",
    "Našim úkolem je určit ideální úhly pro trefení cíle v bodě $(0, 0)$ na terči. K dispozici máme množinu $N$ měření, kde každé měření obsahuje dvojici vstupních úhlů (úhly vychýlení oproti míření na střed terčy v $z$ a $y$ ose) $(\\beta, \\gamma)$ a odpovídající souřadnice zásahu $(z, y)$.\n",
    "\n",
    "**Jak takovou úlohu vyřešit?**\n",
    "\n",
    "- Hledáme nějakou kombinaci (funkci) vstupních parametrů $\\beta$ a $\\gamma$, která nám umožní predikovat zásah do terče.\n",
    "- Pokud takovou funkci najdeme, můžeme ji využít k určení ideálních úhlů pro zásah do bodu $(0, 0)$.\n",
    "\n",
    "**Jakou funci použít?**\n",
    "\n",
    "\n",
    "## Formulace Lineárního Modelu\n",
    "\n",
    "- Takovým nejzákladnějším modelem je tzv. lineární model. Je to navíc rozumná volba neboť máme velice málo měření (pokusů).\n",
    "- Lineární model znamená, že výsledek závisí lineárně na vstupních parametrech. Například tato funkce je lineární: $$f(x) = a \\cdot x + b.$$ V našem případě máme parametry dva a také dva výstupy, budeme mít tedy dva lineární modely:\n",
    "$$\n",
    "\\begin{aligned}\n",
    "    z &= a_{1} \\cdot \\beta + a_{2} \\cdot \\gamma + a_3, \\\\\n",
    "    y &= b_{1} \\cdot \\beta + b_{2} \\cdot \\gamma + b_3.\n",
    "\\end{aligned}\n",
    "$$\n",
    "Zde $a_{1}, a_{2}, a_3, b_{1}, b_{2}, b_3$ jsou parametry modelu, které budeme určovat.\n",
    "\n",
    "**Jak určit parametry modelu?**\n",
    "\n",
    "## Metoda Nejmenších Čtverců\n",
    "Pro určení parametrů použijeme metodu nejmenších čtverců (Známe z přednášky!). Naším cílem je minimalizovat chybu mezi skutečnými měřeními a hodnotami predikovanými modelem. Jelikož máme modely dva, budeme určovat dvě sady parametrů \n",
    "$$\n",
    "\\mathbf{a} = \\begin{bmatrix} a_1 \\\\ a_2 \\\\ a_3 \\end{bmatrix} \\text{ a } \\mathbf{b} = \\begin{bmatrix} b_1 \\\\ b_2 \\\\ b_3 \\end{bmatrix}\n",
    "$$.\n",
    "\n",
    "### Krok 1: Matematická Formulace\n",
    "Pro $N$ měření zapíšeme data ve vektorovém tvaru:\n",
    "\n",
    "$$\n",
    "\\mathbf{M} \\mathbf{a} = \\mathbf{z}, \\quad \\mathbf{M} \\mathbf{b} = \\mathbf{y},\n",
    "$$\n",
    "\n",
    "kde:\n",
    "- $\\mathbf{z}$ a $\\mathbf{y}$ jsou vektory naměřených pozic zásahů $z$ a $y$, \n",
    "- $\\mathbf{M}$ je matice vytvořená z naměřených hodnot tak ať pomocí její aplikace získáme predikce modelu, tedy obsahuje vstupní úhly a konstantní člen: $$a_{1} \\cdot \\beta + a_{2} \\cdot \\gamma + a_3 \\cdot 1$$ $$b_{1} \\cdot \\beta + b_{2} \\cdot \\gamma + b_3 \\cdot 1$$ tedy matice $\\mathbf{M}$ má tvar:\n",
    "$$\n",
    "\\mathbf{M} = \\begin{bmatrix}\n",
    "\\beta_1 & \\gamma_1 & 1 \\\\\n",
    "\\beta_2 & \\gamma_2 & 1 \\\\\n",
    "\\vdots & \\vdots & \\vdots \\\\\n",
    "\\beta_N & \\gamma_N & 1\n",
    "\\end{bmatrix},\n",
    "$$\n",
    "\n",
    "Z přednášky víme, ža naše soustavy rovnic \n",
    "$$\n",
    "\\mathbf{M} \\mathbf{a} = \\mathbf{z}, \\quad \\mathbf{M} \\mathbf{b} = \\mathbf{y},\n",
    "$$\n",
    "nemusí mít řešení. Dle metody nejmenších čtverců tedy hledáme takové $\\mathbf{a}$ a $\\mathbf{b}$, které minimalizují chybu mezi predikcemi modelu a skutečnými měřeními. A z přednášky víme, že takové $\\mathbf{a}$ a $\\mathbf{b}$ lze najít jako řešení soustav rovnic:\n",
    "$$\n",
    "\\mathbf{M}^T \\mathbf{M} \\mathbf{a} = \\mathbf{M}^T \\mathbf{z}, \\quad \\mathbf{M}^T \\mathbf{M} \\mathbf{b} = \\mathbf{M}^T \\mathbf{y}.\n",
    "$$"
   ]
  },
  {
   "cell_type": "markdown",
   "metadata": {},
   "source": [
    "---\n",
    "## Ukol 1.\n",
    "\n",
    "Vytvořte matici $\\mathbf{M}$ a a použijte měřaní zásahů jako vektory $\\mathbf{z}$ a $\\mathbf{y}$.\n",
    "\n",
    "Spočtěte soustavy rovnic pro nejměnší čtverce a určete parametry $\\mathbf{a}$ a $\\mathbf{b}$."
   ]
  },
  {
   "cell_type": "code",
   "execution_count": null,
   "metadata": {},
   "outputs": [],
   "source": [
    "# Ukol 1\n",
    "\n",
    "######## doplnte kod #######################\n",
    "\n",
    "# sestavení matice M\n",
    "N = len(z)\n",
    "M = np.vstack((beta, gamma, np.ones(N))).T\n",
    "\n",
    "# výpočet a\n",
    "a = np.linalg.solve(M.T @ M, M.T @ z)\n",
    "\n",
    "# výpočet b\n",
    "b = np.linalg.solve(M.T @ M, M.T @ y)\n",
    "\n",
    "##############################################\n",
    "\n",
    "print('a =', a, 'b =', b)"
   ]
  },
  {
   "cell_type": "markdown",
   "metadata": {},
   "source": [
    "---\n",
    "\n",
    "## Jak pomocí modelu určit ideální úhly pro trefení do terče?\n",
    "\n",
    "Nyní když máme model, můžeme ho použít k určení ideálních úhlů pro trefení do terče:\n",
    "- chceme trefit bod $(0, 0)$, tedy $z = 0$ a $y = 0$\n",
    "- toto, pro náš lineární model, odpovídá soustavě rovnic:\n",
    "$$\n",
    "\\begin{aligned}\n",
    "    0 &= a_{1} \\cdot \\beta + a_{2} \\cdot \\gamma + a_3, \\\\\n",
    "    0 &= b_{1} \\cdot \\beta + b_{2} \\cdot \\gamma + b_3.\n",
    "\\end{aligned}\n",
    "$$\n",
    "- maticově lze tuto soustavu zapsat jako:\n",
    "$$ \\mathbf{A} \\mathbf{x} = \\mathbf{f},$$\n",
    "kde: \n",
    "$$\n",
    "\\mathbf{A} = \\begin{bmatrix}\n",
    "a_{1} & a_{2} \\\\\n",
    "b_{1} & b_{2}\n",
    "\\end{bmatrix},\\quad \\mathbf{x} = \\begin{bmatrix} \\beta \\\\ \\gamma \\end{bmatrix}, \\quad \\mathbf{f} = \\begin{bmatrix} -a_3 \\\\ -b_3 \\end{bmatrix}.\n",
    "$$"
   ]
  },
  {
   "cell_type": "markdown",
   "metadata": {},
   "source": [
    "---\n",
    "## Ukol 2.\n",
    "\n",
    "Sestavte matice $\\mathbf{A}$ a $\\mathbf{f}$ a určete ideální úhly pro trefení do terče.\n",
    "\n"
   ]
  },
  {
   "cell_type": "code",
   "execution_count": null,
   "metadata": {},
   "outputs": [],
   "source": [
    "# Ukol 2\n",
    "\n",
    "######## doplnte kod #######################\n",
    "A = np.array([[a[0], a[1]], [b[0], b[1]]])\n",
    "f = np.array([-a[2], -b[2]])\n",
    "\n",
    "x = np.linalg.solve(A, f)\n",
    "##############################################\n",
    "print(f\"Optimalni uhly pro strelbu jsou beta = {x[0]:.3f} [°], gamma = {x[1]:.3f} [°]\")"
   ]
  },
  {
   "cell_type": "markdown",
   "metadata": {},
   "source": [
    "A ještě zkontrolujeme kam se trefíme...."
   ]
  },
  {
   "cell_type": "code",
   "execution_count": null,
   "metadata": {},
   "outputs": [],
   "source": [
    "# ověříme, kam střela dopadne\n",
    "z_trefa, y_trefa = vystrel(x[0], x[1])\n",
    "print(f\"Střela dopadne na souřadnice z = {1000 * z_trefa:.2f} [mm], y = {1000 * y_trefa:.2f} [mm]\")"
   ]
  },
  {
   "cell_type": "markdown",
   "metadata": {},
   "source": [
    "**Jsme tedy na milimetr přesně ve středu terče!**\n",
    "\n",
    "---"
   ]
  },
  {
   "cell_type": "markdown",
   "metadata": {},
   "source": [
    "## Lze to udělat lépe?\n",
    "\n",
    "Asi ano, když se tak ptám...\n",
    "\n",
    "**Využijeme znalost modelu z minulého cvičení!**\n",
    "\n",
    "Výše je přepsána funkce, která modeluje zásahy do terče. \n",
    "\n",
    "Volat se dá takto: `model_pohybu(beta, rho, gamma, alpha, wx, wy)`, kde:\n",
    "- `beta`, `gamma` jsou úhly vychýlení střely od osy $z$ a $y$,\n",
    "- `rho` je úsťová rychlost střely,\n",
    "- `alpha` je koeficient odporu vzduchu,\n",
    "- `wx`, `wy` jsou rychlosti větru ve směru os $z$ a $y$.\n",
    "\n",
    "A vrací nám vektor `[z, y]` s pozicí zásahu.\n",
    "\n",
    "Ostatní parametry (již součástí modelu) jsou známé nebo jednoduše ověřitelné bez střelby:\n",
    "- hmotnost střely $m = 0.00051$ [$kg$],\n",
    "- gravitační zrychlení $g = 9.81$ [$m/s^2$],\n",
    "- vzdálenost terče $50$ [$m$].\n",
    "\n",
    "## Co je nyní náš model?\n",
    "\n",
    "- S modelem je to nyní komplikovanější, je to poměrně složitá nelineární funkce (celá naše simulace trajektorie).\n",
    "- Ale víme jaké jsou naše parametry modelu: $\\rho$, $\\alpha$, $w_x$, $w_y$.\n",
    "- Náš model si tedy můžeme představit jako parametrizovanou funkci, tedy funkci, která v závoslosti na parametrech $\\rho$, $\\alpha$, $w_x$, $w_y$ počítá souřadnice zásahu do terče pro vstupní úhly $\\beta$ a $\\gamma$:\n",
    "$$ \\mathbf{f}(\\beta, \\gamma; \\rho, \\alpha, w_x, w_y) = \\begin{bmatrix} z \\\\ y \\end{bmatrix}.$$\n",
    "\n",
    "- Můžeme použít zobecněnou metodu nejmenších čtverců, tedy pro všechna naměřená data spočítat kvadráty odchylky mezi naměřenými hodnotami a hodnotami predikovanými modelem a minimalizovat je. Chyba bude tedy: $$\\mathbf{E}(\\rho, \\alpha, w_x, w_y) = \\sum_{i=1}^{N} \\left\\Vert \\mathbf{f}(\\beta_i, \\gamma_i; \\rho, \\alpha, w_x, w_y) - \\begin{bmatrix} z_i \\\\ y_i \\end{bmatrix} \\right\\Vert^2,$$ \n",
    "kde $\\left\\Vert \\cdot \\right\\Vert^2$ je Euklidovská norma vektoru na druhou. Optimální parametry našeho modelu jsou pak ty které mají minimalní chybu $\\mathbf{E}$ :\n",
    "$$\n",
    "\\rho^*, \\alpha^*, w_x^*, w_y^* = \\arg \\min_{\\rho, \\alpha, w_x, w_y} \\mathbf{E}(\\rho, \\alpha, w_x, w_y).\n",
    "$$\n",
    "\n",
    "\n",
    "**Nelekejme se!**\n",
    "\n",
    "Problém sice vypadá abstraktně a komplikovaně, ale to nám ve skutečnosti nevadí, protože existují úžasné matematické knihovny, které nám pomohou s výpočtem. \n",
    "\n",
    "Například operaci $\\arg \\min_{\\rho, \\alpha, w_x, w_y}$ nám zvládne spočítat funkce `minimize` z knihovny `scipy.optimize`. Budeme akorát muset vyrobit funkci počítající chybu $\\mathbf{E}$. A zadat počáteční odhad parametrů."
   ]
  },
  {
   "cell_type": "markdown",
   "metadata": {},
   "source": [
    "---\n",
    "## Ukol 3.\n",
    "\n",
    "Sestavte funkci počítající chybu $\\mathbf{E}$ pro naše naměřená data a použíjte ji ve funkci `minimize` k nalezení optimálních parametrů modelu.\n",
    "\n",
    "Pro počáteční odhad parametrů použijte následující střelcovy znalosti/pozorování:\n",
    "- Jeho poslední vzduchovka měla úsťovou rychlost $160$ [$m/s$],\n",
    "- Diabolka má ve směru letu tvar kruhu o poloměru $0.003$ [$m$]. Její plocha je tedy cca $2.8 \\cdot 10^{-5}$ [$m^2$]. hustota vzduchu je cca $1.225$ [$kg/m^3$]. Tedy koeficient odporu vzduchu bude v okolí $3.5 \\cdot 10^{-5}$ [$kg/m$].\n",
    "- Cítí slabý vítr který mu naráží na levou tvář, takže $w_x < 0 $ a $w_y > 0$, např. $w_x = -1$ [$m/s$], $w_y = 1$ [$m/s$].\n",
    "\n",
    "**Důležité poznámky:**\n",
    "- Máte k dispozici `model_pohybu(beta, rho, gamma, alpha, wx, wy)` pro výpočet zásahu do terče v závislosti na úhlech a parametrech modelu.\n",
    "- Funkce počítající chybu $\\mathbf{E}$ přijimá jako jedinný argument vektor parametrů $\\mathbf{p} = [\\rho, \\alpha, w_x, w_y]$.\n",
    "- Naměřená data jsou uložena v globálních proměnných `beta`, `gamma`, `z`, `y`. Použijteje přímo takto ve funkci počítající chybu $\\mathbf{E}$.\n",
    "- Funkce musí vracet pouze jedno číslo a to velikost chyby $\\mathbf{E}$."
   ]
  },
  {
   "cell_type": "code",
   "execution_count": null,
   "metadata": {},
   "outputs": [],
   "source": [
    "# Ukol 3\n",
    "import scipy.optimize as opt\n",
    "\n",
    "def E_nelinearni_ctverce(parametry):\n",
    "    ######## doplnte kod #######################\n",
    "    E = 0\n",
    "    for i in range(4):\n",
    "        z_trefa, y_trefa = model_pohybu(beta[i], gamma[i], parametry[0], parametry[1], parametry[2], parametry[3])\n",
    "        E += (z_trefa - z[i])**2 + (y_trefa - y[i])**2\n",
    "    ##############################################\n",
    "    return E\n",
    "\n",
    "\n",
    "res = opt.minimize(E_nelinearni_ctverce, [160, 3.5e-5, -1, 1],\n",
    "                   method='Nelder-Mead', tol=1e-9, options={'maxiter': 10000})\n",
    "parametry = res.x\n",
    "print(\"Nalezli jsme následující hodnoty parametrů:\")\n",
    "print(f\"rho = {parametry[0]:.2f} [m/s],\")\n",
    "print(f\"alpha = {parametry[1]:.2e} [kg/m],\")\n",
    "print(f\"wx = {parametry[2]:.2f} [m/s],\")\n",
    "print(f\"wy = {parametry[3]:.2f} [m/s]\")"
   ]
  },
  {
   "cell_type": "markdown",
   "metadata": {},
   "source": [
    "A skutečné skryté parametry modelu jsou:\n",
    "\n",
    "$\\rho = 200$ [m/s],\n",
    "\n",
    "$\\alpha = 1.7\\cdot 10^{-05}$ [kg/m],\n",
    "\n",
    "$w_x = -5$ [m/s],\n",
    "\n",
    "$w_y = 3$ [m/s]\n",
    "\n",
    "---"
   ]
  },
  {
   "cell_type": "markdown",
   "metadata": {},
   "source": [
    "## Poslední krok: známe model a parametry... pojďme optimalizovat!\n",
    "\n",
    "Známe-li model včetně parametrů, můžeme si model představit jako funkci která v závislosti na vstupních úhlech $\\beta$ a $\\gamma$ počítá zásah do terče:\n",
    "$$ \\mathbf{f}(\\beta, \\gamma) = \\begin{bmatrix} z \\\\ y \\end{bmatrix}.$$\n",
    "\n",
    "Chceme se trefit přesně do bodu $(0, 0)$, tedy hledáme takové $\\beta$ a $\\gamma$, pro které platí:\n",
    "$$ \\mathbf{f}(\\beta, \\gamma) = \\begin{bmatrix} z \\\\ y \\end{bmatrix} = \\begin{bmatrix} 0 \\\\ 0 \\end{bmatrix}.$$\n",
    "\n",
    "Opět v duchu nejmenších čtverců budeme předpokládat, že přesné řešení nemusí existovat, spokojíme se s takovým které má nejmenší chybu:\n",
    "$$ \\mathbf{E}(\\beta, \\gamma) = \\left\\Vert \\mathbf{f}(\\beta, \\gamma) - \\begin{bmatrix} 0 \\\\ 0 \\end{bmatrix} \\right\\Vert^2.$$\n",
    "\n",
    "Tedy řešíme úlohu:\n",
    "$$ \\beta^*, \\gamma^* = \\arg \\min_{\\beta, \\gamma} \\mathbf{E}(\\beta, \\gamma).$$\n",
    "\n",
    "Což už ale umíme. Je tedy třeba napsat funkci počítající chybu $\\mathbf{E}$ a použít ji ve funkci `minimize` z knihovny `scipy.optimize`.\n",
    "\n",
    "- Stejně jako předtím použijte globální proměnnou `parametry` s nalezenými hodnotami $\\rho^*, \\alpha^*, w_x^*, w_y^*$. A funkci počítající model `model_pohybu(beta, gamma, rho, alpha, wx, wy)`."
   ]
  },
  {
   "cell_type": "markdown",
   "metadata": {},
   "source": [
    "---\n",
    "## Ukol 4.\n",
    "\n",
    "Nalezněte optimální úhly pro trefení do terče.\n",
    "\n",
    "Počáteční odhad může být například $\\beta = 0$, $\\gamma = 0$."
   ]
  },
  {
   "cell_type": "code",
   "execution_count": null,
   "metadata": {},
   "outputs": [],
   "source": [
    "# Ukol 4\n",
    "\n",
    "def E_strelba(uhly):\n",
    "    ######## doplnte kod #######################\n",
    "    y, z = model_pohybu(uhly[0], uhly[1], parametry[0], parametry[1], parametry[2], parametry[3])\n",
    "    sum = (y)**2 + (z)**2\n",
    "    ############################################\n",
    "    return sum\n",
    "\n",
    "res = opt.minimize(E_strelba, [0, 0], method='Nelder-Mead', tol=1e-9, options={'maxiter': 10000})\n",
    "optimalni_uhly = res.x\n",
    "\n",
    "print (f\"Optimalni uhly pro strelbu jsou beta = {optimalni_uhly[0]:.3f} [°], gamma = {optimalni_uhly[1]:.3f} [°]\")"
   ]
  },
  {
   "cell_type": "code",
   "execution_count": null,
   "metadata": {},
   "outputs": [],
   "source": [
    "# ověříme, kam střela dopadne\n",
    "z_trefa, y_trefa = vystrel(res.x[0], res.x[1])\n",
    "print(f\"Střela dopadne na souřadnice z = {1000 * z_trefa:.2f} [mm], y = {1000 * y_trefa:.2f} [mm]\")"
   ]
  },
  {
   "cell_type": "markdown",
   "metadata": {},
   "source": [
    "**Dokonalá trefa! Doslova jen o vlas (Lidský vlas má tloušťku asi 0,05–0,1 mm) vedle středu...**"
   ]
  },
  {
   "cell_type": "markdown",
   "metadata": {},
   "source": [
    "</br>\n",
    "</br>\n",
    "</br>\n",
    "</br>\n",
    "</br>\n",
    "</br>\n",
    "\n",
    "---\n",
    "---\n",
    "---\n",
    "---\n",
    "# Bonusové materiály:\n",
    "---\n"
   ]
  },
  {
   "cell_type": "markdown",
   "metadata": {},
   "source": [
    "## Mohl to náš ostrostřelec udělat už po dvou střelách?\n",
    "\n",
    "\n",
    "#### Pomocí lineárního modelu \n",
    "\n",
    "Viděli jsme, že i takto \"jednoduchý\" model může být velice přesný. Co kdybychom měli jen dvě testovací střely? Šlo by to i tak spočítat?\n",
    "\n",
    "Zkusme se nad tím zamyslet... \n",
    "\n",
    "Pro každou z úloh budeme mít celkem dvě měření, ale budeme muset určit 3 parametry. Možná už víte, že v takových případech může být řešení nejednoznačné.\n",
    "\n",
    "**Tak co s tím?**\n",
    "\n",
    "Nezbývá než zjednodušit model. Z minulých výsledků víme, že $z$ téměř výhradně závisí na $\\beta$ a $y$ na $\\gamma$. Můžeme tedy zkusit zjednodušený lineární model:\n",
    "$$\n",
    "\\begin{aligned}\n",
    "    z &= a_{1} \\cdot \\beta + a_3, \\\\\n",
    "    y &= b_{2} \\cdot \\gamma + b_3.\n",
    "\\end{aligned}\n",
    "$$\n",
    "\n",
    "Výsledné matice budou různé: \n",
    "$$\n",
    "\\mathbf{M_a} \\mathbf{a} = \\mathbf{z}, \\quad \\mathbf{M_b} \\mathbf{b} = \\mathbf{y},\n",
    "$$\n",
    "kde:\n",
    "$$\n",
    "\\mathbf{M_a} = \\begin{bmatrix}\n",
    "\\beta_1 & 1 \\\\\n",
    "\\beta_2 & 1\n",
    "\\end{bmatrix}, \\quad \\mathbf{M_b} = \\begin{bmatrix}\n",
    "\\gamma_1 & 1 \\\\\n",
    "\\gamma_2 & 1\n",
    "\\end{bmatrix}.\n",
    "$$\n",
    "\n",
    "A výsledný model bude mít pouze diagonální matici, tedy požadované úhly budou řešením soustavy rovnic:\n",
    "$$ \\mathbf{A} \\mathbf{x} = \\mathbf{f},$$\n",
    "kde: \n",
    "$$\n",
    "\\mathbf{A} = \\begin{bmatrix}\n",
    "a_{1} & 0 \\\\\n",
    "0 & b_{2}\n",
    "\\end{bmatrix},\\quad \\mathbf{x} = \\begin{bmatrix} \\beta \\\\ \\gamma \\end{bmatrix}, \\quad \\mathbf{f} = \\begin{bmatrix} -a_3 \\\\ -b_3 \\end{bmatrix}.\n",
    "$$\n"
   ]
  },
  {
   "cell_type": "markdown",
   "metadata": {},
   "source": [
    "---\n",
    "## Ukol B1.\n",
    "Proveďte totéž co v úkolu 1 a 2, ale s pouze s redukovaným lineárním modelem a prvními dvěma měřeními.  "
   ]
  },
  {
   "cell_type": "code",
   "execution_count": null,
   "metadata": {},
   "outputs": [],
   "source": [
    "# Ukol 1\n",
    "\n",
    "######## doplnte kod #######################\n",
    "\n",
    "# sestavení matice M\n",
    "N = 2\n",
    "Ma = np.vstack((beta[:2], np.ones(N))).T\n",
    "Mb = np.vstack((gamma[:2], np.ones(N))).T\n",
    "\n",
    "# výpočet a\n",
    "a = np.linalg.solve(Ma.T @ Ma, Ma.T @ z[:2])\n",
    "\n",
    "# výpočet b\n",
    "b = np.linalg.solve(Mb.T @ Mb, Mb.T @ y[:2])\n",
    "\n",
    "##############################################\n",
    "\n",
    "print('a =', a, 'b =', b)\n",
    "\n",
    "######## doplnte kod #######################\n",
    "A = np.array([[a[0], 0], [0, b[0]]])\n",
    "f = np.array([-a[1], -b[1]])\n",
    "\n",
    "x = np.linalg.solve(A, f)\n",
    "##############################################\n",
    "print('x =', x)"
   ]
  },
  {
   "cell_type": "code",
   "execution_count": null,
   "metadata": {},
   "outputs": [],
   "source": [
    "# ověříme, kam střela dopadne\n",
    "z_trefa, y_trefa = vystrel(x[0], x[1])\n",
    "print(f\"Střela dopadne na souřadnice z = {1000 * z_trefa:.2f} [mm], y = {1000 * y_trefa:.2f} [mm]\")"
   ]
  },
  {
   "cell_type": "markdown",
   "metadata": {},
   "source": [
    "**Stále se trefíme prakticky (méně než 1mm) přesně do středu terče!**"
   ]
  },
  {
   "cell_type": "markdown",
   "metadata": {},
   "source": [
    "---\n",
    "\n",
    "## Úkol B2\n",
    "\n",
    "Jak přesně jsme schopni trefit terč už na druhý pokus?\n",
    "\n",
    "Zde by už lineární model nestačil, použijte druhý přístup řešení pomocí parametrů pro fyzikální model trajektorie a pouze pro jedno měření."
   ]
  },
  {
   "cell_type": "code",
   "execution_count": null,
   "metadata": {},
   "outputs": [],
   "source": [
    "# Ukol B2\n",
    "import scipy.optimize as opt\n",
    "\n",
    "\n",
    "def E_nelinearni_ctverce(parametry):\n",
    "    ######## doplnte kod #######################\n",
    "    E = 0\n",
    "    i = 3\n",
    "    z_trefa, y_trefa = model_pohybu(beta[i], gamma[i], parametry[0], parametry[1], parametry[2], parametry[3])\n",
    "    E += (z_trefa - z[i])**2 + (y_trefa - y[i])**2\n",
    "    ##############################################\n",
    "    return E\n",
    "\n",
    "\n",
    "res = opt.minimize(E_nelinearni_ctverce, [160, 3.5e-5, -1, 1],\n",
    "                   method='Nelder-Mead', tol=1e-9, options={'maxiter': 10000})\n",
    "parametry = res.x\n",
    "\n",
    "def E_strelba(uhly):\n",
    "    ######## doplnte kod #######################\n",
    "    y, z = model_pohybu(uhly[0], uhly[1], parametry[0], parametry[1], parametry[2], parametry[3])\n",
    "    sum = (y)**2 + (z)**2\n",
    "    ############################################\n",
    "    return sum\n",
    "\n",
    "\n",
    "res = opt.minimize(E_strelba, [0, 0], method='Nelder-Mead', tol=1e-9, options={'maxiter': 10000})\n",
    "optimalni_uhly = res.x\n",
    "\n",
    "print(f\"Optimalni uhly pro strelbu jsou beta = {optimalni_uhly[0]:.3f} [°], gamma = {optimalni_uhly[1]:.3f} [°]\")\n",
    "\n",
    "# ověříme, kam střela dopadne\n",
    "z_trefa, y_trefa = vystrel(res.x[0], res.x[1])\n",
    "print(f\"Střela dopadne na souřadnice z = {1000 * z_trefa:.2f} [mm], y = {1000 * y_trefa:.2f} [mm]\")"
   ]
  }
 ],
 "metadata": {
  "kernelspec": {
   "display_name": "usr",
   "language": "python",
   "name": "python3"
  },
  "language_info": {
   "codemirror_mode": {
    "name": "ipython",
    "version": 3
   },
   "file_extension": ".py",
   "mimetype": "text/x-python",
   "name": "python",
   "nbconvert_exporter": "python",
   "pygments_lexer": "ipython3",
   "version": "3.13.1"
  }
 },
 "nbformat": 4,
 "nbformat_minor": 2
}

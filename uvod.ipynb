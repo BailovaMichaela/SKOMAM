{
 "cells": [
  {
   "cell_type": "markdown",
   "metadata": {},
   "source": [
    "# Tutoriál pro Python 3"
   ]
  },
  {
   "cell_type": "markdown",
   "metadata": {},
   "source": [
    "### 0) Ovládání jupyter notebooku"
   ]
  },
  {
   "cell_type": "markdown",
   "metadata": {},
   "source": [
    "Jednodlivá políčka se nazývají \"buňky\". Každá buňka může obsahovat zdrojový kód nebo obyčejný text. Příkazy v buňce spustíme pomocí tlačítka \"Run\" nebo pomocí kláves Shift+Enter, zároveň se posuneme do nové buňky. "
   ]
  },
  {
   "cell_type": "markdown",
   "metadata": {},
   "source": [
    "### 1) Python jako kalkulačka"
   ]
  },
  {
   "cell_type": "markdown",
   "metadata": {},
   "source": [
    "Základní operace:"
   ]
  },
  {
   "cell_type": "code",
   "execution_count": 1,
   "metadata": {},
   "outputs": [
    {
     "data": {
      "text/plain": [
       "5.181818181818182"
      ]
     },
     "execution_count": 1,
     "metadata": {},
     "output_type": "execute_result"
    }
   ],
   "source": [
    "(12 + 3 * (17 - 2)) / 11"
   ]
  },
  {
   "cell_type": "markdown",
   "metadata": {},
   "source": [
    "Operace celočíselné dělení, zbytek po dělení, mocnina:"
   ]
  },
  {
   "cell_type": "code",
   "execution_count": 2,
   "metadata": {},
   "outputs": [
    {
     "data": {
      "text/plain": [
       "5"
      ]
     },
     "execution_count": 2,
     "metadata": {},
     "output_type": "execute_result"
    }
   ],
   "source": [
    "57 // 11"
   ]
  },
  {
   "cell_type": "code",
   "execution_count": 5,
   "metadata": {},
   "outputs": [
    {
     "data": {
      "text/plain": [
       "2"
      ]
     },
     "execution_count": 5,
     "metadata": {},
     "output_type": "execute_result"
    }
   ],
   "source": [
    "57 % 11"
   ]
  },
  {
   "cell_type": "code",
   "execution_count": 6,
   "metadata": {},
   "outputs": [
    {
     "data": {
      "text/plain": [
       "125"
      ]
     },
     "execution_count": 6,
     "metadata": {},
     "output_type": "execute_result"
    }
   ],
   "source": [
    "5 ** 3"
   ]
  },
  {
   "cell_type": "markdown",
   "metadata": {},
   "source": [
    "Přiřazení názvu proměnné, textový výpis:"
   ]
  },
  {
   "cell_type": "code",
   "execution_count": 96,
   "metadata": {},
   "outputs": [
    {
     "name": "stdout",
     "output_type": "stream",
     "text": [
      "57 děleno 11 dává podíl 5 a zbytek 2\n"
     ]
    }
   ],
   "source": [
    "delenec = 57; delitel = 11; podil = delenec//delitel; zbytek = delenec%delitel;\n",
    "print(delenec, \"děleno\", delitel, \"dává podíl\", podil, \"a zbytek\", zbytek);"
   ]
  },
  {
   "cell_type": "markdown",
   "metadata": {},
   "source": [
    "### 2) Datové struktury"
   ]
  },
  {
   "cell_type": "markdown",
   "metadata": {},
   "source": [
    "= struktury, do kterých můžeme uložit více proměnných. V Pythonu jsou tři základní datové struktury: tuple, list a dictionary.\n",
    "#### 2.1) Tuple\n",
    "- "
   ]
  },
  {
   "cell_type": "code",
   "execution_count": 97,
   "metadata": {},
   "outputs": [
    {
     "name": "stdout",
     "output_type": "stream",
     "text": [
      "[3, 17, 'devatenact', 53, 89]\n"
     ]
    }
   ],
   "source": [
    "oblibena_prvocisla = [3, 17, 'devatenact', 53, 89];\n",
    "print(oblibena_prvocisla);"
   ]
  },
  {
   "cell_type": "markdown",
   "metadata": {},
   "source": [
    "Operace s datovou strukturou List (výběr prvku, skládání seznamů, násobení).\n",
    "Pozor, v Pythonu indexujeme od 0."
   ]
  },
  {
   "cell_type": "code",
   "execution_count": 42,
   "metadata": {},
   "outputs": [
    {
     "name": "stdout",
     "output_type": "stream",
     "text": [
      "3\n",
      "89\n",
      "[17, 'devatenact', 53]\n",
      "[3, 17, 'devatenact', 53, 89, 2, 3, 4]\n",
      "[3, 17, 'devatenact', 53, 89, 3, 17, 'devatenact', 53, 89, 3, 17, 'devatenact', 53, 89]\n"
     ]
    }
   ],
   "source": [
    "prvni_prvek_seznamu = oblibena_prvocisla[0];\n",
    "print(prvni_prvek_seznamu)\n",
    "posledni_prvek_seznamu = oblibena_prvocisla[-1];\n",
    "print(posledni_prvek_seznamu)\n",
    "druhy_az_ctvrty = oblibena_prvocisla[1:4];\n",
    "print(druhy_az_ctvrty)\n",
    "slozeni_dvou_seznamu = oblibena_prvocisla + [2, 3, 4];\n",
    "print(slozeni_dvou_seznamu)\n",
    "nasobeni_seznamu = oblibena_prvocisla * 3;\n",
    "print(nasobeni_seznamu)"
   ]
  },
  {
   "cell_type": "markdown",
   "metadata": {},
   "source": [
    "Délka Listu:"
   ]
  },
  {
   "cell_type": "code",
   "execution_count": 44,
   "metadata": {},
   "outputs": [
    {
     "name": "stdout",
     "output_type": "stream",
     "text": [
      "Mám 5 oblíbených prvočísel.\n"
     ]
    }
   ],
   "source": [
    "print(\"Mám\", len(oblibena_prvocisla), \"oblíbených prvočísel.\")"
   ]
  },
  {
   "cell_type": "markdown",
   "metadata": {},
   "source": [
    "### 3) Cykly a podmínky"
   ]
  },
  {
   "cell_type": "markdown",
   "metadata": {},
   "source": [
    "Cyklus \"for\" a funkce \"range\". Každý den sním tolik koláčů, jako je pořadí dne v měsíci. Kolik koláčů sním v lednu?"
   ]
  },
  {
   "cell_type": "code",
   "execution_count": 55,
   "metadata": {},
   "outputs": [
    {
     "name": "stdout",
     "output_type": "stream",
     "text": [
      "496\n"
     ]
    }
   ],
   "source": [
    "suma = 0;\n",
    "for i in range(31):\n",
    "    poradi_dne = i+1;\n",
    "    suma = suma + poradi_dne;\n",
    "print(suma)    "
   ]
  },
  {
   "cell_type": "markdown",
   "metadata": {},
   "source": [
    "Cyklus \"while\". Který den v měsíci sním padesátý koláč?"
   ]
  },
  {
   "cell_type": "code",
   "execution_count": 88,
   "metadata": {},
   "outputs": [
    {
     "name": "stdout",
     "output_type": "stream",
     "text": [
      "1 1\n",
      "2 3\n",
      "3 6\n",
      "4 10\n",
      "5 15\n",
      "6 21\n",
      "7 28\n",
      "8 36\n",
      "9 45\n",
      "10 55\n"
     ]
    }
   ],
   "source": [
    "suma = 0;\n",
    "poradi_dne = 0;\n",
    "while suma<=50:\n",
    "    poradi_dne += 1;\n",
    "    suma = suma + poradi_dne;\n",
    "    print(poradi_dne, suma)"
   ]
  },
  {
   "cell_type": "markdown",
   "metadata": {},
   "source": [
    "Podmínka \"if\". Vypište všechna dvojciferná čísla dělitelná 3 a 7."
   ]
  },
  {
   "cell_type": "code",
   "execution_count": 89,
   "metadata": {
    "scrolled": true
   },
   "outputs": [
    {
     "name": "stdout",
     "output_type": "stream",
     "text": [
      "21\n",
      "42\n",
      "63\n",
      "84\n"
     ]
    }
   ],
   "source": [
    "for i in range(10,100):\n",
    "    if i%3 == 0:\n",
    "        if i%7 == 0:\n",
    "            print(i)"
   ]
  },
  {
   "cell_type": "markdown",
   "metadata": {},
   "source": [
    "### 4) Import knihoven a modulů"
   ]
  },
  {
   "cell_type": "code",
   "execution_count": 123,
   "metadata": {},
   "outputs": [],
   "source": [
    "import numpy as np # obsahuje základní i pokročilé matematické funkce a je vhodná pro práci s maticemi"
   ]
  },
  {
   "cell_type": "code",
   "execution_count": 124,
   "metadata": {},
   "outputs": [
    {
     "data": {
      "text/plain": [
       "3.141592653589793"
      ]
     },
     "execution_count": 124,
     "metadata": {},
     "output_type": "execute_result"
    }
   ],
   "source": [
    "np.pi"
   ]
  },
  {
   "cell_type": "code",
   "execution_count": 125,
   "metadata": {},
   "outputs": [
    {
     "data": {
      "text/plain": [
       "1.0"
      ]
     },
     "execution_count": 125,
     "metadata": {},
     "output_type": "execute_result"
    }
   ],
   "source": [
    "np.sin(np.pi/2)"
   ]
  },
  {
   "cell_type": "code",
   "execution_count": 133,
   "metadata": {},
   "outputs": [
    {
     "data": {
      "text/plain": [
       "1.2246467991473532e-16"
      ]
     },
     "execution_count": 133,
     "metadata": {},
     "output_type": "execute_result"
    }
   ],
   "source": [
    "np.sin(np.pi)"
   ]
  },
  {
   "cell_type": "code",
   "execution_count": 126,
   "metadata": {},
   "outputs": [],
   "source": [
    "import matplotlib.pyplot as plt # slouží k vykreslování grafů"
   ]
  },
  {
   "cell_type": "markdown",
   "metadata": {},
   "source": [
    "### 5) Vlastní funkce:"
   ]
  },
  {
   "cell_type": "markdown",
   "metadata": {},
   "source": [
    "Funkce může vracet více výstupních hodnot. Pokud neobsahuje klíčové slovo \"return\", nevrací nic (může sloužit např. jen pro výpis). Některé vstupní proměnné (od konce) mohou mít nastavené výchozí hodnoty."
   ]
  },
  {
   "cell_type": "code",
   "execution_count": 127,
   "metadata": {},
   "outputs": [],
   "source": [
    "def valec(polomer, vyska=1):\n",
    "    objem = np.pi*(polomer**2)*vyska;\n",
    "    podstava = np.pi*polomer**2;\n",
    "    plast = 2*np.pi*polomer*vyska\n",
    "    povrch = 2*podstava + plast\n",
    "    return objem, povrch"
   ]
  },
  {
   "cell_type": "code",
   "execution_count": 128,
   "metadata": {},
   "outputs": [
    {
     "name": "stdout",
     "output_type": "stream",
     "text": [
      "válec má objem 37.69911184307752 a povrch 62.83185307179586\n"
     ]
    }
   ],
   "source": [
    "vysledek = valec(2,3);\n",
    "print(\"válec má objem\", vysledek[0], \"a povrch\", vysledek[1])"
   ]
  },
  {
   "cell_type": "code",
   "execution_count": 129,
   "metadata": {},
   "outputs": [
    {
     "name": "stdout",
     "output_type": "stream",
     "text": [
      "válec má objem 12.566370614359172 a povrch 37.69911184307752\n"
     ]
    }
   ],
   "source": [
    "vysledek = valec(2);\n",
    "print(\"válec má objem\", vysledek[0], \"a povrch\", vysledek[1])"
   ]
  },
  {
   "cell_type": "code",
   "execution_count": null,
   "metadata": {},
   "outputs": [],
   "source": []
  },
  {
   "cell_type": "code",
   "execution_count": null,
   "metadata": {},
   "outputs": [],
   "source": []
  },
  {
   "cell_type": "code",
   "execution_count": null,
   "metadata": {},
   "outputs": [],
   "source": []
  },
  {
   "cell_type": "code",
   "execution_count": null,
   "metadata": {},
   "outputs": [],
   "source": []
  },
  {
   "cell_type": "code",
   "execution_count": null,
   "metadata": {},
   "outputs": [],
   "source": []
  },
  {
   "cell_type": "code",
   "execution_count": null,
   "metadata": {},
   "outputs": [],
   "source": []
  },
  {
   "cell_type": "code",
   "execution_count": null,
   "metadata": {},
   "outputs": [],
   "source": []
  },
  {
   "cell_type": "code",
   "execution_count": null,
   "metadata": {},
   "outputs": [],
   "source": []
  }
 ],
 "metadata": {
  "kernelspec": {
   "display_name": "Python 3",
   "language": "python",
   "name": "python3"
  },
  "language_info": {
   "codemirror_mode": {
    "name": "ipython",
    "version": 3
   },
   "file_extension": ".py",
   "mimetype": "text/x-python",
   "name": "python",
   "nbconvert_exporter": "python",
   "pygments_lexer": "ipython3",
   "version": "3.8.6"
  }
 },
 "nbformat": 4,
 "nbformat_minor": 4
}

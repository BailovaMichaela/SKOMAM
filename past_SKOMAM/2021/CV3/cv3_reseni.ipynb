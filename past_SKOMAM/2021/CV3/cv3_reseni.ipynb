{
  "cells": [
    {
      "cell_type": "markdown",
      "metadata": {
        "id": "A1t_X0Ntcey4"
      },
      "source": [
        "Videocvičení naleznete zde: https://youtu.be/FLCeIwfrmxI"
      ]
    },
    {
      "cell_type": "code",
      "source": [
        "!pip install ipympl"
      ],
      "metadata": {
        "id": "ZBx-_3bCewiR"
      },
      "execution_count": null,
      "outputs": []
    },
    {
      "cell_type": "code",
      "source": [
        "%cd /content\n",
        "%rm -R SKOMAM\n",
        "!git clone https://github.com/Beremi/SKOMAM\n",
        "%cd /content/SKOMAM/past_SKOMAM/2021/CV3/\n",
        "%pwd"
      ],
      "metadata": {
        "id": "i1NY-I3gch7c"
      },
      "execution_count": null,
      "outputs": []
    },
    {
      "cell_type": "markdown",
      "metadata": {
        "id": "_RE1j-_Fcey_"
      },
      "source": [
        "# Simulace šíření nákazy - zjednodušený 2D model\n",
        "\n",
        "### Načítání balíčků\n",
        "Budeme používat knihovnu **numpy** s aliasem **np** pro matematické funkce a práci s poli a knihovnu **matplotlib** s aliasem **plt** pro vykreslování výsledků. Pro pěknou vizualizaci průběhu simulace si také vyzkoušíme animace **FuncAnimation** z knihovny matplotlib. \n",
        "\n",
        "Následujícím kódem naimportujeme balíčky. "
      ]
    },
    {
      "cell_type": "code",
      "execution_count": null,
      "metadata": {
        "id": "uEoXo-OTcezB"
      },
      "outputs": [],
      "source": [
        "import numpy as np\n",
        "import matplotlib.pyplot as plt\n",
        "from matplotlib.animation import FuncAnimation"
      ]
    },
    {
      "cell_type": "markdown",
      "metadata": {
        "id": "coOHrJCdcezD"
      },
      "source": [
        "Pro interaktivní vykreslování grafů v Jupyter notebooku ještě potřebujeme toto:"
      ]
    },
    {
      "cell_type": "code",
      "execution_count": null,
      "metadata": {
        "id": "Ikv86z9DcezE"
      },
      "outputs": [],
      "source": [
        "%matplotlib widget\n",
        "from google.colab import output\n",
        "output.enable_custom_widget_manager()"
      ]
    },
    {
      "cell_type": "markdown",
      "metadata": {
        "id": "6KP24NQ8cezE"
      },
      "source": [
        "### Principy simulace\n",
        "Budeme simulovat časový vývoj šíření nemoci v populaci. Nejprve si nastavíme dva parametry: **pocet_lidi** a **delka_simulace** v minutách. Parametry **pocet_lidi** a **delka_simulace** můžeme později pro účely testování libovolně měnit. Jako další parameter (avšak fixní, výrazně to zjednoduší naši práci) budeme uvažovat časový krok simulace, jako jeho hodnotu budeme považovat 15 minut."
      ]
    },
    {
      "cell_type": "code",
      "execution_count": null,
      "metadata": {
        "id": "xWd0-9hBcezF"
      },
      "outputs": [],
      "source": [
        "pocet_lidi = 1000 # nezadavejte hodnoty vetsi nez 5000, simulace pak bude velmi pomala\n",
        "delka_simulace = 30*24*60 # 30 dni * 24 hodin * 60 minut"
      ]
    },
    {
      "cell_type": "markdown",
      "metadata": {
        "id": "d02HZfJkcezG"
      },
      "source": [
        "Princip naší simulace bude následující:\n",
        "- jednotliví lidé budou reprezentováni body ve 2D\n",
        "- tyto body se budou v čase (jednotlivých časových krocích) pohybovat - měnit své pozice\n",
        "- pokud je někdo nakažen, může nakazit lidi ve své blízkosti\n",
        "\n",
        "### SIR model\n",
        "SIR model popisuje základní principy šíření nemoci. Je založen na rozdělení populace do ří skupin:\n",
        "1. **S** (susceptible) - lidé, kteří doposud nepřišli do styku s nemocí a mohou se nakazit\n",
        "2. **I** (infected) - nakažení jedinci, mohou nakazit lidi ze skupiny **S**\n",
        "3. **R** (removed) - jedinci, kteří se už nemohou nakazit (ať už v dobrém - imunita, či zlém - smrt). Budeme uvažovat, že po pevně dané době se z **I** stává **R**\n"
      ]
    },
    {
      "cell_type": "markdown",
      "metadata": {
        "id": "nxnwKb-6cezG"
      },
      "source": [
        "<hr style=\"border:1px solid black\"> </hr>\n",
        "\n",
        "## Úkol 1: \n",
        "Vygenerujte pro každého jedince v populaci o velikosti **pocet_lidi** náhodnou pozici v oblasti $\\langle 0,1 \\rangle \\times \\langle 0,1 \\rangle$ a vykreslete celou populaci.\n",
        "\n",
        "<hr style=\"border:1px solid black\"> </hr>"
      ]
    },
    {
      "cell_type": "code",
      "execution_count": null,
      "metadata": {
        "id": "ybWDYgddcezH"
      },
      "outputs": [],
      "source": [
        "pozice = np.random.rand(pocet_lidi,2)\n",
        "plt.figure()\n",
        "plt.plot(pozice[:,0],pozice[:,1],\"bo\",markersize=2)"
      ]
    },
    {
      "cell_type": "markdown",
      "metadata": {
        "id": "a4fmCqYccezI"
      },
      "source": [
        "Dále vyrobíme numpy pole, které bude identifikovat jednotlivé skupiny **S, I, R**. Ze začátku budeme považovat všechny ve stavu **S**."
      ]
    },
    {
      "cell_type": "code",
      "execution_count": null,
      "metadata": {
        "id": "5hQbs0AccezI"
      },
      "outputs": [],
      "source": [
        "stav = np.full(pocet_lidi, 'S')"
      ]
    },
    {
      "cell_type": "markdown",
      "metadata": {
        "id": "J4L8c5H0cezI"
      },
      "source": [
        "V dalších částech budeme chtít vybírat z polí parametrů (například pozice) pouze hodnoty příslušné ke konkrétní skupině (S, I, R). To se dá jednoduše takto:"
      ]
    },
    {
      "cell_type": "code",
      "execution_count": null,
      "metadata": {
        "id": "uBHe-a_ucezJ"
      },
      "outputs": [],
      "source": [
        "pozice_S = pozice[stav == 'S', :]"
      ]
    },
    {
      "cell_type": "markdown",
      "metadata": {
        "id": "-e0UFST9cezJ"
      },
      "source": [
        "<hr style=\"border:1px solid black\"> </hr>\n",
        "\n",
        "## Úkol 2: \n",
        "Uvažujme, že každý jedinec v populaci má jednoznačný index. Převeďte osoby s indexem 0-99 z S do I a osoby s indexem 100-299 z S do R a vykreslete celou populaci (pro každý stav volte jinou barvu). Například: S-modrá=\"bo\", I-červená=\"ro\", R-zelená=\"go\".\n",
        "\n",
        "<hr style=\"border:1px solid black\"> </hr>"
      ]
    },
    {
      "cell_type": "code",
      "execution_count": null,
      "metadata": {
        "id": "MRljUAWLcezJ"
      },
      "outputs": [],
      "source": [
        "# změňte stavy (nezapomeňte, že \"a:b\" vybírá celá čísla a<=n<b)\n",
        "stav[0:100] = 'I'\n",
        "stav[100:300] = 'R'\n",
        "# vykreslete\n",
        "plt.figure()\n",
        "# tři grafy (plot), každý pro jednu barvu\n",
        "plt.plot(pozice[stav == 'S', 0], pozice[stav == 'S', 1], \"bo\", markersize=2)\n",
        "plt.plot(pozice[stav == 'I', 0], pozice[stav == 'I', 1], \"ro\", markersize=2)\n",
        "plt.plot(pozice[stav == 'R', 0], pozice[stav == 'R', 1], \"go\", markersize=2)"
      ]
    },
    {
      "cell_type": "markdown",
      "metadata": {
        "id": "DDlEFYBDcezK"
      },
      "source": [
        "### Vykreslování průběžných výsledků - Animace\n",
        "Abychom se mohli dostat dále, ukážeme si, jak se dělají animace. Budeme používat funkci **FuncAnimation**, která pracuje následovně:\n",
        "- má 3 základní parametry:\n",
        " - objekt figure z matplotlib (**fig**)\n",
        " - námi vytvořená funkce, říkejme jí **update**\n",
        " - iterovatelé pole (**frames**), případně počet framů (pokud je vstupem iterovatelné pole, pak je počet framů velikost tohoto pole)\n",
        "- pro nás nejdůležitější bude funkce **update**, projděme si tedy její vlastnosti:\n",
        " - jako vstup bude dostávat jednotlivé položky vstupu **frames**\n",
        " - zavolá se jednou pro každou položku **frames**, bude tedy obsahovat celou naši simulaci jednoho časového kroku\n",
        " - bude obsahovat aktualizace součástí grafů, které budeme chtít mezi jednotlivými framy měnit\n",
        " \n",
        "Abyste si udělali lepší představu, ukážeme demostraci:\n",
        "\n",
        "Nejprve vyrobení grafu, do kterého budeme vykreslovat animaci. Pro jednoduché znovupoužití bez kopírování si na to napíšeme funkci. Jelikož budeme chtít vykreslovat mnoho věcí tak je tako funkce poměrně dlouhá. Proto ji máme v jiném souboru s pomocnými funkcemi. Zájemci se na ní mohou podívat (pomocne_funkce.py).\n",
        "\n",
        "Okno s grafy bude vypadat následovně:\n",
        "- **levé okno bude obsahovat aktuální dění v simulaci - pohyb teček a jejich barevné určení**\n",
        "- **do pravého okna budeme vykreslovat časový vývoj simulace v podobě počtu lidí v jednotlivých skupinách**\n",
        " - modrá = S\n",
        " - červená = I\n",
        " - zelená = R\n",
        " - pro pozdější využití zavedeme také karanténu = černá = Q\n",
        " \n",
        " Funkci naimportujeme tímto kódem:"
      ]
    },
    {
      "cell_type": "code",
      "execution_count": null,
      "metadata": {
        "id": "ldRuJG2QcezK"
      },
      "outputs": [],
      "source": [
        "from pomocne_funkce import nova_animace"
      ]
    },
    {
      "cell_type": "markdown",
      "metadata": {
        "id": "DrdcAZUpcezL"
      },
      "source": [
        "Funkce **nova_animace** vrací dvě hodnoty: graf a tuple všechn komponentů grafu, které později budeme chtít upravit/aktualizovat v průběhu animace. Jako parametry vkládáme numpy pole pozic a stavů, velikost populace a délku simulace."
      ]
    },
    {
      "cell_type": "code",
      "execution_count": null,
      "metadata": {
        "id": "lYc29fuqcezL"
      },
      "outputs": [],
      "source": [
        "figure_animace, komponenty_grafu = nova_animace(pozice, stav, pocet_lidi, delka_simulace)"
      ]
    },
    {
      "cell_type": "markdown",
      "metadata": {
        "id": "vMVlzzK4cezL"
      },
      "source": [
        "Dále vyrobíme zmíněnou funkci **update**, pro jednodušší použití v dalších úkolech si vyrobíme zvlášť funkci, která bude obstarávat vykreslování (jak barevných teček, tak času simulace), nazveme ji **vykresleni**.\n",
        "\n",
        "Funkce **vykresleni** bude upravovat data komponent grafu (jednotlivé čáry, případně text) dle současného stavu simulace. Opět ji máme pro větší přehlednost tohoto notebooku implementovanou v souboru pomocných funkcí (zájemci se mohou podívat).\n",
        "\n",
        "Funkci naimportujeme následovně:"
      ]
    },
    {
      "cell_type": "code",
      "execution_count": null,
      "metadata": {
        "id": "VNw_zkp2cezL"
      },
      "outputs": [],
      "source": [
        "from pomocne_funkce import vykresleni"
      ]
    },
    {
      "cell_type": "markdown",
      "metadata": {
        "id": "wEL-O33KcezM"
      },
      "source": [
        "Funkce vykreslení bude pouze upravovat objekty (komponenty grafu) které už existují, takže nebude nic vracet. Jako své vstupy bude brát aktuální čas simulace, pozice, stav, komponenty grafu:\n",
        "\n",
        "Konečně přistoupíme k funkci **update**, ta bude díky předchozí funkci velmi jednoduchá a přímočará. U funkce update budeme pro jednoduchost adresovat přímo promměné v globální paměti (mimo scope samotné funkce). Toto je možné vždy, ačkoliv to není doporučováno kvůli čitelnosti kódu a případným chybám. My k tomuto přistoupíme, protože nám to zjednoduší implementaci samotné animace."
      ]
    },
    {
      "cell_type": "code",
      "execution_count": null,
      "metadata": {
        "id": "EVN9HRjlcezM"
      },
      "outputs": [],
      "source": [
        "def update(cas_simulace_minuty): #na vstupu budeme uvažovat aktuální čas\n",
        "    # všechny proměnné definované vně této funkce jsou pro nás stále přístupné (pozice, stav, ...)\n",
        "    # upravíme pozice, ať vidíme že se něco děje \n",
        "    # pozor na: pozice =... v tu chvíli bychom definovali novou lokální proměnnou\n",
        "    pozice[:,:] += (np.random.rand(pocet_lidi,2)-0.5)/100 # přičteme k nim náhodné číslo mezi -0.005 s 0.005\n",
        "    # zavolání vykreslovací funkce (až potom co upravíme pozice a stav)\n",
        "    vykresleni(cas_simulace_minuty, pozice, stav, komponenty_grafu) "
      ]
    },
    {
      "cell_type": "markdown",
      "metadata": {
        "id": "ZhMltNFJcezM"
      },
      "source": [
        "Zbývá už jen spustit animaci funkcí **FuncAnimation**, první parmetr je figure, ve kterém se bude vše dít, pak updatovací funkce zajišťující samotnou animaci, dále proměnná frames obsahující sekvenci všech časů (zde použijeme fixní časový krok 15 minut), ve kterých bude funkce update spuštěna. Dodatečných parametrů si nemusíte všímat, pokud by vás však zajímalo, co dělají pak:\n",
        "- interval - pauza mezi framy v milisekundách a \n",
        "- repeat - zda chceme opakovat pořád dokola.\n",
        "\n",
        "**Pozor, animace poběží v okně nahoře, tam kde se prvně vykreslila při inicializaci. Simulaci můžete kdykoliv ukončit vypínacím tlačítkem vpravo nahoře.**"
      ]
    },
    {
      "cell_type": "code",
      "execution_count": null,
      "metadata": {
        "id": "22c3Mb5VcezN"
      },
      "outputs": [],
      "source": [
        "ani = FuncAnimation(figure_animace, update, frames=range(0,delka_simulace,15), interval=1, repeat = False)\n",
        "plt.show()"
      ]
    },
    {
      "cell_type": "markdown",
      "metadata": {
        "id": "bE4qkEPUcezN"
      },
      "source": [
        "Pokud animace běží moc rychle můžetevyzkoušet změnit **interval** na větší hodnotu.\n"
      ]
    },
    {
      "cell_type": "markdown",
      "metadata": {
        "id": "5XDwny10cezO"
      },
      "source": [
        "#### Nezapomeňte, že veškeré proměnné z dřívějších inputů jsou stále aktivní - restart/reinicializace vstupních dat\n",
        "Jelikož si nyní začneme hrát se simulací, bude se nám hodit funkce, která vyresetuje všechny parametry simulace. Jako základní stav budeme uvažovat všechny lidi ve stavu **S** kromě prvních 5 (index 0 - 4), kteří budou ve stavu **I**.\n",
        "\n",
        "Abychom tuto funkci nemuseli později přepisovat, rovnou přidáme další pole, která později využijeme při rozšiřování naší simulace."
      ]
    },
    {
      "cell_type": "code",
      "execution_count": null,
      "metadata": {
        "id": "IqWSSTpRcezO"
      },
      "outputs": [],
      "source": [
        "def reset_simulace(pocet_lidi):\n",
        "    pozice = np.random.rand(pocet_lidi,2) # nové náhodné pozice\n",
        "    doba_od_nakazeni = np.zeros((pocet_lidi)) # pole kde budeme udržovat dobu od prvotního nakažení\n",
        "    nakazil_lidi = np.zeros((pocet_lidi)) # pole, kde budeme napočítávat kolik lidí kdo nakazil\n",
        "    stav = np.full(pocet_lidi,'S') # inicializace stavu\n",
        "    stav[0:4] = 'I' # první 4 (indexy 0,1,2,3) budou nakažení\n",
        "    return pozice, stav, doba_od_nakazeni, nakazil_lidi"
      ]
    },
    {
      "cell_type": "markdown",
      "metadata": {
        "id": "l6LNzwVpcezO"
      },
      "source": [
        "Budeme jí pak volat takto:"
      ]
    },
    {
      "cell_type": "code",
      "execution_count": null,
      "metadata": {
        "id": "RPFT4pP3cezP"
      },
      "outputs": [],
      "source": [
        "pozice, stav, doba_od_nakazeni, nakazil_lidi = reset_simulace(pocet_lidi)"
      ]
    },
    {
      "cell_type": "markdown",
      "metadata": {
        "id": "Ep7lXwcgcezP"
      },
      "source": [
        "Můžeme si zkontrolovat výsledek pomocí spuštění nové animace:"
      ]
    },
    {
      "cell_type": "code",
      "execution_count": null,
      "metadata": {
        "id": "dhzeBsQTcezP"
      },
      "outputs": [],
      "source": [
        "figure_animace, komponenty_grafu = nova_animace(pozice, stav, pocet_lidi, delka_simulace)\n",
        "ani = FuncAnimation(figure_animace, update, frames=range(0,delka_simulace,15), interval=1,repeat=False)\n",
        "plt.show()"
      ]
    },
    {
      "cell_type": "markdown",
      "metadata": {
        "id": "Uo1VUqkNcezQ"
      },
      "source": [
        "### Implementace nákazy\n",
        "Abychom mohli pokročit dál, budeme muset naprogramovat průběh nákazy. Jedním z důležitých faktorů je vzdálenost mezi nakaženým **I** a nakazitelným **S** jedincem.\n",
        "\n",
        "Abychom si toto mohli lépe ozkoušet, nastavíme nákazu dalším 5 lidem a ukážeme si, jak jednoduše dostat pole indexů s konkrétními stavy."
      ]
    },
    {
      "cell_type": "code",
      "execution_count": null,
      "metadata": {
        "id": "Ajl2sPvfcezQ"
      },
      "outputs": [],
      "source": [
        "stav[[7, 12, 15, 6, 3]] = 'I'\n",
        "idx_I, = (stav == 'I').nonzero() # funkce vrací dvě hodnoty a nás zajímá pouze první, proto je tam \",\" a za ní nic\n",
        "print(idx_I)"
      ]
    },
    {
      "cell_type": "markdown",
      "metadata": {
        "id": "u764grvwcezQ"
      },
      "source": [
        "Jsou tam také indexy 0-3, protože jsme je měli už v inicializaci.\n",
        "\n",
        "Řekněme, že lidé se mohou nakazit, pokud jsou ve vzdálenosti menší než 0.02 od infikovaného."
      ]
    },
    {
      "cell_type": "code",
      "execution_count": null,
      "metadata": {
        "id": "5idt9CYqcezR"
      },
      "outputs": [],
      "source": [
        "vzdalenost_nakazy = 0.02\n",
        "mohl_se_nakazit = np.full(pocet_lidi, False)"
      ]
    },
    {
      "cell_type": "markdown",
      "metadata": {
        "id": "PBTpHRX4cezR"
      },
      "source": [
        "<hr style=\"border:1px solid black\"> </hr>\n",
        "\n",
        "## Úkol 3: \n",
        "Vypočtěte vzdálenosti mezi nakaženými (osoby ve stavu **I**) a nakazitelnými (osoby ve stavu **S**). Pokud má nakazitelný vzdálenost od některého nakaženého menší než hodnota proměnné **vzdalenost\\_nakazy**, pak vepište do příslušné pozice v poli **mohl\\_se\\_nakazit** hodnotu True.\n",
        "\n",
        "<hr style=\"border:1px solid black\"> </hr>"
      ]
    },
    {
      "cell_type": "code",
      "execution_count": null,
      "metadata": {
        "id": "3SXp2g_ecezR"
      },
      "outputs": [],
      "source": [
        "# indexy lidi ve stavu S a stavu I\n",
        "idx_I, = (stav == 'I').nonzero() # funkce vrací 2 hodnoty, my chceme pouze první z nich\n",
        "idx_S, = (stav == 'S').nonzero()\n",
        "# dvě vnořené smyčky skrze indexy, ať projdeme všechny dvojice\n",
        "# pro každou dvojici pak spočteme vzdálenost a pokud je menší než vzdalenost_nakazy, upravíme mohl_se_nakazit\n",
        "for i in idx_I:\n",
        "    for j in idx_S:\n",
        "        rozdil = pozice[i, :] - pozice[j, :]\n",
        "        distance = np.sqrt(rozdil[0]**2 + rozdil[1]**2)\n",
        "        if distance <= vzdalenost_nakazy:\n",
        "            mohl_se_nakazit[j] = True"
      ]
    },
    {
      "cell_type": "markdown",
      "metadata": {
        "id": "fVy8Q5pecezR"
      },
      "source": [
        "Pro kontrolu si vykresleme nakažené jedince a ty z **S**, kteří se nakazit mohli:"
      ]
    },
    {
      "cell_type": "code",
      "execution_count": null,
      "metadata": {
        "id": "YZLAbORccezR"
      },
      "outputs": [],
      "source": [
        "plt.figure()\n",
        "# vykreslíme nakažené (stav == 'I')\n",
        "plt.plot(pozice[stav == 'I', 0], pozice[stav == 'I', 1], \"ro\")\n",
        "# vykreslíme ty co by se mohli nakazit (stav == 'S') a jsou zároveň dost blízko (mohl_se_nakazit)\n",
        "plt.plot(pozice[(stav == 'S') & mohl_se_nakazit, 0], pozice[(stav == 'S') & mohl_se_nakazit, 1], \"bo\")"
      ]
    },
    {
      "cell_type": "markdown",
      "metadata": {
        "id": "0jDFjGTlcezS"
      },
      "source": [
        "Doufám, že se vše zdařilo, pokud ne, podívejte se do řešení, bez této části se totiž dále nedostaneme.\n",
        "\n",
        "#### Pravděpodobnost nakažení při kontaktu s nakaženým\n",
        "Jelikož ne vždy, když se dostanete do blízkosti nakaženého, se hned nakazíte. Proto budeme chtít toto zanést i do našeho modelu. Jelikož budeme pracovat s 15 minutovými časovými kroky, můžeme pracovat s pravděpodobností nákazy za 15 minut v blízkosti někoho nakaženého, jako tuto pravděpodobnost můžeme vzít například 5 %. \n",
        "\n",
        "To znamená, že pokud se po dobu 15 minut (náš časový krok) pohybujete v blízkosti nakaženého, je 5 % šance, že se nakazíte. **Tato šance je pro každý kontakt s nakaženým a při více kontaktech se aplikuje vícekrát**, asi souhasite s tím, že při pohybu mezi 10 nakaženými je šance nákazy výrazně větší, než při pohybu v blízkost jednoho nakaženého. (nikoliv však 10x větší - můžete si rozmyslet) ."
      ]
    },
    {
      "cell_type": "code",
      "execution_count": null,
      "metadata": {
        "id": "W5h7BAB0cezS"
      },
      "outputs": [],
      "source": [
        "pravdepodobnost_nakazy = 0.05\n",
        "np.random.rand() < pravdepodobnost_nakazy # takto vyrobíme náhodný pokus, kde s pravděpodobností 5 % výjde True"
      ]
    },
    {
      "cell_type": "markdown",
      "metadata": {
        "id": "_3HuW5qscezS"
      },
      "source": [
        "<hr style=\"border:1px solid black\"> </hr>\n",
        "\n",
        "## Úkol 4: \n",
        "implementujte funkci **nove_nakazeni**, ve které je pro každého ze skupiny **S** v kontaktu s každým nakaženým **I** aplikována šance na nákazu **pravdepodobnost_nakazy**. Výstupem budou dvě pole: pole nově nakažených **nakazili_se** a pole přírůstku lidí, které infikovaní nakazili **nakazili_ostatni**.\n",
        "- Pro každou dvojici S-I spočítáte vzdálenost a zjistíte, zda je vzdálenost kratší než **vzdalenost_nakazy** (použijte kód z předchozího úkolu)\n",
        "- Pokud ano, aplikujete **pravdepodobnost_nakazy** -> True hodnota znamená, že se jedinec S nakazil.\n",
        " - tedy True hodnota do pole **nakazili_se** pro daného jedince z **S** který byl nakažen a +1 do pole **nakazili_ostatni** pro jedince z **I** který byl tím nakazitelem.\n",
        "\n",
        "<hr style=\"border:1px solid black\"> </hr>"
      ]
    },
    {
      "cell_type": "code",
      "execution_count": null,
      "metadata": {
        "id": "OHcVB7rNcezS"
      },
      "outputs": [],
      "source": [
        "def nove_nakazeni(pozice, stav, vzdalenost_nakazy, pravdepodobnost_nakazy):\n",
        "    # nainicializujte si pole nakazili_se na hodnoty False (do něj pak přidáme True pokud se někdo nakazí)\n",
        "    nakazili_se = np.full(pocet_lidi,False)\n",
        "    # nainicializujte si pole nakazili_ostatni na 0 (do něj pak přidáme +1 za každého koho daný jedinec nakazil)\n",
        "    nakazili_ostatni = np.full(pocet_lidi,0)    \n",
        "    # indexy jednotlivých I a S\n",
        "    idx_I, = (stav == 'I').nonzero()\n",
        "    idx_S, = (stav == 'S').nonzero()\n",
        "    # smyčka přes všechny dvojice\n",
        "    for i in idx_I:\n",
        "        for j in idx_S:\n",
        "            rozdil = pozice[i,:]-pozice[j,:]\n",
        "            distance = np.sqrt(rozdil[0]**2 + rozdil[1]**2)\n",
        "            if distance <= vzdalenost_nakazy:\n",
        "                if np.random.rand() < pravdepodobnost_nakazy:\n",
        "                    nakazili_se[j] = True\n",
        "                    nakazili_ostatni[i] +=1\n",
        "    return nakazili_se, nakazili_ostatni # vrátíme pozadovaná pole"
      ]
    },
    {
      "cell_type": "markdown",
      "metadata": {
        "id": "B5Q1ljiAcezS"
      },
      "source": [
        "Nyní můžeme upravit funkci **update**, tak aby používala nově vyrobenou funkci:"
      ]
    },
    {
      "cell_type": "code",
      "execution_count": null,
      "metadata": {
        "id": "64xRPripcezT"
      },
      "outputs": [],
      "source": [
        "def update(cas_simulace_minuty):\n",
        "    pozice[:,:] += (np.random.rand(pocet_lidi,2)-0.5)/100 #totéž co v předchozí funkci\n",
        "    \n",
        "    # zavoláme naši novou funkci\n",
        "    nakazili_se, nakazili_ostatni = nove_nakazeni(pozice, stav, vzdalenost_nakazy, pravdepodobnost_nakazy)\n",
        "    \n",
        "    stav[nakazili_se] = 'I' # změna stavu dle nových nákaz\n",
        "    nakazil_lidi[:] += nakazili_ostatni # přičtení kolik kdo nakazil nových lidí v tomto časovém kroce\n",
        "    \n",
        "    vykresleni(cas_simulace_minuty, pozice, stav, komponenty_grafu) \n",
        "    return"
      ]
    },
    {
      "cell_type": "markdown",
      "metadata": {
        "id": "Md7V_j_5cezT"
      },
      "source": [
        "Samotná animace bohužel neukáže, pokud má funkce **update** nebo její součást nějakou chybu, proto je lepší vyzoušet ji samostatně (pokud se nic nestane, znamená to, že jsme neudělali chybu v syntaxi a funce proběhla bez pádu)."
      ]
    },
    {
      "cell_type": "code",
      "execution_count": null,
      "metadata": {
        "id": "v5TduntscezT"
      },
      "outputs": [],
      "source": [
        "update(0) # nebo update(1000) pro pozdější časový krok"
      ]
    },
    {
      "cell_type": "markdown",
      "metadata": {
        "id": "mr_o1TIucezT"
      },
      "source": [
        "A spustíme simulaci, ať vidíme, co se nám povedlo:"
      ]
    },
    {
      "cell_type": "code",
      "execution_count": null,
      "metadata": {
        "id": "flYHXMSlcezT"
      },
      "outputs": [],
      "source": [
        "pozice, stav, doba_od_nakazeni, nakazil_lidi = reset_simulace(pocet_lidi)\n",
        "figure_animace, komponenty_grafu = nova_animace(pozice, stav, pocet_lidi, delka_simulace)\n",
        "ani = FuncAnimation(figure_animace, update, frames=range(0,delka_simulace,15), interval=1, repeat=False)\n",
        "plt.show()"
      ]
    },
    {
      "cell_type": "code",
      "execution_count": null,
      "metadata": {
        "id": "5UDJfNz4cezU"
      },
      "outputs": [],
      "source": [
        "ani.event_source.stop()"
      ]
    },
    {
      "cell_type": "markdown",
      "metadata": {
        "id": "lQCOA0sdcezU"
      },
      "source": [
        "Gratulujeme, pokud vám to běží. Nicméně jste si pravděpodobně všimli, že je to nyní velice pomalé. Je to tím, že i takto jednoduchá simulace vyžaduje mnoho výpočtů, které navíc nyní děláme velice neefektivně. **Simulaci můžete vypnout tlačítkem vpravo nahoře animovaného okna (nebo kódem v předchozí buňce).**\n",
        "\n",
        "#### Efektivní implementace\n",
        "Výpočty se dají dělat mnohem efektivněji pokud použijeme maticové operace poskytované balíčkem numpy. V souboru pomocne_funkce.py jsme připravili efektivní variantu funkce **nove_nakazeni**. Zájemci si ji mohou prohlédnout.\n",
        "\n",
        "Tímto ji načteme:"
      ]
    },
    {
      "cell_type": "code",
      "execution_count": null,
      "metadata": {
        "id": "nobj06pccezU"
      },
      "outputs": [],
      "source": [
        "from pomocne_funkce import nove_nakazeni"
      ]
    },
    {
      "cell_type": "markdown",
      "metadata": {
        "id": "5JMab9TEcezU"
      },
      "source": [
        "Načtením jsme hned přepsali původní funkci, takže zopakováním následujícího si hned funkci vyzkoušíme."
      ]
    },
    {
      "cell_type": "code",
      "execution_count": null,
      "metadata": {
        "id": "FGr-t31icezU"
      },
      "outputs": [],
      "source": [
        "pozice, stav, doba_od_nakazeni, nakazil_lidi = reset_simulace(pocet_lidi)\n",
        "figure_animace, komponenty_grafu = nova_animace(pozice, stav, pocet_lidi, delka_simulace)\n",
        "ani = FuncAnimation(figure_animace, update, frames=range(0,delka_simulace,15), interval=1,repeat=False)\n",
        "plt.show()"
      ]
    },
    {
      "cell_type": "code",
      "execution_count": null,
      "metadata": {
        "id": "IT5Bbaa0cezU"
      },
      "outputs": [],
      "source": [
        "ani.event_source.stop()"
      ]
    },
    {
      "cell_type": "markdown",
      "metadata": {
        "id": "WDC62VUYcezV"
      },
      "source": [
        "Vidíme, že se naše nákaza velmi rychle šíří. Chybí nám však mechanizmus, který převede infekční jedince na jedince bez nákazy a zároveň jedince dále nenakazitelné.\n",
        "\n",
        "### Zbavení se nákazy / přechod do stavu R\n",
        "\n",
        "To vyřešíme pomocí počítadla doby nákazy:"
      ]
    },
    {
      "cell_type": "code",
      "execution_count": null,
      "metadata": {
        "id": "RJEPF2CfcezV"
      },
      "outputs": [],
      "source": [
        "delka_nakazy = 7*24*15\n",
        "doba_od_nakazeni = np.zeros((pocet_lidi)) # mimojiné toto pole již vytváříme v naší funkci restart_simulace"
      ]
    },
    {
      "cell_type": "markdown",
      "metadata": {
        "id": "8A5QoylhcezV"
      },
      "source": [
        "<hr style=\"border:1px solid black\"> </hr>\n",
        "\n",
        "## Úkol 5: \n",
        "Přidejte do funkce **update** načítání času pro nakažené. Dále v každém kroku kontrolujte, jestli čas nepřekročil hodnotu **delka\\_nakazy**, která udává, po jaké době se osoba ve stavu **I** přesune do stavu **R**. Pokud čas uvedenou hodnotu překročí, přesuňte osobu z **I** do **R**.\n",
        "\n",
        "<hr style=\"border:1px solid black\"> </hr>"
      ]
    },
    {
      "cell_type": "code",
      "execution_count": null,
      "metadata": {
        "id": "AOBfRTLGcezV"
      },
      "outputs": [],
      "source": [
        "def update(cas_simulace_minuty):\n",
        "    #totéž co v předchozí funkci\n",
        "    pozice[:, :] += (np.random.rand(pocet_lidi, 2) - 0.5) / 100   # hrubá simulace náhodného pohybu\n",
        "    nakazili_se, nakazili_ostatni = nove_nakazeni(pozice, stav, vzdalenost_nakazy, pravdepodobnost_nakazy)\n",
        "    nakazil_lidi[:] += nakazili_ostatni # přičtení kolik kdo nakazil nových lidí v tomto časovém kroce\n",
        "    stav[nakazili_se] = 'I' # změna stavu nově nakažených\n",
        "    \n",
        "    #----------------------------------------------------------------------------------------\n",
        "    # inkrementujte dobu_od_nakazeni pro lidi se stavem 'I'\n",
        "    doba_od_nakazeni[stav == 'I'] +=15\n",
        "    # ti, kteří jsou nemocní a překonají delka_nakazy se změní na stav 'R'\n",
        "    po_nemoci = (doba_od_nakazeni >= delka_nakazy) & (stav == 'I') # nemocní a překonají delka_nakazy\n",
        "    stav[po_nemoci] = 'R'\n",
        "    #----------------------------------------------------------------------------------------\n",
        "    \n",
        "    vykresleni(cas_simulace_minuty, pozice, stav, komponenty_grafu) \n",
        "    return"
      ]
    },
    {
      "cell_type": "code",
      "execution_count": null,
      "metadata": {
        "id": "rNZFuLF7cezV"
      },
      "outputs": [],
      "source": [
        "update(0) # nebo update(1000) pro pozdější časový krok"
      ]
    },
    {
      "cell_type": "markdown",
      "metadata": {
        "id": "kFDU9I3NcezV"
      },
      "source": [
        "Vyzkoušíme nově vytvořenou funkci: (vyzkoušejte si to spustit vícekrát, vzhledem k náhodnému generování výsledků to bude mít pokaždé jiný průběh),"
      ]
    },
    {
      "cell_type": "code",
      "execution_count": null,
      "metadata": {
        "id": "uHZ9fsczcezW"
      },
      "outputs": [],
      "source": [
        "pozice, stav, doba_od_nakazeni, nakazil_lidi = reset_simulace(pocet_lidi)\n",
        "figure_animace, komponenty_grafu = nova_animace(pozice, stav, pocet_lidi, delka_simulace)\n",
        "ani = FuncAnimation(figure_animace, update, frames=range(0,delka_simulace,15), interval=1, repeat=False)\n",
        "plt.show()"
      ]
    },
    {
      "cell_type": "code",
      "execution_count": null,
      "metadata": {
        "id": "QnUTfel7cezW"
      },
      "outputs": [],
      "source": [
        "ani.event_source.stop()"
      ]
    },
    {
      "cell_type": "markdown",
      "metadata": {
        "id": "XuNvhdcZcezW"
      },
      "source": [
        "<hr style=\"border:1px solid black\"> </hr>\n",
        "\n",
        "## Úkol 6: \n",
        "Přidejte do funkce **update** výpočet reprodukčního čísla $R_0$ (v kódu nazvěte **R0**). Reprodukčního číslo $R_0$ spočítejte jako průměr počtu lidí, které každý člověk s ukončenou nákazou v tomto časovém kroku (**po_nemoci**) nakazil. K tomuto použíjte pole **nakazil_lidi**. Pokud není žádný takovýto člověk, nastavte $R_0=-1$ (vykreslovací kód toto vyhodnotí jako příkaz k neaktualizaci hodnoty).\n",
        "\n",
        "<hr style=\"border:1px solid black\"> </hr>"
      ]
    },
    {
      "cell_type": "code",
      "execution_count": null,
      "metadata": {
        "id": "5wCIh0fmcezW"
      },
      "outputs": [],
      "source": [
        "def update(cas_simulace_minuty):\n",
        "    #totéž co v předchozí funkci\n",
        "    pozice[:, :] += (np.random.rand(pocet_lidi, 2) - 0.5) / 100   # hrubá simulace náhodného pohybu\n",
        "    nakazili_se, nakazili_ostatni = nove_nakazeni(pozice, stav, vzdalenost_nakazy, pravdepodobnost_nakazy)\n",
        "    nakazil_lidi[:] += nakazili_ostatni # přičtení kolik kdo nakazil nových lidí v tomto časovém kroce\n",
        "    stav[nakazili_se] = 'I' # změna stavu nově nakažených\n",
        "    \n",
        "    doba_od_nakazeni[stav == 'I'] +=15 # inkrementujte dobu_od_nakazeni pro lidi se stavem 'I'\n",
        "    po_nemoci = (doba_od_nakazeni >= delka_nakazy) & (stav == 'I') # nemocní a překonají delka_nakazy\n",
        "    stav[po_nemoci] = 'R' # změní svůj stav na R\n",
        "    \n",
        "    #----------------------------------------------------------------------------------------\n",
        "    vyber_poctu_nakazenych = nakazil_lidi[po_nemoci]\n",
        "    if vyber_poctu_nakazenych.size == 0:\n",
        "        R0 = -1\n",
        "    else:\n",
        "        R0 = vyber_poctu_nakazenych.mean()\n",
        "    #----------------------------------------------------------------------------------------\n",
        "    \n",
        "    vykresleni(cas_simulace_minuty, pozice, stav, komponenty_grafu, R0) # R0 přidáme jako další parametr  \n",
        "    return"
      ]
    },
    {
      "cell_type": "code",
      "execution_count": null,
      "metadata": {
        "id": "ldbudPChcezW"
      },
      "outputs": [],
      "source": [
        "update(0) # nebo update(1000) pro pozdější časový krok"
      ]
    },
    {
      "cell_type": "markdown",
      "metadata": {
        "id": "dG3wI14WcezW"
      },
      "source": [
        "Vyzkoušíme nově vytvořenou funkci:"
      ]
    },
    {
      "cell_type": "code",
      "execution_count": null,
      "metadata": {
        "id": "EQcxaOimcezX"
      },
      "outputs": [],
      "source": [
        "pozice, stav, doba_od_nakazeni, nakazil_lidi = reset_simulace(pocet_lidi)\n",
        "figure_animace, komponenty_grafu = nova_animace(pozice, stav, pocet_lidi, delka_simulace)\n",
        "ani = FuncAnimation(figure_animace, update, frames=range(0,delka_simulace,15), interval=1, repeat=False)\n",
        "plt.show()"
      ]
    },
    {
      "cell_type": "code",
      "execution_count": null,
      "metadata": {
        "id": "3bM_h94icezX"
      },
      "outputs": [],
      "source": [
        "ani.event_source.stop()"
      ]
    },
    {
      "cell_type": "markdown",
      "metadata": {
        "id": "1W_0pSATcezX"
      },
      "source": [
        "### Vyzkoušejte si různé parametry simulace\n",
        "Pokud vše běží, můžete si zkusit 'pohrát' s parametry simulace. Zkuste například zvýšit pravěpobnost nákazy.\n",
        "\n",
        "**Pokud bychom chtěli nějak napodobovat opatření, která teď zažíváme, tak můžeme uvažovat například následující:**\n",
        "- **Nošení roušek/zvýšená hygiena sníží pravděpodobnost nákazy.**\n",
        "- **Snaha o vyhýbání se ostatním lidem / limitování osobních kontaktů může malinko zmenšit vzdálenost, na kterou se tečky mohou nakazit.**\n"
      ]
    },
    {
      "cell_type": "code",
      "execution_count": null,
      "metadata": {
        "id": "9CkA1WAScezX"
      },
      "outputs": [],
      "source": [
        "pocet_lidi=1000 #nezadavejte hodnoty vetsi nez 5000, simulace pak bude velmi pomala\n",
        "delka_simulace=30*24*60 #30 dni * 24 hodin * 60 minut\n",
        "vzdalenost_nakazy = 0.02 #vzdalenost, na kterou se mužeme nakazit\n",
        "pravdepodobnost_nakazy = 0.01 #pravděpodobnost, že se nakazíme\n",
        "delka_nakazy = 7*24*15 #délka nákazy\n",
        "\n",
        "pozice, stav, doba_od_nakazeni, nakazil_lidi = reset_simulace(pocet_lidi)\n",
        "figure_animace, komponenty_grafu = nova_animace(pozice, stav, pocet_lidi, delka_simulace)\n",
        "ani = FuncAnimation(figure_animace, update, frames=range(0,delka_simulace,15), interval=1, repeat=False)\n",
        "plt.show()"
      ]
    },
    {
      "cell_type": "code",
      "execution_count": null,
      "metadata": {
        "id": "AlAi7TlJcezX"
      },
      "outputs": [],
      "source": [
        "ani.event_source.stop()"
      ]
    },
    {
      "cell_type": "markdown",
      "metadata": {
        "id": "FCp0E4sLcezX"
      },
      "source": [
        "### Více realistické tečky - pohyb mezi místy\n",
        "\n",
        "Asi budete souhlasit s tím, že náhodně kmitající tečky nejsou dobrou aproximací pohybu lidí. Nyní zkusíme naši simulaci v tomto ohledu vylepšit. Budeme předpokládat, že každá tečka má nějaký domov a nějaké pracoviště. Podstatou tohoto je vynutit více náhodných kontaktů mezi tečkami se stejným domovem, případně stejným pracovištěm.\n",
        "\n",
        "Nejprve si vyrobíme lokace domovů a pracovišť pro naše tečky (k tomu použijeme další z předpřipravených funkcí v souboru pomocne_funkce.py):"
      ]
    },
    {
      "cell_type": "code",
      "execution_count": null,
      "metadata": {
        "id": "q1mAL5mgcezY"
      },
      "outputs": [],
      "source": [
        "grid_domovu = (4, 10) # velikost gridu domacnosti\n",
        "grid_praci = (2, 5) # velikost gridu praci\n",
        "\n",
        "from pomocne_funkce import pozice_domovu_praci\n",
        "\n",
        "prace, domovy = pozice_domovu_praci(grid_domovu, grid_praci)"
      ]
    },
    {
      "cell_type": "markdown",
      "metadata": {
        "id": "pS96TXHEceza"
      },
      "source": [
        "Pro lepší představu si pozice domovů a pracovišť vykreslíme:"
      ]
    },
    {
      "cell_type": "code",
      "execution_count": null,
      "metadata": {
        "id": "jVhcH8VQceza"
      },
      "outputs": [],
      "source": [
        "plt.figure()\n",
        "plt.plot(domovy[:,0],domovy[:,1],\"bo\",markersize=2)\n",
        "plt.plot(prace[:,0],prace[:,1],\"ro\",markersize=2)"
      ]
    },
    {
      "cell_type": "markdown",
      "metadata": {
        "id": "UW3Sq1csceza"
      },
      "source": [
        "Dále budeme chtít vyrobit dvě pole obdobné poli aktuálních pozic, která budou obsahovat pozice domovů a práce každého člověka/tečky.\n",
        "\n",
        "Pro jednoduché znovuvyužití toto přidáme do funkce **reset_simulace**.\n",
        "Použijeme funkci **random.randint** pro náhodné přiřazení pracoviště a domova pro každého:"
      ]
    },
    {
      "cell_type": "code",
      "execution_count": null,
      "metadata": {
        "id": "DXDnbeoMcezb"
      },
      "outputs": [],
      "source": [
        "def reset_simulace(pocet_lidi, domovy, prace):\n",
        "    pozice = np.random.rand(pocet_lidi,2) # nové náhodné pozice\n",
        "    doba_od_nakazeni = np.zeros((pocet_lidi)) # pole kde budeme udržovat dobu od prvotního nakažení\n",
        "    nakazil_lidi = np.zeros((pocet_lidi)) # pole, kde budeme napočítávat kolik lidí kdo nakazil\n",
        "    stav = np.full(pocet_lidi,'S') # inicializace stavu\n",
        "    stav[0:4] = 'I'\n",
        "    \n",
        "    # np.random.randint má tři parametry - nejnižší číslo, nejvyšší číslo, počet hodnot\n",
        "    domovy_lidi = domovy[np.random.randint(0, domovy.shape[0], pocet_lidi),:]\n",
        "    prace_lidi = prace[np.random.randint(0, prace.shape[0], pocet_lidi), :]\n",
        "    \n",
        "    return pozice, stav, doba_od_nakazeni, nakazil_lidi, domovy_lidi, prace_lidi"
      ]
    },
    {
      "cell_type": "markdown",
      "metadata": {
        "id": "L1r551VNcezb"
      },
      "source": [
        "Nově budeme reset simulace volat takto (přibyly nám dvě nové výstupní hodnoty):"
      ]
    },
    {
      "cell_type": "code",
      "execution_count": null,
      "metadata": {
        "id": "-FbAAM7Fcezb"
      },
      "outputs": [],
      "source": [
        "pozice, stav, doba_od_nakazeni, nakazil_lidi, domovy_lidi, prace_lidi = reset_simulace(pocet_lidi, domovy, prace)"
      ]
    },
    {
      "cell_type": "markdown",
      "metadata": {
        "id": "oIOJiwgdcezb"
      },
      "source": [
        "<hr style=\"border:1px solid black\"> </hr>\n",
        "\n",
        "## Úkol 7: \n",
        "Naimplementujte funkci **do\\_prace\\_a\\_zpet**, která bude splňovat následující:\n",
        "\n",
        "- v čase od 6:00 do 14:00 se jedinci (znázornění tečkami) přesouvají/jsou v práci,\n",
        "- ve zbytku času se jedinci přesouvají/jsou doma,\n",
        "- rychlost přesunu jedinců je 0.1 v jednom časovém kroku,\n",
        "- funkce vrací vektor posunu (změny pozice) jedinců,\n",
        "- pokud jsou jedinci do vzdálenosti 0.2 od pracoviště, už se nemusí dále přesouvat,\n",
        "- pokud jsou jedinci do vzdálenosti 0.05 od domova, už se nemusí dále přesouvat.\n",
        "\n",
        "<hr style=\"border:1px solid black\"> </hr>"
      ]
    },
    {
      "cell_type": "code",
      "execution_count": null,
      "metadata": {
        "id": "5CMyutidcezb"
      },
      "outputs": [],
      "source": [
        "def do_prace_a_zpet(cas_simulace_minuty, pozice, domovy_lidi, prace_lidi):\n",
        "    posun = np.zeros(pozice.shape) # inicializace výstupu\n",
        "    # nezapomeňte, že cas_simulace_minuty je celkový čas. Jak z něj dostaneme čas od půlnoci dnes?\n",
        "    cas_pres_den = np.mod(cas_simulace_minuty,24*60)\n",
        "    # nastavte si promennou cil podle toho, jaká část dne je\n",
        "    if (cas_pres_den >= 6*60) & (cas_pres_den <= 14*60):\n",
        "        cil = prace_lidi\n",
        "    else:\n",
        "        cil = domovy_lidi\n",
        "    # najděte směr k cíli\n",
        "    smer = cil - pozice\n",
        "    # napočítejte si vzdálenost k cíli\n",
        "    vzdalenost = np.sqrt(smer[:,0]**2 + smer[:,1]**2)\n",
        "    # nezapomeňtě, že směr by měl být jednotkový vektor (znormalizujte ho)\n",
        "    # pokud chcete vyrobit nové pole (a né pouze odkaz ne jiné) musíte použít funkci .copy: a = b.copy()\n",
        "    smer[:,0] /= vzdalenost\n",
        "    smer[:,1] /= vzdalenost\n",
        "    # napočítejte velikost, o kterou se ve směru k cíli posunete (maximálně 0.1 což je maximální rychlost)\n",
        "    # může být 0, pokud jsme dostatečne blízko (v závislosti na cíli - času dne)\n",
        "    posun_velikost = vzdalenost.copy()  \n",
        "    posun_velikost[vzdalenost>0.1] = 0.1\n",
        "    if (cas_pres_den >= 6*60) & (cas_pres_den <= 14*60):\n",
        "        posun_velikost[vzdalenost<0.2] = 0\n",
        "    else:\n",
        "        posun_velikost[vzdalenost<0.05] = 0     \n",
        "    # z jednotkového vektoru směru k cíli a velikosti posunu spočtěte celkový posun    \n",
        "    posun[:,0] += posun_velikost*smer[:,0]\n",
        "    posun[:,1] += posun_velikost*smer[:,1]\n",
        "    return posun"
      ]
    },
    {
      "cell_type": "markdown",
      "metadata": {
        "id": "a9kQqftjcezc"
      },
      "source": [
        "Funkce **update** bude pak vypadat následovně:"
      ]
    },
    {
      "cell_type": "code",
      "execution_count": null,
      "metadata": {
        "id": "tJe1eA6icezc"
      },
      "outputs": [],
      "source": [
        "def update(cas_simulace_minuty):\n",
        "    # volání nové funkce a posun pozic\n",
        "    posun = do_prace_a_zpet(cas_simulace_minuty, pozice, domovy_lidi, prace_lidi)\n",
        "    pozice[:,:] += posun\n",
        "    \n",
        "    # zbytek stejně jako v předchozích funkcích\n",
        "    pozice[:, :] += (np.random.rand(pocet_lidi, 2) - 0.5) / 100   # hrubá simulace náhodného pohybu\n",
        "    nakazili_se, nakazili_ostatni = nove_nakazeni(pozice, stav, vzdalenost_nakazy, pravdepodobnost_nakazy)\n",
        "    nakazil_lidi[:] += nakazili_ostatni # přičtení kolik kdo nakazil nových lidí v tomto časovém kroce\n",
        "    stav[nakazili_se] = 'I' # změna stavu nově nakažených\n",
        "    \n",
        "    doba_od_nakazeni[stav == 'I'] +=15 # inkrementujte dobu_od_nakazeni pro lidi se stavem 'I'\n",
        "    po_nemoci = (doba_od_nakazeni >= delka_nakazy) & (stav == 'I') # nemocní a překonají delka_nakazy\n",
        "    stav[po_nemoci] = 'R' # změní svůj stav na R\n",
        "    \n",
        "    #----------------------------------------------------------------------------------------\n",
        "    vyber_poctu_nakazenych = nakazil_lidi[po_nemoci]\n",
        "    if vyber_poctu_nakazenych.size == 0:\n",
        "        R0 = -1\n",
        "    else:\n",
        "        R0 = vyber_poctu_nakazenych.mean()\n",
        "    #----------------------------------------------------------------------------------------\n",
        "    \n",
        "    vykresleni(cas_simulace_minuty, pozice, stav, komponenty_grafu, R0) # R0 přidáme jako další parametr  \n",
        "    return"
      ]
    },
    {
      "cell_type": "code",
      "execution_count": null,
      "metadata": {
        "id": "U__c6akfcezc"
      },
      "outputs": [],
      "source": [
        "update(0)"
      ]
    },
    {
      "cell_type": "markdown",
      "metadata": {
        "id": "wOHjm0ATcezc"
      },
      "source": [
        "Vyzkoušejte, jak vám to funguje:"
      ]
    },
    {
      "cell_type": "code",
      "execution_count": null,
      "metadata": {
        "id": "6uEvyQPDcezc"
      },
      "outputs": [],
      "source": [
        "pozice, stav, doba_od_nakazeni, nakazil_lidi, domovy_lidi, prace_lidi = reset_simulace(pocet_lidi, domovy, prace)\n",
        "figure_animace, komponenty_grafu = nova_animace(pozice, stav, pocet_lidi, delka_simulace)\n",
        "ani = FuncAnimation(figure_animace, update, frames=range(0,delka_simulace,15), interval=1, repeat=False)\n",
        "plt.show()"
      ]
    },
    {
      "cell_type": "code",
      "execution_count": null,
      "metadata": {
        "id": "74W5ouu0cezc"
      },
      "outputs": [],
      "source": [
        "ani.event_source.stop()"
      ]
    },
    {
      "cell_type": "markdown",
      "metadata": {
        "id": "hYZxM_L_cezd"
      },
      "source": [
        "### Karanténa\n",
        "\n",
        "Jak vidíte, tak model, ve kterém se lidi častěji dostávají do kontaktu, způsobí extrémní rychlost šíření nákazy. Jedním ze způsobů, jak s tím můžeme bojovat, je určení nakažených jedinců (např. testem) a jejich uzavření do karantény.\n",
        "\n",
        "Proto zavedeme novou proměnnou našeho modelu **pravdepodobnost_zjisteni_a_karanteny**, která bude určovat pravděpodobnost, že po nakažení se daná tečka dostane do karantény, nemůže nikoho dalšího nakazit."
      ]
    },
    {
      "cell_type": "code",
      "execution_count": null,
      "metadata": {
        "id": "0dYPuBaxcezd"
      },
      "outputs": [],
      "source": [
        "pravdepodobnost_zjisteni_a_karanteny = 0.75"
      ]
    },
    {
      "cell_type": "markdown",
      "metadata": {
        "id": "rTT2dWh2cezd"
      },
      "source": [
        "<hr style=\"border:1px solid black\"> </hr>\n",
        "\n",
        "## Úkol 8: \n",
        "Upravte model tak, aby osoby ve stavu **I** přešly se zadanou pravděpodobností **pravdepodobnost\\_zjisteni\\_a\\_karanteny** do nově zavedeného stavu **Q** (osoba je v karanténě). Osoba ve stavu **Q** je izolována a nemůže nikoho nakazit. Počítejte však také s délkou nemoci člověka v karanténě a po nemoci ho přesuňte do stavu **R** stejně jako by byl nemocný.\n",
        "\n",
        "<hr style=\"border:1px solid black\"> </hr>"
      ]
    },
    {
      "cell_type": "code",
      "execution_count": null,
      "metadata": {
        "id": "XyP4NqsBcezd"
      },
      "outputs": [],
      "source": [
        "def update(cas_simulace_minuty):\n",
        "    # stejně jako v předchozích funkcích\n",
        "    posun = do_prace_a_zpet(cas_simulace_minuty, pozice, domovy_lidi, prace_lidi)\n",
        "    pozice[:,:] += posun\n",
        "    pozice[:, :] += (np.random.rand(pocet_lidi, 2) - 0.5) / 100   # hrubá simulace náhodného pohybu\n",
        "    nakazili_se, nakazili_ostatni = nove_nakazeni(pozice, stav, vzdalenost_nakazy, pravdepodobnost_nakazy)\n",
        "    nakazil_lidi[:] += nakazili_ostatni # přičtení kolik kdo nakazil nových lidí v tomto časovém kroce\n",
        "    stav[nakazili_se] = 'I' # změna stavu nově nakažených\n",
        "    \n",
        "    #----------------------------------------------------------------------------------------\n",
        "    # zde přidejte změnu stavu na 'Q' pro pravdepodobnost_zjisteni_a_karanteny % nove nakazenych\n",
        "    stav[nakazili_se & (np.random.rand(pocet_lidi) < pravdepodobnost_zjisteni_a_karanteny)] = 'Q'\n",
        "    # pro tecky ve stavu 'Q' taky pocitejte dobu od nakazeni at mohou poté prejit do stavu 'R' \n",
        "    doba_od_nakazeni[stav == 'Q'] +=15\n",
        "    #----------------------------------------------------------------------------------------\n",
        "    \n",
        "    # stejně jako v předchozích (až na drobnou úpravu po_nemoci, kde zohledňujeme také lidi v karanténě)   \n",
        "    doba_od_nakazeni[stav == 'I'] +=15 # inkrementujte dobu_od_nakazeni pro lidi se stavem 'I'\n",
        "    # nemocní nebo v karenténě a překonají delka_nakazy\n",
        "    po_nemoci = (doba_od_nakazeni >= delka_nakazy) & ((stav == 'I') | (stav == 'Q')) \n",
        "    stav[po_nemoci] = 'R' # změní svůj stav na R\n",
        "    \n",
        "    vyber_poctu_nakazenych = nakazil_lidi[po_nemoci]\n",
        "    if vyber_poctu_nakazenych.size == 0:\n",
        "        R0 = -1\n",
        "    else:\n",
        "        R0 = vyber_poctu_nakazenych.mean()\n",
        "\n",
        "    vykresleni(cas_simulace_minuty, pozice, stav, komponenty_grafu, R0) # R0 přidáme jako další parametr  \n",
        "    return"
      ]
    },
    {
      "cell_type": "code",
      "execution_count": null,
      "metadata": {
        "id": "25SZR2W7ceze"
      },
      "outputs": [],
      "source": [
        "update(0)"
      ]
    },
    {
      "cell_type": "markdown",
      "metadata": {
        "id": "EPQyL3_pcezf"
      },
      "source": [
        "Vyzkoušíme, co to dělá:"
      ]
    },
    {
      "cell_type": "code",
      "execution_count": null,
      "metadata": {
        "id": "IRRQvJoUcezf"
      },
      "outputs": [],
      "source": [
        "pozice, stav, doba_od_nakazeni, nakazil_lidi, domovy_lidi, prace_lidi = reset_simulace(pocet_lidi, domovy, prace)\n",
        "figure_animace, komponenty_grafu = nova_animace(pozice, stav, pocet_lidi, delka_simulace)\n",
        "ani = FuncAnimation(figure_animace, update, frames=range(0,delka_simulace,15), interval=1, repeat=False)\n",
        "plt.show()"
      ]
    },
    {
      "cell_type": "code",
      "execution_count": null,
      "metadata": {
        "id": "qW97bhkxcezf"
      },
      "outputs": [],
      "source": [
        "ani.event_source.stop()"
      ]
    },
    {
      "cell_type": "markdown",
      "metadata": {
        "id": "fRB_YCldcezf"
      },
      "source": [
        "### Lockdown / práce z domu\n",
        "\n",
        "Poslední úpravou naší simulace bude vynucení některých teček, aby zůstaly doma. Budeme uvažovat novou proměnnou, která určí kolik % lidí přestane chodit do práce a zůstane doma."
      ]
    },
    {
      "cell_type": "code",
      "execution_count": null,
      "metadata": {
        "id": "PPtKA2X4cezg"
      },
      "outputs": [],
      "source": [
        "procento_homeoffice = 0.5"
      ]
    },
    {
      "cell_type": "markdown",
      "metadata": {
        "id": "AaJqJ7VEcezg"
      },
      "source": [
        "<hr style=\"border:1px solid black\"> </hr>\n",
        "\n",
        "## Úkol 9: \n",
        "Upravte funkci **reset_simulace** tak, aby **procento_homeoffice** % lidí měli jako své pracoviště nastaveno svůj domov.\n",
        "\n",
        "<hr style=\"border:1px solid black\"> </hr>"
      ]
    },
    {
      "cell_type": "code",
      "execution_count": null,
      "metadata": {
        "id": "RJB-XT7Wcezg"
      },
      "outputs": [],
      "source": [
        "def reset_simulace(pocet_lidi, domovy, prace, procento_homeoffice):\n",
        "    # původní kód\n",
        "    pozice = np.random.rand(pocet_lidi,2) # nové náhodné pozice\n",
        "    doba_od_nakazeni = np.zeros((pocet_lidi)) # pole kde budeme udržovat dobu od prvotního nakažení\n",
        "    nakazil_lidi = np.zeros((pocet_lidi)) # pole, kde budeme napočítávat kolik lidí kdo nakazil\n",
        "    stav = np.full(pocet_lidi,'S') # inicializace stavu\n",
        "    stav[0:4] = 'I'\n",
        "    \n",
        "    # np.random.randint má tři parametry - nejnižší číslo, nejvyšší číslo, počet hodnot\n",
        "    domovy_lidi = domovy[np.random.randint(0, domovy.shape[0], pocet_lidi),:]\n",
        "    prace_lidi = prace[np.random.randint(0, prace.shape[0], pocet_lidi), :]\n",
        "    \n",
        "    #----------------------------------------------------------------------------------------\n",
        "    # zde doplňte, nejprve vygenerujte vektor identifikátorů True/False, jestli se to lidí týká\n",
        "    kdo_pracuje_z_domu = np.random.rand(pocet_lidi) < procento_homeoffice\n",
        "    # pak těm kterých ano (True) nastave práci jako jejich domov\n",
        "    prace_lidi[kdo_pracuje_z_domu,:] = domovy_lidi[kdo_pracuje_z_domu,:]\n",
        "    #----------------------------------------------------------------------------------------\n",
        "    return pozice, stav, doba_od_nakazeni, nakazil_lidi, domovy_lidi, prace_lidi"
      ]
    },
    {
      "cell_type": "markdown",
      "metadata": {
        "id": "cfWib7WMcezh"
      },
      "source": [
        "Vyzkoušíme, jak simulace vypadá nyní:"
      ]
    },
    {
      "cell_type": "code",
      "execution_count": null,
      "metadata": {
        "id": "6klQZ-gOcezh"
      },
      "outputs": [],
      "source": [
        "pozice, stav, doba_od_nakazeni, nakazil_lidi, domovy_lidi, prace_lidi = reset_simulace(pocet_lidi, domovy, prace, \n",
        "                                                                                       procento_homeoffice)\n",
        "figure_animace, komponenty_grafu = nova_animace(pozice, stav, pocet_lidi, delka_simulace)\n",
        "ani = FuncAnimation(figure_animace, update, frames=range(0, delka_simulace, 15), interval=1, repeat=False)\n",
        "plt.show()"
      ]
    },
    {
      "cell_type": "code",
      "execution_count": null,
      "metadata": {
        "id": "SSt0pp-Fcezh"
      },
      "outputs": [],
      "source": [
        "ani.event_source.stop()"
      ]
    },
    {
      "cell_type": "markdown",
      "metadata": {
        "id": "Fp9pLTwGcezh"
      },
      "source": [
        "### Konec\n",
        "\n",
        "Tímto jsme dokončili naši zjednodušenou simulci šíření nákazy. To však neznamená, že si s ní nemůžete dále 'hrát'. Zkuste měnit jednotlivé parametry. Co podle vás nejvíce ovlivní rychlost šíření? "
      ]
    },
    {
      "cell_type": "code",
      "execution_count": null,
      "metadata": {
        "id": "JOOrTHCxcezh"
      },
      "outputs": [],
      "source": [
        "pocet_lidi=1000 #nezadavejte hodnoty vetsi nez 5000, simulace pak bude velmi pomala\n",
        "delka_simulace=30*24*60 #30 dni * 24 hodin * 60 minut\n",
        "vzdalenost_nakazy = 0.02 #vzdalenost, na kterou se mužeme nakazit\n",
        "pravdepodobnost_nakazy = 0.01 #pravděpodobnost, že se nakazíme\n",
        "delka_nakazy = 7*24*15 #délka nákazy\n",
        "procento_lidi_pracujicich_z_domu = 0.3\n",
        "pravdepodobnost_zjisteni_a_karanteny = 0.8\n",
        "\n",
        "pozice, stav, doba_od_nakazeni, nakazil_lidi, domovy_lidi, prace_lidi = reset_simulace(pocet_lidi, domovy, prace, \n",
        "                                                                                       procento_homeoffice)\n",
        "figure_animace, komponenty_grafu = nova_animace(pozice, stav, pocet_lidi, delka_simulace)\n",
        "ani = FuncAnimation(figure_animace, update, frames=range(0, delka_simulace, 15), interval=1, repeat=False)\n",
        "plt.show()"
      ]
    },
    {
      "cell_type": "code",
      "execution_count": null,
      "metadata": {
        "id": "QOnqBFGGcezh"
      },
      "outputs": [],
      "source": [
        "ani.event_source.stop()"
      ]
    },
    {
      "cell_type": "code",
      "execution_count": null,
      "metadata": {
        "id": "KoDhD2aicezi"
      },
      "outputs": [],
      "source": []
    }
  ],
  "metadata": {
    "kernelspec": {
      "display_name": "Python 3",
      "language": "python",
      "name": "python3"
    },
    "language_info": {
      "codemirror_mode": {
        "name": "ipython",
        "version": 3
      },
      "file_extension": ".py",
      "mimetype": "text/x-python",
      "name": "python",
      "nbconvert_exporter": "python",
      "pygments_lexer": "ipython3",
      "version": "3.10.1"
    },
    "colab": {
      "provenance": []
    }
  },
  "nbformat": 4,
  "nbformat_minor": 0
}
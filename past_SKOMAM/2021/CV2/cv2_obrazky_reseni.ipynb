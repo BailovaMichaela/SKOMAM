{
  "cells": [
    {
      "cell_type": "markdown",
      "metadata": {
        "id": "_Mk_2jFYbYKE"
      },
      "source": [
        "Videocvičení naleznete zde: https://youtu.be/yL-A0N5JDJo"
      ]
    },
    {
      "cell_type": "code",
      "source": [
        "%cd /content\n",
        "%rm -R SKOMAM\n",
        "!git clone https://github.com/Beremi/SKOMAM\n",
        "%cd /content/SKOMAM/past_SKOMAM/2021/CV2/\n",
        "%pwd"
      ],
      "metadata": {
        "id": "ahLOTanIbmXG"
      },
      "execution_count": null,
      "outputs": []
    },
    {
      "cell_type": "markdown",
      "metadata": {
        "id": "zzWSXF-NbYKK"
      },
      "source": [
        "# Práce s obrázky\n",
        "\n",
        "### Načítání balíčků\n",
        "K práci s obrázky budeme používat knihovnu **cv2** s aliasem **cv**. Dále budeme používat knihovnu **numpy** s aliasem **np** pro matematické funkce a práci s poli a knihovnu **matplotlib** s aliasem **plt** pro vykreslování výsledků. \n",
        "\n",
        "Následujícím kódem naimportujeme balíčky. "
      ]
    },
    {
      "cell_type": "code",
      "execution_count": null,
      "metadata": {
        "id": "MFKdrbSRbYKL"
      },
      "outputs": [],
      "source": [
        "import cv2 as cv\n",
        "import numpy as np\n",
        "from matplotlib import pyplot as plt\n",
        "from matplotlib.colors import NoNorm"
      ]
    },
    {
      "cell_type": "markdown",
      "metadata": {
        "id": "RKPNkPy7bYKQ"
      },
      "source": [
        "## Obrázek jako matice"
      ]
    },
    {
      "cell_type": "markdown",
      "metadata": {
        "id": "3wPS01lwbYKR"
      },
      "source": [
        "Nejprve je třeba načíst obrázek do paměti. To provedeme příkazem **imread** z knihovny **cv2**.\n",
        "\n",
        "***Pozor:*** Barevné vrstvy se načtou v pořadí **blue**, **green**, **red** namísto obvyklého **red**, **green**, **blue**. A protože jsme konzervativní, obrázek si převedeme."
      ]
    },
    {
      "cell_type": "code",
      "execution_count": null,
      "metadata": {
        "id": "uEwqvyFCbYKT"
      },
      "outputs": [],
      "source": [
        "img_bgr = cv.imread(\"lena_original.jpg\",cv.IMREAD_UNCHANGED)\n",
        "img = cv.cvtColor(img_bgr, cv.COLOR_BGR2RGB)"
      ]
    },
    {
      "cell_type": "markdown",
      "metadata": {
        "id": "C2aM1idBbYKU"
      },
      "source": [
        "Chceme-li si obrázek zobrazit, použijeme příkaz **imshow** z knihovny **matplotlib**."
      ]
    },
    {
      "cell_type": "code",
      "execution_count": null,
      "metadata": {
        "id": "0A0W_lOpbYKU"
      },
      "outputs": [],
      "source": [
        "plt.figure()\n",
        "plt.imshow(img)"
      ]
    },
    {
      "cell_type": "markdown",
      "metadata": {
        "id": "Gpt98EtXbYKV"
      },
      "source": [
        "Pro zkoušení algoritmů pro zpracování obrazu se běžně používá jen výřez tohoto obrázku. Ten si teď vyrobíme.\n",
        "\n",
        "S obrázkem teď můžeme zacházet jako s polem. Můžeme tedy zadat, jaký rozsah indexů chceme nadále používat:"
      ]
    },
    {
      "cell_type": "code",
      "execution_count": null,
      "metadata": {
        "id": "DAC5jOixbYKV"
      },
      "outputs": [],
      "source": [
        "img_crop = img[20:270,150:400,:]"
      ]
    },
    {
      "cell_type": "markdown",
      "metadata": {
        "id": "CBIFkDWsbYKW"
      },
      "source": [
        "Výřez si můžeme zase prohlédnout a, protože jej budeme později používat, také uložit."
      ]
    },
    {
      "cell_type": "code",
      "execution_count": null,
      "metadata": {
        "id": "dyFpn9libYKW"
      },
      "outputs": [],
      "source": [
        "plt.figure()\n",
        "plt.imshow(img_crop)\n",
        "cv.imwrite('lena_crop.jpg',cv.cvtColor(img_crop, cv.COLOR_RGB2BGR)) "
      ]
    },
    {
      "cell_type": "markdown",
      "metadata": {
        "id": "ORo4KQBZbYKX"
      },
      "source": [
        "### Barevné složky"
      ]
    },
    {
      "cell_type": "markdown",
      "metadata": {
        "id": "NH5jvzHObYKX"
      },
      "source": [
        "Chceme-li pracovat s některou z barevných složek obrázku, můžeme ji z obrázku získat např. tak, že vynulujeme ostatní složky."
      ]
    },
    {
      "cell_type": "code",
      "execution_count": null,
      "metadata": {
        "id": "KU3uqr-9bYKY"
      },
      "outputs": [],
      "source": [
        "b = img_crop.copy()\n",
        "g = img_crop.copy()\n",
        "r = img_crop.copy()\n",
        "\n",
        "r[:,:,1] = 0\n",
        "r[:,:,2] = 0\n",
        "\n",
        "g[:,:,0] = 0\n",
        "g[:,:,2] = 0\n",
        "\n",
        "b[:,:,0] = 0\n",
        "b[:,:,1] = 0"
      ]
    },
    {
      "cell_type": "markdown",
      "metadata": {
        "id": "RKUKxAUZbYKY"
      },
      "source": [
        "Výsledné obrázky pak budou vypadat následnovně:"
      ]
    },
    {
      "cell_type": "code",
      "execution_count": null,
      "metadata": {
        "id": "tQNRLSUQbYKZ"
      },
      "outputs": [],
      "source": [
        "plt.figure()\n",
        "plt.imshow(r)"
      ]
    },
    {
      "cell_type": "code",
      "execution_count": null,
      "metadata": {
        "id": "aUKMTuCEbYKZ"
      },
      "outputs": [],
      "source": [
        "plt.figure()\n",
        "plt.imshow(g)"
      ]
    },
    {
      "cell_type": "code",
      "execution_count": null,
      "metadata": {
        "id": "bmg52rxRbYKa"
      },
      "outputs": [],
      "source": [
        "plt.figure()\n",
        "plt.imshow(b)"
      ]
    },
    {
      "cell_type": "markdown",
      "metadata": {
        "id": "6XH9ymmTbYKa"
      },
      "source": [
        "### Základní úpravy obrázku"
      ]
    },
    {
      "cell_type": "markdown",
      "metadata": {
        "id": "01RiZSG9bYKa"
      },
      "source": [
        "V následující části cvičení si pro jednoduchost vystačíme s černobílým obrázkem. Načteme si výřez, který jsme si před chvílí uložili. Funkci **imread** ale řekneme, že chceme načíst obrázek jen v odstínech šedé pomocí **cv.IMREAD_GRAYSCALE**."
      ]
    },
    {
      "cell_type": "code",
      "execution_count": null,
      "metadata": {
        "id": "AEt_1BLEbYKb"
      },
      "outputs": [],
      "source": [
        "img_grey = cv.imread(\"lena_crop.jpg\",cv.IMREAD_GRAYSCALE)"
      ]
    },
    {
      "cell_type": "markdown",
      "metadata": {
        "id": "6iS70ATYbYKb"
      },
      "source": [
        "Můžeme si jej vykreslit, ať víme, že vše proběhlo v pořádku. U černobílých obrázků budeme specifikovat, že chceme vykreslit v odstínech šedé pomocí **cmap='gray'** a také, že nechceme, aby během vykreslování došlo k automatickému vyrovnání histogramu (tím se budeme zabývat za chvilku). To se udělá pomocí **norm=NoNorm()**."
      ]
    },
    {
      "cell_type": "code",
      "execution_count": null,
      "metadata": {
        "id": "1tZHEj7jbYKb"
      },
      "outputs": [],
      "source": [
        "plt.figure()\n",
        "plt.imshow(img_grey,cmap='gray',norm=NoNorm())"
      ]
    },
    {
      "cell_type": "markdown",
      "metadata": {
        "id": "S8o-qICibYKc"
      },
      "source": [
        "<hr style=\"border:1px solid black\"> </hr>\n",
        "\n",
        "## Úkol 1: \n",
        "vytvořte funkci, která zadaný obrázek zesvětlí o zadaný počet odstínů. Zesvětlený obrázek vykreslete. \n",
        "\n",
        "<hr style=\"border:1px solid black\"> </hr>"
      ]
    },
    {
      "cell_type": "code",
      "execution_count": null,
      "metadata": {
        "id": "AiEZ6AgmbYKc"
      },
      "outputs": [],
      "source": [
        "def lighten(img, amount):\n",
        "    for i in range(img.shape[0]):\n",
        "        for j in range(img.shape[1]):\n",
        "            if(img[i,j]+amount>254):\n",
        "                img[i,j]=255\n",
        "            else:\n",
        "                img[i,j] += amount \n",
        "    return img"
      ]
    },
    {
      "cell_type": "code",
      "execution_count": null,
      "metadata": {
        "id": "oPzX1kiTbYKc"
      },
      "outputs": [],
      "source": [
        "plt.figure()\n",
        "plt.imshow(lighten(img_grey.copy(),100),cmap='gray',norm=NoNorm())"
      ]
    },
    {
      "cell_type": "markdown",
      "metadata": {
        "id": "AVXTj7F3bYKc"
      },
      "source": [
        "<hr style=\"border:1px solid black\"> </hr>\n",
        "\n",
        "## Úkol 2: \n",
        "vytvořte funkci, která zadaný obrázek ztmaví o zadaný počet odstínů. Tmavší obrázek vykreslete. \n",
        "\n",
        "<hr style=\"border:1px solid black\"> </hr>"
      ]
    },
    {
      "cell_type": "code",
      "execution_count": null,
      "metadata": {
        "id": "ELI1ksQ_bYKd"
      },
      "outputs": [],
      "source": [
        "def darken(img, amount):\n",
        "    for i in range(img.shape[0]):\n",
        "        for j in range(img.shape[1]):\n",
        "            if(img[i,j]-amount<1):\n",
        "                img[i,j] = 0\n",
        "            else:\n",
        "                img[i,j] -= amount \n",
        "    return img"
      ]
    },
    {
      "cell_type": "code",
      "execution_count": null,
      "metadata": {
        "id": "GvZYAjOabYKd"
      },
      "outputs": [],
      "source": [
        "plt.figure()\n",
        "plt.imshow(darken(img_grey.copy(),100),cmap='gray',norm=NoNorm())"
      ]
    },
    {
      "cell_type": "markdown",
      "metadata": {
        "id": "GAdKbhDJbYKd"
      },
      "source": [
        "<hr style=\"border:1px solid black\"> </hr>\n",
        "\n",
        "## Úkol 3: \n",
        "vytvořte funkci, která vytvoří inverzi (negativ) zadaného obrázku. Negativ vykreslete. \n",
        "\n",
        "<hr style=\"border:1px solid black\"> </hr>"
      ]
    },
    {
      "cell_type": "code",
      "execution_count": null,
      "metadata": {
        "id": "s2vbu3aXbYKd"
      },
      "outputs": [],
      "source": [
        "def invert(img):\n",
        "    for i in range(img.shape[0]):\n",
        "        for j in range(img.shape[1]):\n",
        "            img[i,j] = 255-img[i,j]\n",
        "    return img"
      ]
    },
    {
      "cell_type": "code",
      "execution_count": null,
      "metadata": {
        "id": "5O1zULKSbYKe"
      },
      "outputs": [],
      "source": [
        "plt.figure()\n",
        "plt.imshow(invert(img_grey.copy()),cmap='gray',norm=NoNorm())"
      ]
    },
    {
      "cell_type": "markdown",
      "metadata": {
        "id": "eHB9ilCtbYKe"
      },
      "source": [
        "### Prahování"
      ]
    },
    {
      "cell_type": "markdown",
      "metadata": {
        "id": "O4hIPwVSbYKf"
      },
      "source": [
        "Prahování spočívá v tom, že se všechny hodnoty obrázku, které jsou menší než námi zvolený práh (threshold), nastaví na černou, zatímco se zbývanící hodnoty nastaví na bílou."
      ]
    },
    {
      "cell_type": "markdown",
      "metadata": {
        "id": "Ee1edA5fbYKf"
      },
      "source": [
        "<hr style=\"border:1px solid black\"> </hr>\n",
        "\n",
        "## Úkol 4: \n",
        "vytvořte funkci, která provede prahování obrázku pomocí zadané hodnoty. Výsledný obrázek vykreslete. \n",
        "\n",
        "<hr style=\"border:1px solid black\"> </hr>"
      ]
    },
    {
      "cell_type": "code",
      "execution_count": null,
      "metadata": {
        "id": "WQ6iZEFPbYKg"
      },
      "outputs": [],
      "source": [
        "def threshold(img, threshold):\n",
        "    for i in range(img.shape[0]):\n",
        "        for j in range(img.shape[1]):\n",
        "            if(img[i,j]<threshold):\n",
        "                img[i,j]=0\n",
        "            else:\n",
        "                img[i,j]=255\n",
        "    return img"
      ]
    },
    {
      "cell_type": "code",
      "execution_count": null,
      "metadata": {
        "id": "lcljXceybYKg"
      },
      "outputs": [],
      "source": [
        "plt.figure()\n",
        "plt.imshow(threshold(img_grey.copy(),100),cmap='gray',norm=NoNorm())"
      ]
    },
    {
      "cell_type": "markdown",
      "metadata": {
        "id": "X0QxnFfFbYKg"
      },
      "source": [
        "## Vyrovnání histogramu"
      ]
    },
    {
      "cell_type": "markdown",
      "metadata": {
        "id": "l3jWoCIkbYKh"
      },
      "source": [
        "### Získání histogramu"
      ]
    },
    {
      "cell_type": "markdown",
      "metadata": {
        "id": "Oq5TBmLwbYKh"
      },
      "source": [
        "Nejprve si obrázek načteme. Nezapomeňte, že jej chceme v odstínech šedé."
      ]
    },
    {
      "cell_type": "code",
      "execution_count": null,
      "metadata": {
        "id": "Jf5MwlGlbYKh"
      },
      "outputs": [],
      "source": [
        "img_uneq = cv.imread(\"uneq.jpg\", cv.IMREAD_GRAYSCALE)"
      ]
    },
    {
      "cell_type": "markdown",
      "metadata": {
        "id": "uLXVZLsebYKi"
      },
      "source": [
        "Provedeme kontrolu vykreslením."
      ]
    },
    {
      "cell_type": "code",
      "execution_count": null,
      "metadata": {
        "id": "Jr8XnLX9bYKi"
      },
      "outputs": [],
      "source": [
        "plt.figure()\n",
        "plt.imshow(img_uneq,cmap='gray',norm=NoNorm())"
      ]
    },
    {
      "cell_type": "markdown",
      "metadata": {
        "id": "_Xy5nEeHbYKj"
      },
      "source": [
        "Vidíme, že s obrázkem něco není v pořádku. Zkusíme se podívat na jeho histogram. Histogram obrázku získáme tak, že pro každou možnou hodnotu jasu (v obrázku jich je dohromady 256, 0 reprezentuje černou, 255 bílou) spočítáme, kolikrát se v obrázku vyskytuje."
      ]
    },
    {
      "cell_type": "markdown",
      "metadata": {
        "id": "8rwWWKGbbYKj"
      },
      "source": [
        "<hr style=\"border:1px solid black\"> </hr>\n",
        "\n",
        "## Úkol 5: \n",
        "vytvořte funkci, která k zadanému obrázku vytvoří histogram a použijte ji na obrázek **img_uneq**. Výsledný histogram vykreslete. \n",
        "\n",
        "***Nápověda***: k vykreslení histogramu se hodí použít sloupcový graf. Ten získáme pomocí příkazu **bar** z knihovny **matplotlib**.\n",
        "\n",
        "<hr style=\"border:1px solid black\"> </hr>"
      ]
    },
    {
      "cell_type": "code",
      "execution_count": null,
      "metadata": {
        "id": "gcEUX5YHbYKk"
      },
      "outputs": [],
      "source": [
        "def get_hist(image):\n",
        "    hist = np.zeros(256)\n",
        "    for i in range(image.shape[0]):\n",
        "            for j in range(image.shape[1]):\n",
        "                hist[int(image[i,j])] += 1\n",
        "    return hist\n",
        "\n",
        "hist_uneq = get_hist(img_uneq)\n",
        "\n",
        "plt.figure()\n",
        "plt.bar([i for i in range(hist_uneq.shape[0])],hist_uneq/float(sum(hist_uneq)))"
      ]
    },
    {
      "cell_type": "markdown",
      "metadata": {
        "id": "zmpO5Wg-bYKk"
      },
      "source": [
        "### Vyrovnání histogramu"
      ]
    },
    {
      "cell_type": "markdown",
      "metadata": {
        "id": "iqBOBeDPbYKl"
      },
      "source": [
        "Z obrázku vidíme, že v obrázku je jen úzký rozsah jasu. Pokusíme se toto napravit a histogram tzv. vyrovnáme. Cílem je celý histogram roztáhnout tak, aby pokrýval celý rozsah of 0 do 255."
      ]
    },
    {
      "cell_type": "markdown",
      "metadata": {
        "id": "9TLlyxOibYKl"
      },
      "source": [
        "<hr style=\"border:1px solid black\"> </hr>\n",
        "\n",
        "## Úkol 6: \n",
        "vytvořte funkci, která vyrovná histogram zadaného obrázku a použijte ji na obrázek **img_uneq**. Výsledný obrázek a histogram vykreslete. \n",
        "\n",
        "<hr style=\"border:1px solid black\"> </hr>"
      ]
    },
    {
      "cell_type": "code",
      "execution_count": null,
      "metadata": {
        "id": "LajldejzbYKl"
      },
      "outputs": [],
      "source": [
        "def eq_hist(img):    \n",
        "    hist = get_hist(img)\n",
        "    i=0\n",
        "    while(hist[i]==0):\n",
        "        i+=1\n",
        "    j=255\n",
        "    while(hist[j]==0):\n",
        "        j-=1\n",
        "    for k in range(img.shape[0]):\n",
        "            for l in range(img.shape[1]):\n",
        "                img[k,l] = (img[k,l]-i)*(255.0/(j-i))                \n",
        "    return img\n",
        "\n",
        "img_eq = eq_hist(img_uneq.copy())\n",
        "plt.figure()\n",
        "plt.imshow(img_eq,cmap='gray',norm=NoNorm())\n",
        "\n",
        "hist_eq = get_hist(img_eq)\n",
        "plt.figure()\n",
        "plt.bar([i for i in range(hist_eq.shape[0])],hist_eq/float(sum(hist_eq)))"
      ]
    },
    {
      "cell_type": "markdown",
      "metadata": {
        "id": "rb6XRTMTbYKl"
      },
      "source": [
        "## Konvoluce"
      ]
    },
    {
      "cell_type": "markdown",
      "metadata": {
        "id": "MVo-z5nlbYKm"
      },
      "source": [
        "Diskrétní konvoluce je operace, která obrázek modifikuje pomocí takzvané konvoluční masky. Konvoluční masku si můžeme představit jako čtvercovou matici, jejíž hodnoty představují váhy, s jakými do výsledného obrázku započítáváme hodnoty jasu obrázku původního.\n",
        "\n",
        "V praxi konvoluce funguje tak, že masku přiložíme na obrázek tak, aby její střed byl v bodě, pro který chceme konvoluci počítat. Hodotu pak získáme tím, že po složkách vynásobíme masku s jasy obrázku a vše sečteme. Obrázek se schématem najdete na Wikipedii, ze které jsem si jej vypůjčil."
      ]
    },
    {
      "cell_type": "markdown",
      "metadata": {
        "id": "PR_gang6bYKm"
      },
      "source": [
        "![Schéma diskrétní konvoluce (zdroj: Wikipedie)](https://github.com/Beremi/SKOMAM/blob/main/past_SKOMAM/2021/CV2/konvoluce.jpg?raw=1)"
      ]
    },
    {
      "cell_type": "markdown",
      "metadata": {
        "id": "QTXuDTMjbYKm"
      },
      "source": [
        "Naším úkolem nebude nic jiného, než diskrétní konvoluci naprogramovat a otestovat s různými maskami. Ty si ostatně můžeme rovnou zadefinovat."
      ]
    },
    {
      "cell_type": "code",
      "execution_count": null,
      "metadata": {
        "id": "ZvSSdLagbYKn"
      },
      "outputs": [],
      "source": [
        "average = np.array([[1, 1, 1],[1, 1, 1],[1, 1, 1]])\n",
        "gauss_large = np.array([[1, 4, 7, 4, 1],[4, 16, 26, 16, 4],[7, 26, 41, 26, 7],[4, 16, 26, 16, 4],[1, 4, 7, 4, 1]])\n",
        "gauss = np.array([[1, 2, 1],[2, 4, 2],[1, 2, 1]])\n",
        "laplace = np.array([[0, 1, 0],[1, -4, 1],[0, 1, 0]])\n",
        "edges = np.array([[0, -1, 0],[-1, 5, -1],[0, -1, 0]])\n",
        "vertical_edges = np.array([[-1, 0, 1],[-2, 0, 2],[-1, 0, 1]])\n",
        "horizontal_edges = np.array([[-1, -2, -1],[0, 0, 0],[1, 2, 1]])"
      ]
    },
    {
      "cell_type": "markdown",
      "metadata": {
        "id": "MxqnXDjjbYKn"
      },
      "source": [
        "Různé masky se hodí na různé operace, proto si je vyzkoušíme na dvou různých obrázcích. Jeden z nich bude zašuměná Lena"
      ]
    },
    {
      "cell_type": "code",
      "execution_count": null,
      "metadata": {
        "id": "QocuWY8ubYKn"
      },
      "outputs": [],
      "source": [
        "lena = cv.imread(\"lena_noise.jpg\", cv.IMREAD_GRAYSCALE)"
      ]
    },
    {
      "cell_type": "markdown",
      "metadata": {
        "id": "rjOKZIJfbYKn"
      },
      "source": [
        "Druhý obrázek bude obrázek cihlové zdi, na kterém bude dobře vidět efekt masek, které zvýrazňují hrany."
      ]
    },
    {
      "cell_type": "code",
      "execution_count": null,
      "metadata": {
        "id": "djzWZvvJbYKo"
      },
      "outputs": [],
      "source": [
        "bricks = cv.imread(\"bricks.jpg\", cv.IMREAD_GRAYSCALE)"
      ]
    },
    {
      "cell_type": "markdown",
      "metadata": {
        "id": "HfO2556wbYKo"
      },
      "source": [
        "<hr style=\"border:1px solid black\"> </hr>\n",
        "\n",
        "## Úkol 7: \n",
        "vytvořte funkci, která provede diskrétní konvoluci zadaného obrázku se zadanou konvoluční maskou. Otestujte efekty různých konvolučních masek.\n",
        "\n",
        "<hr style=\"border:1px solid black\"> </hr>"
      ]
    },
    {
      "cell_type": "code",
      "execution_count": null,
      "metadata": {
        "id": "kLuE4hgTbYKo"
      },
      "outputs": [],
      "source": [
        "def convolution(img, mask):\n",
        "    \n",
        "    conv = np.zeros(img.shape)\n",
        "    l = int(mask.shape[0]/2)\n",
        "    \n",
        "    for i in range(l ,img.shape[0]-l):\n",
        "        for j in range(l,img.shape[1]-l):\n",
        "            conv[i,j] = int(sum(sum(img[(i-l):(i+l+1),(j-l):(j+l+1)]*mask)))\n",
        "\n",
        "    return conv"
      ]
    },
    {
      "cell_type": "code",
      "execution_count": null,
      "metadata": {
        "id": "_lqtGTHQbYKo"
      },
      "outputs": [],
      "source": [
        "img = bricks\n",
        "mask = edges"
      ]
    },
    {
      "cell_type": "code",
      "execution_count": null,
      "metadata": {
        "id": "acampigPbYKp"
      },
      "outputs": [],
      "source": [
        "img_conv = convolution(img.copy(),mask)"
      ]
    },
    {
      "cell_type": "code",
      "execution_count": null,
      "metadata": {
        "id": "nfCUuXv3bYKp"
      },
      "outputs": [],
      "source": [
        "plt.figure()\n",
        "plt.imshow(img,cmap='gray')"
      ]
    },
    {
      "cell_type": "code",
      "execution_count": null,
      "metadata": {
        "id": "W8uj00xgbYKp"
      },
      "outputs": [],
      "source": [
        "plt.figure()\n",
        "plt.imshow(img_conv,cmap='gray')"
      ]
    },
    {
      "cell_type": "code",
      "execution_count": null,
      "metadata": {
        "id": "Gq3biIjfbYKp"
      },
      "outputs": [],
      "source": []
    },
    {
      "cell_type": "code",
      "execution_count": null,
      "metadata": {
        "id": "ewdWs5XgbYKq"
      },
      "outputs": [],
      "source": []
    }
  ],
  "metadata": {
    "kernelspec": {
      "display_name": "Python 3",
      "language": "python",
      "name": "python3"
    },
    "language_info": {
      "codemirror_mode": {
        "name": "ipython",
        "version": 3
      },
      "file_extension": ".py",
      "mimetype": "text/x-python",
      "name": "python",
      "nbconvert_exporter": "python",
      "pygments_lexer": "ipython3",
      "version": "3.10.1"
    },
    "colab": {
      "provenance": []
    }
  },
  "nbformat": 4,
  "nbformat_minor": 0
}
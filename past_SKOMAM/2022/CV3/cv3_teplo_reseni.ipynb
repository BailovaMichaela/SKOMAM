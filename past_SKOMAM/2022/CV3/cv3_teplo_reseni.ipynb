{
  "cells": [
    {
      "cell_type": "markdown",
      "id": "0734d2dd",
      "metadata": {
        "id": "0734d2dd"
      },
      "source": [
        "# Cvičení 3: Modelování procesu vedení tepla\n",
        "Uvažujme oblast tvaru obdélníku o stranách $a \\times b$. \n",
        "\n",
        "V počátečním\n",
        "čase $t=0$ má každý bod oblasti určitou teplotu. Úkolem tohoto cvičení\n",
        "je modelovat průběh vedení tepla v čase, tedy spočítat teplotu v oblasti\n",
        "v časových krocích $t=dt$, $t=2dt$, $\\ldots$, $t=Ndt$. Teplotu budeme reprezentovat pomocí funkce\n",
        "$u:\\mathbb{R}^{3}\\rightarrow\\mathbb{R}$,\n",
        "hodnota $u\\left(x,y,t\\right)$ udává teplotu v bodě o souřadnicích\n",
        "$\\left(x,y\\right)$ v čase $t$. \n",
        "\n",
        "Nejprve provedeme tzv. diskretizaci - zadanou oblast rozdělíme na\n",
        "shodné obdélníkové podoblasti o stranách $dx \\times dy$.\n",
        "Teplotu v každé podoblasti budeme reprezentovat pomocí hodnoty teploty ve středu této podoblasti.\n",
        "\n",
        "Aby bylo zadání kompletní, je potřeba specifikovat tzv. okrajové podmínky.\n",
        "Budeme předpokládat, že teplota v podoblastech ležících na okraji\n",
        "oblasti zůstává stále stejná."
      ]
    },
    {
      "cell_type": "markdown",
      "id": "c8b39dc8",
      "metadata": {
        "id": "c8b39dc8"
      },
      "source": [
        "## 1. Homogenní materiál\n",
        "Předpokládejme nejprve, že materiálové parametry $\\lambda$ (součinitel tepelné vodivosti), $\\rho$ (hustota), $c$ (měrná tepelná kapacita) jsou konstantní v celé oblasti.\n",
        "\n",
        "Umíme vyjádřit teplotu podoblasti se středem $(x,y)$ v čase $t+dt$ pomocí teplot v bodech $\\left(x,y\\right)$, $\\left(x+dx,y\\right)$, $\\left(x-dx,y\\right)$, $\\left(x,y+dy\\right)$ a $\\left(x,y-dx\\right)$ v čase $t$:\n",
        "$$\n",
        "u\\left(x,y,t+dt\\right)\\approx u\\left(x,y,t\\right)+\\frac{\\lambda}{\\rho c}dt\\left(\\frac{u\\left(x-dx,y,t\\right)-u\\left(x,y,t\\right)}{dx^{2}}\\right.+\n",
        "$$\n",
        "$$\n",
        "\\frac{u\\left(x,y+dy,t\\right)-u\\left(x,y,t\\right)}{dy^{2}}+\\frac{u\\left(x+dx,y,t\\right)-u\\left(x,y,t\\right)}{dx^{2}}+\\left.\\frac{u\\left(x,y+dy,t\\right)-u\\left(x,y,t\\right)}{dy^{2}}\\right).\n",
        "$$\n",
        "\n",
        "Odvození lze najít v doprovodném textu k počítačovým cvičením."
      ]
    },
    {
      "cell_type": "code",
      "execution_count": null,
      "id": "777181ce",
      "metadata": {
        "id": "777181ce",
        "trusted": true
      },
      "outputs": [],
      "source": [
        "import matplotlib.pyplot as plt # knihovna pro vykreslování grafů\n",
        "import numpy as np # matematická knihovna\n",
        "from numba import jit # just-in-time compiler pro Python"
      ]
    },
    {
      "cell_type": "markdown",
      "id": "d154fb98",
      "metadata": {
        "id": "d154fb98"
      },
      "source": [
        "Začneme zadefinováním vstupních parametrů:"
      ]
    },
    {
      "cell_type": "code",
      "execution_count": null,
      "id": "c9a88e30",
      "metadata": {
        "id": "c9a88e30",
        "trusted": true
      },
      "outputs": [],
      "source": [
        "dx = 0.01 # délka intervalu diskretizace ve vodorovném směru\n",
        "dy = 0.01 # délka intervalu diskretizace ve svislém směru\n",
        "dt = 1.0 # velikost časového kroku\n",
        "N = 120 # počet časových kroků\n",
        "lam = 80 # součinitel tepelné vodivosti\n",
        "rho_c = 8000*450 # hustota x měrná tepelná kapacita"
      ]
    },
    {
      "cell_type": "markdown",
      "id": "997deecf",
      "metadata": {
        "id": "997deecf"
      },
      "source": [
        "Vytvoříme matici teplot v počátečním čase:"
      ]
    },
    {
      "cell_type": "code",
      "execution_count": null,
      "id": "39349dba",
      "metadata": {
        "id": "39349dba",
        "trusted": true
      },
      "outputs": [],
      "source": [
        "nx = 80 # počet intervalů diskretizace ve vodorovném směru\n",
        "ny = 60 # počet intervalů diskretizace ve svislém směru\n",
        "# Oblast reprezentujeme pomocí matice: ny ... počet řádků, nx ... počet sloupců,\n",
        "# prvky matice tedy budeme indexovat v pořadí y,x.\n",
        "U_initial = 20*np.ones((ny,nx)) # Počáteční teplotu nastavíme na 20 stupňů.\n",
        "U_initial[2:32,30:60] = 70 # Do oblasti \"vložíme\" čtverec o vyšší teplotě\n",
        "U_initial[35:50,15:30] = 2 # a čtverec o nižší teplotě."
      ]
    },
    {
      "cell_type": "markdown",
      "id": "d5e262dc",
      "metadata": {
        "id": "d5e262dc"
      },
      "source": [
        "Vykreslíme počáteční teplotu pomocí příkazu imshow:"
      ]
    },
    {
      "cell_type": "code",
      "execution_count": null,
      "id": "59dcba6a",
      "metadata": {
        "id": "59dcba6a",
        "trusted": true
      },
      "outputs": [],
      "source": [
        "fig, ax = plt.subplots(figsize=(5,3))\n",
        "cmap = \"jet\" # výběr barevné škály, vyzkoušejte také \"hot\" nebo \"plasma\"\n",
        "# Další barevné škály najdete na https://matplotlib.org/stable/tutorials/colors/colormaps.html\n",
        "# Parametry vmin a vmax udávají rozmezí, na které bude barevná škála namapovaná.\n",
        "vmin = 0 \n",
        "vmax = 70\n",
        "extent=(0,nx*dx,0,ny*dy) # skutečné rozměry oblasti\n",
        "image_initial = ax.imshow(U_initial, cmap=cmap, vmin=vmin, vmax=vmax, extent=extent)\n",
        "plt.colorbar(image_initial) # zobrazí barevnou škálu na pravé straně\n",
        "plt.title(\"$t$=0\")\n",
        "plt.show()"
      ]
    },
    {
      "cell_type": "markdown",
      "id": "9ef13192",
      "metadata": {
        "id": "9ef13192"
      },
      "source": [
        "Následuje nejdůležitější část kódu - jednotlivé časové kroky, v nichž je postupně modelován proces vedení tepla:"
      ]
    },
    {
      "cell_type": "code",
      "execution_count": null,
      "id": "94be9d96",
      "metadata": {
        "id": "94be9d96",
        "trusted": true
      },
      "outputs": [],
      "source": [
        "@jit(nopython=True) # zrychlí následující funkci (zakomentujte a porovnejte čas výpočtu)\n",
        "def one_time_step(U0, nx, ny, dx, dy, dt, lam, rho_c):\n",
        "    U1 = U0.copy() # Teplotu v novém časovém kroce nastavíme na předchozí hodnoty.\n",
        "    # Projdeme všechny vnitřní prvky matice U1. Vynecháváme okraj, tam je udržována neměnná teplota.\n",
        "    for x in range(1,nx-1):\n",
        "        for y in range(1,ny-1):\n",
        "            # Teplotu v bodě (x,y) upravíme na základě hodnot v sousedních\n",
        "            # čtyřech bodech. Výsledek zaznamenáme do matice pro nový časový krok.\n",
        "            u = U0[y,x] # teplota v bodě (x,y) v předchozím časovém kroce\n",
        "            U1[y,x] += lam/rho_c*dt*(U0[y,x-1]-u)/(dx**2)\n",
        "            U1[y,x] += lam/rho_c*dt*(U0[y,x+1]-u)/(dx**2)\n",
        "            U1[y,x] += lam/rho_c*dt*(U0[y-1,x]-u)/(dy**2)\n",
        "            U1[y,x] += lam/rho_c*dt*(U0[y+1,x]-u)/(dy**2)\n",
        "    return U1"
      ]
    },
    {
      "cell_type": "markdown",
      "id": "zitlUk3VEiPR",
      "metadata": {
        "id": "zitlUk3VEiPR"
      },
      "source": [
        "A nyní provedeme časové kroky v cyklu:"
      ]
    },
    {
      "cell_type": "code",
      "execution_count": null,
      "id": "vMhprA2aEhZl",
      "metadata": {
        "id": "vMhprA2aEhZl"
      },
      "outputs": [],
      "source": [
        "U0 = U_initial.copy() # počáteční teplota\n",
        "for i in range(N): # cyklus přes časové kroky\n",
        "    U0 = one_time_step(U0, nx, ny, dx, dy, dt, lam, rho_c)"
      ]
    },
    {
      "cell_type": "markdown",
      "id": "c4a29d9c",
      "metadata": {
        "id": "c4a29d9c"
      },
      "source": [
        "Nyní již známe aproximaci teploty v čase `N*dt`, vykreslíme ji opět pomocí příkazu imshow:"
      ]
    },
    {
      "cell_type": "code",
      "execution_count": null,
      "id": "457a6ec6",
      "metadata": {
        "id": "457a6ec6",
        "scrolled": true,
        "trusted": true
      },
      "outputs": [],
      "source": [
        "fig, ax = plt.subplots(figsize=(5,3))\n",
        "image_end = ax.imshow(U0, cmap=cmap, vmin=vmin, vmax=vmax, extent=extent)\n",
        "plt.colorbar(image_end) # zobrazí barevnou škálu na pravé straně\n",
        "plt.title(\"$t$=\" + str(N*dt))\n",
        "plt.show()"
      ]
    },
    {
      "cell_type": "markdown",
      "id": "138c3757",
      "metadata": {
        "id": "138c3757"
      },
      "source": [
        "### 1.1. Animace\n",
        "Grafy rozložení teploty můžeme ukládat v každém časovém kroce (případně vždy po několika krocích). Z výsledných obrázků poté vytvoříme animaci."
      ]
    },
    {
      "cell_type": "code",
      "execution_count": null,
      "id": "dc614133",
      "metadata": {
        "id": "dc614133",
        "trusted": true
      },
      "outputs": [],
      "source": [
        "%matplotlib inline\n",
        "from matplotlib import animation"
      ]
    },
    {
      "cell_type": "markdown",
      "id": "e8308cde",
      "metadata": {
        "id": "e8308cde"
      },
      "source": [
        "Nastavíme parametry animace a vytvoříme prázdný seznam, do kterého budeme ukládat průběžně vykreslované obrázky. Dále vykreslíme počáteční rozložení teploty a výsledný obrázek rovnou přidáme do seznamu. Jelikož to budeme provádět ještě několikrát, zabalíme vše do funkce pro inicializaci animace:"
      ]
    },
    {
      "cell_type": "code",
      "execution_count": null,
      "id": "3fe8ba16",
      "metadata": {
        "id": "3fe8ba16",
        "trusted": true
      },
      "outputs": [],
      "source": [
        "interval_of_saving = 10 # jak často budeme ukládat obrázky/každý kolikátý krok uložíme (grafy rozložení teploty)\n",
        "\n",
        "def initialize_animation():\n",
        "    fig, ax = plt.subplots(figsize=(5,3))\n",
        "    image_initial = ax.imshow(U_initial, cmap=cmap, vmin=vmin, vmax=vmax, extent=extent, animated=True)\n",
        "    plt.colorbar(image_initial)\n",
        "    plt.xlabel(\"x\")\n",
        "    plt.ylabel(\"y\")\n",
        "    txt_title = ax.set_title('')\n",
        "    return fig, ax, image_initial, txt_title\n",
        "\n",
        "fig, ax, image_initial, txt_title = initialize_animation()"
      ]
    },
    {
      "cell_type": "markdown",
      "id": "MlKvzI_UFEHJ",
      "metadata": {
        "id": "MlKvzI_UFEHJ"
      },
      "source": [
        "Pro vykreslování animací potřebujeme funkci které bude provádět časové kroky a vždy po několikátém časovém kroku vytvoří obrázek a uloží pro pozdější video. Tato funkce má specifický tvar, vstupy a výstupy se nyní nezatěžujme, můžeme se více o tvaru funkce dočíst v manuálu k MatPlotLib"
      ]
    },
    {
      "cell_type": "code",
      "execution_count": null,
      "id": "MRDAlkOEK_Z8",
      "metadata": {
        "id": "MRDAlkOEK_Z8"
      },
      "outputs": [],
      "source": [
        "def drawframe(*args):\n",
        "    global U0, nx, ny, dx, dy, dt, lam, rho_c, cmap, vmin, vmax, extent, current_time, interval_of_saving, one_time_step\n",
        "    for i in range(interval_of_saving):\n",
        "      U0 = one_time_step(U0, nx, ny, dx, dy, dt, lam, rho_c)\n",
        "    current_time += interval_of_saving*dt\n",
        "    image_initial = ax.imshow(U0, cmap=cmap, vmin=vmin, vmax=vmax, extent=extent, animated=True)\n",
        "    txt_title.set_text('Time = {:.1f} s'.format(current_time))\n",
        "    return image_initial, "
      ]
    },
    {
      "cell_type": "markdown",
      "id": "8a72a2d9",
      "metadata": {
        "id": "8a72a2d9"
      },
      "source": [
        "Vyrobíme objekt animace:"
      ]
    },
    {
      "cell_type": "code",
      "execution_count": null,
      "id": "Url5lND0LBa_",
      "metadata": {
        "id": "Url5lND0LBa_"
      },
      "outputs": [],
      "source": [
        "current_time = 0\n",
        "U0 = U_initial.copy()\n",
        "anim = animation.FuncAnimation(fig, drawframe, frames=10, interval=200, blit=False)"
      ]
    },
    {
      "cell_type": "markdown",
      "id": "af17c8f0",
      "metadata": {
        "id": "af17c8f0"
      },
      "source": [
        "Spustíme animaci a tím i výpočet:"
      ]
    },
    {
      "cell_type": "code",
      "execution_count": null,
      "id": "b1af1b2d",
      "metadata": {
        "id": "b1af1b2d",
        "trusted": true
      },
      "outputs": [],
      "source": [
        "from IPython.display import HTML\n",
        "HTML(anim.to_html5_video())"
      ]
    },
    {
      "attachments": {},
      "cell_type": "markdown",
      "id": "ada01821",
      "metadata": {
        "id": "ada01821"
      },
      "source": [
        "## 2. Nehomogenní materiál\n",
        "V doprovodném textu k počítačovým cvičením najdeme také odvození modelování procesu vedení tepla v oblasti s nehomogenním materiálem. Umíme vyjádřit teplotu podoblasti se středem $(x,y)$ v čase $t+dt$ pomocí teplot v bodech $\\left(x,y\\right)$, $\\left(x+dx,y\\right)$, $\\left(x-dx,y\\right)$, $\\left(x,y+dy\\right)$ a $\\left(x,y-dx\\right)$ v čase $t$:\n",
        "$$u\\left(x,y,t+dt\\right)\\approx u\\left(x,y,t\\right)+\\frac{2}{\\rho\\left(x,y\\right)c\\left(x,y\\right)}dt\\left(\\frac{u\\left(x-dx,y,t\\right)-u\\left(x,y,t\\right)}{\\left(\\frac{1}{\\lambda\\left(x,y\\right)}+\\frac{1}{\\lambda\\left(x-dx,y\\right)}\\right)dx^{2}}\\right.+\n",
        "$$\n",
        "$$\\frac{u\\left(x,y+dy,t\\right)-u\\left(x,y,t\\right)}{\\left(\\frac{1}{\\lambda\\left(x,y\\right)}+\\frac{1}{\\lambda\\left(x,y+dy\\right)}\\right)dy^{2}}+\\frac{u\\left(x+dx,y,t\\right)-u\\left(x,y,t\\right)}{\\left(\\frac{1}{\\lambda\\left(x,y\\right)}+\\frac{1}{\\lambda\\left(x+dx,y\\right)}\\right)dx^{2}}+\\left.\\frac{u\\left(x,y+dy,t\\right)-u\\left(x,y,t\\right)}{\\left(\\frac{1}{\\lambda\\left(x,y\\right)}+\\frac{1}{\\lambda\\left(x,y+dy\\right)}\\right)dy^{2}}\\right).\n",
        "$$\n",
        "Materiálové parametry nyní musíme zadávat pomocí matic, které odpovídají provedené diskretizaci."
      ]
    },
    {
      "cell_type": "code",
      "execution_count": null,
      "id": "70c7c456",
      "metadata": {
        "id": "70c7c456",
        "trusted": true
      },
      "outputs": [],
      "source": [
        "lam = 10*np.ones((ny,nx)) # součinitel tepelné vodivosti (ve formě matice)\n",
        "rho_c = 8000*450*np.ones((ny,nx)) # hustota x měrná tepelná kapacita (ve formě matice)\n",
        "# V části oblasti nastavíme jiné materiálové parametry:\n",
        "lam[17:50,10:70] = 80\n",
        "rho_c[17:40,10:70] = 9000*450\n",
        "# Nastavením nekonečné tepelné kapacity docílíme toho, že se teplota této části oblasti nebude měnit:\n",
        "rho_c[45:55,45:55] = np.inf\n",
        "U_initial[45:55,45:55] = 70"
      ]
    },
    {
      "cell_type": "markdown",
      "id": "e7136d21",
      "metadata": {
        "id": "e7136d21"
      },
      "source": [
        "Vytvoříme novou funkci pro výpočet jednoho časového kroku, která bude zohledňovat nehomogenní materiál (tj. bude pracovat s maticemi LAM a RHO_C)."
      ]
    },
    {
      "cell_type": "code",
      "execution_count": null,
      "id": "53d9b500",
      "metadata": {
        "id": "53d9b500",
        "trusted": true
      },
      "outputs": [],
      "source": [
        "@jit(nopython=True)\n",
        "def one_time_step(U0, nx, ny, dx, dy, dt, LAM, RHO_C):\n",
        "    U1 = U0.copy() # Teplotu v novém časovém kroce nastavíme na předchozí hodnoty.\n",
        "    # Projdeme všechny vnitřní prvky matice U1. Vynecháváme okraj, tam je udržována neměnná teplota.\n",
        "    for x in range(1,nx-1):\n",
        "        for y in range(1,ny-1):\n",
        "            # Teplotu v bodě (x,y) upravíme na základě hodnot v sousedních\n",
        "            # čtyřech bodech. Výsledek zaznamenáme do matice pro nový časový krok.\n",
        "            u = U0[y,x] # teplota v bodě (x,y) v předchozím časovém kroce\n",
        "            k = 2*dt/RHO_C[y,x] # 2*dt/(rho(x,y)*c(x,y))\n",
        "            l = 1/LAM[y,x] # 1/lambda(x,y)\n",
        "            U1[y,x] += k*(U0[y,x-1]-u)/(dx**2)/(l+1/LAM[y,x-1])\n",
        "            U1[y,x] += k*(U0[y,x+1]-u)/(dx**2)/(l+1/LAM[y,x+1])\n",
        "            U1[y,x] += k*(U0[y-1,x]-u)/(dy**2)/(l+1/LAM[y-1,x])\n",
        "            U1[y,x] += k*(U0[y+1,x]-u)/(dy**2)/(l+1/LAM[y+1,x])\n",
        "    return U1"
      ]
    },
    {
      "cell_type": "markdown",
      "id": "f7660189",
      "metadata": {
        "id": "f7660189"
      },
      "source": [
        "Pomocí funkce `initialize_animation` nastavíme parametry animace, vytvoříme prázdný seznam pro ukládání obrázků a uložíme do něj počáteční stav."
      ]
    },
    {
      "cell_type": "code",
      "execution_count": null,
      "id": "fdc20697",
      "metadata": {
        "id": "fdc20697",
        "scrolled": true,
        "trusted": true
      },
      "outputs": [],
      "source": [
        "N = 200 # počet časových kroků\n",
        "interval_of_saving = 10 # jak často budeme ukládat obrázky (grafy rozložení teploty)\n",
        "fig, ax, image_initial, txt_title = initialize_animation()"
      ]
    },
    {
      "cell_type": "markdown",
      "id": "db4a5ece",
      "metadata": {
        "id": "db4a5ece"
      },
      "source": [
        "Spustíme simulaci a animaci:"
      ]
    },
    {
      "cell_type": "code",
      "execution_count": null,
      "id": "527500f6",
      "metadata": {
        "id": "527500f6",
        "trusted": true
      },
      "outputs": [],
      "source": [
        "current_time = 0\n",
        "U0 = U_initial.copy()\n",
        "anim = animation.FuncAnimation(fig, drawframe, frames=int(N/interval_of_saving), interval=200, blit=False)\n",
        "HTML(anim.to_html5_video())"
      ]
    },
    {
      "cell_type": "markdown",
      "id": "244b5b5b",
      "metadata": {
        "id": "244b5b5b"
      },
      "source": [
        "### 2.1. Připravená modelová úloha - spirála\n",
        "Ze souborů uložených ve složce **spirala** načteme předem připravené matice `U_initial`, `LAM`, `RHO_C` a `material`. Dále nastavíme základní parametry úlohy."
      ]
    },
    {
      "cell_type": "code",
      "execution_count": null,
      "id": "463ff5b5",
      "metadata": {
        "id": "463ff5b5",
        "trusted": true
      },
      "outputs": [],
      "source": [
        "U_initial = np.load(\"spirala/U_initial.npy\") # počáteční teplota\n",
        "lam = np.load(\"spirala/LAM.npy\") # součinitel tepelné vodivosti (ve formě matice)\n",
        "rho_c = np.load(\"spirala/RHO_C.npy\") # hustota x měrná tepelná kapacita (ve formě matice)\n",
        "material = np.load(\"spirala/material.npy\") # znázornění jednotlivých materiálů\n",
        "\n",
        "ny,nx = U_initial.shape # počet intervalů diskretizace ve svislém/vodorovném směru\n",
        "dx = 0.01 # délka intervalu diskretizace ve vodorovném směru\n",
        "dy = 0.01 # délka intervalu diskretizace ve svislém směru\n",
        "dt = 0.1 # velikost časového kroku\n",
        "N = 20000 # počet časových kroků\n",
        "interval_of_saving = 1000 # jak často budeme ukládat obrázky (grafy rozložení teploty)\n",
        "\n",
        "vmin = np.min(U_initial)\n",
        "vmax = np.max(U_initial)\n",
        "extent=(0,nx*dx,0,ny*dy) # skutečné rozměry oblasti"
      ]
    },
    {
      "cell_type": "markdown",
      "id": "d88e4a0d",
      "metadata": {
        "id": "d88e4a0d"
      },
      "source": [
        "Pozorně si prohlédněte všechny 3 vstupní matice. Jakým způsobem očekáváte, že bude probíhat vedení tepla? Poslední matice slouží pouze pro znázornění jednotlivých materiálů (spirála = měď, okolí = beton, jeden z okrajů spirály simuluje zdroj tepla)."
      ]
    },
    {
      "cell_type": "code",
      "execution_count": null,
      "id": "98822bdc",
      "metadata": {
        "id": "98822bdc",
        "trusted": true
      },
      "outputs": [],
      "source": [
        "def show_input_matrices():\n",
        "    fig,ax = plt.subplots(1,4, figsize=(15,2.2))\n",
        "    im = ax[0].imshow(U_initial,cmap=cmap, extent=extent)\n",
        "    fig.colorbar(im,ax=ax[0])\n",
        "    ax[0].set_title(\"$u(x,y,0)$\")\n",
        "    im = ax[1].imshow(lam,cmap=cmap, extent=extent)\n",
        "    fig.colorbar(im,ax=ax[1])\n",
        "    ax[1].set_title(\"$\\lambda(x,y)$\")\n",
        "    im = ax[2].imshow(rho_c,cmap=cmap, extent=extent)\n",
        "    fig.colorbar(im,ax=ax[2])\n",
        "    ax[2].set_title(\"$\\\\rho(x,y)c(x,y)$\")\n",
        "    im = ax[3].imshow(material,cmap=cmap, extent=extent)\n",
        "    fig.colorbar(im,ax=ax[3])\n",
        "    ax[3].set_title(\"znázornění materiálů\")\n",
        "show_input_matrices()"
      ]
    },
    {
      "cell_type": "markdown",
      "id": "10d02b21",
      "metadata": {
        "id": "10d02b21"
      },
      "source": [
        "Provedeme inicializaci animace:"
      ]
    },
    {
      "cell_type": "code",
      "execution_count": null,
      "id": "f903dd85",
      "metadata": {
        "id": "f903dd85",
        "trusted": true
      },
      "outputs": [],
      "source": [
        "fig, ax, image_initial, txt_title = initialize_animation()"
      ]
    },
    {
      "cell_type": "markdown",
      "id": "941ccf4d",
      "metadata": {
        "id": "941ccf4d"
      },
      "source": [
        "Spustíme výpočet:"
      ]
    },
    {
      "cell_type": "code",
      "execution_count": null,
      "id": "f923023f",
      "metadata": {
        "id": "f923023f",
        "trusted": true
      },
      "outputs": [],
      "source": [
        "current_time = 0\n",
        "U0 = U_initial.copy()\n",
        "anim = animation.FuncAnimation(fig, drawframe, frames=int(N/interval_of_saving), interval=200, blit=False)\n",
        "HTML(anim.to_html5_video())"
      ]
    },
    {
      "cell_type": "markdown",
      "id": "639aa8ce",
      "metadata": {
        "id": "639aa8ce"
      },
      "source": [
        "### 2.2. Připravená modelová úloha - cihlová zeď\n",
        "Ze souborů uložených ve složce **cihly** načteme předem připravené matice `U_initial`, `LAM`, `RHO_C` a `material`. Dále nastavíme základní parametry úlohy."
      ]
    },
    {
      "cell_type": "code",
      "execution_count": null,
      "id": "0bbe5965",
      "metadata": {
        "id": "0bbe5965",
        "trusted": true
      },
      "outputs": [],
      "source": [
        "U_initial = np.load(\"cihly/U_initial.npy\") # počáteční teplota\n",
        "lam = np.load(\"cihly/LAM.npy\") # součinitel tepelné vodivosti (ve formě matice)\n",
        "rho_c = np.load(\"cihly/RHO_C.npy\") # hustota x měrná tepelná kapacita (ve formě matice)\n",
        "material = np.load(\"cihly/material.npy\") # znázornění jednotlivých materiálů\n",
        "\n",
        "ny, nx = lam.shape # počet intervalů diskretizace ve svislém/vodorovném směru\n",
        "dx = 0.005 # délka intervalu diskretizace ve vodorovném směru\n",
        "dy = 0.005 # délka intervalu diskretizace ve svislém směru\n",
        "dt = 2.0 # velikost časového kroku\n",
        "N = 50000 # počet časových kroků\n",
        "interval_of_saving = 2000 # jak často budeme ukládat obrázky (grafy rozložení teploty)\n",
        "\n",
        "vmin = np.min(U_initial)\n",
        "vmax = np.max(U_initial)\n",
        "extent=(0,nx*dx,0,ny*dy) # skutečné rozměry oblasti"
      ]
    },
    {
      "cell_type": "markdown",
      "id": "6c10b4de",
      "metadata": {
        "id": "6c10b4de"
      },
      "source": [
        "Opět si prohlédneme vstupní matice - oblast reprezentuje průřez cihlovou zdí, na levé straně je nastavena pokojová teplota, na pravé mrzne (opět simulováno pomocí nekonečné tepelné kapacity). Levou část zdi tvoří cihly spojené maltou, pravou část vrstva polystyrenu, oba okraje jsou pokryté omítkou. Rozměry jsou v metrech.\n",
        "\n",
        "Před spuštěním výpočtu si opět rozmyslete:\n",
        "* Jak očekáváte, že bude proces vedení tepla probíhat?\n",
        "* Jaké bude rozložení teplot v oblasti v ustáleném stavu (tj. po uplynutí dlouhé doby)? "
      ]
    },
    {
      "cell_type": "code",
      "execution_count": null,
      "id": "8f6ba576",
      "metadata": {
        "id": "8f6ba576",
        "trusted": true
      },
      "outputs": [],
      "source": [
        "show_input_matrices()"
      ]
    },
    {
      "cell_type": "markdown",
      "id": "dd324c12",
      "metadata": {
        "id": "dd324c12"
      },
      "source": [
        "Provedeme inicializaci animace:"
      ]
    },
    {
      "cell_type": "code",
      "execution_count": null,
      "id": "b37e1e72",
      "metadata": {
        "id": "b37e1e72",
        "trusted": true
      },
      "outputs": [],
      "source": [
        "fig, ax, image_initial, txt_title = initialize_animation()"
      ]
    },
    {
      "cell_type": "markdown",
      "id": "2791f477",
      "metadata": {
        "id": "2791f477"
      },
      "source": [
        "Spustíme výpočet:"
      ]
    },
    {
      "cell_type": "code",
      "execution_count": null,
      "id": "a054f7a4",
      "metadata": {
        "id": "a054f7a4",
        "trusted": true
      },
      "outputs": [],
      "source": [
        "current_time = 0\n",
        "U0 = U_initial.copy()\n",
        "anim = animation.FuncAnimation(fig, drawframe, frames=int(N/interval_of_saving), interval=200, blit=False)\n",
        "HTML(anim.to_html5_video())"
      ]
    },
    {
      "cell_type": "markdown",
      "id": "5358f13d",
      "metadata": {
        "id": "5358f13d"
      },
      "source": [
        "Pokud by měla simulace modelovat vyrovnávání tepla ve zdi, nedává smysl, že nahoře a dole udržujeme stále stejnou teplotu, tato teplota by se měla také měnit. Proveďme tedy modifikaci funkce `one_time_step`:\n",
        "* Ve svislém směru (směr $y$) nebudeme vynechávat okraj.\n",
        "* Jelikož podoblasti na horním okraji nemohou přijmou přírůstek tepla z žádných podoblastí \"nad sebou\", přírůstek založený na `U0[y+1,x]` přičteme pouze pokud `y<ny-1`. (Použíjeme podmínku `if`.)\n",
        "* Ze stejného důvodu přírůstek založený na `U0[y-1,x]` přičteme pouze pokud `y>0`.\n",
        "\n",
        "Tomuto druhu okrajové podmínky se říká Neumannova. Pro doplnění - okrajové podmínce na levé a pravé straně (tj. předepsaná teplota) říkáme Dirichletova."
      ]
    },
    {
      "cell_type": "code",
      "execution_count": null,
      "id": "9d8e9ada",
      "metadata": {
        "id": "9d8e9ada",
        "trusted": true
      },
      "outputs": [],
      "source": [
        "@jit(nopython=True)\n",
        "def one_time_step(U0, nx, ny, dx, dy, dt, LAM, RHO_C):\n",
        "    U1 = U0.copy() # Teplotu v novém časovém kroce nastavíme na předchozí hodnoty.\n",
        "    # Projdeme všechny vnitřní prvky matice U1.\n",
        "    for x in range(1,nx-1): # Vynecháváme okraj, tam je udržována neměnná teplota.\n",
        "        for y in range(0,ny):\n",
        "            # Teplotu v bodě (x,y) upravíme na základě hodnot v sousedních\n",
        "            # čtyřech bodech. Výsledek zaznamenáme do matice pro nový časový krok.\n",
        "            u = U0[y,x] # teplota v bodě (x,y) v předchozím časovém kroce\n",
        "            k = 2*dt/RHO_C[y,x] # 2*dt/(rho(x,y)*c(x,y))\n",
        "            l = 1/LAM[y,x] # 1/lambda(x,y)\n",
        "            U1[y,x] += k*(U0[y,x-1]-u)/(dx**2)/(l+1/LAM[y,x-1])\n",
        "            U1[y,x] += k*(U0[y,x+1]-u)/(dx**2)/(l+1/LAM[y,x+1])\n",
        "            if y>0:\n",
        "                U1[y,x] += k*(U0[y-1,x]-u)/(dy**2)/(l+1/LAM[y-1,x])\n",
        "            if y<ny-1:\n",
        "                U1[y,x] += k*(U0[y+1,x]-u)/(dy**2)/(l+1/LAM[y+1,x])\n",
        "    return U1"
      ]
    },
    {
      "cell_type": "markdown",
      "id": "c3aec75b",
      "metadata": {
        "id": "c3aec75b"
      },
      "source": [
        "Provedeme inicializaci animace:"
      ]
    },
    {
      "cell_type": "code",
      "execution_count": null,
      "id": "56bf4b25",
      "metadata": {
        "id": "56bf4b25",
        "trusted": true
      },
      "outputs": [],
      "source": [
        "fig, ax, image_initial, txt_title = initialize_animation()"
      ]
    },
    {
      "cell_type": "markdown",
      "id": "01f281c7",
      "metadata": {
        "id": "01f281c7"
      },
      "source": [
        "Spustíme výpočet:"
      ]
    },
    {
      "cell_type": "code",
      "execution_count": null,
      "id": "fef721c4",
      "metadata": {
        "id": "fef721c4",
        "trusted": true
      },
      "outputs": [],
      "source": [
        "current_time = 0\n",
        "U0 = U_initial.copy()\n",
        "anim = animation.FuncAnimation(fig, drawframe, frames=int(N/interval_of_saving), interval=200, blit=False)\n",
        "HTML(anim.to_html5_video())"
      ]
    }
  ],
  "metadata": {
    "colab": {
      "provenance": []
    },
    "kernelspec": {
      "display_name": "Python 3",
      "language": "python",
      "name": "python3"
    },
    "language_info": {
      "codemirror_mode": {
        "name": "ipython",
        "version": 3
      },
      "file_extension": ".py",
      "mimetype": "text/x-python",
      "name": "python",
      "nbconvert_exporter": "python",
      "pygments_lexer": "ipython3",
      "version": "3.10.13"
    },
    "vscode": {
      "interpreter": {
        "hash": "e7370f93d1d0cde622a1f8e1c04877d8463912d04d973331ad4851f04de6915a"
      }
    }
  },
  "nbformat": 4,
  "nbformat_minor": 5
}

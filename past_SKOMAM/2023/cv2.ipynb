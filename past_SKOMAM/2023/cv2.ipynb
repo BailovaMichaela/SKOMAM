{
  "metadata": {
    "kernelspec": {
      "name": "python3",
      "display_name": "Python 3 (ipykernel)",
      "language": "python"
    },
    "language_info": {
      "name": "python",
      "version": "3.7.12",
      "mimetype": "text/x-python",
      "codemirror_mode": {
        "name": "ipython",
        "version": 3
      },
      "pygments_lexer": "ipython3",
      "nbconvert_exporter": "python",
      "file_extension": ".py"
    },
    "colab": {
      "provenance": []
    }
  },
  "nbformat_minor": 0,
  "nbformat": 4,
  "cells": [
    {
      "cell_type": "markdown",
      "source": [
        "# Cvičení 2: Polynomiální regrese\n",
        "\n",
        "Při zkoumání různých fyzikálních jevů se setkáváme s následujícím úkolem. Na intervalu $\\langle a, b \\rangle \\subset \\mathbb{R}$ máme změřeny hodnoty zkoumané veličiny a hledáme polynom $p_n$ řádu $n\\in\\mathbb{N}$, který \"nejlépe\" přibližně popisuje (aproximuje) naše měření. To, že polynom $p_n$ \"nejlépe\" aproximuje zadané hodnoty, pro nás bude znamenat, že $p_n$ je řešením úlohy\n",
        "\n",
        "$$\n",
        "\\min_{p_n} \\sum_{i=1}^{k} \\left( p_n(x_i) - y_i \\right)^2,\n",
        "$$\n",
        "\n",
        "kde $[x_i, y_i]$, $i \\in \\{1, \\ldots, k \\}$ jsou souřadnice naměřených hodnot a\n",
        "$$p_n(x) = a_n x^n + a_{n-1} x^{n-1} + \\cdots + a_2 x^2 + a_1 x + a_0,$$\n",
        "kde $a_j \\in \\mathbb{R}$ pro každé $j \\in \\{0, \\ldots, n\\}.$ Hledáním polynomu $p_n$, který řeší uvedenou minimalizační úlohu, myslíme hledání hodnot koeficientů $a_0, \\, a_1, \\, \\ldots, a_n$ tohoto polynomu.\n",
        "\n",
        "Všimněme si, že $p_n$ řešící tuto úlohu je polynom, pro který je součet čtverců rozdílů $p_n(x_i)$ a $y_i$ nejmenší. Proto se této metodě hledání koeficientů $a_0, \\, a_1, \\ldots, a_n$ pro určení polynomu $p_n$ říká *metoda nejmenších čtverců*. \"Proložení\" zadaných bodů polynomem nazýváme *polynomiální regresí*. Pro lepší představu se podívejme na následující obrázek, kde je znázorněna regrese zadaných bodů lineárním polynomem. Zadané body jsou vyznačeny zelenými křížky, regresní funkce je zakreslena modře a čtverce rozdílů $p_n(x_i)$ a $y_i$ jsou zakresleny červeně.\n",
        "\n",
        "![obr1.PNG](data:image/png;base64,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)"
      ],
      "metadata": {
        "tags": [],
        "id": "ZSzQY9s7E869"
      }
    },
    {
      "cell_type": "markdown",
      "source": [
        "Řešení minimalizační úlohy je poměrně obtížné, proto k jejímu řešení použijeme programovací jazyk Python a v něm příkaz *polyfit* z knihovny *numpy*.\n",
        "\n",
        "Syntaxe tohoto příkazu je následující: *P = numpy.polyfit(X,Y,N)*, kde *X* a *Y* jsou vektory obsahující *x*-ové a *y*-ové souřadnice aproximovaných hodnot a *N* je řád polynomu, kterým aproximujeme. Ve vektoru *P* získáme koeficenty polynomu $p_n(x)$, pro které platí\n",
        "$$P[0]=a_N, \\ P[1]=a_{N-1},\\, \\ldots, \\ P[N-2]=a_2, \\ P[N-1]=a_1,\\ P[N]=a_0.$$\n",
        "Pro vyčíslení hodnoty polynomu v zadaném vektoru bodů *X*, můžeme použít příkaz *polyval*, který je také součástí knihovny *numpy*. Jeho syntaxe je *Y = numpy.polyval(P,X)*, kde *P* je vektor obsahující koeficienty daného polynomu a *X* obsahuje *x*-ové souřadnice bodů, ve kterých chceme polynom vyčíslit. Funkční hodnoty daného polynomu jsou uloženy do vektoru *Y*."
      ],
      "metadata": {
        "tags": [],
        "id": "T0qedLB6E87E"
      }
    },
    {
      "cell_type": "markdown",
      "source": [
        "### Načtení balíčku numpy a matplotlib.pyplot\n",
        "K výpočtům budeme používat knihovnu **numpy** s aliasem **np** pro matematické funkce a práci s poli a knihovnu **matplotlib.pyplot** s aliasem **plt** pro vykreslování grafů funkcí.\n",
        "\n",
        "Následujícím kódem naimportujeme uvedené balíčky. "
      ],
      "metadata": {
        "tags": [],
        "id": "ECk7b0mQE87F"
      }
    },
    {
      "cell_type": "code",
      "source": [
        "import numpy as np # matematická knihovna\n",
        "import matplotlib.pyplot as plt # knihovna pro vykreslování grafů"
      ],
      "metadata": {
        "tags": [],
        "id": "Iq47-D-uE87G"
      },
      "execution_count": null,
      "outputs": []
    },
    {
      "cell_type": "markdown",
      "source": [
        "### Úkol 1: \n",
        "Vygenerujte si pomocí příkazu *random.rand* z knihovny *numpy* náhodných 11 hodnot v intervalu $\\langle 0, 1 \\rangle$. Vektor takto získaných hodnot považujte za *y*-ové souřadnice bodů, jejichž *x*-ové souřadnice jsou $0, \\, 0,\\!1, \\, 0,\\!2, \\, 0,\\!3, \\, 0,\\!4, \\, 0,\\!5, \\, 0,\\!6, \\, 0,\\!7, \\, 0,\\!8, \\, 0,\\!9, \\, 1$.\n",
        "Tyto body postupně aproximujte polynomy řádů $1, 2, \\ldots, 15$."
      ],
      "metadata": {
        "id": "-g_iK8P6E87I"
      }
    },
    {
      "cell_type": "code",
      "source": [
        "X = np.linspace(0,1,11)\n",
        "Y = np.random.rand(11,1)\n",
        "\n",
        "for N in range(1,16):\n",
        "    # vypocet regresniho polynomu\n",
        "    P = \n",
        "\n",
        "    # vycisleni regresniho polynomu na intervalu <0,1>\n",
        "    x = \n",
        "    y = \n",
        "\n",
        "    plt.figure()\n",
        "    plt.plot(x,y)\n",
        "    plt.plot(X,Y,'r+')"
      ],
      "metadata": {
        "id": "2uTIWF5NE87I"
      },
      "execution_count": null,
      "outputs": []
    },
    {
      "cell_type": "markdown",
      "source": [
        "### Úkol 2: \n",
        "Pokusme se odhadnout velikost tíhového zrychlení $g$ na povrchu Země (v~Ostravě). Jeho odhad získáme pomocí pozorování kmitů matematického kyvadla. Pro matematické kyvadlo platí následující závislost mezi délkou vlákna $\\ell$ a periodou kyvadla $T$\n",
        "\n",
        "$$\n",
        "\\ell = \\frac{g\\, T^2}{4 \\pi^2}.\n",
        "$$\n",
        "\n",
        "Pozorováním jsme získali následujících 10 měření, při kterých jsme měnili délku vlákna $\\ell$ a měřili jsme periodu (dobu kmitu) $T$."
      ],
      "metadata": {
        "id": "XecAWfpJE87K"
      }
    },
    {
      "cell_type": "markdown",
      "source": [
        "![tabulka.png](data:image/png;base64,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)"
      ],
      "metadata": {
        "id": "qWC4_ZCWeJuf"
      }
    },
    {
      "cell_type": "markdown",
      "source": [
        "Hodnoty dané pozorováním aproximujte polynomem $2.$ řádu a použijte vztah popisující závislost mezi délkou vlákna $\\ell$ a periodou kyvadla $T$. Vypočtenou hodnotu porovnejte s hodnotou 9,81345 m/s$^2$, která je udávaná jako hodnota tíhového zrychlení v Ostravě. Zkuste zlepšit přesnost odhadu $g$ tak, že mezi měření přidáte také dvojici $T = 0$ a $\\ell = 0$. Nakonec odhadněte hodnotu $g$ tak, že naměřené hodnoty aproximujete polynomem $ax^2$, tzn. při aproximaci polynomem $2.$ řádu $ax^2 + bx + c$ požadujeme, aby koeficienty $b$ a $c$ byly nulové. K tomu použijte odvozený vztah:\n",
        "$$a = \\frac{\\sum\\limits_{i=1}^{n} y_i x_i^2}{\\sum\\limits_{i=1}^{n} x_i^4}.$$"
      ],
      "metadata": {
        "id": "fNjMn6o-RSsV"
      }
    },
    {
      "cell_type": "code",
      "source": [
        "T = np.array([0.6225, 0.8405, 0.9475, 0.9765, 1.0735, 1.1085, 1.2295, 1.2775, 1.277, 1.411])\n",
        "l = np.array([0.095, 0.175, 0.225, 0.235, 0.291, 0.304, 0.382, 0.4, 0.405, 0.494])\n",
        "\n",
        "P1 = \n",
        "g1 = \n",
        "print(g1)\n",
        "\n",
        "T = np.append(T,[0])\n",
        "l = np.append(l,[0])\n",
        "\n",
        "P2 = \n",
        "g2 = \n",
        "print(g2)\n",
        "\n",
        "a = \n",
        "g3 = \n",
        "print(g3)"
      ],
      "metadata": {
        "id": "IjaqDE6PE87L"
      },
      "execution_count": null,
      "outputs": []
    }
  ]
}
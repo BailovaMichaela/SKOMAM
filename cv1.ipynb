{
  "cells": [
    {
      "cell_type": "markdown",
      "metadata": {
        "id": "3h7p6RGKOP7k"
      },
      "source": [
        "# Cvičení 1 - Tutoriál pro Python 3"
      ]
    },
    {
      "cell_type": "markdown",
      "metadata": {
        "id": "DVmz686tOP7l"
      },
      "source": [
        "### 0) Ovládání Jupyter Notebooku"
      ]
    },
    {
      "cell_type": "markdown",
      "metadata": {
        "id": "vtKMKaBoOP7l"
      },
      "source": [
        "Jednotlivá políčka se nazývají \"buňky\". Každá buňka může obsahovat zdrojový kód nebo obyčejný text. Příkazy v buňce spustíme pomocí tlačítka **Run** nebo pomocí kláves **CTRL+Enter**, zároveň se posuneme do nové buňky. "
      ]
    },
    {
      "cell_type": "markdown",
      "metadata": {
        "id": "xBVp2BxoOP7l"
      },
      "source": [
        "### 1) Python jako kalkulačka"
      ]
    },
    {
      "cell_type": "markdown",
      "metadata": {
        "id": "qgeuaNioOP7m"
      },
      "source": [
        "Základní operace:"
      ]
    },
    {
      "cell_type": "code",
      "execution_count": null,
      "metadata": {
        "id": "F4HS3B0tOP7m"
      },
      "outputs": [],
      "source": [
        "(12 + 3 * (17 - 2)) / 11"
      ]
    },
    {
      "cell_type": "markdown",
      "metadata": {
        "id": "nkB_hPBfOP7n"
      },
      "source": [
        "Operace celočíselné dělení, zbytek po dělení, mocnina:"
      ]
    },
    {
      "cell_type": "code",
      "execution_count": null,
      "metadata": {
        "id": "hC5DxhZ_OP7n"
      },
      "outputs": [],
      "source": [
        "57 // 11"
      ]
    },
    {
      "cell_type": "code",
      "execution_count": null,
      "metadata": {
        "id": "qg_6h6nIOP7n"
      },
      "outputs": [],
      "source": [
        "57 % 11"
      ]
    },
    {
      "cell_type": "code",
      "execution_count": null,
      "metadata": {
        "id": "lQb-5I7UOP7o"
      },
      "outputs": [],
      "source": [
        "5 ** 3"
      ]
    },
    {
      "cell_type": "markdown",
      "metadata": {
        "id": "U0KhEPAmOP7o"
      },
      "source": [
        "Přiřazení názvu proměnné, textový výpis:"
      ]
    },
    {
      "cell_type": "code",
      "execution_count": null,
      "metadata": {
        "id": "h6WgUMHZOP7o"
      },
      "outputs": [],
      "source": [
        "delenec = 57\n",
        "delitel = 11\n",
        "podil = delenec // delitel\n",
        "zbytek = delenec % delitel\n",
        "print(delenec, \"děleno\", delitel, \"dává podíl\", podil, \"a zbytek\", zbytek)"
      ]
    },
    {
      "cell_type": "markdown",
      "metadata": {
        "id": "GB-kBKGWOP7o"
      },
      "source": [
        "Všechny proměnné, které jsme doposud definovali, můžeme vypsat pomocí příkazu **whos**:"
      ]
    },
    {
      "cell_type": "code",
      "execution_count": null,
      "metadata": {
        "id": "0jCmrWBlOP7o"
      },
      "outputs": [],
      "source": [
        "whos"
      ]
    },
    {
      "cell_type": "markdown",
      "metadata": {
        "id": "hT3EUMAlOP7p"
      },
      "source": [
        "### 2) Datové struktury"
      ]
    },
    {
      "cell_type": "markdown",
      "metadata": {
        "id": "deok4FlUOP7p"
      },
      "source": [
        "= struktury, do kterých můžeme uložit více proměnných. Mezi základní datové struktury v Pythonu patří například: **list**, **range**, **tuple**, **dictionary**. Ukážeme si je na příkladech."
      ]
    },
    {
      "cell_type": "markdown",
      "metadata": {
        "id": "lE8V3gRhOP7p"
      },
      "source": [
        "#### 2.1) Range\n",
        "S tímto příkazem se setkáme později při práci s \"for\" cyklem."
      ]
    },
    {
      "cell_type": "code",
      "execution_count": null,
      "metadata": {
        "id": "yGMv5WP4OP7p"
      },
      "outputs": [],
      "source": [
        "range(6) # reprezentuje sekvenci šesti celých čísel od 0 do 5 (0, 1, 2, 3, 4, 5)"
      ]
    },
    {
      "cell_type": "code",
      "execution_count": null,
      "metadata": {
        "id": "X2RiI_6LOP7p"
      },
      "outputs": [],
      "source": [
        "range(5,12) # reprezentuje sekvenci celých čísel od 5 do 11 (5, 6, 7, 8, 9, 10, 11)"
      ]
    },
    {
      "cell_type": "code",
      "execution_count": null,
      "metadata": {
        "id": "T8npSmYxOP7q"
      },
      "outputs": [],
      "source": [
        "range(-3,3) # reprezentuje sekvenci celých čísel od -3 do 2 (-3, -2, -1, 0, 1, 2)"
      ]
    },
    {
      "cell_type": "markdown",
      "metadata": {
        "id": "S3W87NeOOP7q"
      },
      "source": [
        "#### 2.2) Tuple\n",
        "Jedná se o sekvence, které se po vytvoření nedají nijak modifikovat. Později se s nimi setkáme například při nastavování velikosti matice."
      ]
    },
    {
      "cell_type": "code",
      "execution_count": null,
      "metadata": {
        "id": "hZtLDP2dOP7q"
      },
      "outputs": [],
      "source": [
        "t = (3, 8.5, -17)\n",
        "print(t)"
      ]
    },
    {
      "cell_type": "code",
      "execution_count": null,
      "metadata": {
        "id": "Rwa_padBOP7q"
      },
      "outputs": [],
      "source": [
        "t[1] # můžeme vypsat prvek na určité pozici (POZOR, v Pythonu indexujeme od 0)"
      ]
    },
    {
      "cell_type": "code",
      "execution_count": null,
      "metadata": {
        "id": "jCqFemytOP7r"
      },
      "outputs": [],
      "source": [
        "t[1] = 123 # nemůžeme ale prvky měnit"
      ]
    },
    {
      "cell_type": "markdown",
      "metadata": {
        "id": "F2KYgFwCOP7r"
      },
      "source": [
        "#### 2.3) List\n",
        "Tato datová struktura má poměrně univerzální použití, budeme se s ní setkávat nejčastěji."
      ]
    },
    {
      "cell_type": "code",
      "execution_count": null,
      "metadata": {
        "id": "ymN8wWrfOP7r"
      },
      "outputs": [],
      "source": [
        "oblibena_prvocisla = [3, 17, 'devatenact', 53, 89]\n",
        "print(oblibena_prvocisla)"
      ]
    },
    {
      "cell_type": "markdown",
      "metadata": {
        "id": "am83qPPNOP7r"
      },
      "source": [
        "Operace s datovou strukturou List (výběr prvku, spojení seznamů).\n",
        "Indexujeme od 0."
      ]
    },
    {
      "cell_type": "code",
      "execution_count": null,
      "metadata": {
        "id": "GYysxXNXOP7r"
      },
      "outputs": [],
      "source": [
        "prvni_prvek_seznamu = oblibena_prvocisla[0]\n",
        "print(prvni_prvek_seznamu)"
      ]
    },
    {
      "cell_type": "code",
      "execution_count": null,
      "metadata": {
        "id": "K8fK6DfBOP7s"
      },
      "outputs": [],
      "source": [
        "posledni_prvek_seznamu = oblibena_prvocisla[-1]\n",
        "print(posledni_prvek_seznamu)"
      ]
    },
    {
      "cell_type": "code",
      "execution_count": null,
      "metadata": {
        "id": "xLIIjmIVOP7s"
      },
      "outputs": [],
      "source": [
        "druhy_az_ctvrty = oblibena_prvocisla[1:4]\n",
        "print(druhy_az_ctvrty)"
      ]
    },
    {
      "cell_type": "code",
      "execution_count": null,
      "metadata": {
        "id": "piDo_zbzOP7s"
      },
      "outputs": [],
      "source": [
        "spojeni_dvou_seznamu = oblibena_prvocisla + [2, 3, 4]\n",
        "print(spojeni_dvou_seznamu)"
      ]
    },
    {
      "cell_type": "code",
      "execution_count": null,
      "metadata": {
        "id": "KxTm9SWFOP7s"
      },
      "outputs": [],
      "source": [
        "nasobeni_seznamu = oblibena_prvocisla * 3\n",
        "print(nasobeni_seznamu)"
      ]
    },
    {
      "cell_type": "markdown",
      "metadata": {
        "id": "2ePPOKDrOP7t"
      },
      "source": [
        "Délka Listu:"
      ]
    },
    {
      "cell_type": "code",
      "execution_count": null,
      "metadata": {
        "id": "_KRLZJ_4OP7t"
      },
      "outputs": [],
      "source": [
        "print(\"Mám\", len(oblibena_prvocisla), \"oblíbených prvočísel.\")"
      ]
    },
    {
      "cell_type": "markdown",
      "metadata": {
        "id": "XDBNWADnOP7t"
      },
      "source": [
        "#### 2.4) Dictionary\n",
        "Obsahuje záznamy ve tvaru **klíč: hodnota**."
      ]
    },
    {
      "cell_type": "code",
      "execution_count": 21,
      "metadata": {
        "id": "-zAbUYnrOP7t"
      },
      "outputs": [],
      "source": [
        "telefonni_seznam = {'Adam': 4593, 'Karel': 1239, 'Honza': 2929, 'Jana': 4444}"
      ]
    },
    {
      "cell_type": "code",
      "execution_count": null,
      "metadata": {
        "id": "OYgiaoDSOP7u"
      },
      "outputs": [],
      "source": [
        "telefonni_seznam['Karel']"
      ]
    },
    {
      "cell_type": "code",
      "execution_count": null,
      "metadata": {
        "id": "jmiWThUROP7u"
      },
      "outputs": [],
      "source": [
        "list(telefonni_seznam) # seznam jmen"
      ]
    },
    {
      "cell_type": "markdown",
      "metadata": {
        "id": "x0014k0YOP7v"
      },
      "source": [
        "Zadané klíče by měly být unikátní. Můžete vyzkoušet, co se stane, když do seznamu přidáme ještě jednoho Karla:"
      ]
    },
    {
      "cell_type": "code",
      "execution_count": null,
      "metadata": {
        "id": "1RHcORZKOP7v"
      },
      "outputs": [],
      "source": [
        "telefonni_seznam = {'Adam': 4593, 'Karel': 1239, 'Honza': 2929, 'Jana': 4444, 'Karel': 6543}\n",
        "telefonni_seznam"
      ]
    },
    {
      "cell_type": "markdown",
      "metadata": {
        "id": "A6ZQU9X8OP7v"
      },
      "source": [
        "**Poznámka:** Do seznamu proměnných a datových struktur, které jsme doposud definovali, přibyly nové položky:"
      ]
    },
    {
      "cell_type": "code",
      "execution_count": null,
      "metadata": {
        "id": "1iVTBPJ-OP7w"
      },
      "outputs": [],
      "source": [
        "whos"
      ]
    },
    {
      "cell_type": "markdown",
      "metadata": {
        "id": "DZa2BaJ5OP7w"
      },
      "source": [
        "### 3) Cykly a podmínky"
      ]
    },
    {
      "cell_type": "markdown",
      "metadata": {
        "id": "A1S2e7l4OP7w"
      },
      "source": [
        "**3.1)** Cyklus **for** s využitím příkazu **range**. Michaela sní každý prosincový den tolik vanilkových rohlíčků, jako je pořadí dne v měsíci. Kolik vanilkových rohlíčků sní za celý prosinec?"
      ]
    },
    {
      "cell_type": "code",
      "execution_count": null,
      "metadata": {
        "id": "7G-kL9ALOP7w"
      },
      "outputs": [],
      "source": [
        "suma = 0\n",
        "for i in range(1,32):\n",
        "    suma += i\n",
        "print(suma)    "
      ]
    },
    {
      "cell_type": "markdown",
      "metadata": {
        "id": "yN6fiDEWOP7x"
      },
      "source": [
        "**3.2)** Cyklus **while**. Který den sní padesátý vanilkový rohlíček?"
      ]
    },
    {
      "cell_type": "code",
      "execution_count": null,
      "metadata": {
        "id": "CYtUqwRhOP7x"
      },
      "outputs": [],
      "source": [
        "suma = 0\n",
        "pocet_rohlicku = 0\n",
        "while suma < 50:\n",
        "    pocet_rohlicku += 1\n",
        "    suma = suma + pocet_rohlicku\n",
        "    print(pocet_rohlicku, suma)\n",
        "print('Padesátý rohlíček sní', pocet_rohlicku, '. den.')"
      ]
    },
    {
      "cell_type": "markdown",
      "metadata": {
        "id": "viWhjtnZOP7x"
      },
      "source": [
        "**3.3)** Podmínka **if**. Vypište všechna dvojciferná čísla dělitelná 3 a 7. Všimněte si také použití klíčového slova **and**."
      ]
    },
    {
      "cell_type": "code",
      "execution_count": null,
      "metadata": {
        "id": "RlEcp7uqOP7x"
      },
      "outputs": [],
      "source": [
        "for i in range(10,100):\n",
        "    if i%3 == 0 and i%7 == 0:\n",
        "        print(i)"
      ]
    },
    {
      "cell_type": "markdown",
      "metadata": {
        "id": "9QcWSF7tOP7x"
      },
      "source": [
        "**3.4)** Předchozí úloha se dá v Pythonu vyřešit i následujícím způsobem, tzv. **list comprehension**:"
      ]
    },
    {
      "cell_type": "code",
      "execution_count": null,
      "metadata": {
        "id": "poCi_BV8OP7x",
        "scrolled": true
      },
      "outputs": [],
      "source": [
        "delitelna_cisla = [cislo for cislo in range(10,100) if cislo%3==0 and cislo%7==0]\n",
        "print(delitelna_cisla)"
      ]
    },
    {
      "cell_type": "markdown",
      "metadata": {
        "id": "OTxQmh2pOP7y"
      },
      "source": [
        "Pomocí **list comprehension** můžeme jednak vybírat prvky z jiného pole, ale zároveň nad nimi lze provést i nějakou operaci.\n",
        "\n",
        "Některá z čísel v zadaném seznamu jsou sedminásobkem jistých přirozených čísel, zjistěte kterých."
      ]
    },
    {
      "cell_type": "code",
      "execution_count": null,
      "metadata": {
        "id": "mD3Xcnv0OP7y"
      },
      "outputs": [],
      "source": [
        "seznam_cisel = [483985, 2814, 57493, 20336, 858493, 14147, 489831, 43889, 11171]\n",
        "print([cislo//7 for cislo in seznam_cisel if cislo%7==0])"
      ]
    },
    {
      "cell_type": "markdown",
      "metadata": {
        "id": "XgWWzT7eOP7y"
      },
      "source": [
        "### 4) Vytváření funkcí:"
      ]
    },
    {
      "cell_type": "markdown",
      "metadata": {
        "id": "lqj6raUSOP7y"
      },
      "source": [
        "Funkce může vracet více výstupních hodnot. Pokud neobsahuje klíčové slovo \"return\", nevrací nic (může sloužit např. jen pro výpis). Některé vstupní proměnné (od konce) mohou mít nastavené výchozí hodnoty.\n",
        "\n",
        "**Úkol:** Napište funkci, která pro zadané rozměry a hustotu kvádru vrátí jeho objem, povrch a hmotnost."
      ]
    },
    {
      "cell_type": "code",
      "execution_count": 34,
      "metadata": {
        "id": "-Ec4anhROP7y"
      },
      "outputs": [],
      "source": [
        "def kvadr(a, b, c, hustota = 1):\n",
        "    # a,b,c ... rozměry v centimetrech\n",
        "    # hustota v g/cm^3\n",
        "    objem = a*b*c\n",
        "    povrch = 2 * (a*b + b*c + c*a)\n",
        "    hmotnost = hustota*objem\n",
        "    return objem, povrch, hmotnost"
      ]
    },
    {
      "cell_type": "code",
      "execution_count": null,
      "metadata": {
        "id": "DCXzsFgcOP7z"
      },
      "outputs": [],
      "source": [
        "vysledek = kvadr(2,3,5,1.5)\n",
        "print(\"Kvádr má objem\", vysledek[0], \"cm^3, povrch\", vysledek[1], \"cm^2 a hmotnost\", vysledek[2], \"g.\")"
      ]
    },
    {
      "cell_type": "code",
      "execution_count": null,
      "metadata": {
        "id": "QdX6GP-yOP7z"
      },
      "outputs": [],
      "source": [
        "vysledek = kvadr(2,3,5)\n",
        "print(\"Kvádr má objem\", vysledek[0], \"cm^3, povrch\", vysledek[1], \"cm^2 a hmotnost\", vysledek[2], \"g.\")"
      ]
    },
    {
      "cell_type": "markdown",
      "metadata": {
        "id": "hDlBOg6vOP7z"
      },
      "source": [
        "**Úkol:** Běžná cihla má rozměry 29 cm x 14 cm x 6.5 cm a hustotu 1.9 g/cm^3. Jaká je její hmotnost?"
      ]
    },
    {
      "cell_type": "code",
      "execution_count": null,
      "metadata": {
        "id": "g4P1zEv4OP7z"
      },
      "outputs": [],
      "source": [
        "vysledek = kvadr(29,14,6.5,1.9)\n",
        "print(\"Cihla má hmotnost\", vysledek[2], \"g.\")"
      ]
    },
    {
      "cell_type": "markdown",
      "metadata": {
        "id": "F3EhLB_LOP7z"
      },
      "source": [
        "**Poznámka:** Uvnitř funkcí můžeme používat i proměnné, které byly definované dříve mimo tuto funkci."
      ]
    },
    {
      "cell_type": "code",
      "execution_count": 38,
      "metadata": {
        "id": "kRRjwlknOP7z"
      },
      "outputs": [],
      "source": [
        "a = 100"
      ]
    },
    {
      "cell_type": "code",
      "execution_count": null,
      "metadata": {
        "id": "F_YeFBV7OP70"
      },
      "outputs": [],
      "source": [
        "def secti_a_b_c(b):\n",
        "    c = 7\n",
        "    return a+b+c\n",
        "secti_a_b_c(20)"
      ]
    },
    {
      "cell_type": "markdown",
      "metadata": {
        "id": "BF0fB7pkOP70"
      },
      "source": [
        "Proměnná \"a\" stále existuje, ale proměnné \"b\" a \"c\" mimo kontext funkce **secti_a_b_c** neexistují:"
      ]
    },
    {
      "cell_type": "code",
      "execution_count": null,
      "metadata": {
        "id": "QqDAhGqHOP70"
      },
      "outputs": [],
      "source": [
        "a"
      ]
    },
    {
      "cell_type": "code",
      "execution_count": null,
      "metadata": {
        "id": "LZQT64Q2OP70",
        "scrolled": true
      },
      "outputs": [],
      "source": [
        "c"
      ]
    },
    {
      "cell_type": "markdown",
      "metadata": {
        "id": "kAQanf1HOP70"
      },
      "source": [
        "### 5) Import knihoven a modulů\n",
        "Vlastní naimplementované funkce můžeme ukládat do tzv. \"modulů\". Kromě toho můžeme používat již existující moduly a knihovny obsahující spoustu užitečných funkcí. Pro jejich načtení používáme příkaz **import**."
      ]
    },
    {
      "cell_type": "code",
      "execution_count": 42,
      "metadata": {
        "id": "fUsiG_SXOP70"
      },
      "outputs": [],
      "source": [
        "import numpy # obsahuje základní i pokročilé matematické funkce a je vhodná pro práci s maticemi"
      ]
    },
    {
      "cell_type": "code",
      "execution_count": 43,
      "metadata": {
        "id": "0AFkKu6hOP70"
      },
      "outputs": [],
      "source": [
        "import numpy as np # pokud se nám název knihovny zdá příliš dlouhý, můžeme ji \"přejmenovat\""
      ]
    },
    {
      "cell_type": "code",
      "execution_count": null,
      "metadata": {
        "id": "5VFw29MTOP71"
      },
      "outputs": [],
      "source": [
        "np.pi # konstanta pi z knihovny numpy, knihovnu voláme pomocí zkráceného názvu \"np\""
      ]
    },
    {
      "cell_type": "code",
      "execution_count": null,
      "metadata": {
        "id": "EPUMc7CsOP71"
      },
      "outputs": [],
      "source": [
        "np.sin(np.pi/2)"
      ]
    },
    {
      "cell_type": "code",
      "execution_count": null,
      "metadata": {
        "id": "SB-rIy-cOP71"
      },
      "outputs": [],
      "source": [
        "np.sin(np.pi) # všimněte si nepřesné aritmetiky počítačových výpočtů"
      ]
    },
    {
      "cell_type": "code",
      "execution_count": 47,
      "metadata": {
        "id": "VcnSWxJuOP71"
      },
      "outputs": [],
      "source": [
        "import matplotlib.pyplot as plt # slouží k vykreslování grafů"
      ]
    },
    {
      "cell_type": "markdown",
      "metadata": {
        "id": "-NoZTqGiOP71"
      },
      "source": [
        "### 6) Knihovna numpy\n",
        "#### 6.1) Vytvoření pole a matice"
      ]
    },
    {
      "cell_type": "code",
      "execution_count": null,
      "metadata": {
        "id": "Wp5vUPJUOP72"
      },
      "outputs": [],
      "source": [
        "np.array([1.2, 3.4, 5.6]) # vytvořní pole zadáním prvků"
      ]
    },
    {
      "cell_type": "code",
      "execution_count": null,
      "metadata": {
        "id": "0h8j62d8OP72"
      },
      "outputs": [],
      "source": [
        "np.zeros(3) # vytvoření pole nul"
      ]
    },
    {
      "cell_type": "code",
      "execution_count": null,
      "metadata": {
        "id": "hzCU1uVHOP72"
      },
      "outputs": [],
      "source": [
        "np.ones(3) # vytvoření pole jedniček"
      ]
    },
    {
      "cell_type": "code",
      "execution_count": null,
      "metadata": {
        "id": "X3u61URAOP72"
      },
      "outputs": [],
      "source": [
        "np.array([[2, 4, 6],[3, 5, 7]]) # vytvoření matice zadáním prvků"
      ]
    },
    {
      "cell_type": "code",
      "execution_count": null,
      "metadata": {
        "id": "nJlSqtG_OP73"
      },
      "outputs": [],
      "source": [
        "np.zeros((3,4)) # vytvoření matice nul"
      ]
    },
    {
      "cell_type": "code",
      "execution_count": null,
      "metadata": {
        "id": "be5LEDLPOP73"
      },
      "outputs": [],
      "source": [
        "np.full((2,3),2.25) # vytvoření matice stejných prvků libovolné hodnoty (celé číslo, float, True/False)"
      ]
    },
    {
      "cell_type": "code",
      "execution_count": null,
      "metadata": {
        "id": "G4yOzRTAOP74"
      },
      "outputs": [],
      "source": [
        "np.full((3,4),True) # vytvoření matice stejných prvků libovolné hodnoty (celé číslo, float, True/False)"
      ]
    },
    {
      "cell_type": "code",
      "execution_count": null,
      "metadata": {
        "id": "HO0sUlUlOP74"
      },
      "outputs": [],
      "source": [
        "np.random.rand(3,4) # vytvoření matice náhodných čísel mezi 0 a 1 (všimněte si odlišné syntaxe!)"
      ]
    },
    {
      "cell_type": "code",
      "execution_count": null,
      "metadata": {
        "id": "Wsa0jvq3OP75"
      },
      "outputs": [],
      "source": [
        "help(np.random.rand) # pokud nevíme, jak se některá funkce používá, můžeme využít nápovědu \"help\""
      ]
    },
    {
      "cell_type": "markdown",
      "metadata": {
        "id": "vi_4dippOP75"
      },
      "source": [
        "**Porovnejte:**"
      ]
    },
    {
      "cell_type": "code",
      "execution_count": null,
      "metadata": {
        "id": "4D0KqJRNOP75"
      },
      "outputs": [],
      "source": [
        "np.ones(5)"
      ]
    },
    {
      "cell_type": "code",
      "execution_count": null,
      "metadata": {
        "id": "LQCicz-BOP75",
        "scrolled": true
      },
      "outputs": [],
      "source": [
        "np.ones((1,5))"
      ]
    },
    {
      "cell_type": "code",
      "execution_count": null,
      "metadata": {
        "id": "68QnkWffOP75"
      },
      "outputs": [],
      "source": [
        "np.ones((5,1))"
      ]
    },
    {
      "cell_type": "markdown",
      "metadata": {
        "id": "kY8I9dnCOP75"
      },
      "source": [
        "**Poznámka:** Pokud uvnitř funkce změníme hodnotu proměnné, mimo funkci bude mít tato proměnná opět původní hodnotu. Pokud ale uvnitř funkce změníme hodnoty v **numpy array** nebo v **List**u, tyto hodnoty zůstanou změněné. Pokud bychom chtěli zachovat i původní **numpy array**, museli bychom ho zkopírovat pomocí funkce **copy** (viz ukázka níže)."
      ]
    },
    {
      "cell_type": "code",
      "execution_count": 60,
      "metadata": {
        "id": "uFni6iPYOP76"
      },
      "outputs": [],
      "source": [
        "a = 100; A = 100*np.ones(3)"
      ]
    },
    {
      "cell_type": "code",
      "execution_count": 61,
      "metadata": {
        "id": "k05aQXrhOP76"
      },
      "outputs": [],
      "source": [
        "def pricti10(x):\n",
        "    x += 10\n",
        "    return x\n",
        "\n",
        "def pricti20(x):\n",
        "    x[0] += 20\n",
        "    return x"
      ]
    },
    {
      "cell_type": "code",
      "execution_count": null,
      "metadata": {
        "id": "oLAfHc0FOP76",
        "scrolled": true
      },
      "outputs": [],
      "source": [
        "print(pricti10(a))\n",
        "print(a) # původní proměnná se nezměnila"
      ]
    },
    {
      "cell_type": "code",
      "execution_count": 63,
      "metadata": {
        "id": "NqyP_20QOP76"
      },
      "outputs": [],
      "source": [
        "A_kopie = A.copy() # kopie původního pole\n",
        "B = A # tento příkaz pole nezkopíruje, A i B budou odkazovat na stejné hodnoty"
      ]
    },
    {
      "cell_type": "code",
      "execution_count": null,
      "metadata": {
        "id": "I_XM45dEOP76"
      },
      "outputs": [],
      "source": [
        "print(pricti20(A)); print(A) # původní pole se změnilo"
      ]
    },
    {
      "cell_type": "code",
      "execution_count": null,
      "metadata": {
        "id": "6ooCTeyzOP76"
      },
      "outputs": [],
      "source": [
        "print(A_kopie) # v kopii jsou uchovány původní hodnoty"
      ]
    },
    {
      "cell_type": "code",
      "execution_count": null,
      "metadata": {
        "id": "EJXHEE6OOP77"
      },
      "outputs": [],
      "source": [
        "print(B) # pole B se změnilo spolu s polem A"
      ]
    },
    {
      "cell_type": "markdown",
      "metadata": {
        "id": "mTQVfOilOP77"
      },
      "source": [
        "#### 4.2) Další důležité funkce\n",
        "Níže vidíte ukázku použití funkcí **arange**, **linspace**, **reshape**, **shape**. Více podrobností se dozvíte pomocí příkazu **help** (např. **help(np.lispace)**)."
      ]
    },
    {
      "cell_type": "code",
      "execution_count": null,
      "metadata": {
        "id": "oSs-y9u6OP77",
        "scrolled": true
      },
      "outputs": [],
      "source": [
        "np.arange(10,11,0.2)"
      ]
    },
    {
      "cell_type": "code",
      "execution_count": null,
      "metadata": {
        "id": "7hTuZwo1OP77"
      },
      "outputs": [],
      "source": [
        "x = np.linspace(3,10,15); print(x)"
      ]
    },
    {
      "cell_type": "code",
      "execution_count": null,
      "metadata": {
        "id": "iyaZJCC1OP78"
      },
      "outputs": [],
      "source": [
        "x = x.reshape((3,5)); print(x)"
      ]
    },
    {
      "cell_type": "code",
      "execution_count": null,
      "metadata": {
        "id": "bGrE1C0VOP78"
      },
      "outputs": [],
      "source": [
        "x.shape # vrací rozměry matice (počet řádků, počet sloupců), datový typ \"tuple\" "
      ]
    },
    {
      "cell_type": "markdown",
      "metadata": {
        "id": "I6o5-VnrOP78"
      },
      "source": [
        "Funkce **sort**, **min**, **max**:"
      ]
    },
    {
      "cell_type": "code",
      "execution_count": null,
      "metadata": {
        "id": "iVaXEJHEOP78"
      },
      "outputs": [],
      "source": [
        "x = np.array([6, 9, 3, -1, 8, -3])\n",
        "print(\"sort:\", np.sort(x))\n",
        "print(\"min:\", np.min(x))\n",
        "print(\"max:\", np.max(x))"
      ]
    },
    {
      "cell_type": "markdown",
      "metadata": {
        "id": "nk5-EGteOP78"
      },
      "source": [
        "Funkce **sin**, **cos**, **exp**, **log**, **sqrt**, **floor**, **round**:"
      ]
    },
    {
      "cell_type": "code",
      "execution_count": 72,
      "metadata": {
        "id": "BJSLEfKWOP78"
      },
      "outputs": [],
      "source": [
        "def apply_all(x):\n",
        "    print(\"sin(x) =\", np.sin(x))\n",
        "    print(\"cos(x) =\", np.cos(x))\n",
        "    print(\"exp(x) =\", np.exp(x))\n",
        "    print(\"log(x) =\", np.log(x))\n",
        "    print(\"sqrt(x) =\", np.sqrt(x))\n",
        "    print(\"floor(x) =\", np.floor(x))\n",
        "    print(\"round(x) =\", np.round(x))"
      ]
    },
    {
      "cell_type": "code",
      "execution_count": null,
      "metadata": {
        "id": "AA2TNbQaOP78"
      },
      "outputs": [],
      "source": [
        "apply_all([1, 2.5, np.e, np.pi])"
      ]
    },
    {
      "cell_type": "markdown",
      "metadata": {
        "id": "0yNYIxjAOP79"
      },
      "source": [
        "**Indexování prvků** (z vytvořené matice vybereme pouze určité řádky a sloupce)"
      ]
    },
    {
      "cell_type": "code",
      "execution_count": null,
      "metadata": {
        "id": "9PYN87gMOP79",
        "scrolled": true
      },
      "outputs": [],
      "source": [
        "M = np.array([[1, 2, 3, 4, 5],[10, 20, 30, 40, 50], [9, 8, 7, 6, 5], [99, 88, 77, 66, 55]])\n",
        "print(M)"
      ]
    },
    {
      "cell_type": "code",
      "execution_count": null,
      "metadata": {
        "id": "JqDS_Y6XOP79"
      },
      "outputs": [],
      "source": [
        "M[2,:] # výběr řádku"
      ]
    },
    {
      "cell_type": "code",
      "execution_count": null,
      "metadata": {
        "id": "wIDsVGpsOP79"
      },
      "outputs": [],
      "source": [
        "M[:,0:3] # výběr sloupců"
      ]
    },
    {
      "cell_type": "code",
      "execution_count": null,
      "metadata": {
        "id": "F9uxLTGpOP79"
      },
      "outputs": [],
      "source": [
        "M[1:3,1:3] # výběr řádků i sloupců"
      ]
    },
    {
      "cell_type": "code",
      "execution_count": null,
      "metadata": {
        "id": "z2COBOaKOP79"
      },
      "outputs": [],
      "source": [
        "B = np.full((4,5),False)\n",
        "B[0,0] = True\n",
        "B[2,2] = True\n",
        "print(B)"
      ]
    },
    {
      "cell_type": "code",
      "execution_count": null,
      "metadata": {
        "id": "XkPs-DSsOP7-"
      },
      "outputs": [],
      "source": [
        "print(M[B]) # indexování pomocí matice True/False\n",
        "M[B] += 10 # přičtení čísla 10 v prvkům na vybraných pozicích\n",
        "print(M)"
      ]
    },
    {
      "cell_type": "markdown",
      "metadata": {
        "id": "7XF1rULrOP7-"
      },
      "source": [
        "### 7) Modul matplotlib.pyplot"
      ]
    },
    {
      "cell_type": "code",
      "execution_count": 80,
      "metadata": {
        "id": "URdbiiuLOP7-"
      },
      "outputs": [],
      "source": [
        "x = np.linspace(-1,6,30) # mřížka x-souřadnic\n",
        "y = x**2 - 3*x + 1 # y-souřadnice"
      ]
    },
    {
      "cell_type": "code",
      "execution_count": null,
      "metadata": {
        "id": "epE6vkhUOP7_"
      },
      "outputs": [],
      "source": [
        "plt.plot(x,y) # vykreslení zadané kvadratické funkce\n",
        "plt.plot(x,0*x) # vykreslení nulové funkce\n",
        "plt.legend(['kvadratická funkce','nulová funkce']) # legenda\n",
        "plt.grid() # mřížka\n",
        "plt.xlabel('osa x') # popis osy x\n",
        "plt.ylabel('osa y') # popis osy y\n",
        "plt.title('Ukázka použití knihovny matplotlib') # název grafu\n",
        "plt.show() # zobrazení celého grafu"
      ]
    },
    {
      "cell_type": "markdown",
      "metadata": {
        "id": "jUmL6QV5OP7_"
      },
      "source": [
        "**Vyzkoušejte:** Je možné nastavit různé barvy a typy čáry."
      ]
    },
    {
      "cell_type": "code",
      "execution_count": null,
      "metadata": {
        "id": "F5_D4MjTOP8A"
      },
      "outputs": [],
      "source": [
        "# můžete vyzkoušet 'r'  'k'  'b'  'y'  'm'  a další (pro nastavení barvy čáry)\n",
        "# v kombinaci s '-'  '--'   '-.'  ':'  '.'  (pro nastavení typu čáry)\n",
        "plt.plot(x,y,'r.')\n",
        "plt.plot(x,0*x,'b--')\n",
        "plt.legend(['kvadratická funkce','nulová funkce']) # legenda\n",
        "plt.grid() # mřížka\n",
        "plt.show() # zobrazení celého grafu"
      ]
    },
    {
      "cell_type": "markdown",
      "metadata": {
        "id": "VfKCKoayOP8A"
      },
      "source": [
        "Lze nastavovat i další parametry grafu, například tloušťka čáry (**linewidth**) nebo velikost bodů (**markersize**). Další parametry najdete v nápovědě - **help(plt.plot)**."
      ]
    },
    {
      "cell_type": "code",
      "execution_count": null,
      "metadata": {
        "id": "3u_izXBEOP8B"
      },
      "outputs": [],
      "source": [
        "x1 = np.linspace(0,2*np.pi,100) # mřížka x-souřadnic\n",
        "x2 = np.linspace(0,2*np.pi,9) # mřížka x-souřadnic\n",
        "plt.plot(x1,np.sin(x1),linewidth = 3)\n",
        "plt.plot(x2,np.sin(x2),'.',markersize = 20)\n",
        "plt.grid() # mřížka\n",
        "plt.show() # zobrazení celého grafu"
      ]
    },
    {
      "cell_type": "markdown",
      "metadata": {
        "id": "esizqv5MOP8B"
      },
      "source": [
        "### 8) Úkoly k procvičení"
      ]
    },
    {
      "cell_type": "markdown",
      "metadata": {
        "id": "E0SGd80AOP8B"
      },
      "source": [
        "**Úkol k doplnění:** Napište funkci, která pro zadaný poloměr a výšku válce vrátí jeho objem a povrch. Dále vypočtěte objem a povrch válce o poloměru podstavy 10 cm a výšce 5 cm."
      ]
    },
    {
      "cell_type": "code",
      "execution_count": null,
      "metadata": {
        "id": "NAk1AeCUOP8B"
      },
      "outputs": [],
      "source": [
        "def valec(polomer, vyska):\n",
        "    podstava = \n",
        "    plast = \n",
        "    objem = \n",
        "    povrch = \n",
        "    return objem, povrch"
      ]
    },
    {
      "cell_type": "code",
      "execution_count": null,
      "metadata": {
        "id": "-4kvbr0OOP8B"
      },
      "outputs": [],
      "source": [
        "vysledek = valec(10,5)\n",
        "print(\"Válec má objem\", vysledek[0], \"cm^3 a povrch\", vysledek[1], \"cm^2.\")"
      ]
    },
    {
      "cell_type": "markdown",
      "metadata": {
        "id": "44cSTZfeOP8C"
      },
      "source": [
        "**Úkol k doplnění:** Napište funkci, která pro zadané koeficienty a, b, c a hodnoty d0 < d1 vykreslí graf funkce f(x) = ax^2 + bx + c na intervalu (d0,d1)."
      ]
    },
    {
      "cell_type": "code",
      "execution_count": null,
      "metadata": {
        "id": "y1Lh4omZOP8C"
      },
      "outputs": [],
      "source": [
        "def vykresleni(a, b, c, d0, d1):\n",
        "    x =  # mřížka x-souřadnic\n",
        "    y =  # y-souřadnice\n",
        "    plt.plot(x,y)\n",
        "    plt.show()"
      ]
    },
    {
      "cell_type": "code",
      "execution_count": null,
      "metadata": {
        "id": "mU9DF2AxOP8C"
      },
      "outputs": [],
      "source": [
        "vykresleni(1,2,1,-5,5)"
      ]
    },
    {
      "cell_type": "markdown",
      "metadata": {
        "id": "QG82FoeLOP8C"
      },
      "source": [
        "**Úkol k doplnění:** Napište funkci, která pro zadané koeficienty a, b, c vypíše reálné kořeny kvadratické funkce f(x) = ax^2 + bx + c."
      ]
    },
    {
      "cell_type": "code",
      "execution_count": null,
      "metadata": {
        "id": "cliC_VYDOP8C"
      },
      "outputs": [],
      "source": [
        "def koreny(a, b, c):\n",
        "    D =  # výpočet diskriminantu\n",
        "    if D > 0: # diskriminant je kladný\n",
        "        x1 =\n",
        "        x2 = \n",
        "        print(\"Funkce má kořeny\", x1, \"a\", x2, \".\")\n",
        "    elif D == 0: # diskriminant je roven 0\n",
        "        x1 =\n",
        "        print(\"Funkce má dvojnásobný kořen\", x1, \".\")\n",
        "    else: # diskriminant je záporný\n",
        "        print(\"Funkce nemá reálné kořeny.\")\n"
      ]
    },
    {
      "cell_type": "code",
      "execution_count": null,
      "metadata": {
        "id": "0w4k-gbxOP8C"
      },
      "outputs": [],
      "source": [
        "koreny(1,2,1)"
      ]
    },
    {
      "cell_type": "markdown",
      "metadata": {
        "id": "A2ptWubzOP8C"
      },
      "source": [
        "**Řešený úkol:** Využijte předchozí úkoly a vytvořte funkci, která pro zadané koeficienty a, b, c a hodnoty d0 < d1 vykreslí funkci f(x) = ax^2 + bx + c na intervalu (d0,d1) a zároveň znázorní její reálné kořeny."
      ]
    },
    {
      "cell_type": "code",
      "execution_count": 89,
      "metadata": {
        "id": "AmHQ8zTGOP8D"
      },
      "outputs": [],
      "source": [
        "def vykresleni_a_koreny(a, b, c, d0, d1):\n",
        "    x = np.linspace(d0,d1,100) # mřížka x-souřadnic\n",
        "    y = a*x**2 + b*x + c # y-souřadnice\n",
        "    plt.plot(x,y) # kvadratická funkce\n",
        "    plt.plot(x,0*x) # nulová funkce\n",
        "    plt.legend(['kvadratická funkce','nulová funkce']) # legenda\n",
        "    plt.grid()\n",
        "    D = b**2 - 4*a*c # výpočet diskriminantu\n",
        "    if D > 0: # diskriminant je kladný\n",
        "        sqrtD = np.sqrt(D)\n",
        "        x1 = (-b+sqrtD) / (2*a)\n",
        "        x2 = (-b-sqrtD) / (2*a)\n",
        "        print(\"Funkce má kořeny\", x1, \"a\", x2, \".\")\n",
        "        plt.plot([x1,x2],[0,0],'.',markersize = 10)\n",
        "    elif D == 0: # diskriminant je roven 0\n",
        "        x1 = -b / (2*a)\n",
        "        print(\"Funkce má dvojnásobný kořen\", x1, \".\")\n",
        "    else: # diskriminant je záporný\n",
        "        print(\"Funkce nemá reálné kořeny.\")\n",
        "    plt.show()"
      ]
    },
    {
      "cell_type": "code",
      "execution_count": null,
      "metadata": {
        "id": "M2g1IB54OP8D"
      },
      "outputs": [],
      "source": [
        "vykresleni_a_koreny(1,-8,15,0,10)"
      ]
    }
  ],
  "metadata": {
    "colab": {
      "provenance": []
    },
    "kernelspec": {
      "display_name": "Python 3 (ipykernel)",
      "language": "python",
      "name": "python3"
    },
    "language_info": {
      "codemirror_mode": {
        "name": "ipython",
        "version": 3
      },
      "file_extension": ".py",
      "mimetype": "text/x-python",
      "name": "python",
      "nbconvert_exporter": "python",
      "pygments_lexer": "ipython3",
      "version": "3.7.12"
    }
  },
  "nbformat": 4,
  "nbformat_minor": 0
}
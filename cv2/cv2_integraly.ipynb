{
 "cells": [
  {
   "cell_type": "markdown",
   "metadata": {},
   "source": [
    "# Integrály\n",
    "Na přednášce jsme se seznámili s pojmem derivace. Derivaci funkce $f$ budeme značit  $ \\frac{d\\vec{f}(t)}{dx}$ (pro funkci jedné proměnné $x$ můžeme zkráceně psát $f'(x)$).\n",
    "\n",
    "Bude nás ale zajímat i opačná úloha, kde k zadané funkci $f$ budeme hledat funkci $F$ takovou, aby platilo \n",
    "$$\n",
    "F'=f.\n",
    "$$\n",
    "\n",
    "#### Definice:\n",
    "Nechť funkce $  f(x)$ je definovaná na intervalu $I$. Funkce $F(x)$ se nazývá **primitivní** k funkci $f(x)$ na $I$, jestliže platí $F'(x)=f(x)$ pro každé $x \\in I$. \n",
    "Množina všech primitivních funkcí k funkci $f(x)$ na $I$ se nazývá **neurčitý integrál** z funkce $f(x)$ a značí se \n",
    "$$\n",
    "\\int f(x) \\mathrm{d}x.\n",
    "$$\n",
    "\n",
    "\n",
    "### Příklad\n",
    "Zkusme si najít nějakou primitivní funkci k funkci $f(x) = \\cos(x)$. Není těžké uhodnout, že jednou z těchto funkcí je např. $F(x)=\\sin(x)$, protože, jak jsme si ukázali na přednášce, $(\\sin(x))'=\\cos(x)$. "
   ]
  },
  {
   "cell_type": "code",
   "execution_count": null,
   "metadata": {},
   "outputs": [],
   "source": [
    "import sympy as sp\n",
    "x = sp.Symbol('x')\n",
    "I = sp.integrate(sp.cos(x),x)\n",
    "\n",
    "print(I)"
   ]
  },
  {
   "cell_type": "code",
   "execution_count": null,
   "metadata": {},
   "outputs": [],
   "source": [
    "I = sp.integrate(sp.sin(x) * sp.exp(x), x)\n",
    "\n",
    "print(I)"
   ]
  },
  {
   "cell_type": "markdown",
   "metadata": {},
   "source": [
    "## Určitý integrál\n",
    "\n",
    "Za zmínku stojí, že (neurčitý) integrál je vlastně zobrazení, které funkci přiřazuje opět funkci (přesněji řečeno množinu funkcí). \n",
    "\n",
    "\n",
    "**Určitým integrálem** pak rozumíme zobrazení, které spojité a nezáporné funkci $f$ definované na intervalu $\\langle a,b \\rangle$ přiřazuje číslo. Konkrétně obsah plochy \"pod grafem\" (viz obrázek)\n",
    "\n"
   ]
  },
  {
   "cell_type": "markdown",
   "metadata": {},
   "source": [
    "<img src=\"urcityInt.png\" alt=\"Alt Text\" style=\"width:30%; height:auto;\">"
   ]
  },
  {
   "cell_type": "markdown",
   "metadata": {},
   "source": [
    "#### Newton-Leibnizova formule pro výpočet určitého integrálu\n",
    "\n",
    "Nechť funkce $f(x)$ je integrovatelná na intervalu $\\langle a,b \\rangle$ a nechť $F(x)$ je její primitivní funkce. Pak platí, že \n",
    "$$\n",
    "\\int_a^b f(x)\\mathrm{d}x = F(b) - F(a).\n",
    "$$\n",
    "\n",
    "### Numerický výpočet určitého integrálu\n",
    "\n",
    "Pokud není možné spočítat integrál analyticky, existuje řada metod pro numerickou integraci. My si představíme jednu z nich, a to **lichoběžníkové pravidlo**. S využitím funkčních hodnot v krajních bodech a vzorce pro obsah pravoúhlého lichoběžníku můžeme psát\n",
    "\n",
    "$$\n",
    "\\int_a^b f(x)\\mathrm{d}x \\approx \\frac{f(a)+f(b)}{2} \\cdot (b-a)\n",
    "$$"
   ]
  },
  {
   "cell_type": "markdown",
   "metadata": {},
   "source": [
    "<img src=\"Trapezoidal_rule_illustration.png\" alt=\"Alt Text\" style=\"width:20%; height:auto;\">"
   ]
  },
  {
   "cell_type": "markdown",
   "metadata": {},
   "source": [
    "![alt text](slozenyLich.png)"
   ]
  },
  {
   "cell_type": "markdown",
   "metadata": {},
   "source": [
    "Odhad se dá zpřesnit tak, že zjemníme dělení intervalu a funkci aproximujeme lichoběžníky na každém dílku. Pro ekvidistantní dělení intervalu s krokem $h$ získáváme formuli\n",
    "\n",
    "$$\n",
    "\\int_a^b f(x)\\mathrm{d}x = F(b)-F(a) \\approx h \\cdot \\left(\\frac{f(a)+f(x_1)}{2} + \\frac{f(x_1)+f(x_2)}{2} + \\dots + \\frac{f(x_{n-1})+f(b)}{2}\\right)\n",
    "$$\n"
   ]
  },
  {
   "cell_type": "code",
   "execution_count": null,
   "metadata": {},
   "outputs": [],
   "source": [
    "import numpy as np\n",
    "from scipy import integrate\n",
    "\n",
    "I = sp.integrate(sp.cos(x), (x,0,sp.pi/2))\n",
    "print(f\"Presna hodnota: {I}\")\n",
    "\n",
    "\n",
    "x_dist = np.linspace(0, np.pi/2, 2)\n",
    "I2 = integrate.trapezoid(np.sin(x_dist),x_dist)\n",
    "print(f\"Priblizna hodnota pro 1 dilek: {I2}\")\n",
    "\n",
    "x_dist = np.linspace(0, np.pi/2, 11)\n",
    "I10 = integrate.trapezoid(np.sin(x_dist), x_dist)\n",
    "print(f\"Priblizna hodnota pro 10 dilku: {I10}\")\n",
    "\n",
    "x_dist = np.linspace(0, np.pi / 2, 101)\n",
    "I100 = integrate.trapezoid(np.sin(x_dist), x_dist)\n",
    "print(f\"Priblizna hodnota pro 10 dilku: {I100}\")"
   ]
  }
 ],
 "metadata": {
  "kernelspec": {
   "display_name": "Python 3",
   "language": "python",
   "name": "python3"
  },
  "language_info": {
   "codemirror_mode": {
    "name": "ipython",
    "version": 3
   },
   "file_extension": ".py",
   "mimetype": "text/x-python",
   "name": "python",
   "nbconvert_exporter": "python",
   "pygments_lexer": "ipython3",
   "version": "3.12.8"
  }
 },
 "nbformat": 4,
 "nbformat_minor": 2
}

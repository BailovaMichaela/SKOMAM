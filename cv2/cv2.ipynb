{
 "cells": [
  {
   "cell_type": "markdown",
   "metadata": {},
   "source": [
    "# **Cvičení 2: Zvukové signály a Fourierova transformace**\n",
    "\n",
    "---\n",
    "Nejprve si načteme všechny potřebné knihovny"
   ]
  },
  {
   "cell_type": "code",
   "execution_count": null,
   "metadata": {},
   "outputs": [],
   "source": [
    "# nejprve načteme balíčky, které budeme potřebovat\n",
    "import numpy as np  # knihovna NumPy pro lineární algebru\n",
    "import matplotlib.pyplot as plt  # knihovna Matplotlib pro vykreslování\n",
    "from IPython.display import Audio  # interaktivní prvek pro přehrávání zvuku\n",
    "from scipy.io import wavfile  # načítání zvukového souboru wav\n",
    "from scipy import signal as sgn  # scipy modul pro zpracování signálů"
   ]
  },
  {
   "cell_type": "markdown",
   "metadata": {},
   "source": [
    "---\n",
    "# Část 1: Úvod do zvukových signálů\n",
    "---\n",
    "**Co je to zvukový signál v počítači?**\n",
    "\n",
    "Zvukový signál v počítači je digitální reprezentace akustických vln, konkrétně průběhu tlaku vzduchu v čase. Jelikož nejsme schopni zaznamenat kontinuální průběh v čase, je nutné se spokojit pouze s hodnotami v určitých časových okamžicích. \n",
    "\n",
    "- **Vzorkovací frekvence ($f_s$)**: Počet vzorků zvukového signálu získaných za sekundu. Vyjadřuje se v hertzech (Hz).\n",
    "\n",
    "Jelikož zvukový signál je záznamem vlnění v čase, je přirozené, že se bude jednat o periodický průběh. \n",
    "\n",
    "- **Frekvence ($f$)**: Počet opakování (period) vlny za sekundu. Vyjadřuje se v hertzech (Hz)."
   ]
  },
  {
   "cell_type": "markdown",
   "metadata": {},
   "source": [
    "## (1.1) Vytváření zvukového signálu v Pythonu pomocí Numpy"
   ]
  },
  {
   "cell_type": "markdown",
   "metadata": {},
   "source": [
    "### Úkol 1: Vytvořte zvukový signál\n",
    "- s frekvencí 440 Hz (použijte sinusoidu),\n",
    "- s délkou 5 sekund,\n",
    "- za použití vzorkovací frekvence 44100 Hz.\n",
    "\n",
    "(Použijte NumPy funkce `np.sin`, `np.linspace` a konstantu `np.pi`.)"
   ]
  },
  {
   "cell_type": "code",
   "execution_count": null,
   "metadata": {},
   "outputs": [],
   "source": [
    "# Parametry signálu\n",
    "omegas = 440  # Frekvence v Hz (A4 tón)\n",
    "fs = 44100  # Vzorkovací frekvence v Hz\n",
    "trvani = 5.0  # Trvání signálu v sekundách\n",
    "\n",
    "# Generování časové osy\n",
    "t = np.linspace(start=0, stop=trvani, num=int(fs * trvani), endpoint=False)\n",
    "\n",
    "# Generování signálu\n",
    "signal = np.sin(2 * np.pi * omegas * t)"
   ]
  },
  {
   "cell_type": "code",
   "execution_count": null,
   "metadata": {},
   "outputs": [],
   "source": [
    "# Vykreslení signálu\n",
    "plt.figure(figsize=(10, 4))\n",
    "plt.plot(t, signal)\n",
    "plt.xlim(0, 0.01)  # Zobrazení pouze prvních 10 ms, jinak bychom moc nepoznali\n",
    "plt.title(\"Zvukový signál\")\n",
    "plt.xlabel(\"Čas [s]\")\n",
    "plt.ylabel(\"Amplituda\")\n",
    "plt.grid()\n",
    "plt.show()"
   ]
  },
  {
   "cell_type": "markdown",
   "metadata": {},
   "source": [
    "##### Ukázka přehrávání zvuku v Pythonu\n"
   ]
  },
  {
   "cell_type": "code",
   "execution_count": null,
   "metadata": {},
   "outputs": [],
   "source": [
    "Audio(signal, rate=fs)"
   ]
  },
  {
   "cell_type": "markdown",
   "metadata": {},
   "source": [
    "### (1.1.1): Složení zvukového signálu z více vln\n",
    "\n",
    "V reálném světě nejsou zvukové signály obvykle tvořeny pouze jednou sinovou vlnou, ale jsou složením několika vln s různými frekvencemi, amplitudami a různými fázemi. Každý zvuk, který slyšíme, může být rozložen na sérii sinových nebo kosinových vln různých frekvencí, amplitud a fází.\n",
    "\n",
    "$$x(t) = a_1 \\sin (b_1 2 \\pi t + c_1) + a_2 \\sin (b_2 2 \\pi t + c_2) + \\ldots$$\n",
    "\n",
    "- $a_n$ je amplituda $n$-té vlny,\n",
    "- $b_n$ je frekvence $n$-té vlny,\n",
    "- $c_n$ je fáze $n$-té vlny.\n",
    "\n",
    "Poznámka: $a_n$, $b_n$ a $c_n$ nemusí být v reálných signálech pouze konstanty, ale mohou to být i funkce času $t$. Typicky se amplitudy pro běžné signály (jako jsou tóny klavíru) pomalu zmenšují v čase, neboť se energie struny postupně ztrácí."
   ]
  },
  {
   "cell_type": "markdown",
   "metadata": {},
   "source": [
    "### Úkol 2: Vytvoření složeného zvukového signálu\n",
    "\n",
    "Vytvořte složený zvukový signál\n",
    "- složený ze 3 sinových vln,\n",
    "- s amplitudami $a_1=1$, $a_2=0.5$ a $a_3=0.25$,\n",
    "- s frekvencemi $b_1 = 440$ Hz, $b_2 = 880$ Hz a $b_3 = 1320$ Hz,\n",
    "- a fázemi $c_1=0$, $c_2=\\pi/2$ a $c_3=\\pi$.\n"
   ]
  },
  {
   "cell_type": "code",
   "execution_count": null,
   "metadata": {},
   "outputs": [],
   "source": [
    "# Parametry signálu\n",
    "fs = 44100  # Vzorkovací frekvence v Hz\n",
    "trvani = 5.0  # Trvání signálu v sekundách\n",
    "\n",
    "# Frekvence komponent\n",
    "frekvence_komponent = [440, 880, 1320]  # Frekvence v Hz (A4, A5, E6)\n",
    "\n",
    "# Amplitudy komponent\n",
    "amplitudy_komponent = [1.0, 0.5, 0.25]  # Amplitudy (1, 0.5, 0.25)\n",
    "\n",
    "# Fázové posuny komponent\n",
    "fazove_posuny_komponent = [0, np.pi / 2, np.pi]  # Fázové posuny (0, pi/2, pi)"
   ]
  },
  {
   "cell_type": "code",
   "execution_count": null,
   "metadata": {},
   "outputs": [],
   "source": [
    "# Generování časové osy\n",
    "t = np.linspace(0, trvani, int(fs * trvani), endpoint=False)\n",
    "\n",
    "# Generování složeného signálu\n",
    "signal = np.zeros_like(t)\n",
    "\n",
    "# zip sloučí seznamy do jednoho seznamu pro jednodušší iteraci\n",
    "for a, f, p in zip(amplitudy_komponent, frekvence_komponent, fazove_posuny_komponent):\n",
    "    signal += a * np.sin(2 * np.pi * f * t + p)"
   ]
  },
  {
   "cell_type": "code",
   "execution_count": null,
   "metadata": {},
   "outputs": [],
   "source": [
    "# Vykreslení signálu\n",
    "plt.figure(figsize=(10, 4))\n",
    "plt.plot(t, signal)\n",
    "plt.xlim(0, 0.01)  # Zobrazení pouze prvních 10 ms, jinak bychom moc nepoznali\n",
    "plt.title(\"Složený zvukový signál\")\n",
    "plt.xlabel(\"Čas [s]\")\n",
    "plt.ylabel(\"Amplituda\")\n",
    "plt.grid()\n",
    "plt.show()"
   ]
  },
  {
   "cell_type": "markdown",
   "metadata": {},
   "source": [
    "**Můžeme si zvuk opět přehrát:**\n"
   ]
  },
  {
   "cell_type": "code",
   "execution_count": null,
   "metadata": {},
   "outputs": [],
   "source": [
    "Audio(signal, rate=fs)"
   ]
  },
  {
   "cell_type": "markdown",
   "metadata": {},
   "source": [
    "## (1.2) Jak vypadá skutečný zvukový signál?\n",
    "\n",
    "Ze souboru A4.waw nahrajeme nahrávku zvuku noty na klavíru a zobrazíme si její graf.\n"
   ]
  },
  {
   "cell_type": "code",
   "execution_count": null,
   "metadata": {},
   "outputs": [],
   "source": [
    "# Načtení WAV souboru\n",
    "audio_path = 'A4.wav'\n",
    "fs, signal = wavfile.read(audio_path)"
   ]
  },
  {
   "cell_type": "code",
   "execution_count": null,
   "metadata": {},
   "outputs": [],
   "source": [
    "# Výpočet délky zvuku v sekundách\n",
    "delka_nahravky = len(signal) / fs\n",
    "\n",
    "# Generování časové osy\n",
    "casova_osa = np.linspace(0, delka_nahravky, len(signal))\n",
    "\n",
    "# Vykreslení zvukové vlny\n",
    "plt.figure(figsize=(10, 4))\n",
    "plt.plot(casova_osa, signal)\n",
    "plt.title('Zvuková vlna souboru A4.wav')\n",
    "plt.xlabel('Čas (s)')\n",
    "plt.ylabel('Amplituda')\n",
    "plt.show()\n",
    "\n",
    "# Ještě jednou, ale s omezeným rozsahem\n",
    "plt.figure(figsize=(10, 4))\n",
    "plt.plot(casova_osa, signal)\n",
    "plt.xlim(0, 0.01)  # Zobrazení pouze prvních 10 ms, jinak bychom moc nepoznali\n",
    "plt.title('Zvuková vlna souboru A4.wav')\n",
    "plt.xlabel('Čas (s)')\n",
    "plt.ylabel('Amplituda')\n",
    "plt.show()"
   ]
  },
  {
   "cell_type": "markdown",
   "metadata": {},
   "source": [
    "Opět přehrajeme zvuk v Pythonu.\n"
   ]
  },
  {
   "cell_type": "code",
   "execution_count": null,
   "metadata": {},
   "outputs": [],
   "source": [
    "Audio(signal, rate=fs)"
   ]
  },
  {
   "cell_type": "markdown",
   "metadata": {},
   "source": [
    "---\n",
    "# Část 2: Úvod do Fourierovy transformace\n",
    "---\n",
    "\n",
    "**Co je Fourierova transformace?**\n",
    "\n",
    "Fourierova transformace je matematický nástroj, který umožňuje rozložit složený zvukový signál na jednotlivé sinové a kosinové vlny různých frekvencí. Tedy pro zadaný zvukový signál $x(t)$ nám pomůže určit amplitudy $a_n$, frekvence $b_n$ a fáze $c_n$ přítomných vln.\n",
    "\n",
    "\n",
    "**Výpočet Fourierovy transformace**\n",
    "\n",
    "Fourierovou transformací signálu $ x(t) $ získáme funkci $ F(\\omega) $, kde $ \\omega $ je frekvence [Hz]. $ F(\\omega) $ nabývá hodnot z komplexních čísel, ale pro náš účel nám stačí výsledek chápat jako vektor dvou hodnot \n",
    "$$ F(\\omega) = (F_{\\cos}(\\omega),~F_{\\sin}(\\omega)), $$\n",
    " kde první složkou $ F_{\\cos}(\\omega) $ je zastoupení kosinové vlny s frekvencí $ \\omega $ a druhou složkou $ F_{\\sin}(\\omega) $ je zastoupení sinové vlny s frekvencí $ \\omega $.\n",
    "\n",
    "Uvažujme nyní, že náš signál \"zní\" (tedy je nenulový) pouze v intervalu $ t \\in [a, b] $. Potom lze obě složky Fourierovy transformace vyjádřit jako:\n",
    " \n",
    "\n",
    "$$ F_{\\cos}(\\omega) = \\int_{a}^{b} x(t) \\cos( 2 \\pi \\omega t) dt, $$\n",
    "\n",
    "$$ F_{\\sin}(\\omega) = - \\int_{a}^{b} x(t) \\sin( 2 \\pi \\omega t) dt. $$\n",
    "\n",
    "\n",
    "My samozřejmě nejsme v obecném případě schopni spočítat celou funkci $F(\\omega)$, ale jednoduše ji zvládneme vyhodnotit pro libovolné $\\omega$.\n"
   ]
  },
  {
   "attachments": {
    "image-2.png": {
     "image/png": "[encoded data removed]"
    }
   },
   "cell_type": "markdown",
   "metadata": {},
   "source": [
    "## (2.1) Numerická integrace pomocí obdélníkového pravidla\n",
    "\n",
    "Pro sestavení Fourierovy transformace potřebujeme výpočet integrálů. \n",
    "\n",
    "Pro konkrétní signál:\n",
    "- například $ x(t) =  t^2 - 2t$ pro $ t \\in [0, 2] $,\n",
    "- a frekvenci $ \\omega = \\frac{1}{8}   $ Hz.\n",
    "\n",
    "Musíme vypočítat:\n",
    "\n",
    "$$ F_{\\cos}\\left(\\frac{1}{8} \\right) = \\int_{0}^{2} (t^2 - 2t) \\cos\\left(\\frac{1}{8}  2 \\pi t\\right) dt, $$\n",
    "$$ F_{\\sin}\\left(\\frac{1}{8} \\right) = - \\int_{0}^{2} (t^2 - 2t) \\sin\\left(\\frac{1}{8}  2 \\pi t\\right) dt = \\int_{0}^{2} (- t^2 + 2t) \\sin\\left(\\frac{1}{8}  2 \\pi t\\right) dt. $$\n",
    "\n",
    "- integrál nezáporné spojité funkce se dá představit jako obsah plochy ohraničené grafem funkce (integrandu), osou $x$ a přímkami $x=a$ a $x=b$, v případě, že integrujeme zápornou spojitou funkci, je integrál této funkce dán jako záporný obsah plochy.\n",
    "    - v našem případě je integrovaná funkce na některých částech integrovaného intervalu kladná a na některých záporná. Celková plocha je tedy plocha na \"kladných částech\" mínus plocha na \"záporných částech\".\n",
    "- náš signál $x(t)$ je však typicky dán pouze v diskrétních bodech (dle vzorkovací frekvence)\n",
    "- můžeme tedy plochu pod křivkou aproximovat pomocí obdélníků (viz obrázek)\n",
    "    - pro sinovou část\n",
    "    - grafická ukázka pro vzorkovací frekvenci 4 Hz\n",
    "\n",
    "**Postup výpočtu:**\n",
    "- na vstupu máme signál = vektor hodnot `x` a jeho vzorkovací frekvenci `fs`\n",
    "- vytvoříme si vektor časových okamžiků `t` odpovídajících jednotlivým vzorkům: `t = np.arange(len(x)) / fs`\n",
    "    - šířky obdélníků jsou tedy `1/fs`\n",
    "- pro zadanou frekvenci `omega` vypočítáme hodnoty `sin` a `cos` pro jednotlivé časové okamžiky: \n",
    "    - `fsin = - np.sin(2 * np.pi * omega * t)`  \n",
    "    - `fcos = np.cos(2 * np.pi * omega * t)`\n",
    "- spočítáme si diskretizované hodnoty integrandu: \n",
    "    - `integrand_sin = x * fsin`  \n",
    "    - `integrand_cos = x * fcos`\n",
    "- vypočítáme aproximaci integrálu = součet ploch obdélníků: \n",
    "    - `Fsin = np.sum(integrand_sin) / fs`  \n",
    "    - `Fcos = np.sum(integrand_cos) / fs`\n",
    "\n",
    "![image-2.png](attachment:image-2.png)"
   ]
  },
  {
   "cell_type": "markdown",
   "metadata": {},
   "source": [
    "### Úkol 3: Spočtěte ($F_{\\cos}(200)$, $F_{\\sin}(200)$) ,($F_{\\cos}(440)$, $F_{\\sin}(440)$), ($F_{\\cos}(880)$, $F_{\\sin}(880)$) a ($F_{\\cos}(1320)$, $F_{\\sin}(1320)$) pro signál ze souboru `A4.wav`\n",
    "- použijte postup popsaný výše\n",
    "- nebojte se použít cyklus"
   ]
  },
  {
   "cell_type": "code",
   "execution_count": null,
   "metadata": {},
   "outputs": [],
   "source": [
    "# Načtení WAV souboru\n",
    "audio_path = 'A4.wav'\n",
    "fs, signal = wavfile.read(audio_path)\n",
    "\n",
    "omegas = [200, 440, 880, 1320]  # Frekvence v Hz (A4, A5, E6)"
   ]
  },
  {
   "cell_type": "code",
   "execution_count": null,
   "metadata": {},
   "outputs": [],
   "source": [
    "t = np.arange(len(signal)) / fs\n",
    "\n",
    "for omega in omegas:\n",
    "    fcos = np.cos(2 * np.pi * omega * t)\n",
    "    fsin = - np.sin(2 * np.pi * omega * t)\n",
    "\n",
    "    Fcos = np.sum(signal * fcos) * (1 / fs)\n",
    "    Fsin = np.sum(signal * fsin) * (1 / fs)\n",
    "\n",
    "    print(f\"Kosinová složka pro omega = {omega}: {Fcos}\")\n",
    "    print(f\"Sinová složka pro omega = {omega}: {Fsin}\")"
   ]
  },
  {
   "cell_type": "markdown",
   "metadata": {},
   "source": [
    "## (2.2) Fourierova transformace\n",
    "\n",
    "Zkusíme se nyní podívat na výsledek Fourierovy transformace pro celou sekvenci frekvencí. Dále si ukážeme, jak konkrétní hodnoty $F_{\\cos}(\\omega)$ a $F_{\\sin}(\\omega)$ souvisí s parametry vlny $a_n$, $b_n$ a $c_n$.\n",
    "\n",
    "Vraťme se k předchozímu syntetickému signálu:"
   ]
  },
  {
   "cell_type": "code",
   "execution_count": null,
   "metadata": {},
   "outputs": [],
   "source": [
    "# Parametry signálu\n",
    "fs = 44100  # Vzorkovací frekvence v Hz\n",
    "trvani = 5.0  # Trvání signálu v sekundách\n",
    "\n",
    "# Frekvence komponent\n",
    "frekvence_komponent = [440, 880, 1320]  # Frekvence v Hz (A4, A5, E6)\n",
    "\n",
    "# Amplitudy komponent\n",
    "amplitudy_komponent = [1.0, 0.5, 0.25]  # Amplitudy (1, 0.5, 0.25)\n",
    "\n",
    "# Fázové posuny komponent\n",
    "fazove_posuny_komponent = [0, np.pi / 2, np.pi]  # Fázové posuny (0, pi/2, pi)\n",
    "\n",
    "# Generování časové osy\n",
    "t = np.linspace(0, trvani, int(fs * trvani), endpoint=False)\n",
    "\n",
    "# Generování složeného signálu\n",
    "signal = np.zeros_like(t)\n",
    "\n",
    "#  zip sloučí seznamy do jednoho seznamu pro jednodušší iteraci\n",
    "for a, f, p in zip(amplitudy_komponent, frekvence_komponent, fazove_posuny_komponent):\n",
    "    signal += a * np.sin(2 * np.pi * f * t + p)"
   ]
  },
  {
   "cell_type": "markdown",
   "metadata": {},
   "source": [
    "### Úkol 4: Vypočítejte Fourierovu transformaci (sinové a kosinové složky pro frekvence 1 až 2000 Hz) pro zadaný signál"
   ]
  },
  {
   "cell_type": "code",
   "execution_count": null,
   "metadata": {},
   "outputs": [],
   "source": [
    "# spočteme Fourierovu transformaci pro celočíselné frekvence od 1 do 2000\n",
    "omegas = np.arange(1, 2001)\n",
    "\n",
    "t = np.arange(len(signal)) / fs\n",
    "\n",
    "Fsin_all = np.zeros_like(omegas, dtype=float)\n",
    "Fcos_all = np.zeros_like(omegas, dtype=float)\n",
    "\n",
    "for i, omega in enumerate(omegas):\n",
    "    fsin = -np.sin(2 * np.pi * omega * t)\n",
    "    fcos = np.cos(2 * np.pi * omega * t)\n",
    "    Fsin_all[i] = np.sum(signal * fsin) * (1 / fs)\n",
    "    Fcos_all[i] = np.sum(signal * fcos) * (1 / fs)"
   ]
  },
  {
   "cell_type": "markdown",
   "metadata": {},
   "source": [
    "Nyní si vykreslíme výslednou Fourierovu transformaci."
   ]
  },
  {
   "cell_type": "code",
   "execution_count": null,
   "metadata": {},
   "outputs": [],
   "source": [
    "plt.figure(figsize=(10, 4))\n",
    "plt.plot(omegas, Fcos_all, label=\"kosinová část\")\n",
    "plt.plot(omegas, Fsin_all, label=\"sinová část\", linestyle='dashed')\n",
    "plt.legend()\n",
    "plt.show()"
   ]
  },
  {
   "cell_type": "markdown",
   "metadata": {},
   "source": [
    "Které frekvence jsou v signálu přítomny?\n"
   ]
  },
  {
   "cell_type": "markdown",
   "metadata": {},
   "source": [
    "- `np.where` vrací indexy prvků, které splňují podmínku (konkrétně list indexů v jednotlivých dimenzích - zde pouze jeden, neboť se jedná o vektor).\n"
   ]
  },
  {
   "cell_type": "code",
   "execution_count": null,
   "metadata": {},
   "outputs": [],
   "source": [
    "# [0] -> chceme souřadnice v 1. dimenzi\n",
    "idx = np.where(np.sqrt(Fsin_all**2 + Fcos_all**2) > 1e-6)[0]\n",
    "print(f\"Nezanedbatelné jsou pouze frekvence {omegas[idx]}.\")"
   ]
  },
  {
   "cell_type": "markdown",
   "metadata": {},
   "source": [
    "Zkusíme z těchto výsledků dopočítat parametry původního signálu.\n",
    "\n",
    "Pomůže nám k tomu obrázek.\n"
   ]
  },
  {
   "cell_type": "code",
   "execution_count": null,
   "metadata": {},
   "outputs": [],
   "source": [
    "plt.figure(figsize=(6, 6))\n",
    "\n",
    "for i in idx:\n",
    "    plt.plot(Fcos_all[i], Fsin_all[i], 'o', label=f\"omega={omegas[i]}\")\n",
    "    plt.plot([0, Fcos_all[i]], [0, Fsin_all[i]], 'k--')  # type: ignore\n",
    "\n",
    "# přidáme kružnici\n",
    "circle = plt.Circle((0, 0), 1 * 2.5, color='black', fill=False)  # type: ignore\n",
    "plt.gca().add_patch(circle)\n",
    "\n",
    "# nastavíme stejnou škálu pro osy x a y\n",
    "plt.axis('equal')\n",
    "plt.grid(True, which='both', linestyle='--', linewidth=0.5)\n",
    "plt.xticks(np.arange(-1, 1.25, 0.25) * 2.5)\n",
    "plt.yticks(np.arange(-1, 1.25, 0.25) * 2.5)\n",
    "plt.xlabel(\"Kosinová část\")\n",
    "plt.ylabel(\"Sinová část\")\n",
    "plt.legend()\n",
    "plt.show()"
   ]
  },
  {
   "cell_type": "markdown",
   "metadata": {},
   "source": [
    "Zopakujme si, jaké bylo zadání:\n",
    "\n",
    "```\n",
    "frekvence = [440, 880, 1320]\n",
    "amplitudy = [1.0, 0.5, 0.25]\n",
    "fazove_posuny = [0, np.pi / 2, np.pi]\n",
    "```\n",
    "\n",
    "Tedy:\n",
    "- přítomné frekvence jsou ty, pro které jsme dostali \"nenulové\" hodnoty $F_{\\cos}(\\omega)$ nebo $F_{\\sin}(\\omega)$\n",
    "- amplituda je **2x** vzdálenost od středu k vrcholu **děleno trváním signálu**\n",
    "    - amplituda nezávisí na délce signálu, ale výsledek integrálu ano\n",
    "- fázový posun je rotace o daný úhel v komplexní rovině\n",
    "\n",
    "**Proč je amplituda 2x vzdálenost od středu k vrcholu?**\n",
    "\n",
    "- ve skutečnosti Fourierova transformace $ F(\\omega) $ je definována i pro záporná $\\omega$ (tj. pro záporné frekvence).\n",
    "- tedy stejný výsledek (akorát s převráceným znaménkem pro sinovou složku) bychom dostali i pro frekvenci $-\\omega$.\n",
    "- abychom tedy při inverzní Fourierově transformaci dostali původní signál, jsou kladné frekvence pouze s polovinou původní amplitudy.\n"
   ]
  },
  {
   "cell_type": "markdown",
   "metadata": {},
   "source": [
    "## (2.3) Amplitudové spektrum\n",
    "\n",
    "Nejčastější informací, kterou z Fourierovy transformace požadujeme, je **amplitudové spektrum**\n",
    "- = velikosti amplitud jednotlivých frekvencí.\n",
    "- Ty umíme spočitat vzorcem: $$\\frac{2}{T} \\sqrt{F_{\\cos}(\\omega)^2 + F_{\\sin}(\\omega)^2}, $$ kde $T$ je délka signálu v sekundách."
   ]
  },
  {
   "cell_type": "markdown",
   "metadata": {},
   "source": [
    "### Úkol 5: Spočítejte amplitudové spektrum pro signál ze souboru `A4.wav` pro frekvence 1 až 4000 Hz\n",
    "\n",
    "- použijte postup z minulého úkolu"
   ]
  },
  {
   "cell_type": "code",
   "execution_count": null,
   "metadata": {},
   "outputs": [],
   "source": [
    "# Načtení WAV souboru\n",
    "audio_path = 'A4.wav'\n",
    "fs, signal = wavfile.read(audio_path)"
   ]
  },
  {
   "cell_type": "code",
   "execution_count": null,
   "metadata": {},
   "outputs": [],
   "source": [
    "# spočteme Fourierovu transformaci pro celočíselné frekvence od 1 do 4000\n",
    "omegas = np.arange(1, 4001)\n",
    "\n",
    "t = np.arange(len(signal)) / fs\n",
    "trvani = len(signal) / fs\n",
    "\n",
    "amplitudove_spektrum = np.zeros(len(omegas))\n",
    "\n",
    "for i, omega in enumerate(omegas):\n",
    "    fsin = -np.sin(2 * np.pi * omega * t)\n",
    "    fcos = np.cos(2 * np.pi * omega * t)\n",
    "    Fsin = np.sum(signal * fsin) * (1 / fs)\n",
    "    Fcos = np.sum(signal * fcos) * (1 / fs)\n",
    "    amplitudove_spektrum[i] = np.sqrt(Fsin**2 + Fcos**2) * 2 / trvani"
   ]
  },
  {
   "cell_type": "code",
   "execution_count": null,
   "metadata": {},
   "outputs": [],
   "source": [
    "plt.figure(figsize=(10, 4))\n",
    "plt.plot(omegas, amplitudove_spektrum, label=\"amplitudové spektrum\")\n",
    "plt.legend()\n",
    "plt.show()"
   ]
  },
  {
   "cell_type": "markdown",
   "metadata": {},
   "source": [
    "Vidíme základní frekvenční složku (440Hz) a její harmonické frekvence (její násobky).\n"
   ]
  },
  {
   "cell_type": "markdown",
   "metadata": {},
   "source": [
    "---\n",
    "# Část 3: Okenní Fourierova transformace\n",
    "---\n",
    "**Co je to Okenní Fourierova transformace (WFT)?**\n",
    "\n",
    "Pokud máme delší zvukový signál, který obsahuje různé tóny v různých časových sekcích, nebude nám stačit jednoduchá Fourierova transformace. \n",
    "- Dala by nám totiž pouze celkový pohled na signál bez informace o časech výskytu jednotlivých frekvencí. \n",
    "- Okenní Fourierova transformace je způsob, jak získat frekvenční složky signálu v čase.\n",
    "  - je to vlastně Fourierova transformace aplikovaná na krátké časové úseky signálu. \n",
    "  - Výsledkem je 2D matice, která obsahuje frekvenční složky signálu v čase.\n",
    "\n",
    "Tedy:\n",
    "\n",
    "- Vybereme si ze signálu sérii stejně dlouhých časových úseků (okének),\n",
    "  - obvykle definujeme `velikost_okna` a \n",
    "  - `posun_okna`, o který pak okénko posouváme.\n",
    "- Pro každé okénko spočítáme Fourierovu transformaci v předem stanovených frekvencích.\n",
    "- Výsledkem je matice, kde na ose x je čas a na ose y jsou frekvence.\n"
   ]
  },
  {
   "cell_type": "code",
   "execution_count": null,
   "metadata": {},
   "outputs": [],
   "source": [
    "# načteme data ze souboru\n",
    "fs, signal = wavfile.read('butterfly.wav')"
   ]
  },
  {
   "cell_type": "markdown",
   "metadata": {},
   "source": [
    "Přehrajeme si zvukový signál.\n"
   ]
  },
  {
   "cell_type": "code",
   "execution_count": null,
   "metadata": {},
   "outputs": [],
   "source": [
    "Audio(signal, rate=fs)"
   ]
  },
  {
   "cell_type": "markdown",
   "metadata": {},
   "source": [
    "Zvolíme si velikost okna a posun okna.\n",
    "\n",
    "Můžeme to udělat v sekundách a použít vzorkovací frekvenci pro výpočet počtu vzorků v okně a posunu okna.\n"
   ]
  },
  {
   "cell_type": "code",
   "execution_count": null,
   "metadata": {},
   "outputs": [],
   "source": [
    "delka_okna_sekundy = 0.1\n",
    "posun_okna_sekundy = 0.01\n",
    "\n",
    "velikost_okna = int(delka_okna_sekundy * fs)\n",
    "posun_okna = int(posun_okna_sekundy * fs)\n",
    "\n",
    "print(f\"Velikost okna: {velikost_okna}\")\n",
    "print(f\"Posun okna: {posun_okna}\")"
   ]
  },
  {
   "cell_type": "markdown",
   "metadata": {},
   "source": [
    "### Úkol 6: Pro zadaný signál, velikost okna a posun okna vypočítejte okenní Fourierovu transformaci a uložte velikosti amplitud do matice\n",
    "\n",
    "- Použijte základní frekvence tónů klavíru\n",
    "    - $\\omega_i = f_i = 440 \\cdot 2^{\\frac{i-49}{12}} $, pro $i = 1, \\ldots, 88$\n",
    "- můžete použít `list` pro ukládání výsledků v jednotlivých oknech\n",
    "    - pak můžete pomocí `np.stack` vytvořit z listu vektorů matici = časově-frekvenční spektrogram\n"
   ]
  },
  {
   "cell_type": "code",
   "execution_count": null,
   "metadata": {},
   "outputs": [],
   "source": [
    "f_n = 440 * 2**((np.arange(1,89)-49)/12)"
   ]
  },
  {
   "cell_type": "markdown",
   "metadata": {},
   "source": [
    "Z minulého úkolu také už víme, jak sestavit amplitudové spektrum, zabalíme si tento výpočet do funkce:"
   ]
  },
  {
   "cell_type": "code",
   "execution_count": null,
   "metadata": {},
   "outputs": [],
   "source": [
    "def spocti_amplitudove_spektrum(signal, fs, omegas):\n",
    "    t = np.arange(len(signal)) / fs  # časová osa\n",
    "    trvani = len(signal) / fs  # trvání signálu\n",
    "\n",
    "    amplitudove_spektrum = np.zeros(len(omegas))\n",
    "\n",
    "    for i, omega in enumerate(omegas):\n",
    "        fsin = -np.sin(2 * np.pi * omega * t)\n",
    "        fcos = np.cos(2 * np.pi * omega * t)\n",
    "        Fsin = np.sum(signal * fsin) * (1 / fs)\n",
    "        Fcos = np.sum(signal * fcos) * (1 / fs)\n",
    "        amplitudove_spektrum[i] = np.sqrt(Fsin**2 + Fcos**2) * 2 / trvani\n",
    "\n",
    "    return amplitudove_spektrum"
   ]
  },
  {
   "cell_type": "code",
   "execution_count": null,
   "metadata": {},
   "outputs": [],
   "source": [
    "okenni_FT = []  # zde budeme ukládat výsledky (amplitudová spektra pro jednotlivá okénka)\n",
    "casy = []  # zde budeme ukládat časy, pro které jsme vypočítali amplitudová spektra\n",
    "\n",
    "pocet_oken = 0\n",
    "\n",
    "zacatek_okna = 0\n",
    "konec_okna = velikost_okna\n",
    "\n",
    "omegas = f_n  # frekvence odpovídající tónům klavíru\n",
    "\n",
    "while konec_okna <= len(signal):\n",
    "    okno = signal[zacatek_okna:konec_okna]  # vybereme okénko ze signálu\n",
    "    casy.append((konec_okna + zacatek_okna) / 2 / fs)  # čas je uprostřed okna\n",
    "    \n",
    "    okenni_FT.append(spocti_amplitudove_spektrum(okno, fs, omegas))  # vypočítáme amplitudové spektrum pro okénko\n",
    "    \n",
    "    zacatek_okna += posun_okna\n",
    "    konec_okna += posun_okna\n",
    "    pocet_oken += 1\n",
    "\n",
    "casove_frekvencni_matice = np.vstack(okenni_FT).T  # chceme mít čas na ose x, tedy ve sloupcích\n",
    "\n",
    "print(f\"Počet okének: {pocet_oken}\")"
   ]
  },
  {
   "cell_type": "markdown",
   "metadata": {},
   "source": [
    "\n",
    "Vykreslíme obrázek pomocí funkce `plt.pcolormesh`\n",
    "  - první parametr jsou hodnoty na ose x\n",
    "  - druhý parametr jsou hodnoty na ose y\n",
    "  - třetí parametr je matice hodnot, které chceme vykreslit\n",
    "  - můžeme použít parametr `cmap` pro změnu barevného schématu"
   ]
  },
  {
   "cell_type": "code",
   "execution_count": null,
   "metadata": {},
   "outputs": [],
   "source": [
    "plt.figure(figsize=(10, 4))\n",
    "plt.pcolormesh(casy, omegas, casove_frekvencni_matice, cmap='jet')\n",
    "plt.colorbar()\n",
    "plt.xlabel('Čas (s)')\n",
    "plt.ylabel('Frekvence (Hz)')\n",
    "plt.show()"
   ]
  },
  {
   "cell_type": "markdown",
   "metadata": {},
   "source": [
    "</br>\n",
    "</br>\n",
    "</br>\n",
    "</br>\n",
    "</br>\n",
    "</br>\n",
    "\n",
    "---\n",
    "---\n",
    "---\n",
    "---\n",
    "# Bonusové materiály:\n",
    "---\n"
   ]
  },
  {
   "cell_type": "markdown",
   "metadata": {},
   "source": [
    "\n",
    "# Část B1: Diskrétní a rychlá Fourierova transformace aneb jak to funguje v praxi?\n",
    "---\n",
    "Použitý postup je poměrně neefektivní, v praktických aplikacích (komprese zvuku, obrazu,...) se Fourierova transformace počítá tisíce až miliony krát za vteřinu (a to i na zařízeních, které se vám vejdou na zápěstí). \n",
    "\n",
    "Navíc pracujeme s diskrétními signály. Integraci jsme nahradili sumou skrze jednotlivé body. Jedná se o tzv. Diskrétní Fourierovu Transformaci (DFT).\n",
    "\n",
    "Při DFT v principu nepočítáme s frekvencemi ve spojitém čase, ale s frekvencemi ve vzorkovaném čase tedy vůči počtu vzorků. Neboť samotná DFT \"neví\" o použité vzorkovací frekvenci.\n",
    "\n",
    "**DFT**\n",
    "\n",
    "Máme-li signál $x$ o délce $N$, pak při DFT získáme komplexní vektor o stejné délce:\n",
    "$$X = \\text{DFT}(x),$$\n",
    "tedy počítáme Fourierovu transformaci pouze pro vybrané frekvence $k$:\n",
    "\n",
    "$$ k=0,\\ldots,  N-1$$\n",
    "\n",
    "\n",
    "$$ F_{\\cos}(k) = \\text{Re}(X[k]) = \\sum_{n=0}^{N-1} x[n]  \\cos\\left(\\frac{2\\pi kn}{N}\\right) $$\n",
    "\n",
    "$$ F_{\\sin}(k) = \\text{Im}(X[k]) = -\\sum_{n=0}^{N-1} x[n]  \\sin\\left(\\frac{2\\pi kn}{N}\\right) $$\n",
    "\n",
    "Pokud chceme znát skutečné frekvenční složky, které jsou v signálu přítomny, musíme je přepočítat na frekvence ve spojitém čase.  Na toto použijeme vzorkovací frekvenci $f_s$:\n",
    "\n",
    "$$ \\omega = \\frac{k f_s}{N}$$\n",
    "\n",
    "Pro tyto výpočty se používají \"chytré\" implementace, které využívají vlastností $\\sin$ a $\\cos$. Nejznámější je tzv. Fast Fourier Transform (FFT), která využívá symetrie a periodičnosti sinových a kosinových funkcí.\n",
    "\n",
    "**A samozřejmě je její implementace v knihovně numpy.**\n"
   ]
  },
  {
   "cell_type": "code",
   "execution_count": null,
   "metadata": {},
   "outputs": [],
   "source": [
    "# Parametry signálu\n",
    "fs = 44100  # Vzorkovací frekvence v Hz\n",
    "trvani = 5.0  # Trvání signálu v sekundách\n",
    "\n",
    "# Frekvence komponent\n",
    "frekvence_komponent = [440, 880, 1320]  # Frekvence v Hz (A4, A5, E6)\n",
    "\n",
    "# Amplitudy komponent\n",
    "amplitudy_komponent = [1.0, 0.5, 0.25]  # Amplitudy (1, 0.5, 0.25)\n",
    "\n",
    "# Fázové posuny komponent\n",
    "fazove_posuny_komponent = [0, np.pi / 2, np.pi]  # Fázové posuny (0, pi/2, pi)\n",
    "\n",
    "# Generování časové osy\n",
    "t = np.linspace(0, trvani, int(fs * trvani), endpoint=False)\n",
    "\n",
    "# Generování složeného signálu\n",
    "signal = np.zeros_like(t)\n",
    "\n",
    "# zip sloučí seznamy do jednoho seznamu pro jednodušší iteraci\n",
    "for a, f, p in zip(amplitudy_komponent, frekvence_komponent, fazove_posuny_komponent):\n",
    "    signal += a * np.sin(2 * np.pi * f * t + p)"
   ]
  },
  {
   "cell_type": "code",
   "execution_count": null,
   "metadata": {},
   "outputs": [],
   "source": [
    "fft_result = np.fft.fft(signal)\n",
    "\n",
    "plt.figure(figsize=(10, 4))\n",
    "plt.plot(np.real(fft_result), label=\"kosinová část\")  # reálná část je kosinová část\n",
    "plt.plot(np.imag(fft_result), label=\"sinová část\")  # imaginární část je sinová část\n",
    "plt.legend()\n",
    "plt.show()"
   ]
  },
  {
   "cell_type": "markdown",
   "metadata": {},
   "source": [
    "**Co to vlastně vidíme?**\n",
    "\n",
    "- Symetrie ve výsledcích DFT pro reálné signály je důsledkem\n",
    "\n",
    "$$ \\text{Re}(X[k]) = \\text{Re}(X[N-k]) $$\n",
    "$$ \\text{Im}(X[k]) = -\\text{Im}(X[N-k]) $$\n",
    "\n",
    "- Jelikož zpracováváme reálný signál, stačí nám pouze první polovina výsledku DFT, využijeme tedy funkci `np.fft.rfft`\n",
    "    \n",
    "- Hodnoty na ose $y$ jsou mnohem vyšší, neboť DFT nevrací \"skutečný integrál\" pouze nenormalizovanou sumu\n",
    "    - musíme vydělit počtem vzorků (délkou signálu) $N$ a přenásobit délkou signálu v čase $T$ (tj. $N/f_s$) = tedy pouze vydělit vzorkovací frekvencí $f_s$."
   ]
  },
  {
   "cell_type": "markdown",
   "metadata": {},
   "source": [
    "**Jak tedy z výsledků DFT získáme kosínové a sinové složky v závislosti na frekvenci?**\n",
    "\n",
    "- `np.fft.fftfreq`/`np.fft.rfftfreq` vrací frekvence odpovídající jednotlivým prvkům výsledku DFT.\n",
    "    - parametr `n` je délka signálu\n",
    "    - parametr `d` je \"krok\" mezi jednotlivými vzorky v sekundách, tedy $d=\\frac{1}{f_s}$\n",
    "\n",
    "Kdybychom toto chtěli udělat ručně, museli bychom si vypočítat frekvence odpovídající jednotlivým prvkům výsledku DFT zvlášť pro kladnou (první polovina výsledku) a zápornou (druhá polovina výsledku) frekvenci.\n",
    "\n",
    "Pro kladnou frekvenci bychom použili vzorec:\n",
    "\n",
    "```\n",
    "N = len(signal)\n",
    "vzorkovaci_frekvence = 44100\n",
    "freq = np.arange(N) / N * vzorkovaci_frekvence\n",
    "\n",
    "```\n"
   ]
  },
  {
   "cell_type": "markdown",
   "metadata": {},
   "source": [
    "### Úkol B1: Vypočítejte DFT pro zadaný signál a replikujte předchozí graf spektra\n",
    "\n",
    "- použijte `np.fft.rfft` pro výpočet DFT\n",
    "- použijte `np.fft.rfftfreq` pro výpočet frekvencí odpovídajících jednotlivým prvkům výsledku DFT (osa `x`)\n",
    "- nezapomeňte na normalizaci\n",
    "- vykreslete pouze pro frekvence 0 až 500 Hz"
   ]
  },
  {
   "cell_type": "code",
   "execution_count": null,
   "metadata": {},
   "outputs": [],
   "source": [
    "N = len(signal)\n",
    "fs = 44100\n",
    "\n",
    "# DFT signálu (pouze první polovina)\n",
    "fft_result = np.fft.rfft(signal)\n",
    "\n",
    "# Frekvence pro každý bod DFT\n",
    "x_axis_freqs = np.fft.rfftfreq(n=N, d=1 / fs)\n",
    "\n",
    "# Rozdělení DFT výsledku na reálnou a imaginární složku a normalizace\n",
    "normalizace = 1 / fs\n",
    "Fcos_all = fft_result.real * normalizace\n",
    "Fsin_all = fft_result.imag * normalizace"
   ]
  },
  {
   "cell_type": "code",
   "execution_count": null,
   "metadata": {},
   "outputs": [],
   "source": [
    "plt.figure(figsize=(10, 4))\n",
    "plt.plot(x_axis_freqs, Fcos_all, label=\"kosinová část\")\n",
    "plt.plot(x_axis_freqs, Fsin_all, label=\"sinová část\", linestyle='dashed')\n",
    "plt.legend()\n",
    "plt.xlim(0, 2000)\n",
    "plt.show()"
   ]
  },
  {
   "cell_type": "markdown",
   "metadata": {},
   "source": [
    "### Amplitudové spektrum\n",
    "\n",
    "Nejčastější informací, kterou potřebujeme získat o signálu, je pouze amplitudové spektrum. "
   ]
  },
  {
   "cell_type": "code",
   "execution_count": null,
   "metadata": {},
   "outputs": [],
   "source": [
    "normalizace = 1 / fs\n",
    "trvani = len(signal) / fs\n",
    "amplitudove_spektrum = np.abs(fft_result) * 2 * normalizace / trvani"
   ]
  },
  {
   "cell_type": "code",
   "execution_count": null,
   "metadata": {},
   "outputs": [],
   "source": [
    "plt.figure(figsize=(10, 4))\n",
    "plt.plot(x_axis_freqs, amplitudove_spektrum, label=\"amplitudové spektrum\")\n",
    "plt.legend()\n",
    "plt.xlim(0, 2000)\n",
    "plt.show()"
   ]
  },
  {
   "cell_type": "markdown",
   "metadata": {},
   "source": [
    "**Úkol B1: Jak tedy vypadá amplitudové spektrum noty A4 z našeho příkladu?**\n",
    "Za použití `np.fft.rfft` a `np.fft.rfftfreq` vykreslete spektrum (0 až 5000Hz) noty A4 (`A4.wav`) z našeho příkladu."
   ]
  },
  {
   "cell_type": "code",
   "execution_count": null,
   "metadata": {},
   "outputs": [],
   "source": [
    "# Načtení WAV souboru\n",
    "audio_path = 'A4.wav'\n",
    "fs, signal = wavfile.read(audio_path)\n",
    "\n",
    "# Vypočítání DFT signálu\n",
    "N = len(signal)\n",
    "fft_result = np.fft.rfft(signal)\n",
    "\n",
    "# Frekvence pro každý bod DFT\n",
    "x_axis_freqs = np.fft.rfftfreq(n=N, d=1 / fs)\n",
    "\n",
    "# Rozdělení DFT výsledku na reálnou a imaginární složku\n",
    "normalizace = 1 / fs\n",
    "trvani = len(signal) / fs\n",
    "amplitudove_spektrum = np.abs(fft_result) * 2 * normalizace / trvani\n",
    "\n",
    "plt.figure(figsize=(10, 4))\n",
    "plt.plot(x_axis_freqs, amplitudove_spektrum, label=\"amplitudové spektrum\")\n",
    "plt.legend()\n",
    "plt.xlim(0, 5000)\n",
    "plt.show()"
   ]
  },
  {
   "cell_type": "markdown",
   "metadata": {},
   "source": [
    "Vidíme základní frekvenční složku (440Hz) a její harmonické frekvence (její násobky).\n"
   ]
  },
  {
   "cell_type": "markdown",
   "metadata": {},
   "source": [
    "Jelikož jsou zvukové soubory uloženy v 16-bitovém formátu, tak hodnoty vzorků (tlaku vzduchu) jsou celočíselné hodnoty v rozsahu $[-2^{15}, 2^{15}-1]$. Tedy výsledné amplitudy nejsou pro nás uplně čitelné. \n",
    "\n",
    "Proto budeme signály před zpracováním normalizovat na rozsah $[-1, 1]$, pomocí podělení jeho maximální hodnotou (v absolutní hodnotě)."
   ]
  },
  {
   "cell_type": "code",
   "execution_count": null,
   "metadata": {},
   "outputs": [],
   "source": [
    "signal_normalizovany = signal / np.max(np.abs(signal))\n",
    "fft_result = np.fft.rfft(signal_normalizovany)\n",
    "\n",
    "amplitudove_spektrum = np.abs(fft_result) * 2 * normalizace / trvani\n",
    "\n",
    "plt.figure(figsize=(10, 4))\n",
    "plt.plot(x_axis_freqs, amplitudove_spektrum, label=\"amplitudové spektrum\")\n",
    "plt.legend()\n",
    "plt.xlim(0, 5000)\n",
    "plt.show()"
   ]
  }
 ],
 "metadata": {
  "kernelspec": {
   "display_name": "Python 3",
   "language": "python",
   "name": "python3"
  },
  "language_info": {
   "codemirror_mode": {
    "name": "ipython",
    "version": 3
   },
   "file_extension": ".py",
   "mimetype": "text/x-python",
   "name": "python",
   "nbconvert_exporter": "python",
   "pygments_lexer": "ipython3",
   "version": "3.11.6"
  }
 },
 "nbformat": 4,
 "nbformat_minor": 2
}

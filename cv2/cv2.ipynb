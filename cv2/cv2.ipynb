{
 "cells": [
  {
   "cell_type": "markdown",
   "metadata": {},
   "source": [
    "# Cvičení 2: Zvukové Signály a Fourierova Transformace\n",
    "\n",
    "---\n",
    "\n",
    "## Část 1: Úvod do Zvukových Signálů\n",
    "\n",
    "#### Co je to Zvukový Signál v Počítači\n",
    "\n",
    "Zvukový signál v počítači je digitální reprezentace akustických vln. Akustická vlna je průběh tlaku vzduchu v čase. Tyto vlny jsou typicky zachyceny a převedeny do digitální formy pomocí procesu zvaného analogově-digitální konverze (ADC). V digitální formě je zvukový signál reprezentován jako série vzorků, kde každý vzorek představuje amplitudu zvukové vlny v určitém časovém okamžiku (neboli aktuální tlak vzduchu v daném čase).\n",
    "\n",
    "- **Perioda ($T$)**: Doba, která uplyne mezi opakováními stejné fáze vlny.\n",
    "- **Frekvence ($f$)**: Počet opakování (period) vlny za sekundu. Vyjadřuje se v hertzech (Hz).\n",
    "\n",
    "$$ T = \\frac{1}{f},~~~ f = \\frac{1}{T}$$\n",
    "\n",
    "- **Vzorkovací Frekvence ($f_s$)**: Počet vzorků zvukového signálu získaných za sekundu.\n"
   ]
  },
  {
   "cell_type": "markdown",
   "metadata": {},
   "source": [
    "Nejprve si načteme všechny potřebné knihovny\n"
   ]
  },
  {
   "cell_type": "code",
   "execution_count": null,
   "metadata": {},
   "outputs": [],
   "source": [
    "# nejprve balíčky které budeme potřebovat\n",
    "import numpy as np  # knihovna NumPy pro lineární algebru\n",
    "import matplotlib.pyplot as plt  # knihovna Matplotlib pro vykreslování\n",
    "from IPython.display import Audio  # interaktivní prvek pro přehrávání zvuku\n",
    "from scipy.io import wavfile  # načítání zvukového souboru wav\n",
    "from scipy import signal as sgn  # scipy modul pro zpracování signálů"
   ]
  },
  {
   "cell_type": "markdown",
   "metadata": {},
   "source": [
    "#### Příklad Kódu: Vytvoření Zvukového Signálu v Pythonu s Použitím Numpy\n"
   ]
  },
  {
   "cell_type": "markdown",
   "metadata": {},
   "source": [
    "Pro generování posloupnosti čísel (například dělení osy `x` pro diskretizaci spojité funkce) použijeme:\n",
    "**`np.linspace`**\n",
    "\n",
    "Vstupní parametry:\n",
    "\n",
    "- `start`: Počáteční hodnota posloupnosti\n",
    "- `stop`: Koncová hodnota posloupnosti\n",
    "- `num`: Počet prvků posloupnosti\n",
    "- `endpoint`: Pokud je `True`, koncová hodnota je součástí posloupnosti, jinak není. (tedy krok je `(stop-start)/(num-1)`)\n"
   ]
  },
  {
   "cell_type": "markdown",
   "metadata": {},
   "source": [
    "### Úkol 1: Vytvořte zvukový signál s frekvencí 440 Hz (sinusoida) a délkou 5 sekund při vzorkovací frekvenci 44100 Hz.\n"
   ]
  },
  {
   "cell_type": "code",
   "execution_count": null,
   "metadata": {},
   "outputs": [],
   "source": [
    "# Parametry signálu\n",
    "frekvence = 440  # Frekvence v Hz (A4 tón)\n",
    "vzorkovaci_frekvence = 44100  # Vzorkovací frekvence v Hz\n",
    "trvani = 5.0  # Trvání signálu v sekundách\n",
    "\n",
    "# Generování časové osy\n",
    "t = np.linspace(start=0, stop=trvani, num=int(vzorkovaci_frekvence * trvani), endpoint=False)\n",
    "\n",
    "# Generování signálu\n",
    "signal = np.sin(2 * np.pi * frekvence * t)"
   ]
  },
  {
   "cell_type": "code",
   "execution_count": null,
   "metadata": {},
   "outputs": [],
   "source": [
    "# Vykreslení signálu\n",
    "plt.figure(figsize=(10, 4))\n",
    "plt.plot(t, signal)\n",
    "plt.xlim(0, 0.01)  # Zobrazení pouze prvních 10 ms, jinak bychom moc nepoznali\n",
    "plt.title(\"Zvukový Signál\")\n",
    "plt.xlabel(\"Čas [s]\")\n",
    "plt.ylabel(\"Amplituda\")\n",
    "plt.grid()\n",
    "plt.show()"
   ]
  },
  {
   "cell_type": "markdown",
   "metadata": {},
   "source": [
    "##### Ukázka přehrávání zvuku v Pythonu\n"
   ]
  },
  {
   "cell_type": "code",
   "execution_count": null,
   "metadata": {},
   "outputs": [],
   "source": [
    "Audio(signal, rate=vzorkovaci_frekvence)"
   ]
  },
  {
   "cell_type": "markdown",
   "metadata": {},
   "source": [
    "#### 1.1: Složení Zvukového Signálu z Více Vln\n",
    "\n",
    "---\n",
    "\n",
    "#### Zvukový Signál Složený z Vícero Vln\n",
    "\n",
    "V reálném světě nejsou zvukové signály obvykle tvořeny jednou sinovou vlnou, ale jsou složením několika vln s různými frekvencemi, amplitudami a různými fázemi. Každý zvuk, který slyšíme, může být rozložen na sérii sinových nebo kosinových vln různých frekvencí, amplitud a fází.\n",
    "\n",
    "$$x = a_1 \\sin (b_1 2 \\pi x + c_1) + a_2 \\sin (b_2 2 \\pi x + c_2) + \\ldots$$\n",
    "\n",
    "- $a_n$ je amplituda $n$-té vlny\n",
    "- $b_n$ je frekvence $n$-té vlny\n",
    "- $c_n$ je fáze $n$-té vlny\n"
   ]
  },
  {
   "cell_type": "markdown",
   "metadata": {},
   "source": [
    "### Úkol 2.: Vytvoření Složeného Zvukového Signálu\n",
    "\n",
    "Vytvořte složený zvukový signál, který je složen z 3 sinových vln s frekvencemi 440 Hz, 880 Hz a 1320 Hz, amplitudami 1, 0.5 a 0.25 a fázemi $0$, $\\pi/2$ a $\\pi$.\n"
   ]
  },
  {
   "cell_type": "code",
   "execution_count": null,
   "metadata": {},
   "outputs": [],
   "source": [
    "# Parametry signálu\n",
    "vzorkovaci_frekvence = 44100  # Vzorkovací frekvence v Hz\n",
    "trvani = 5.0  # Trvání signálu v sekundách\n",
    "\n",
    "# Frekvence komponent\n",
    "frekvence_komponent = [440, 880, 1320]  # Frekvence v Hz (A4, A5, E6)\n",
    "\n",
    "# Amplitudy komponent\n",
    "amplitudy_komponent = [1.0, 0.5, 0.25]  # Amplitudy (1, 0.5, 0.25)\n",
    "\n",
    "# Fázové posuny komponent\n",
    "fazove_posuny_komponent = [0, np.pi / 2, np.pi]  # Fázové posuny (0, pi/2, pi)"
   ]
  },
  {
   "cell_type": "code",
   "execution_count": null,
   "metadata": {},
   "outputs": [],
   "source": [
    "\n",
    "# Generování časové osy\n",
    "t = np.linspace(0, trvani, int(vzorkovaci_frekvence * trvani), endpoint=False)\n",
    "\n",
    "# Generování složeného signálu\n",
    "signal = np.zeros_like(t)\n",
    "\n",
    "#  zip sloučí seznamy do jednoho seznamu pro jednodušší iteraci\n",
    "for a, f, p in zip(amplitudy_komponent, frekvence_komponent, fazove_posuny_komponent):\n",
    "    signal += a * np.sin(2 * np.pi * f * t + p)"
   ]
  },
  {
   "cell_type": "code",
   "execution_count": null,
   "metadata": {},
   "outputs": [],
   "source": [
    "# Vykreslení signálu\n",
    "plt.figure(figsize=(10, 4))\n",
    "plt.plot(t, signal)\n",
    "plt.xlim(0, 0.01)  # Zobrazení pouze prvních 10 ms, jinak bychom moc nepoznali\n",
    "plt.title(\"Složený Zvukový Signál\")\n",
    "plt.xlabel(\"Čas [s]\")\n",
    "plt.ylabel(\"Amplituda\")\n",
    "plt.grid()\n",
    "plt.show()"
   ]
  },
  {
   "cell_type": "markdown",
   "metadata": {},
   "source": [
    "#### Opět přehrajeme zvuk v Pythonu\n"
   ]
  },
  {
   "cell_type": "code",
   "execution_count": null,
   "metadata": {},
   "outputs": [],
   "source": [
    "Audio(signal, rate=vzorkovaci_frekvence)"
   ]
  },
  {
   "cell_type": "markdown",
   "metadata": {},
   "source": [
    "#### 1.2: Jak vypadá skutečný zvukový signál?\n",
    "\n",
    "Ze souboru A4.waw nahrajeme náhrávku zvuku noty na klavíru a zobrazíme si její graf.\n"
   ]
  },
  {
   "cell_type": "code",
   "execution_count": null,
   "metadata": {},
   "outputs": [],
   "source": [
    "# Načtení WAV souboru\n",
    "audio_path = 'A4.wav'\n",
    "vzorkovaci_frekvence, signal = wavfile.read(audio_path)"
   ]
  },
  {
   "cell_type": "code",
   "execution_count": null,
   "metadata": {},
   "outputs": [],
   "source": [
    "# Výpočet délky zvuku v sekundách\n",
    "delka_nahravky = len(signal) / vzorkovaci_frekvence\n",
    "\n",
    "# Generování časové osy\n",
    "casova_osa = np.linspace(0, delka_nahravky, len(signal))\n",
    "\n",
    "# Vykreslení zvukové vlny\n",
    "plt.figure(figsize=(10, 4))\n",
    "plt.plot(casova_osa, signal)\n",
    "plt.title('Zvuková vlna souboru A4.wav')\n",
    "plt.xlabel('Čas (s)')\n",
    "plt.ylabel('Amplituda')\n",
    "plt.show()\n",
    "\n",
    "# Ještě jednou, ale s omezeným rozsahem\n",
    "plt.figure(figsize=(10, 4))\n",
    "plt.plot(casova_osa, signal)\n",
    "plt.xlim(0, 0.01)  # Zobrazení pouze prvních 10 ms, jinak bychom moc nepoznali\n",
    "plt.title('Zvuková vlna souboru A4.wav')\n",
    "plt.xlabel('Čas (s)')\n",
    "plt.ylabel('Amplituda')\n",
    "plt.show()"
   ]
  },
  {
   "cell_type": "markdown",
   "metadata": {},
   "source": [
    "Opět přehrajeme zvuk v Pythonu.\n"
   ]
  },
  {
   "cell_type": "code",
   "execution_count": null,
   "metadata": {},
   "outputs": [],
   "source": [
    "Audio(signal, rate=vzorkovaci_frekvence)"
   ]
  },
  {
   "cell_type": "markdown",
   "metadata": {},
   "source": [
    "---\n",
    "\n",
    "## Část 2: Úvod do Fourierovy Transformace\n",
    "\n",
    "### Co Je Fourierova Transformace\n",
    "\n",
    "Fourierova transformace je matematický nástroj, který umožňuje rozložit složený zvukový signál na jednotlivé sinové a kosinové vlny různých frekvencí. Tento proces nám pomáhá pochopit, jaké frekvenční komponenty jsou v signálu přítomny. Fourierova transformace je klíčová pro analýzu zvukových signálů, protože umožňuje identifikovat a oddělit různé zvukové tóny a harmonické komponenty.\n",
    "\n",
    "\n",
    "Začněme s minimálním úvodem do komplexních čísel.\n",
    "\n",
    "##### Krátké Vysvětlení Komplexních Čísel\n",
    "\n",
    "Komplexní čísla jsou rozšířením reálných čísel a obsahují \"imaginární\" jednotku $ i $ (pro kterou platí $ i^2 = -1 $). Každé komplexní číslo má reálnou část a imaginární část. V kontextu Fourierovy transformace, komplexní čísla umožňují efektivní reprezentaci oscilací a fázových vztahů signálu. Imaginární část se týká sinových komponent, zatímco reálná část se týká kosinových komponent.\n",
    "\n",
    "Pro naše potřeby nám bude stačit, že reálná a imaginární část určuje separátní složky signálu.\n",
    "\n",
    "### Vzorec pro Fourierovu Transformaci\n",
    "\n",
    "**Zatím se neděste, že vzorec vypadá složitě. Vše si postupně vysvětlíme.**\n",
    "\n",
    "Fourierova transformace $ F(\\omega) $ signálu $ x(t) $ je definována vzorcem:\n",
    "\n",
    "$$ F(\\omega) = \\int _{-\\infty} ^{\\infty} x(t) e^{-i 2 \\pi \\omega t} dt $$\n",
    "\n",
    "kde:\n",
    "\n",
    "- $ F(\\omega) $ je Fourierova transformace signálu.\n",
    "- $ x(t) $ je původní signál v čase.\n",
    "- $ \\omega $ je frekvence (v Hz).\n",
    "- $ e^{-i 2 \\pi \\omega t} $ je komplexní exponenciála, která může být rozložena na sinovou a kosinovou část.\n",
    "\n",
    "### Rozklad na sinovou a Kosinovou Část\n",
    "\n",
    "Komplexní exponenciála $ e^{-i 2 \\pi \\omega t} $ může být rozložena pomocí Eulerova vzorce na sinovou a kosinovou část:\n",
    "\n",
    "$$ e^{-i 2 \\pi \\omega t} = \\cos( 2 \\pi \\omega t) - i \\sin( 2 \\pi \\omega t) $$\n",
    "\n",
    "Takže Fourierova transformace se dá chápat jako kombinace integrací přes kosinové a sinové komponenty signálu.\n",
    "\n",
    "\n",
    "### Zjednodušení pro praktické použití\n",
    "\n",
    "Předpokládejme, že náš signál trvá pouze 1 sekundu, tj. $ x(t) = 0 $ kdekoliv mimo interval $ t \\in [0, 1] $. Tedy i integrál bude stačit integrovat v intervalu $ [0, 1] $. \n",
    "\n",
    "Dále si rozdělme výstup Fourierovy transformace na reálnou (kosinovou) a imaginární (sinovou) část:\n",
    "\n",
    "$$ F_{\\cos}(\\omega) = \\int_{0}^{1} x(t) \\cos( 2 \\pi \\omega t) dt $$\n",
    "\n",
    "$$ F_{\\sin}(\\omega) = - \\int_{0}^{1} x(t) \\sin( 2 \\pi \\omega t) dt $$\n",
    "\n",
    "Nyní pokud chceme například zjistit jaké zastoupení má frekvence 3 Hz v našem signálu (její kosinová a sinová komponenta), stačí nám vypočítat:\n",
    "\n",
    "$$ F_{\\cos}(3) = \\int_{0}^{1} x(t) \\cos( 2 \\pi 3 t) dt $$\n",
    "$$ F_{\\sin}(3) = - \\int_{0}^{1} x(t) \\sin( 2 \\pi 3 t) dt $$\n"
   ]
  },
  {
   "cell_type": "markdown",
   "metadata": {},
   "source": [
    "Ukážeme si to nejprve na jednoduchém příkladu, kde signál $ x(t) $ je sinová vlna s frekvencí 3 Hz.\n",
    "\n",
    "Nejprve si ukážeme jak vypadá určení různých frekvenčních komponent (2Hz, 3Hz, 4Hz).\n"
   ]
  },
  {
   "cell_type": "code",
   "execution_count": null,
   "metadata": {},
   "outputs": [],
   "source": [
    "# vyrobení signálu a příslušných sinusoid pro frekvence 2, 3 a 4 Hz\n",
    "t = np.linspace(0, 1, 44100, endpoint=False)\n",
    "signal = np.sin(2 * np.pi * 3 * t)\n",
    "fs2 = np.sin(2 * np.pi * 2 * t)\n",
    "fs3 = np.sin(2 * np.pi * 3 * t)\n",
    "fs4 = np.sin(2 * np.pi * 4 * t)\n",
    "\n",
    "# vykreslení signálu a příslušných sinusoid\n",
    "plt.figure(figsize=(10, 4))\n",
    "plt.plot(t, signal, label=\"signal\", linewidth=3, color='black')\n",
    "plt.plot(t, fs2, label=\"fs2\", linestyle='dashed')\n",
    "plt.plot(t, fs3, label=\"fs3\", linestyle='dashed')\n",
    "plt.plot(t, fs4, label=\"fs4\", linestyle='dashed')\n",
    "plt.legend()\n",
    "plt.show()"
   ]
  },
  {
   "cell_type": "markdown",
   "metadata": {},
   "source": [
    "Integrál je pouze plocha pod křivkou, ukážeme si její vizualizaci.\n"
   ]
  },
  {
   "cell_type": "code",
   "execution_count": null,
   "metadata": {},
   "outputs": [],
   "source": [
    "plt.figure(figsize=(10, 4))\n",
    "\n",
    "# grafy signálu přenásobeného frekvencí a plochy pod ním\n",
    "plt.plot(t, signal * fs2, label=\"f=2\")\n",
    "plt.fill_between(t, signal * fs2, alpha=0.5)\n",
    "\n",
    "plt.plot(t, signal * fs3, label=\"f=3\")\n",
    "plt.fill_between(t, signal * fs3, alpha=0.5)\n",
    "\n",
    "plt.plot(t, signal * fs4, label=\"f=4\")\n",
    "plt.fill_between(t, signal * fs4, alpha=0.5)\n",
    "\n",
    "plt.legend()\n",
    "plt.show()"
   ]
  },
  {
   "cell_type": "markdown",
   "metadata": {},
   "source": [
    "Plochu pod křivkou můžeme spočítat numericky například pomocí \"obdelníkového pravidla\".\n",
    "\n",
    "- známe hodnoty na ose $x$ (čas) a jejich příslušné hodnoty na ose $y$ (amplituda signálu)\n",
    "- předpokládáme, že mezi dvěma vzorky/body je funkce, kterou integrujeme konstantní o hodnotě hodnoty v prvním (menším $x$/ bodu vlevo) bodě\n"
   ]
  },
  {
   "cell_type": "markdown",
   "metadata": {},
   "source": [
    "### Úkol 3: Pro zadaný signál vypočítejte $F_{\\sin}(2),~F_{\\sin}(3),~F_{\\sin}(4)$"
   ]
  },
  {
   "cell_type": "code",
   "execution_count": null,
   "metadata": {},
   "outputs": [],
   "source": [
    "delka_vzorku_sec = 1.0 / 44100\n",
    "Fsin_2 = np.sum(signal * fs2 * delka_vzorku_sec)\n",
    "Fsin_3 = np.sum(signal * fs3 * delka_vzorku_sec)\n",
    "Fsin_4 = np.sum(signal * fs4 * delka_vzorku_sec)"
   ]
  },
  {
   "cell_type": "code",
   "execution_count": null,
   "metadata": {},
   "outputs": [],
   "source": [
    "print(f\"Pro frekvenci 2Hz je plocha pod křivkou {Fsin_2:.5f}.\")\n",
    "print(f\"Pro frekvenci 3Hz je plocha pod křivkou {Fsin_3:.5f}.\")\n",
    "print(f\"Pro frekvenci 4Hz je plocha pod křivkou {Fsin_4:.5f}.\")"
   ]
  },
  {
   "cell_type": "markdown",
   "metadata": {},
   "source": [
    "**Nyní si ukážeme jak bychom mohli vypočítat Fourierovu transformaci (její hodnoty v jednotlivých frekvencích v celočíselných Hz) pro testovací signál.**\n"
   ]
  },
  {
   "cell_type": "code",
   "execution_count": null,
   "metadata": {},
   "outputs": [],
   "source": [
    "# časová osa na [0, 5) s\n",
    "trvani = 5.0 # sekundy\n",
    "vzorkovaci_frekvence = 44100 # Hz\n",
    "t = np.linspace(0, trvani, int(vzorkovaci_frekvence * trvani), endpoint=False)\n",
    "\n",
    "# signál jakožto kombinace sinusoid s různými frekvencemi, amplitudami a fázovými posuny\n",
    "\n",
    "frekvence = [120, 333, 440]\n",
    "amplitudy = [2, 1.5, 0.75]\n",
    "fazove_posuny = [np.pi / 3, np.pi / 2, np.pi]\n",
    "\n",
    "signal = np.zeros_like(t)\n",
    "\n",
    "for f, a, p in zip(frekvence, amplitudy, fazove_posuny):\n",
    "    signal += a * np.cos(2 * np.pi * f * t + p)"
   ]
  },
  {
   "cell_type": "markdown",
   "metadata": {},
   "source": [
    "### Úkol 4: Vypočítejte Fourierovu transformaci (sinové a kosinové složky pro frekvence 1 až 500Hz) pro zadaný signál"
   ]
  },
  {
   "cell_type": "code",
   "execution_count": null,
   "metadata": {},
   "outputs": [],
   "source": [
    "# spočteme Fourierovu transformaci for celočíselné frekvence od 1 do 500\n",
    "omega_array = np.arange(1, 501)\n",
    "\n",
    "sinova_cast = np.zeros_like(omega_array, dtype=float)\n",
    "kosinova_cast = np.zeros_like(omega_array, dtype=float)\n",
    "\n",
    "delka_vzorku_sec = 1.0 / 44100\n",
    "\n",
    "for i, omega in enumerate(omega_array):\n",
    "    f_sin = -np.sin(2 * np.pi * omega * t)\n",
    "    f_cos = np.cos(2 * np.pi * omega * t)\n",
    "    sinova_cast[i] = np.sum(signal * f_sin * delka_vzorku_sec)\n",
    "    kosinova_cast[i] = np.sum(signal * f_cos * delka_vzorku_sec)"
   ]
  },
  {
   "cell_type": "markdown",
   "metadata": {},
   "source": [
    "Nyní si vykreslíme výslednou Fourierovu transformaci."
   ]
  },
  {
   "cell_type": "code",
   "execution_count": null,
   "metadata": {},
   "outputs": [],
   "source": [
    "plt.figure(figsize=(10, 4))\n",
    "plt.plot(omega_array, kosinova_cast, label=\"kosinová část\")\n",
    "plt.plot(omega_array, sinova_cast, label=\"sinová část\", linestyle='dashed')\n",
    "plt.legend()\n",
    "plt.show()"
   ]
  },
  {
   "cell_type": "markdown",
   "metadata": {},
   "source": [
    "Které frekvence jsou v signálu přítomny?\n"
   ]
  },
  {
   "cell_type": "markdown",
   "metadata": {},
   "source": [
    "- `np.where` vrací indexy prvků, které splňují podmínku (konkrétně list indexů v jednotlivých dimenzích - zde pouze jeden neboť se jedná o vektor).\n"
   ]
  },
  {
   "cell_type": "code",
   "execution_count": null,
   "metadata": {},
   "outputs": [],
   "source": [
    "# [0] -> chceme souřadnice v 1. dimenzi\n",
    "idx = np.where(sinova_cast**2 + kosinova_cast**2 > 1e-6)[0]\n",
    "print(f\"Nezanedbatelné jsou pouze frekvence {omega_array[idx]}.\")"
   ]
  },
  {
   "cell_type": "markdown",
   "metadata": {},
   "source": [
    "Zkusíme z těchto výsledků dopočítat parametry původního signálu.\n",
    "\n",
    "Pomůže nám k tomu obrázek.\n"
   ]
  },
  {
   "cell_type": "code",
   "execution_count": null,
   "metadata": {},
   "outputs": [],
   "source": [
    "plt.figure(figsize=(6, 6))\n",
    "\n",
    "for i in idx:\n",
    "    plt.plot(kosinova_cast[i], sinova_cast[i], 'o', label=f\"omega={omega_array[i]}\")\n",
    "    plt.plot([0, kosinova_cast[i]], [0, sinova_cast[i]], 'k--')\n",
    "\n",
    "# Add unit circle\n",
    "circle = plt.Circle((0, 0), 1 * trvani, color='black', fill=False)\n",
    "plt.gca().add_patch(circle)\n",
    "\n",
    "# Set axis scale to be equal\n",
    "plt.axis('equal')\n",
    "plt.grid(True, which='both', linestyle='--', linewidth=0.5)\n",
    "plt.xticks(np.arange(-1, 1.25, 0.25) * trvani)\n",
    "plt.yticks(np.arange(-1, 1.25, 0.25) * trvani)\n",
    "plt.xlabel(\"Kosinová část\")\n",
    "plt.ylabel(\"Sinová část\")\n",
    "plt.legend()\n",
    "plt.show()"
   ]
  },
  {
   "cell_type": "markdown",
   "metadata": {},
   "source": [
    "Zopakujme, si jaké bylo zadání:\n",
    "\n",
    "```\n",
    "frekvence = [120, 333, 440]\n",
    "amplitudy = [2, 1.5, 0.75]\n",
    "fazove_posuny = [np.pi / 3, np.pi / 2, np.pi]\n",
    "```\n",
    "\n",
    "Tedy:\n",
    "\n",
    "- amplituda je 2x vzdálenost od středu k vrcholu podělená trváním signálu\n",
    "    - amplituda nezáleží na délce signálu, ale výsledek integrálu ano\n",
    "- fázový posun je rotace o daný úhel z bodu (1, 0)\n",
    "\n",
    "**Proč je amplituda 2x vzdálenost od středu k vrcholu?**\n",
    "\n",
    "- ve skutečnosti Fourierova transformace $ F(\\omega) $ je i pro záporná $\\omega$ (tj. pro záporné frekvence).\n",
    "- tedy budou přítomy i záporné frekvence [-120, -333, -440] které budou mít stejnou amplitudu jako kladné frekvence -> tedy polovinu skutečné amplitudy.\n"
   ]
  },
  {
   "cell_type": "markdown",
   "metadata": {},
   "source": [
    "---\n",
    "## Část 3: DFT/FFT a Jak to funguje v praxi?\n",
    "\n",
    "Použitý postup je poměrně neefektivní, v praktických aplikacích (komprese zvuku, obrazu,...) se Fourierova transformace počítá tisíce až miliony krát za vteřinu (a to i na zařízeních, které se vám vejdou na zápěstí). \n",
    "\n",
    "Navíc pracujeme s diskrétními signály. Integraci jsme v nahradili sumou skrze jednotlivé body. Jedná se o tzv. Diskrétní Fourierovu Transformaci (DFT).\n",
    "\n",
    "Při DFT v principu nepočítáme s frekvencemi ve spojitém čase, ale s frekvencemi ve vzorkovaném čase tedy vůči počtu vzorků. Neboť samotná DFT \"neví\" o použité vzorkovací frekvenci.\n",
    "\n",
    "#### DFT\n",
    "\n",
    "Máme-li signál $x$ o délce $N$, pak při DFT získáme komplexní vektor o stejné délce:\n",
    "$$X = \\text{DFT}(x),$$\n",
    "tedy počítáme Fourierovu transformaci pouze pro vybrané frekvence $k$:\n",
    "\n",
    "$$ k=0,\\ldots  N$$\n",
    "\n",
    "\n",
    "$$ F_{\\cos}(k) = \\text{Re}(X[k]) = \\sum_{n=0}^{N-1} x[n]  \\cos\\left(\\frac{2\\pi kn}{N}\\right) $$\n",
    "\n",
    "$$ F_{\\sin}(k) = \\text{Im}(X[k]) = -\\sum_{n=0}^{N-1} x[n]  \\sin\\left(\\frac{2\\pi kn}{N}\\right) $$\n",
    "\n",
    "Pokud chceme znát skutečné frekvenční složky, které jsou v signálu přítomny, musíme je přepočítat na frekvence ve spojitém čase.  Na toto použijeme vzorkovací frekvenci $f_s$:\n",
    "\n",
    "$$ \\omega = \\frac{k f_s}{N}$$\n",
    "\n",
    "Pro tyto výpočty se používají \"chytré\" implementace, které využívají vlastností $\\sin$ a $\\cos$. Nejznámější je tzv. Fast Fourier Transform (FFT), která využívá symetrie a periodičnosti sinových a kosinových funkcí.\n",
    "\n",
    "**A samozřejmě je její implementace v knihovně numpy.**\n"
   ]
  },
  {
   "cell_type": "code",
   "execution_count": null,
   "metadata": {},
   "outputs": [],
   "source": [
    "fft_result = np.fft.fft(signal)\n",
    "\n",
    "plt.figure(figsize=(10, 4))\n",
    "plt.plot(np.real(fft_result), label=\"kosinová část\")  # reálná část je kosinová část\n",
    "plt.plot(np.imag(fft_result), label=\"sinová část\")  # imaginární část je sinová část\n",
    "plt.legend()\n",
    "plt.show()"
   ]
  },
  {
   "cell_type": "markdown",
   "metadata": {},
   "source": [
    "**Co to vlastně vidíme?**\n",
    "\n",
    "- Symetrie ve výsledcích DFT pro reálné signály je důsledkem\n",
    "\n",
    "$$ \\text{Re}(X[k]) = \\text{Re}(X[N-k]) $$\n",
    "$$ \\text{Im}(X[k]) = -\\text{Im}(X[N-k]) $$\n",
    "\n",
    "- Často nám stačí znát pouze první polovinu výsledků DFT, pak využijeme funkci `np.fft.rfft`\n",
    "    \n",
    "- Hodnoty na ose $y$ jsou mnohem vyšší, neboť DFT nevrací \"skutečný integrál\" pouze nenormalizovanou sumu\n",
    "    - musíme podělit počtem vzorků (délkou signálu) $N$ a přenásobit délkou signálu v čase $T$ (tj. $N/f_s$) = tedy pouze podělit vzorkovací frekvencí $f_s$."
   ]
  },
  {
   "cell_type": "markdown",
   "metadata": {},
   "source": [
    "**Takže jak z výsledků DFT získáme kosínové a sinové složky v závislosti na frekvenci?**\n",
    "\n",
    "- `np.fft.fftfreq`/`np.fft.rfftfreq` vrací frekvence odpovídající jednotlivým prvkům výsledku DFT.\n",
    "    - parametr `n` je délka signálu\n",
    "    - parametr `d` je \"krok\" mezi jednotlivými vzorky v sekundách, tedy $d=\\frac{1}{f_s}$\n",
    "\n",
    "Kdybychom toto chtěli udělat ručně, museli bychom si vypočítat frekvence odpovídající jednotlivým prvkům výsledku DFT zvlášť pro kladnou (první polovina výsledku) a zápornou (druhá polovina výsledku) frekvenci.\n",
    "\n",
    "Pro klaďnou frekvenci bychom použili vzorec:\n",
    "\n",
    "```\n",
    "N = len(signal)\n",
    "vzorkovaci_frekvence = 44100\n",
    "freq = np.arange(N) / N * vzorkovaci_frekvence\n",
    "\n",
    "```\n"
   ]
  },
  {
   "cell_type": "markdown",
   "metadata": {},
   "source": [
    "### Úkol 5: Vypočítejte DFT pro zadaný signál a replikujte předchozí graf spektra\n",
    "\n",
    "- použijte `np.fft.rfft` pro výpočet DFT\n",
    "- použijte `np.fft.rfftfreq` pro výpočet frekvencí odpovídajících jednotlivým prvkům výsledku DFT (osa `x`)\n",
    "- nezapoomeňte na normalizaci\n",
    "- vykreslete pouze for frekvence 0 až 500 Hz"
   ]
  },
  {
   "cell_type": "code",
   "execution_count": null,
   "metadata": {},
   "outputs": [],
   "source": [
    "# Vypočítání DFT signálu\n",
    "N = len(signal)\n",
    "vzorkovaci_frekvence = 44100\n",
    "\n",
    "# DFT signálu (pouze první polovina)\n",
    "fft_result = np.fft.rfft(signal)\n",
    "\n",
    "# Frekvence pro každý bod DFT\n",
    "x_axis_freqs = np.fft.rfftfreq(n=N, d=1 / vzorkovaci_frekvence)\n",
    "\n",
    "# Rozdělení DFT výsledku na reálnou a imaginární složku a normalizace\n",
    "normalizace = 1 / vzorkovaci_frekvence\n",
    "kosinova_cast = fft_result.real * normalizace\n",
    "sinova_cast = fft_result.imag * normalizace"
   ]
  },
  {
   "cell_type": "code",
   "execution_count": null,
   "metadata": {},
   "outputs": [],
   "source": [
    "plt.figure(figsize=(10, 4))\n",
    "plt.plot(x_axis_freqs, kosinova_cast, label=\"kosinová část\")\n",
    "plt.plot(x_axis_freqs, sinova_cast, label=\"sinová část\", linestyle='dashed')\n",
    "plt.legend()\n",
    "plt.xlim(0, 500)\n",
    "plt.show()"
   ]
  },
  {
   "cell_type": "markdown",
   "metadata": {},
   "source": [
    "### Amplitudové Spektrum\n",
    "\n",
    "Nejčastější informací, kterou potřebujeme získat o signálu je pouze amplitudové spektrum. "
   ]
  },
  {
   "cell_type": "code",
   "execution_count": null,
   "metadata": {},
   "outputs": [],
   "source": [
    "normalizace = 1 / vzorkovaci_frekvence\n",
    "trvani = len(signal) / vzorkovaci_frekvence\n",
    "amplitudove_spektrum = np.abs(fft_result) * 2 * normalizace / trvani"
   ]
  },
  {
   "cell_type": "code",
   "execution_count": null,
   "metadata": {},
   "outputs": [],
   "source": [
    "plt.figure(figsize=(10, 4))\n",
    "plt.plot(x_axis_freqs, amplitudove_spektrum, label=\"amplitudové spektrum\")\n",
    "plt.legend()\n",
    "plt.xlim(0, 500)\n",
    "plt.show()"
   ]
  },
  {
   "cell_type": "markdown",
   "metadata": {},
   "source": [
    "### Úkol 6: Jak tedy vypadá amplitudové spektrum noty A4 z našeho příkladu?\n",
    "Za použití `np.fft.rfft` a `np.fft.rfftfreq` vykreslete spektrum (0 až 5000Hz) noty A4 (`A4.wav`) z našeho příkladu."
   ]
  },
  {
   "cell_type": "code",
   "execution_count": null,
   "metadata": {},
   "outputs": [],
   "source": [
    "# Načtení WAV souboru\n",
    "audio_path = 'A4.wav'\n",
    "vzorkovaci_frekvence, signal = wavfile.read(audio_path)\n",
    "\n",
    "# Vypočítání DFT signálu\n",
    "N = len(signal)\n",
    "fft_result = np.fft.rfft(signal)\n",
    "\n",
    "# Frekvence pro každý bod DFT\n",
    "x_axis_freqs = np.fft.rfftfreq(n=N, d=1 / vzorkovaci_frekvence)\n",
    "\n",
    "# Rozdělení DFT výsledku na reálnou a imaginární složku\n",
    "normalizace = 1 / vzorkovaci_frekvence\n",
    "trvani = len(signal) / vzorkovaci_frekvence\n",
    "amplitudove_spektrum = np.abs(fft_result) * 2 * normalizace / trvani\n",
    "\n",
    "plt.figure(figsize=(10, 4))\n",
    "plt.plot(x_axis_freqs, amplitudove_spektrum, label=\"amplitudové spektrum\")\n",
    "plt.legend()\n",
    "plt.xlim(0, 5000)\n",
    "plt.show()"
   ]
  },
  {
   "cell_type": "markdown",
   "metadata": {},
   "source": [
    "Vidíme základní frekvenční složku (440Hz) a její harmonické frekvence (její násobky).\n"
   ]
  },
  {
   "cell_type": "markdown",
   "metadata": {},
   "source": [
    "Jelikož jsou zvukové soubory uloženy v 16-bitovém formátu, tak hodnoty vzorků (tlaku vzduchu) jsou celočíselné hodnoty v rozsahu $[-2^{15}, 2^{15}-1]$. Tedy výsledné amplitudy nejsou pro nás uplně čitelné. \n",
    "\n",
    "Proto budeme signály před zpracováním normalizovat na rozsah $[-1, 1]$, pomocí podělení jeho maximální hodnotou (v absolutní hodnotě)."
   ]
  },
  {
   "cell_type": "code",
   "execution_count": null,
   "metadata": {},
   "outputs": [],
   "source": [
    "signal_normalizovany = signal / np.max(np.abs(signal))\n",
    "fft_result = np.fft.rfft(signal_normalizovany)\n",
    "\n",
    "amplitudove_spektrum = np.abs(fft_result) * 2 * normalizace / trvani\n",
    "\n",
    "plt.figure(figsize=(10, 4))\n",
    "plt.plot(x_axis_freqs, amplitudove_spektrum, label=\"amplitudové spektrum\")\n",
    "plt.legend()\n",
    "plt.xlim(0, 5000)\n",
    "plt.show()"
   ]
  },
  {
   "cell_type": "markdown",
   "metadata": {},
   "source": [
    "## Část 4: Okenní Fourierova Transformace\n",
    "\n",
    "#### Co je to Okenní Fourierova Transformace\n",
    "\n",
    "Pokud máme delší zvukový signál, který obsahuje různé tóny v různých časových sekcích, nebude nám stačit jednoduchá Fourierova transformace. Dala by nám totiž pouze celkový pohled na signál bez informace o čase výskytů jednotlivých frekvencí. Okenní Fourierova transformace (WFT) je způsob, jak získat frekvenční složky signálu v čase.\n",
    "\n",
    "WFT je vlastně Fourierova transformace aplikovaná na krátké časové úseky signálu. Výsledkem je 2D matice, která obsahuje frekvenční složky signálu v čase.\n",
    "\n",
    "Tedy:\n",
    "\n",
    "- vybereme si ze signálu sérii stejně dlouhých krátkých úseků (okének)\n",
    "  - můžeme signál pouze rozdělit, ale můžeme také použít překryv okének\n",
    "  - obvykle definujeme `velikost_okna` a `posun_okna`\n",
    "  - také je možné použít různé funkce pro \"ořezávání\" okének, tedy nevyřezávat ze signálu dle obdelníkové šablony, ale použít libovolnou jinou šablonu (např. Hammingovo okno)\n",
    "- na každé okénko aplikujeme Fourierovu transformaci (DFT)\n",
    "- výsledkem je matice, kde na ose x je čas a na ose y jsou frekvence\n",
    "- **pozor, čím lepší indentifikace v čase = menší velikost okna, tím horší identifikace ve frekvencích (menší rozlišení na ose y) a samozřejmě naopak**\n"
   ]
  },
  {
   "cell_type": "code",
   "execution_count": null,
   "metadata": {},
   "outputs": [],
   "source": [
    "# načteme data ze souboru\n",
    "vzorkovaci_frekvence, signal = wavfile.read('butterfly.wav')\n",
    "signal = signal / np.max(np.abs(signal)) # normalizace na rozsah [-1, 1]\n",
    "\n",
    "delka_nahravky = len(signal) / vzorkovaci_frekvence\n",
    "print(f\"Vzorkovací frekvence: {vzorkovaci_frekvence} Hz\")\n",
    "print(f\"Délka nahrávky: {delka_nahravky:.2f} s\")"
   ]
  },
  {
   "cell_type": "markdown",
   "metadata": {},
   "source": [
    "Přehrajeme si zvukový signál.\n"
   ]
  },
  {
   "cell_type": "code",
   "execution_count": null,
   "metadata": {},
   "outputs": [],
   "source": [
    "Audio(signal, rate=vzorkovaci_frekvence)"
   ]
  },
  {
   "cell_type": "markdown",
   "metadata": {},
   "source": [
    "Zvolíme si velikost okna a posun okna (zatím zůstaneme u obdelníkového okna).\n",
    "\n",
    "Můžeme to udělat v sekundách a použít vzorkovací frekvenci pro výpočet počtu vzorků v okně a posunu okna.\n"
   ]
  },
  {
   "cell_type": "code",
   "execution_count": null,
   "metadata": {},
   "outputs": [],
   "source": [
    "delka_okna_sekundy = 0.1\n",
    "posun_okna_sekundy = 0.01\n",
    "\n",
    "velikost_okna = int(delka_okna_sekundy * vzorkovaci_frekvence)\n",
    "posun_okna = int(posun_okna_sekundy * vzorkovaci_frekvence)\n",
    "\n",
    "print(f\"Velikost okna: {velikost_okna}\")\n",
    "print(f\"Posun okna: {posun_okna}\")"
   ]
  },
  {
   "cell_type": "markdown",
   "metadata": {},
   "source": [
    "### Úkol 7: Pro zadaný signál, velikost okna a posun okna vypočítejte okenní Fourierovu transformaci a uložte velikosti amplitud do matice\n",
    "\n",
    "- Provedeme rozbití signálu na okénka a zároveň spočítáme jejich DFT (použijeme `np.fft.rfft`)\n",
    "- spočteme amplitudové spektrum a přidáme do listu se spektry\n",
    "- pomocí `np.stack` vytvoříme z listu vektorů matici = časově-frekvenční spektrogram\n"
   ]
  },
  {
   "cell_type": "code",
   "execution_count": null,
   "metadata": {},
   "outputs": [],
   "source": [
    "N = len(signal)\n",
    "zacatek_okna = 0\n",
    "konec_okna = velikost_okna\n",
    "okeni_fft = []\n",
    "pocet_oken = 0\n",
    "\n",
    "while konec_okna <= N:\n",
    "    okno = signal[zacatek_okna:konec_okna]\n",
    "    normalizace = 1 / vzorkovaci_frekvence\n",
    "    okeni_fft.append(np.abs(np.fft.rfft(okno) * 2 * normalizace / delka_okna_sekundy))\n",
    "    zacatek_okna += posun_okna\n",
    "    konec_okna += posun_okna\n",
    "    pocet_oken += 1\n",
    "\n",
    "casove_frekvencni_matice = np.vstack(okeni_fft).T  # chceme mít čas na ose x, tedy ve sloupcích\n",
    "\n",
    "print(f\"Počet okének: {pocet_oken}\")"
   ]
  },
  {
   "cell_type": "markdown",
   "metadata": {},
   "source": [
    "Vykreslíme si výslednou matici jako obrázek pomocí `plt.imshow`."
   ]
  },
  {
   "cell_type": "code",
   "execution_count": null,
   "metadata": {},
   "outputs": [],
   "source": [
    "print(f\"Rozměry matice: {casove_frekvencni_matice.shape}\")\n",
    "\n",
    "plt.figure(figsize=(4, 4))\n",
    "plt.imshow(casove_frekvencni_matice)\n",
    "plt.show()"
   ]
  },
  {
   "cell_type": "markdown",
   "metadata": {},
   "source": [
    "Na výsledném obrázku toho moc nevidíme, navíc potřebujeme správné rozsahy os. K tomu se nám bude hodit jiná vykreslovací funkce.\n",
    "\n",
    "- spočteme příslušné hodnoty na ose x: čas od 0 do `delka_nahravky`\n",
    "- spočteme příslušné hodnoty na ose y: frekvence např. pomocí `np.fft.rfftfreq`\n",
    "- vykreslíme obrázek pomocí funkce `plt.pcolormesh`\n",
    "  - první parametr jsou hodnoty na ose x\n",
    "  - druhý parametr jsou hodnoty na ose y\n",
    "  - třetí parametr je matice hodnot, které chceme vykreslit\n",
    "  - můžeme použít parametr `cmap` pro změnu barevného schématu"
   ]
  },
  {
   "cell_type": "code",
   "execution_count": null,
   "metadata": {},
   "outputs": [],
   "source": [
    "x_axis = np.linspace(0, delka_nahravky, pocet_oken, endpoint=False)\n",
    "y_axis = np.fft.rfftfreq(n=velikost_okna, d=1 / vzorkovaci_frekvence)\n",
    "\n",
    "\n",
    "plt.figure(figsize=(10, 4))\n",
    "plt.pcolormesh(x_axis, y_axis, casove_frekvencni_matice, cmap='jet')\n",
    "plt.colorbar()\n",
    "plt.xlabel('Čas (s)')\n",
    "plt.ylabel('Frekvence (Hz)')\n",
    "plt.show()"
   ]
  },
  {
   "cell_type": "markdown",
   "metadata": {},
   "source": [
    "Základní frekvence hraných not jsou pouze v rozsahu do cca 1000 Hz, takže si zobrazíme pouze menší rozpětí na frekvenční ose."
   ]
  },
  {
   "cell_type": "code",
   "execution_count": null,
   "metadata": {},
   "outputs": [],
   "source": [
    "plt.figure(figsize=(10, 4))\n",
    "plt.pcolormesh(x_axis, y_axis, casove_frekvencni_matice, cmap='jet')\n",
    "\n",
    "plt.colorbar()\n",
    "plt.xlabel('Čas (s)')\n",
    "plt.ylabel('Frekvence (Hz)')\n",
    "\n",
    "plt.ylim(0, 4400)\n",
    "\n",
    "plt.show()"
   ]
  },
  {
   "cell_type": "markdown",
   "metadata": {},
   "source": [
    "Celý process okenní Fourierovy transformace je samozřejmě implementován v knihovně `scipy` a to v modulu `signal` pod názvem `spectrogram`. \n",
    "\n",
    "Poznámka, `spectrogram` má mnoho parametrů, může vracet různé typy spektrogramů. Nás zajímá amplitudové spektrum, a tedy použijeme parametry:\n",
    "\n",
    "- `mode='magnitude'`  (amplitudové spektrum, z dalších možností lze napočítat např. fázové spektrum, celý komplexní spektrogram, atd.)\n",
    "- `scaling='spectrum'` (normalizace při amplitudovém spektru)\n",
    "\n",
    "Výsledek budeme muset ale ještě přenásobit 2, abychom dostali správné amplitudy. \n",
    "\n",
    "Dále, pokud chceme použít stejný typ okna jako předtím tak použijeme:\n",
    "\n",
    "- `window='boxcar'` (tvar okna, zde obdelníkové)\n",
    "- `nperseg=velikost_okna` (velikost okna ve vzorcích)\n",
    "- `noverlap=velikost_okna - posun_okna` (překryv okének ve vzorcích, pro nás je to `velikost_okna - posun_okna`)\n",
    "\n"
   ]
  },
  {
   "cell_type": "code",
   "execution_count": null,
   "metadata": {},
   "outputs": [],
   "source": [
    "# výpočet spektrogramu pomocí scipy.signal\n",
    "y_axis, x_axis, casove_frekvencni_matice = sgn.spectrogram(signal,\n",
    "                                                           fs=vzorkovaci_frekvence,\n",
    "                                                           window='boxcar',  # obdélníkové okno\n",
    "                                                           nperseg=velikost_okna,  # velikost okna\n",
    "                                                           noverlap=velikost_okna - posun_okna,  # překryv\n",
    "                                                           scaling='spectrum',  # přeškálování barev\n",
    "                                                           mode='magnitude')  # amplituda\n",
    "\n",
    "plt.figure(figsize=(10, 4))\n",
    "plt.pcolormesh(x_axis, y_axis, casove_frekvencni_matice * 2, cmap='jet')\n",
    "plt.colorbar()\n",
    "plt.xlabel('Čas (s)')\n",
    "plt.ylabel('Frekvence (Hz)')\n",
    "\n",
    "plt.ylim(0, 4400)\n",
    "\n",
    "plt.show()"
   ]
  }
 ],
 "metadata": {
  "kernelspec": {
   "display_name": "Python 3",
   "language": "python",
   "name": "python3"
  },
  "language_info": {
   "codemirror_mode": {
    "name": "ipython",
    "version": 3
   },
   "file_extension": ".py",
   "mimetype": "text/x-python",
   "name": "python",
   "nbconvert_exporter": "python",
   "pygments_lexer": "ipython3",
   "version": "3.11.6"
  }
 },
 "nbformat": 4,
 "nbformat_minor": 2
}

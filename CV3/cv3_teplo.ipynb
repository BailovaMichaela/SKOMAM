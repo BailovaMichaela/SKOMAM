{
 "cells": [
  {
   "cell_type": "markdown",
   "id": "0734d2dd",
   "metadata": {},
   "source": [
    "# Cvičení 3: Modelování procesu vedení tepla\n",
    "Uvažujme oblast tvaru obdélníku o stranách $a \\times b$. \n",
    "\n",
    "V počátečním\n",
    "čase $t=0$ má každý bod oblasti určitou teplotu. Úkolem tohoto cvičení\n",
    "je modelovat průběh vedení tepla v čase, tedy spočítat teplotu v oblasti\n",
    "v časových krocích $t=dt$, $t=2dt$, $\\ldots$, $t=Ndt$. Teplotu budeme reprezentovat pomocí funkce\n",
    "$u:\\mathbb{R}^{3}\\rightarrow\\mathbb{R}$,\n",
    "hodnota $u\\left(x,y,t\\right)$ udává teplotu v bodě o souřadnicích\n",
    "$\\left(x,y\\right)$ v čase $t$. \n",
    "\n",
    "Nejprve provedeme tzv. diskretizaci - zadanou oblast rozdělíme na\n",
    "shodné obdélníkové podoblasti o stranách $dx \\times dy$.\n",
    "Teplotu v každé podoblasti budeme reprezentovat pomocí hodnoty teploty ve středu této podoblasti.\n",
    "\n",
    "Aby bylo zadání kompletní, je potřeba specifikovat tzv. okrajové podmínky.\n",
    "Budeme předpokládat, že teplota v podoblastech ležících na okraji\n",
    "oblasti zůstává stále stejná."
   ]
  },
  {
   "cell_type": "markdown",
   "id": "c8b39dc8",
   "metadata": {},
   "source": [
    "## 1. Homogenní materiál\n",
    "Předpokládejme nejprve, že materiálové parametry $\\lambda$ (součinitel tepelné vodivosti), $\\rho$ (hustota), $c$ (měrná tepelná kapacita) jsou konstantní v celé oblasti.\n",
    "\n",
    "Umíme vyjádřit teplotu podoblasti se středem $(x,y)$ v čase $t+dt$ pomocí teplot v bodech $\\left(x,y\\right)$, $\\left(x+dx,y\\right)$, $\\left(x-dx,y\\right)$, $\\left(x,y+dy\\right)$ a $\\left(x,y-dx\\right)$ v čase $t$:\n",
    "$$\n",
    "u\\left(x,y,t+dt\\right)\\approx u\\left(x,y,t\\right)+\\frac{\\lambda}{\\rho c}dt\\left(\\frac{u\\left(x-dx,y,t\\right)-u\\left(x,y,t\\right)}{dx^{2}}\\right.+\n",
    "$$\n",
    "$$\n",
    "\\frac{u\\left(x,y+dy,t\\right)-u\\left(x,y,t\\right)}{dy^{2}}+\\frac{u\\left(x+dx,y,t\\right)-u\\left(x,y,t\\right)}{dx^{2}}+\\left.\\frac{u\\left(x,y+dy,t\\right)-u\\left(x,y,t\\right)}{dy^{2}}\\right).\n",
    "$$\n",
    "\n",
    "Odvození lze najít v doprovodném textu k počítačovým cvičením."
   ]
  },
  {
   "cell_type": "code",
   "execution_count": null,
   "id": "777181ce",
   "metadata": {},
   "outputs": [],
   "source": [
    "import matplotlib.pyplot as plt # knihovna pro vykreslování grafů\n",
    "import numpy as np # matematická knihovna\n",
    "from numba import jit # just-in-time compiler pro Python"
   ]
  },
  {
   "cell_type": "markdown",
   "id": "d154fb98",
   "metadata": {},
   "source": [
    "Začneme zadefinováním vstupních parametrů:"
   ]
  },
  {
   "cell_type": "code",
   "execution_count": null,
   "id": "c9a88e30",
   "metadata": {},
   "outputs": [],
   "source": [
    "dx = 0.01 # délka intervalu diskretizace ve vodorovném směru\n",
    "dy = 0.01 # délka intervalu diskretizace ve svislém směru\n",
    "dt = 1.0 # velikost časového kroku\n",
    "N = 120 # počet časových kroků\n",
    "lam = 80 # součinitel tepelné vodivosti\n",
    "rho_c = 8000*450 # hustota x měrná tepelná kapacita"
   ]
  },
  {
   "cell_type": "markdown",
   "id": "997deecf",
   "metadata": {},
   "source": [
    "Vytvoříme matici teplot v počátečním čase:"
   ]
  },
  {
   "cell_type": "code",
   "execution_count": null,
   "id": "39349dba",
   "metadata": {},
   "outputs": [],
   "source": [
    "nx = 80 # počet intervalů diskretizace ve vodorovném směru\n",
    "ny = 60 # počet intervalů diskretizace ve svislém směru\n",
    "# Oblast reprezentujeme pomocí matice: ny ... počet řádků, nx ... počet sloupců,\n",
    "# prvky matice tedy budeme indexovat v pořadí y,x.\n",
    "U_initial = 20*np.ones((ny,nx)) # Počáteční teplotu nastavíme na 20 stupňů.\n",
    "U_initial[2:32,30:60] = 70 # Do oblasti \"vložíme\" čtverec o vyšší teplotě\n",
    "U_initial[35:50,15:30] = 2 # a čtverec o nižší teplotě."
   ]
  },
  {
   "cell_type": "markdown",
   "id": "d5e262dc",
   "metadata": {},
   "source": [
    "Vykreslíme počáteční teplotu pomocí příkazu imshow:"
   ]
  },
  {
   "cell_type": "code",
   "execution_count": null,
   "id": "59dcba6a",
   "metadata": {},
   "outputs": [],
   "source": [
    "fig, ax = plt.subplots(figsize=(5,3))\n",
    "cmap = \"jet\" # výběr barevné škály, vyzkoušejte také \"hot\" nebo \"plasma\"\n",
    "# Další barevné škály najdete na https://matplotlib.org/stable/tutorials/colors/colormaps.html\n",
    "# Parametry vmin a vmax udávají rozmezí, na které bude barevná škála namapovaná.\n",
    "vmin = 0 \n",
    "vmax = 70\n",
    "extent=(0,nx*dx,0,ny*dy) # skutečné rozměry oblasti\n",
    "image_initial = ax.imshow(U_initial, cmap=cmap, vmin=vmin, vmax=vmax, extent=extent)\n",
    "plt.colorbar(image_initial) # zobrazí barevnou škálu na pravé straně\n",
    "plt.title(\"$t$=0\")\n",
    "plt.show()"
   ]
  },
  {
   "cell_type": "markdown",
   "id": "9ef13192",
   "metadata": {},
   "source": [
    "Následuje nejdůležitější část kódu - cyklus přes jednotlivé časové kroky, v nichž je postupně modelován proces vedení tepla:"
   ]
  },
  {
   "cell_type": "code",
   "execution_count": null,
   "id": "94be9d96",
   "metadata": {},
   "outputs": [],
   "source": [
    "@jit(nopython=True) # zrychlí následující funkci (zakomentujte a porovnejte čas výpočtu)\n",
    "def one_time_step(U0, nx, ny, dx, dy, dt, lam, rho_c):\n",
    "    U1 = U0.copy() # Teplotu v novém časovém kroce nastavíme na předchozí hodnoty.\n",
    "    # Projdeme všechny vnitřní prvky matice U1. Vynecháváme okraj, tam je udržována neměnná teplota.\n",
    "    for x in range(1,nx-1):\n",
    "        for y in range(1,ny-1):\n",
    "            # Teplotu v bodě (x,y) upravíme na základě hodnot v sousedních\n",
    "            # čtyřech bodech. Výsledek zaznamenáme do matice pro nový časový krok.\n",
    "            u = U0[y,x] # teplota v bodě (x,y) v předchozím časovém kroce\n",
    "            U1[y,x] += lam/rho_c*dt*(U0[y,x-1]-u)/(dx**2)\n",
    "            U1[y,x] += lam/rho_c*dt*(U0[y,x+1]-u)/(dx**2)\n",
    "            U1[y,x] += lam/rho_c*dt*(U0[y-1,x]-u)/(dy**2)\n",
    "            U1[y,x] += lam/rho_c*dt*(U0[y+1,x]-u)/(dy**2)\n",
    "    return U1\n",
    "\n",
    "U0 = U_initial.copy() # počáteční teplota\n",
    "for i in range(N): # cyklus přes časové kroky\n",
    "    U0 = one_time_step(U0, nx, ny, dx, dy, dt, lam, rho_c)"
   ]
  },
  {
   "cell_type": "markdown",
   "id": "c4a29d9c",
   "metadata": {},
   "source": [
    "Nyní již známe aproximaci teploty v čase `N*dt`, vykreslíme ji opět pomocí příkazu imshow:"
   ]
  },
  {
   "cell_type": "code",
   "execution_count": null,
   "id": "457a6ec6",
   "metadata": {
    "scrolled": true
   },
   "outputs": [],
   "source": [
    "fig, ax = plt.subplots(figsize=(5,3))\n",
    "image_end = ax.imshow(U0, cmap=cmap, vmin=vmin, vmax=vmax, extent=extent)\n",
    "plt.colorbar(image_end) # zobrazí barevnou škálu na pravé straně\n",
    "plt.title(\"$t$=\" + str(N*dt))\n",
    "plt.show()"
   ]
  },
  {
   "cell_type": "markdown",
   "id": "138c3757",
   "metadata": {},
   "source": [
    "### 1.1. Animace\n",
    "Grafy rozložení teploty můžeme ukládat v každém časovém kroce (případně vždy po několika krocích). Z výsledných obrázků poté vytvoříme animaci."
   ]
  },
  {
   "cell_type": "code",
   "execution_count": null,
   "id": "dc614133",
   "metadata": {},
   "outputs": [],
   "source": [
    "%matplotlib widget\n",
    "# příkaz výše umožní vykreslování interaktivních grafů\n",
    "from matplotlib.animation import ArtistAnimation"
   ]
  },
  {
   "cell_type": "markdown",
   "id": "e8308cde",
   "metadata": {},
   "source": [
    "Nastavíme parametry animace a vytvoříme prázdný seznam, do kterého budeme ukládat průběžně vykreslované obrázky. Dále vykreslíme počáteční rozložení teploty a výsledný obrázek rovnou přidáme do seznamu. Jelikož to budeme provádět ještě několikrát, zabalíme vše do funkce pro inicializaci animace:"
   ]
  },
  {
   "cell_type": "code",
   "execution_count": null,
   "id": "3fe8ba16",
   "metadata": {},
   "outputs": [],
   "source": [
    "interval_of_saving = 1 # jak často budeme ukládat obrázky (grafy rozložení teploty)\n",
    "\n",
    "def initialize_animation(animation_time = 5000):\n",
    "    # animation_time ... celkový čas animace v milisekundách\n",
    "    step_time = animation_time*interval_of_saving/N # čas mezi jednotlivými obrázky v animaci\n",
    "    list_of_images = [] # prázdný seznam, do kterého budeme průběžně přidávat obrázky\n",
    "    fig, ax = plt.subplots(figsize=(5,3))\n",
    "    image_initial = ax.imshow(U_initial, cmap=cmap, vmin=vmin, vmax=vmax, extent=extent, animated=True)\n",
    "    plt.colorbar(image_initial)\n",
    "    plt.xlabel(\"x\")\n",
    "    plt.ylabel(\"y\")\n",
    "    list_of_images.append([image_initial])\n",
    "    return fig, ax, list_of_images, step_time\n",
    "\n",
    "fig, ax, list_of_images, step_time = initialize_animation()"
   ]
  },
  {
   "cell_type": "markdown",
   "id": "8a72a2d9",
   "metadata": {},
   "source": [
    "Spustíme cyklus přes jednotlivé časové kroky procesu vedení tepla, v některých krocích vykreslíme obrázek a přidáme ho do seznamu:"
   ]
  },
  {
   "cell_type": "code",
   "execution_count": null,
   "id": "a0f2a68f",
   "metadata": {},
   "outputs": [],
   "source": [
    "U0 = U_initial.copy() # počáteční teplota\n",
    "for i in range(N): # cyklus přes časové kroky\n",
    "    U0 = one_time_step(U0, nx, ny, dx, dy, dt, lam, rho_c)\n",
    "    if i%interval_of_saving==0: # obrázek vytvoříme pouze pokud je \"i\" dělitelné \"interval_of_saving\" \n",
    "        image = ax.imshow(U0, cmap=cmap, vmin=vmin, vmax=vmax, extent=extent, animated=True)\n",
    "        list_of_images.append([image])"
   ]
  },
  {
   "cell_type": "markdown",
   "id": "af17c8f0",
   "metadata": {},
   "source": [
    "Spustíme animaci:"
   ]
  },
  {
   "cell_type": "code",
   "execution_count": null,
   "id": "b1af1b2d",
   "metadata": {},
   "outputs": [],
   "source": [
    "animation = ArtistAnimation(fig, list_of_images, interval=step_time, blit=True, repeat_delay=1000)\n",
    "plt.show() # spusti animaci v okně výše, ukončíte tlačítkem vpravo nahoře"
   ]
  },
  {
   "cell_type": "markdown",
   "id": "dd6a0b66",
   "metadata": {},
   "source": [
    "Pokud Jupyter Notebook spouštíme lokálně, můžeme animaci uložit jako mp4 video (odkomentujte příkaz níže):"
   ]
  },
  {
   "cell_type": "code",
   "execution_count": null,
   "id": "db028967",
   "metadata": {},
   "outputs": [],
   "source": [
    "# animation.save(\"movie.mp4\")"
   ]
  },
  {
   "cell_type": "markdown",
   "id": "ada01821",
   "metadata": {},
   "source": [
    "## 2. Nehomogenní materiál\n",
    "V doprovodném textu k počítačovým cvičením najdeme také odvození modelování procesu vedení tepla v oblasti s nehomogenním materiálem. Umíme vyjádřit teplotu podoblasti se středem $(x,y)$ v čase $t+dt$ pomocí teplot v bodech $\\left(x,y\\right)$, $\\left(x+dx,y\\right)$, $\\left(x-dx,y\\right)$, $\\left(x,y+dy\\right)$ a $\\left(x,y-dx\\right)$ v čase $t$:\n",
    "$$u\\left(x,y,t+dt\\right)\\approx u\\left(x,y,t\\right)+\\frac{2}{\\rho\\left(x,y\\right)c\\left(x,y\\right)}dt\\left(\\frac{u\\left(x-dx,y,t\\right)-u\\left(x,y,t\\right)}{\\left(\\frac{1}{\\lambda\\left(x,y\\right)}+\\frac{1}{\\lambda\\left(x-dx,y\\right)}\\right)dx^{2}}\\right.+\\label{eq:vzorec_FYZ_xy}\n",
    "$$\n",
    "$$\\frac{u\\left(x,y+dy,t\\right)-u\\left(x,y,t\\right)}{\\left(\\frac{1}{\\lambda\\left(x,y\\right)}+\\frac{1}{\\lambda\\left(x,y+dy\\right)}\\right)dy^{2}}+\\frac{u\\left(x+dx,y,t\\right)-u\\left(x,y,t\\right)}{\\left(\\frac{1}{\\lambda\\left(x,y\\right)}+\\frac{1}{\\lambda\\left(x+dx,y\\right)}\\right)dx^{2}}+\\left.\\frac{u\\left(x,y+dy,t\\right)-u\\left(x,y,t\\right)}{\\left(\\frac{1}{\\lambda\\left(x,y\\right)}+\\frac{1}{\\lambda\\left(x,y+dy\\right)}\\right)dy^{2}}\\right).\n",
    "$$\n",
    "Materiálové parametry nyní musíme zadávat pomocí matic, které odpovídají provedené diskretizaci."
   ]
  },
  {
   "cell_type": "code",
   "execution_count": null,
   "id": "70c7c456",
   "metadata": {},
   "outputs": [],
   "source": [
    "LAM = 10*np.ones((ny,nx)) # součinitel tepelné vodivosti (ve formě matice)\n",
    "RHO_C = 8000*450*np.ones((ny,nx)) # hustota x měrná tepelná kapacita (ve formě matice)\n",
    "# V části oblasti nastavíme jiné materiálové parametry:\n",
    "LAM[17:50,10:70] = 80\n",
    "RHO_C[17:40,10:70] = 9000*450\n",
    "# Nastavením nekonečné tepelné kapacity docílíme toho, že se teplota této části oblasti nebude měnit:\n",
    "RHO_C[45:55,45:55] = np.inf\n",
    "U_initial[45:55,45:55] = 70"
   ]
  },
  {
   "cell_type": "markdown",
   "id": "e7136d21",
   "metadata": {},
   "source": [
    "Vytvoříme novou funkci pro výpočet jednoho časového kroku, která bude zohledňovat nehomogenní materiál (tj. bude pracovat s maticemi LAM a RHO_C)."
   ]
  },
  {
   "cell_type": "code",
   "execution_count": null,
   "id": "53d9b500",
   "metadata": {},
   "outputs": [],
   "source": [
    "@jit(nopython=True)\n",
    "def one_time_step_material(U0, nx, ny, dx, dy, dt, LAM, RHO_C):\n",
    "    U1 = U0.copy() # Teplotu v novém časovém kroce nastavíme na předchozí hodnoty.\n",
    "    # Projdeme všechny vnitřní prvky matice U1. Vynecháváme okraj, tam je udržována neměnná teplota.\n",
    "    for x in range(1,nx-1):\n",
    "        for y in range(1,ny-1):\n",
    "            # Teplotu v bodě (x,y) upravíme na základě hodnot v sousedních\n",
    "            # čtyřech bodech. Výsledek zaznamenáme do matice pro nový časový krok.\n",
    "            u = U0[y,x] # teplota v bodě (x,y) v předchozím časovém kroce\n",
    "            k = 2*dt/RHO_C[y,x] # 2*dt/(rho(x,y)*c(x,y))\n",
    "            l = 1/LAM[y,x] # 1/lambda(x,y)\n",
    "            U1[y,x] += k*(U0[y,x-1]-u)/(dx**2)/(l+1/LAM[y,x-1])\n",
    "            U1[y,x] += k*(U0[y,x+1]-u)/(dx**2)/(l+1/LAM[y,x+1])\n",
    "            U1[y,x] += k*(U0[y-1,x]-u)/(dy**2)/(l+1/LAM[y-1,x])\n",
    "            U1[y,x] += k*(U0[y+1,x]-u)/(dy**2)/(l+1/LAM[y+1,x])\n",
    "    return U1"
   ]
  },
  {
   "cell_type": "markdown",
   "id": "f7660189",
   "metadata": {},
   "source": [
    "Pomocí funkce `initialize_animation` nastavíme parametry animace, vytvoříme prázdný seznam pro ukládání obrázků a uložíme do něj počáteční stav."
   ]
  },
  {
   "cell_type": "code",
   "execution_count": null,
   "id": "fdc20697",
   "metadata": {
    "scrolled": true
   },
   "outputs": [],
   "source": [
    "N = 240 # počet časových kroků\n",
    "interval_of_saving = 2 # jak často budeme ukládat obrázky (grafy rozložení teploty)\n",
    "fig, ax, list_of_images, step_time = initialize_animation()"
   ]
  },
  {
   "cell_type": "markdown",
   "id": "db4a5ece",
   "metadata": {},
   "source": [
    "Spustíme cyklus přes jednotlivé časové kroky procesu vedení tepla, v některých krocích vykreslíme obrázek a přidáme ho do seznamu:"
   ]
  },
  {
   "cell_type": "code",
   "execution_count": null,
   "id": "f2e2de31",
   "metadata": {},
   "outputs": [],
   "source": [
    "U0 = U_initial.copy()\n",
    "for i in range(N): # cyklus přes časové kroky\n",
    "    U0 = one_time_step_material(U0, nx, ny, dx, dy, dt, LAM, RHO_C)\n",
    "    if i%interval_of_saving==0:\n",
    "        image = ax.imshow(U0, cmap=cmap, vmin=vmin, vmax=vmax, extent=extent, animated=True)\n",
    "        list_of_images.append([image])"
   ]
  },
  {
   "cell_type": "markdown",
   "id": "1640ba3c",
   "metadata": {},
   "source": [
    "Spustíme animaci:"
   ]
  },
  {
   "cell_type": "code",
   "execution_count": null,
   "id": "527500f6",
   "metadata": {},
   "outputs": [],
   "source": [
    "animation = ArtistAnimation(fig, list_of_images, interval=step_time, blit=True, repeat_delay=1000)\n",
    "plt.show() # spustí animaci v okně výše, ukončíte tlačítkem vpravo nahoře"
   ]
  },
  {
   "cell_type": "markdown",
   "id": "244b5b5b",
   "metadata": {},
   "source": [
    "### 2.1. Připravená modelová úloha - spirála\n",
    "Ze souborů uložených ve složce **spirala** načteme předem připravené matice `U_initial`, `LAM`, `RHO_C` a `material`. Dále nastavíme základní parametry úlohy."
   ]
  },
  {
   "cell_type": "code",
   "execution_count": null,
   "id": "463ff5b5",
   "metadata": {},
   "outputs": [],
   "source": [
    "U_initial = np.load(\"spirala/U_initial.npy\") # počáteční teplota\n",
    "LAM = np.load(\"spirala/LAM.npy\") # součinitel tepelné vodivosti (ve formě matice)\n",
    "RHO_C = np.load(\"spirala/RHO_C.npy\") # hustota x měrná tepelná kapacita (ve formě matice)\n",
    "material = np.load(\"spirala/material.npy\") # znázornění jednotlivých materiálů\n",
    "\n",
    "ny,nx = U_initial.shape # počet intervalů diskretizace ve svislém/vodorovném směru\n",
    "dx = 0.01 # délka intervalu diskretizace ve vodorovném směru\n",
    "dy = 0.01 # délka intervalu diskretizace ve svislém směru\n",
    "dt = 0.2 # velikost časového kroku\n",
    "N = 60000 # počet časových kroků\n",
    "interval_of_saving = 200 # jak často budeme ukládat obrázky (grafy rozložení teploty)\n",
    "\n",
    "vmin = np.min(U_initial)\n",
    "vmax = np.max(U_initial)\n",
    "extent=(0,nx*dx,0,ny*dy) # skutečné rozměry oblasti"
   ]
  },
  {
   "cell_type": "markdown",
   "id": "d88e4a0d",
   "metadata": {},
   "source": [
    "Pozorně si prohlédněte všechny 3 vstupní matice. Jakým způsobem očekáváte, že bude probíhat vedení tepla? Poslední matice slouží pouze pro znázornění jednotlivých materiálů (spirála = měď, okolí = beton, jeden z okrajů spirály simuluje zdroj tepla)."
   ]
  },
  {
   "cell_type": "code",
   "execution_count": null,
   "id": "98822bdc",
   "metadata": {},
   "outputs": [],
   "source": [
    "def show_input_matrices():\n",
    "    fig,ax = plt.subplots(1,4, figsize=(17,3))\n",
    "    im = ax[0].imshow(U_initial,cmap=cmap, extent=extent)\n",
    "    fig.colorbar(im,ax=ax[0])\n",
    "    ax[0].set_title(\"$u(x,y,0)$\")\n",
    "    im = ax[1].imshow(LAM,cmap=cmap, extent=extent)\n",
    "    fig.colorbar(im,ax=ax[1])\n",
    "    ax[1].set_title(\"$\\lambda(x,y)$\")\n",
    "    im = ax[2].imshow(RHO_C,cmap=cmap, extent=extent)\n",
    "    fig.colorbar(im,ax=ax[2])\n",
    "    ax[2].set_title(\"$\\\\rho(x,y)c(x,y)$\")\n",
    "    im = ax[3].imshow(material,cmap=cmap, extent=extent)\n",
    "    fig.colorbar(im,ax=ax[3])\n",
    "    ax[3].set_title(\"znázornění materiálů\")\n",
    "show_input_matrices()"
   ]
  },
  {
   "cell_type": "markdown",
   "id": "10d02b21",
   "metadata": {},
   "source": [
    "Provedeme inicializaci animace:"
   ]
  },
  {
   "cell_type": "code",
   "execution_count": null,
   "id": "f903dd85",
   "metadata": {},
   "outputs": [],
   "source": [
    "fig, ax, list_of_images, step_time = initialize_animation(animation_time = 5000)"
   ]
  },
  {
   "cell_type": "markdown",
   "id": "941ccf4d",
   "metadata": {},
   "source": [
    "Spustíme výpočet:"
   ]
  },
  {
   "cell_type": "code",
   "execution_count": null,
   "id": "f923023f",
   "metadata": {},
   "outputs": [],
   "source": [
    "U0 = U_initial.copy()\n",
    "for i in range(N): # cyklus přes časové kroky\n",
    "    U0 = one_time_step_material(U0, nx, ny, dx, dy, dt, LAM, RHO_C)\n",
    "    if i%interval_of_saving==0:\n",
    "        image = ax.imshow(U0, cmap=cmap, vmin=vmin, vmax=vmax, extent=extent, animated=True)\n",
    "        list_of_images.append([image])"
   ]
  },
  {
   "cell_type": "markdown",
   "id": "c143f400",
   "metadata": {},
   "source": [
    "Spustíme animaci:"
   ]
  },
  {
   "cell_type": "code",
   "execution_count": null,
   "id": "d387feef",
   "metadata": {},
   "outputs": [],
   "source": [
    "animation = ArtistAnimation(fig, list_of_images, interval=step_time, blit=True, repeat_delay=1000)\n",
    "plt.show() # spustí animaci v okně výše, ukončíte tlačítkem vpravo nahoře"
   ]
  },
  {
   "cell_type": "markdown",
   "id": "639aa8ce",
   "metadata": {},
   "source": [
    "### 2.2. Připravená modelová úloha - cihlová zeď\n",
    "Ze souborů uložených ve složce **cihly** načteme předem připravené matice `U_initial`, `LAM`, `RHO_C` a `material`. Dále nastavíme základní parametry úlohy."
   ]
  },
  {
   "cell_type": "code",
   "execution_count": null,
   "id": "0bbe5965",
   "metadata": {},
   "outputs": [],
   "source": [
    "U_initial = np.load(\"cihly/U_initial.npy\") # počáteční teplota\n",
    "LAM = np.load(\"cihly/LAM.npy\") # součinitel tepelné vodivosti (ve formě matice)\n",
    "RHO_C = np.load(\"cihly/RHO_C.npy\") # hustota x měrná tepelná kapacita (ve formě matice)\n",
    "material = np.load(\"cihly/material.npy\") # znázornění jednotlivých materiálů\n",
    "\n",
    "ny, nx = LAM.shape # počet intervalů diskretizace ve svislém/vodorovném směru\n",
    "dx = 0.005 # délka intervalu diskretizace ve vodorovném směru\n",
    "dy = 0.005 # délka intervalu diskretizace ve svislém směru\n",
    "dt = 2.0 # velikost časového kroku\n",
    "N = 50000 # počet časových kroků\n",
    "interval_of_saving = 200 # jak často budeme ukládat obrázky (grafy rozložení teploty)\n",
    "\n",
    "vmin = np.min(U_initial)\n",
    "vmax = np.max(U_initial)\n",
    "extent=(0,nx*dx,0,ny*dy) # skutečné rozměry oblasti"
   ]
  },
  {
   "cell_type": "markdown",
   "id": "6c10b4de",
   "metadata": {},
   "source": [
    "Opět si prohlédneme vstupní matice - oblast reprezentuje průřez cihlovou zdí, na levé straně je nastavena pokojová teplota, na pravé mrzne (opět simulováno pomocí nekonečné tepelné kapacity). Levou část zdi tvoří cihly spojené maltou, pravou část vrstva polystyrenu, oba okraje jsou pokryté omítkou. Rozměry jsou v metrech.\n",
    "\n",
    "Před spuštěním výpočtu si opět rozmyslete:\n",
    "* Jak očekáváte, že bude proces vedení tepla probíhat?\n",
    "* Jaké bude rozložení teplot v oblasti v ustáleném stavu (tj. po uplynutí dlouhé doby)? "
   ]
  },
  {
   "cell_type": "code",
   "execution_count": null,
   "id": "8f6ba576",
   "metadata": {},
   "outputs": [],
   "source": [
    "show_input_matrices()"
   ]
  },
  {
   "cell_type": "markdown",
   "id": "dd324c12",
   "metadata": {},
   "source": [
    "Provedeme inicializaci animace:"
   ]
  },
  {
   "cell_type": "code",
   "execution_count": null,
   "id": "b37e1e72",
   "metadata": {},
   "outputs": [],
   "source": [
    "fig, ax, list_of_images, step_time = initialize_animation(animation_time = 5000)"
   ]
  },
  {
   "cell_type": "markdown",
   "id": "2791f477",
   "metadata": {},
   "source": [
    "Spustíme výpočet:"
   ]
  },
  {
   "cell_type": "code",
   "execution_count": null,
   "id": "a054f7a4",
   "metadata": {},
   "outputs": [],
   "source": [
    "U0 = U_initial.copy()\n",
    "for i in range(N): # cyklus přes časové kroky\n",
    "    U0 = one_time_step_material(U0, nx, ny, dx, dy, dt, LAM, RHO_C)\n",
    "    if i%interval_of_saving==0:\n",
    "        image = ax.imshow(U0, cmap=cmap, vmin=vmin, vmax=vmax, extent=extent, animated=True)\n",
    "        list_of_images.append([image])"
   ]
  },
  {
   "cell_type": "markdown",
   "id": "dc8ed2ad",
   "metadata": {},
   "source": [
    "Spustíme animaci:"
   ]
  },
  {
   "cell_type": "code",
   "execution_count": null,
   "id": "cecbf0c3",
   "metadata": {},
   "outputs": [],
   "source": [
    "animation = ArtistAnimation(fig, list_of_images, interval=step_time, blit=True, repeat_delay=1000)\n",
    "plt.show() # spustí animaci v okně výše, ukončíte tlačítkem vpravo nahoře"
   ]
  },
  {
   "cell_type": "markdown",
   "id": "5358f13d",
   "metadata": {},
   "source": [
    "Pokud by měla simulace modelovat vyrovnávání tepla ve zdi, nedává smysl, že nahoře a dole udržujeme stále stejnou teplotu, tato teplota by se měla také měnit. Proveďme tedy modifikaci funkce `one_time_step_material`:\n",
    "* Ve svislém směru (směr $y$) nebudeme vynechávat okraj.\n",
    "* Jelikož podoblasti na horním okraji nemohou přijmou přírůstek tepla z žádných podoblastí \"nad sebou\", přírůstek založený na `U0[y+1,x]` přičteme pouze pokud `y<ny-1`. (Použíjeme podmínku `if`.)\n",
    "* Ze stejného důvodu přírůstek založený na `U0[y-1,x]` přičteme pouze pokud `y>0`.\n",
    "\n",
    "Tomuto druhu okrajové podmínky se říká Neumannova, výslednou funkci tedy nazveme `one_time_step_material_Neumann`. Pro doplnění - okrajové podmínce na levé a pravé straně (tj. předepsaná teplota) říkáme Dirichletova."
   ]
  },
  {
   "cell_type": "code",
   "execution_count": null,
   "id": "9d8e9ada",
   "metadata": {},
   "outputs": [],
   "source": [
    "@jit(nopython=True)\n",
    "def one_time_step_material_Neumann(U0, nx, ny, dx, dy, dt, LAM, RHO_C):\n",
    "    U1 = U0.copy() # Teplotu v novém časovém kroce nastavíme na předchozí hodnoty.\n",
    "    # Projdeme všechny vnitřní prvky matice U1.\n",
    "    for x in range(1,nx-1): # Vynecháváme okraj, tam je udržována neměnná teplota.\n",
    "        for y in range(0,ny):\n",
    "            # Teplotu v bodě (x,y) upravíme na základě hodnot v sousedních\n",
    "            # čtyřech bodech. Výsledek zaznamenáme do matice pro nový časový krok.\n",
    "            u = U0[y,x] # teplota v bodě (x,y) v předchozím časovém kroce\n",
    "            k = 2*dt/RHO_C[y,x] # 2*dt/(rho(x,y)*c(x,y))\n",
    "            l = 1/LAM[y,x] # 1/lambda(x,y)\n",
    "            U1[y,x] += k*(U0[y,x-1]-u)/(dx**2)/(l+1/LAM[y,x-1])\n",
    "            U1[y,x] += k*(U0[y,x+1]-u)/(dx**2)/(l+1/LAM[y,x+1])\n",
    "            if y>0:\n",
    "                U1[y,x] += k*(U0[y-1,x]-u)/(dy**2)/(l+1/LAM[y-1,x])\n",
    "            if y<ny-1:\n",
    "                U1[y,x] += k*(U0[y+1,x]-u)/(dy**2)/(l+1/LAM[y+1,x])\n",
    "    return U1"
   ]
  },
  {
   "cell_type": "markdown",
   "id": "c3aec75b",
   "metadata": {},
   "source": [
    "Provedeme inicializaci animace:"
   ]
  },
  {
   "cell_type": "code",
   "execution_count": null,
   "id": "56bf4b25",
   "metadata": {},
   "outputs": [],
   "source": [
    "fig, ax, list_of_images, step_time = initialize_animation(animation_time = 5000)"
   ]
  },
  {
   "cell_type": "markdown",
   "id": "01f281c7",
   "metadata": {},
   "source": [
    "Spustíme výpočet:"
   ]
  },
  {
   "cell_type": "code",
   "execution_count": null,
   "id": "fef721c4",
   "metadata": {},
   "outputs": [],
   "source": [
    "U0 = U_initial.copy()\n",
    "for i in range(N):\n",
    "    U0 = one_time_step_material_Neumann(U0, nx, ny, dx, dy, dt, LAM, RHO_C)\n",
    "    if i%interval_of_saving==0:\n",
    "        image = ax.imshow(U0, cmap=cmap, vmin=vmin, vmax=vmax, extent=extent, animated=True)\n",
    "        list_of_images.append([image])"
   ]
  },
  {
   "cell_type": "markdown",
   "id": "a1a95899",
   "metadata": {},
   "source": [
    "Spustíme animaci:"
   ]
  },
  {
   "cell_type": "code",
   "execution_count": null,
   "id": "ca24e41d",
   "metadata": {},
   "outputs": [],
   "source": [
    "animation = ArtistAnimation(fig, list_of_images, interval=step_time, blit=True, repeat_delay=1000)\n",
    "plt.show() # spustí animaci v okně výše, ukončíte tlačítkem vpravo nahoře"
   ]
  },
  {
   "cell_type": "code",
   "execution_count": null,
   "id": "f2954dae",
   "metadata": {},
   "outputs": [],
   "source": []
  }
 ],
 "metadata": {
  "kernelspec": {
   "display_name": "Python 3",
   "language": "python",
   "name": "python3"
  },
  "language_info": {
   "codemirror_mode": {
    "name": "ipython",
    "version": 3
   },
   "file_extension": ".py",
   "mimetype": "text/x-python",
   "name": "python",
   "nbconvert_exporter": "python",
   "pygments_lexer": "ipython3",
   "version": "3.10.1"
  }
 },
 "nbformat": 4,
 "nbformat_minor": 5
}

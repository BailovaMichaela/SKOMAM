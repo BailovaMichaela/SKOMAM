{
 "cells": [
  {
   "cell_type": "markdown",
   "metadata": {},
   "source": [
    "# Tutoriál pro Python 3"
   ]
  },
  {
   "cell_type": "markdown",
   "metadata": {},
   "source": [
    "### 0) Ovládání jupyter notebooku"
   ]
  },
  {
   "cell_type": "markdown",
   "metadata": {},
   "source": [
    "Jednodlivá políčka se nazývají \"buňky\". Každá buňka může obsahovat zdrojový kód nebo obyčejný text. Příkazy v buňce spustíme pomocí tlačítka **Run** nebo pomocí kláves **Shift+Enter**, zároveň se posuneme do nové buňky. "
   ]
  },
  {
   "cell_type": "markdown",
   "metadata": {},
   "source": [
    "### 1) Python jako kalkulačka"
   ]
  },
  {
   "cell_type": "markdown",
   "metadata": {},
   "source": [
    "Základní operace:"
   ]
  },
  {
   "cell_type": "code",
   "execution_count": 1,
   "metadata": {},
   "outputs": [
    {
     "data": {
      "text/plain": [
       "5.181818181818182"
      ]
     },
     "execution_count": 1,
     "metadata": {},
     "output_type": "execute_result"
    }
   ],
   "source": [
    "(12 + 3 * (17 - 2)) / 11"
   ]
  },
  {
   "cell_type": "markdown",
   "metadata": {},
   "source": [
    "Operace celočíselné dělení, zbytek po dělení, mocnina:"
   ]
  },
  {
   "cell_type": "code",
   "execution_count": 2,
   "metadata": {},
   "outputs": [
    {
     "data": {
      "text/plain": [
       "5"
      ]
     },
     "execution_count": 2,
     "metadata": {},
     "output_type": "execute_result"
    }
   ],
   "source": [
    "57 // 11"
   ]
  },
  {
   "cell_type": "code",
   "execution_count": 3,
   "metadata": {},
   "outputs": [
    {
     "data": {
      "text/plain": [
       "2"
      ]
     },
     "execution_count": 3,
     "metadata": {},
     "output_type": "execute_result"
    }
   ],
   "source": [
    "57 % 11"
   ]
  },
  {
   "cell_type": "code",
   "execution_count": 4,
   "metadata": {},
   "outputs": [
    {
     "data": {
      "text/plain": [
       "125"
      ]
     },
     "execution_count": 4,
     "metadata": {},
     "output_type": "execute_result"
    }
   ],
   "source": [
    "5 ** 3"
   ]
  },
  {
   "cell_type": "markdown",
   "metadata": {},
   "source": [
    "Přiřazení názvu proměnné, textový výpis:"
   ]
  },
  {
   "cell_type": "code",
   "execution_count": 5,
   "metadata": {},
   "outputs": [
    {
     "name": "stdout",
     "output_type": "stream",
     "text": [
      "57 děleno 11 dává podíl 5 a zbytek 2\n"
     ]
    }
   ],
   "source": [
    "delenec = 57\n",
    "delitel = 11\n",
    "podil = delenec//delitel\n",
    "zbytek = delenec%delitel\n",
    "print(delenec, \"děleno\", delitel, \"dává podíl\", podil, \"a zbytek\", zbytek)"
   ]
  },
  {
   "cell_type": "markdown",
   "metadata": {},
   "source": [
    "Všechny proměnné, které jsme doposud definovali, můžeme vypsat pomocí příkazu **whos**:"
   ]
  },
  {
   "cell_type": "code",
   "execution_count": 7,
   "metadata": {},
   "outputs": [
    {
     "name": "stdout",
     "output_type": "stream",
     "text": [
      "Variable   Type    Data/Info\n",
      "----------------------------\n",
      "delenec    int     57\n",
      "delitel    int     11\n",
      "podil      int     5\n",
      "zbytek     int     2\n"
     ]
    }
   ],
   "source": [
    "whos"
   ]
  },
  {
   "cell_type": "markdown",
   "metadata": {},
   "source": [
    "### 2) Datové struktury"
   ]
  },
  {
   "cell_type": "markdown",
   "metadata": {},
   "source": [
    "= struktury, do kterých můžeme uložit více proměnných. Mezi základní datové struktury v Pythonu patří například: **list**, **range**, **tuple**, **dictionary**. Ukážeme si je na příkladech."
   ]
  },
  {
   "cell_type": "markdown",
   "metadata": {},
   "source": [
    "#### 2.1) Range\n",
    "S tímto příkazem se setkáme později při práci s \"for\" cyklem."
   ]
  },
  {
   "cell_type": "code",
   "execution_count": 10,
   "metadata": {},
   "outputs": [
    {
     "data": {
      "text/plain": [
       "range(0, 6)"
      ]
     },
     "execution_count": 10,
     "metadata": {},
     "output_type": "execute_result"
    }
   ],
   "source": [
    "range(6) # reprezentuje sekvenci šesti celých čísel od 0 do 5 (0, 1, 2, 3, 4, 5)"
   ]
  },
  {
   "cell_type": "code",
   "execution_count": 11,
   "metadata": {},
   "outputs": [
    {
     "data": {
      "text/plain": [
       "range(5, 12)"
      ]
     },
     "execution_count": 11,
     "metadata": {},
     "output_type": "execute_result"
    }
   ],
   "source": [
    "range(5,12) # reprezentuje sekvenci celých čísel od 5 do 12 (5, 6, 7, 8, 9, 10, 11)"
   ]
  },
  {
   "cell_type": "code",
   "execution_count": 12,
   "metadata": {},
   "outputs": [
    {
     "data": {
      "text/plain": [
       "range(-3, 3)"
      ]
     },
     "execution_count": 12,
     "metadata": {},
     "output_type": "execute_result"
    }
   ],
   "source": [
    "range(-3,3) # reprezentuje sekvenci celých čísel od -3 do 2 (-3, -2, -1, 0, 1, 2)"
   ]
  },
  {
   "cell_type": "markdown",
   "metadata": {},
   "source": [
    "#### 2.2) Tuple\n",
    "Jedná se o sekvence, které se po vytvoření nedají nijak modifikovat. Později se s nimi setkáme například při nastavování velikosti matice."
   ]
  },
  {
   "cell_type": "code",
   "execution_count": 13,
   "metadata": {},
   "outputs": [
    {
     "name": "stdout",
     "output_type": "stream",
     "text": [
      "(3, 8.5, -17)\n"
     ]
    }
   ],
   "source": [
    "t = (3, 8.5, -17)\n",
    "print(t)"
   ]
  },
  {
   "cell_type": "code",
   "execution_count": 14,
   "metadata": {},
   "outputs": [
    {
     "data": {
      "text/plain": [
       "8.5"
      ]
     },
     "execution_count": 14,
     "metadata": {},
     "output_type": "execute_result"
    }
   ],
   "source": [
    "t[1] # můžeme vypsat prvek na určité pozici (POZOR, v Pythonu indexujeme od 0)"
   ]
  },
  {
   "cell_type": "code",
   "execution_count": 15,
   "metadata": {},
   "outputs": [
    {
     "ename": "TypeError",
     "evalue": "'tuple' object does not support item assignment",
     "output_type": "error",
     "traceback": [
      "\u001b[0;31m---------------------------------------------------------------------------\u001b[0m",
      "\u001b[0;31mTypeError\u001b[0m                                 Traceback (most recent call last)",
      "\u001b[0;32m<ipython-input-15-a32f3064e624>\u001b[0m in \u001b[0;36m<module>\u001b[0;34m\u001b[0m\n\u001b[0;32m----> 1\u001b[0;31m \u001b[0mt\u001b[0m\u001b[0;34m[\u001b[0m\u001b[0;36m1\u001b[0m\u001b[0;34m]\u001b[0m\u001b[0;34m=\u001b[0m\u001b[0;36m123\u001b[0m \u001b[0;31m# nemůžeme ale prvky měnit\u001b[0m\u001b[0;34m\u001b[0m\u001b[0;34m\u001b[0m\u001b[0m\n\u001b[0m",
      "\u001b[0;31mTypeError\u001b[0m: 'tuple' object does not support item assignment"
     ]
    }
   ],
   "source": [
    "t[1]=123 # nemůžeme ale prvky měnit"
   ]
  },
  {
   "cell_type": "markdown",
   "metadata": {},
   "source": [
    "#### 2.3) List\n",
    "Tato datová struktura má poměrně univerzální použití, budeme se s ní setkávat nejčastěji."
   ]
  },
  {
   "cell_type": "code",
   "execution_count": 16,
   "metadata": {},
   "outputs": [
    {
     "name": "stdout",
     "output_type": "stream",
     "text": [
      "[3, 17, 'devatenact', 53, 89]\n"
     ]
    }
   ],
   "source": [
    "oblibena_prvocisla = [3, 17, 'devatenact', 53, 89];\n",
    "print(oblibena_prvocisla);"
   ]
  },
  {
   "cell_type": "markdown",
   "metadata": {},
   "source": [
    "Operace s datovou strukturou List (výběr prvku, skládání seznamů).\n",
    "Indexujeme od 0."
   ]
  },
  {
   "cell_type": "code",
   "execution_count": 17,
   "metadata": {},
   "outputs": [
    {
     "name": "stdout",
     "output_type": "stream",
     "text": [
      "3\n",
      "89\n",
      "[17, 'devatenact', 53]\n",
      "[3, 17, 'devatenact', 53, 89, 2, 3, 4]\n",
      "[3, 17, 'devatenact', 53, 89, 3, 17, 'devatenact', 53, 89, 3, 17, 'devatenact', 53, 89]\n"
     ]
    }
   ],
   "source": [
    "prvni_prvek_seznamu = oblibena_prvocisla[0];\n",
    "print(prvni_prvek_seznamu)\n",
    "posledni_prvek_seznamu = oblibena_prvocisla[-1];\n",
    "print(posledni_prvek_seznamu)\n",
    "druhy_az_ctvrty = oblibena_prvocisla[1:4];\n",
    "print(druhy_az_ctvrty)\n",
    "slozeni_dvou_seznamu = oblibena_prvocisla + [2, 3, 4];\n",
    "print(slozeni_dvou_seznamu)\n",
    "nasobeni_seznamu = oblibena_prvocisla * 3;\n",
    "print(nasobeni_seznamu)"
   ]
  },
  {
   "cell_type": "markdown",
   "metadata": {},
   "source": [
    "Délka Listu:"
   ]
  },
  {
   "cell_type": "code",
   "execution_count": 18,
   "metadata": {},
   "outputs": [
    {
     "name": "stdout",
     "output_type": "stream",
     "text": [
      "Mám 5 oblíbených prvočísel.\n"
     ]
    }
   ],
   "source": [
    "print(\"Mám\", len(oblibena_prvocisla), \"oblíbených prvočísel.\")"
   ]
  },
  {
   "cell_type": "markdown",
   "metadata": {},
   "source": [
    "#### 2.4) Dictionary\n",
    "Obsahuje záznamy ve tvaru **klíč: hodnota**."
   ]
  },
  {
   "cell_type": "code",
   "execution_count": 19,
   "metadata": {},
   "outputs": [],
   "source": [
    "telefonni_seznam = {'Adam': 4593, 'Karel': 1239, 'Honza': 2929, 'Jana': 4444};"
   ]
  },
  {
   "cell_type": "code",
   "execution_count": 20,
   "metadata": {},
   "outputs": [
    {
     "data": {
      "text/plain": [
       "1239"
      ]
     },
     "execution_count": 20,
     "metadata": {},
     "output_type": "execute_result"
    }
   ],
   "source": [
    "telefonni_seznam['Karel']"
   ]
  },
  {
   "cell_type": "code",
   "execution_count": 21,
   "metadata": {},
   "outputs": [
    {
     "data": {
      "text/plain": [
       "['Adam', 'Karel', 'Honza', 'Jana']"
      ]
     },
     "execution_count": 21,
     "metadata": {},
     "output_type": "execute_result"
    }
   ],
   "source": [
    "list(telefonni_seznam) # seznam jmen"
   ]
  },
  {
   "cell_type": "markdown",
   "metadata": {},
   "source": [
    "Zadané klíče by měly být unikátní. Můžete vyzkoušet, co se stane, když do seznamu přidáme ještě jednoho Karla:"
   ]
  },
  {
   "cell_type": "code",
   "execution_count": 22,
   "metadata": {},
   "outputs": [
    {
     "data": {
      "text/plain": [
       "{'Adam': 4593, 'Karel': 6543, 'Honza': 2929, 'Jana': 4444}"
      ]
     },
     "execution_count": 22,
     "metadata": {},
     "output_type": "execute_result"
    }
   ],
   "source": [
    "telefonni_seznam = {'Adam': 4593, 'Karel': 1239, 'Honza': 2929, 'Jana': 4444, 'Karel': 6543};\n",
    "telefonni_seznam"
   ]
  },
  {
   "cell_type": "markdown",
   "metadata": {},
   "source": [
    "**Poznámka:** Do seznamu proměnných a datových struktur, které jsme doposud definovali, přibyly nové položky:"
   ]
  },
  {
   "cell_type": "code",
   "execution_count": 24,
   "metadata": {},
   "outputs": [
    {
     "name": "stdout",
     "output_type": "stream",
     "text": [
      "Variable                 Type     Data/Info\n",
      "-------------------------------------------\n",
      "delenec                  int      57\n",
      "delitel                  int      11\n",
      "druhy_az_ctvrty          list     n=3\n",
      "nasobeni_seznamu         list     n=15\n",
      "oblibena_prvocisla       list     n=5\n",
      "podil                    int      5\n",
      "posledni_prvek_seznamu   int      89\n",
      "prvni_prvek_seznamu      int      3\n",
      "slozeni_dvou_seznamu     list     n=8\n",
      "t                        tuple    n=3\n",
      "telefonni_seznam         dict     n=4\n",
      "zbytek                   int      2\n"
     ]
    }
   ],
   "source": [
    "whos"
   ]
  },
  {
   "cell_type": "markdown",
   "metadata": {},
   "source": [
    "### 3) Cykly a podmínky"
   ]
  },
  {
   "cell_type": "markdown",
   "metadata": {},
   "source": [
    "Cyklus **for** s využitím příkazu **range**. Každý den sním tolik koláčů, jako je pořadí dne v měsíci. Kolik koláčů sním v lednu?"
   ]
  },
  {
   "cell_type": "code",
   "execution_count": 25,
   "metadata": {},
   "outputs": [
    {
     "name": "stdout",
     "output_type": "stream",
     "text": [
      "496\n"
     ]
    }
   ],
   "source": [
    "suma = 0;\n",
    "for i in range(31):\n",
    "    poradi_dne = i+1; # v Pythonu je nutné dodržovat odsazení příkazů uvnitř cyklu\n",
    "    suma = suma + poradi_dne;\n",
    "print(suma)    "
   ]
  },
  {
   "cell_type": "markdown",
   "metadata": {},
   "source": [
    "Cyklus **while**. Který den v měsíci sním padesátý koláč?"
   ]
  },
  {
   "cell_type": "code",
   "execution_count": 26,
   "metadata": {},
   "outputs": [
    {
     "name": "stdout",
     "output_type": "stream",
     "text": [
      "1 1\n",
      "2 3\n",
      "3 6\n",
      "4 10\n",
      "5 15\n",
      "6 21\n",
      "7 28\n",
      "8 36\n",
      "9 45\n",
      "10 55\n",
      "Padesátý koláč sním 10 . den.\n"
     ]
    }
   ],
   "source": [
    "suma = 0;\n",
    "poradi_dne = 0;\n",
    "while suma<=50:\n",
    "    poradi_dne += 1;\n",
    "    suma = suma + poradi_dne;\n",
    "    print(poradi_dne, suma)\n",
    "print('Padesátý koláč sním', poradi_dne, '. den.')"
   ]
  },
  {
   "cell_type": "markdown",
   "metadata": {},
   "source": [
    "Podmínka **if**. Vypište všechna dvojciferná čísla dělitelná 3 a 7."
   ]
  },
  {
   "cell_type": "code",
   "execution_count": 27,
   "metadata": {
    "scrolled": true
   },
   "outputs": [
    {
     "name": "stdout",
     "output_type": "stream",
     "text": [
      "21\n",
      "42\n",
      "63\n",
      "84\n"
     ]
    }
   ],
   "source": [
    "for i in range(10,100):\n",
    "    if i%3 == 0:\n",
    "        if i%7 == 0:\n",
    "            print(i)"
   ]
  },
  {
   "cell_type": "markdown",
   "metadata": {},
   "source": [
    "### 4) Vlastní funkce:"
   ]
  },
  {
   "cell_type": "markdown",
   "metadata": {},
   "source": [
    "Funkce může vracet více výstupních hodnot. Pokud neobsahuje klíčové slovo \"return\", nevrací nic (může sloužit např. jen pro výpis). Některé vstupní proměnné (od konce) mohou mít nastavené výchozí hodnoty.\n",
    "\n",
    "**Úkol:** Napište funkci, která pro zadané rozměry a hustotu kvádru vrátí jeho objem, povrch a hmotnost."
   ]
  },
  {
   "cell_type": "code",
   "execution_count": 28,
   "metadata": {},
   "outputs": [],
   "source": [
    "def kvadr(a, b, c, hustota=1):\n",
    "    # a,b,c ... rozměry v centimetrech\n",
    "    # hustota v g/cm^3\n",
    "    objem = a*b*c;\n",
    "    povrch = 2 * (a*b + b*c + c*a)\n",
    "    hmotnost = hustota*objem\n",
    "    return objem, povrch, hmotnost"
   ]
  },
  {
   "cell_type": "code",
   "execution_count": 29,
   "metadata": {},
   "outputs": [
    {
     "name": "stdout",
     "output_type": "stream",
     "text": [
      "Kvádr má objem 30 cm^3, povrch 62 cm^2 a hmotnost 45.0 g.\n"
     ]
    }
   ],
   "source": [
    "vysledek = kvadr(2,3,5,1.5);\n",
    "print(\"Kvádr má objem\", vysledek[0], \"cm^3, povrch\", vysledek[1], \"cm^2 a hmotnost\", vysledek[2], 'g.')"
   ]
  },
  {
   "cell_type": "code",
   "execution_count": 30,
   "metadata": {},
   "outputs": [
    {
     "name": "stdout",
     "output_type": "stream",
     "text": [
      "Kvádr má objem 30 cm^3, povrch 62 cm^2 a hmotnost 30 g.\n"
     ]
    }
   ],
   "source": [
    "vysledek = kvadr(2,3,5);\n",
    "print(\"Kvádr má objem\", vysledek[0], \"cm^3, povrch\", vysledek[1], \"cm^2 a hmotnost\", vysledek[2], 'g.')"
   ]
  },
  {
   "cell_type": "markdown",
   "metadata": {},
   "source": [
    "**Úkol:** Běžná cihla má rozměry 29 cm x 14 cm x 6.5 cm a hustotu 1.9 g/cm^3. Jaká je její hmotnost?"
   ]
  },
  {
   "cell_type": "code",
   "execution_count": 31,
   "metadata": {},
   "outputs": [
    {
     "name": "stdout",
     "output_type": "stream",
     "text": [
      "Cihla má hmotnost 5014.099999999999 g.\n"
     ]
    }
   ],
   "source": [
    "vysledek = kvadr(29,14,6.5,1.9);\n",
    "print(\"Cihla má hmotnost\", vysledek[2], 'g.')"
   ]
  },
  {
   "cell_type": "markdown",
   "metadata": {},
   "source": [
    "**Poznámka:** Uvnitř funkcí můžeme používat i proměnné, které byly definované dříve mimo tuto funkci."
   ]
  },
  {
   "cell_type": "code",
   "execution_count": 32,
   "metadata": {},
   "outputs": [],
   "source": [
    "a=100;"
   ]
  },
  {
   "cell_type": "code",
   "execution_count": 33,
   "metadata": {},
   "outputs": [
    {
     "data": {
      "text/plain": [
       "127"
      ]
     },
     "execution_count": 33,
     "metadata": {},
     "output_type": "execute_result"
    }
   ],
   "source": [
    "def secti_a_b_c(b):\n",
    "    c=7;\n",
    "    return a+b+c\n",
    "secti_a_b_c(20)"
   ]
  },
  {
   "cell_type": "markdown",
   "metadata": {},
   "source": [
    "Proměnná \"a\" stále existuje, ale proměnné \"b\" a \"c\" mimo kontext funkce **secti_a_b_c** neexistují:"
   ]
  },
  {
   "cell_type": "code",
   "execution_count": 34,
   "metadata": {},
   "outputs": [
    {
     "data": {
      "text/plain": [
       "100"
      ]
     },
     "execution_count": 34,
     "metadata": {},
     "output_type": "execute_result"
    }
   ],
   "source": [
    "a"
   ]
  },
  {
   "cell_type": "code",
   "execution_count": 35,
   "metadata": {
    "scrolled": true
   },
   "outputs": [
    {
     "ename": "NameError",
     "evalue": "name 'c' is not defined",
     "output_type": "error",
     "traceback": [
      "\u001b[0;31m---------------------------------------------------------------------------\u001b[0m",
      "\u001b[0;31mNameError\u001b[0m                                 Traceback (most recent call last)",
      "\u001b[0;32m<ipython-input-35-2b66fd261ee5>\u001b[0m in \u001b[0;36m<module>\u001b[0;34m\u001b[0m\n\u001b[0;32m----> 1\u001b[0;31m \u001b[0mc\u001b[0m\u001b[0;34m\u001b[0m\u001b[0;34m\u001b[0m\u001b[0m\n\u001b[0m",
      "\u001b[0;31mNameError\u001b[0m: name 'c' is not defined"
     ]
    }
   ],
   "source": [
    "c"
   ]
  },
  {
   "cell_type": "markdown",
   "metadata": {},
   "source": [
    "### 5) Import knihoven a modulů\n",
    "Vlastní naimplementované funkce můžeme ukládat do tzv. \"modulů\". Kromě toho můžeme používat již existující moduly a knihovny obsahující spoustu užitečných funkcí. Pro jejich načtení používáme příkaz **import**."
   ]
  },
  {
   "cell_type": "code",
   "execution_count": 36,
   "metadata": {},
   "outputs": [],
   "source": [
    "import numpy # obsahuje základní i pokročilé matematické funkce a je vhodná pro práci s maticemi"
   ]
  },
  {
   "cell_type": "code",
   "execution_count": 37,
   "metadata": {},
   "outputs": [],
   "source": [
    "import numpy as np # pokud se nám název knihovny zdá příliš dlouhý, můžeme ji \"přejmenovat\""
   ]
  },
  {
   "cell_type": "code",
   "execution_count": 38,
   "metadata": {},
   "outputs": [
    {
     "data": {
      "text/plain": [
       "3.141592653589793"
      ]
     },
     "execution_count": 38,
     "metadata": {},
     "output_type": "execute_result"
    }
   ],
   "source": [
    "np.pi # konstanta pi z knihovny numpy, knihovnu voláme pomocí zkráceného názvu \"np\""
   ]
  },
  {
   "cell_type": "code",
   "execution_count": 39,
   "metadata": {},
   "outputs": [
    {
     "data": {
      "text/plain": [
       "1.0"
      ]
     },
     "execution_count": 39,
     "metadata": {},
     "output_type": "execute_result"
    }
   ],
   "source": [
    "np.sin(np.pi/2)"
   ]
  },
  {
   "cell_type": "code",
   "execution_count": 40,
   "metadata": {},
   "outputs": [
    {
     "data": {
      "text/plain": [
       "1.2246467991473532e-16"
      ]
     },
     "execution_count": 40,
     "metadata": {},
     "output_type": "execute_result"
    }
   ],
   "source": [
    "np.sin(np.pi)"
   ]
  },
  {
   "cell_type": "code",
   "execution_count": 41,
   "metadata": {},
   "outputs": [],
   "source": [
    "import matplotlib.pyplot as plt # slouží k vykreslování grafů"
   ]
  },
  {
   "cell_type": "markdown",
   "metadata": {},
   "source": [
    "### 6) Knihovna numpy\n",
    "#### 6.1) Vytvoření pole a matice"
   ]
  },
  {
   "cell_type": "code",
   "execution_count": 42,
   "metadata": {},
   "outputs": [
    {
     "data": {
      "text/plain": [
       "array([1.2, 3.4, 5.6])"
      ]
     },
     "execution_count": 42,
     "metadata": {},
     "output_type": "execute_result"
    }
   ],
   "source": [
    "np.array([1.2, 3.4, 5.6]) # vytvořní pole zadáním prvků"
   ]
  },
  {
   "cell_type": "code",
   "execution_count": 43,
   "metadata": {},
   "outputs": [
    {
     "data": {
      "text/plain": [
       "array([0., 0., 0.])"
      ]
     },
     "execution_count": 43,
     "metadata": {},
     "output_type": "execute_result"
    }
   ],
   "source": [
    "np.zeros(3) # vytvoření pole nul"
   ]
  },
  {
   "cell_type": "code",
   "execution_count": 44,
   "metadata": {},
   "outputs": [
    {
     "data": {
      "text/plain": [
       "array([1., 1., 1.])"
      ]
     },
     "execution_count": 44,
     "metadata": {},
     "output_type": "execute_result"
    }
   ],
   "source": [
    "np.ones(3) # vytvoření pole jedniček"
   ]
  },
  {
   "cell_type": "code",
   "execution_count": 45,
   "metadata": {},
   "outputs": [
    {
     "data": {
      "text/plain": [
       "array([[2, 4, 6],\n",
       "       [3, 5, 7]])"
      ]
     },
     "execution_count": 45,
     "metadata": {},
     "output_type": "execute_result"
    }
   ],
   "source": [
    "np.array([[2, 4, 6],[3, 5, 7]]) # vytvoření matice zadáním prvků"
   ]
  },
  {
   "cell_type": "code",
   "execution_count": 46,
   "metadata": {},
   "outputs": [
    {
     "data": {
      "text/plain": [
       "array([[0., 0., 0., 0.],\n",
       "       [0., 0., 0., 0.],\n",
       "       [0., 0., 0., 0.]])"
      ]
     },
     "execution_count": 46,
     "metadata": {},
     "output_type": "execute_result"
    }
   ],
   "source": [
    "np.zeros((3,4)) # vytvoření matice nul"
   ]
  },
  {
   "cell_type": "code",
   "execution_count": 47,
   "metadata": {},
   "outputs": [
    {
     "data": {
      "text/plain": [
       "array([[2.25, 2.25, 2.25],\n",
       "       [2.25, 2.25, 2.25]])"
      ]
     },
     "execution_count": 47,
     "metadata": {},
     "output_type": "execute_result"
    }
   ],
   "source": [
    "np.full((2,3),2.25) # vytvoření matice stejných prvků libovolné hodnoty (celé číslo, float, True/False)"
   ]
  },
  {
   "cell_type": "code",
   "execution_count": 48,
   "metadata": {},
   "outputs": [
    {
     "data": {
      "text/plain": [
       "array([[ True,  True,  True,  True],\n",
       "       [ True,  True,  True,  True],\n",
       "       [ True,  True,  True,  True]])"
      ]
     },
     "execution_count": 48,
     "metadata": {},
     "output_type": "execute_result"
    }
   ],
   "source": [
    "np.full((3,4),True) # vytvoření matice stejných prvků libovolné hodnoty (celé číslo, float, True/False)"
   ]
  },
  {
   "cell_type": "code",
   "execution_count": 49,
   "metadata": {},
   "outputs": [
    {
     "data": {
      "text/plain": [
       "array([[0.22459017, 0.51940167, 0.74552751, 0.65035092],\n",
       "       [0.78044937, 0.64467534, 0.64708811, 0.503477  ],\n",
       "       [0.63516623, 0.47399963, 0.25561339, 0.60259278]])"
      ]
     },
     "execution_count": 49,
     "metadata": {},
     "output_type": "execute_result"
    }
   ],
   "source": [
    "np.random.rand(3,4) # vytvoření matice náhodných čísel mezi 0 a 1 (všimněte si odlišné syntaxe!)"
   ]
  },
  {
   "cell_type": "code",
   "execution_count": 50,
   "metadata": {},
   "outputs": [
    {
     "name": "stdout",
     "output_type": "stream",
     "text": [
      "Help on built-in function rand:\n",
      "\n",
      "rand(...) method of numpy.random.mtrand.RandomState instance\n",
      "    rand(d0, d1, ..., dn)\n",
      "    \n",
      "    Random values in a given shape.\n",
      "    \n",
      "    .. note::\n",
      "        This is a convenience function for users porting code from Matlab,\n",
      "        and wraps `random_sample`. That function takes a\n",
      "        tuple to specify the size of the output, which is consistent with\n",
      "        other NumPy functions like `numpy.zeros` and `numpy.ones`.\n",
      "    \n",
      "    Create an array of the given shape and populate it with\n",
      "    random samples from a uniform distribution\n",
      "    over ``[0, 1)``.\n",
      "    \n",
      "    Parameters\n",
      "    ----------\n",
      "    d0, d1, ..., dn : int, optional\n",
      "        The dimensions of the returned array, must be non-negative.\n",
      "        If no argument is given a single Python float is returned.\n",
      "    \n",
      "    Returns\n",
      "    -------\n",
      "    out : ndarray, shape ``(d0, d1, ..., dn)``\n",
      "        Random values.\n",
      "    \n",
      "    See Also\n",
      "    --------\n",
      "    random\n",
      "    \n",
      "    Examples\n",
      "    --------\n",
      "    >>> np.random.rand(3,2)\n",
      "    array([[ 0.14022471,  0.96360618],  #random\n",
      "           [ 0.37601032,  0.25528411],  #random\n",
      "           [ 0.49313049,  0.94909878]]) #random\n",
      "\n"
     ]
    }
   ],
   "source": [
    "help(np.random.rand) # pokud nevíme, jak se některá funkce používá, můžeme využít nápovědu \"help\""
   ]
  },
  {
   "cell_type": "markdown",
   "metadata": {},
   "source": [
    "**Porovnejte:**"
   ]
  },
  {
   "cell_type": "code",
   "execution_count": 51,
   "metadata": {},
   "outputs": [
    {
     "data": {
      "text/plain": [
       "array([1., 1., 1., 1., 1.])"
      ]
     },
     "execution_count": 51,
     "metadata": {},
     "output_type": "execute_result"
    }
   ],
   "source": [
    "np.ones(5)"
   ]
  },
  {
   "cell_type": "code",
   "execution_count": 52,
   "metadata": {
    "scrolled": true
   },
   "outputs": [
    {
     "data": {
      "text/plain": [
       "array([[1., 1., 1., 1., 1.]])"
      ]
     },
     "execution_count": 52,
     "metadata": {},
     "output_type": "execute_result"
    }
   ],
   "source": [
    "np.ones((1,5))"
   ]
  },
  {
   "cell_type": "code",
   "execution_count": 53,
   "metadata": {},
   "outputs": [
    {
     "data": {
      "text/plain": [
       "array([[1.],\n",
       "       [1.],\n",
       "       [1.],\n",
       "       [1.],\n",
       "       [1.]])"
      ]
     },
     "execution_count": 53,
     "metadata": {},
     "output_type": "execute_result"
    }
   ],
   "source": [
    "np.ones((5,1))"
   ]
  },
  {
   "cell_type": "markdown",
   "metadata": {},
   "source": [
    "**Poznámka:** Pokud uvnitř funkce změníme hodnotu proměnné, mimo funkci bude mít tato proměnná opět původní hodnotu. Pokud ale uvnitř funkce změníme hodnoty v **numpy array** nebo v **List**u, tyto hodnoty zůstanou změněné. Pokud bychom chtěli zachovat i původní **numpy array**, museli bychom ho zkopírovat pomocí funkce **copy** (viz ukázka níže)."
   ]
  },
  {
   "cell_type": "code",
   "execution_count": 54,
   "metadata": {},
   "outputs": [],
   "source": [
    "a = 100; A=100*np.ones(3); "
   ]
  },
  {
   "cell_type": "code",
   "execution_count": 55,
   "metadata": {},
   "outputs": [],
   "source": [
    "def pricti10(x):\n",
    "    x = x + 10\n",
    "    return x\n",
    "\n",
    "def pricti20(x):\n",
    "    x[0] = x[0] + 20\n",
    "    return x"
   ]
  },
  {
   "cell_type": "code",
   "execution_count": 56,
   "metadata": {
    "scrolled": true
   },
   "outputs": [
    {
     "name": "stdout",
     "output_type": "stream",
     "text": [
      "110\n",
      "100\n"
     ]
    }
   ],
   "source": [
    "print(pricti10(a))\n",
    "print(a) # původní proměnná se nezměnila"
   ]
  },
  {
   "cell_type": "code",
   "execution_count": 57,
   "metadata": {},
   "outputs": [],
   "source": [
    "A_kopie = A.copy() # kopie původního pole\n",
    "B = A; # tento příkaz pole nezkopíruje, A i B budou odkazovat na stejné hodnoty"
   ]
  },
  {
   "cell_type": "code",
   "execution_count": 58,
   "metadata": {},
   "outputs": [
    {
     "name": "stdout",
     "output_type": "stream",
     "text": [
      "[120. 100. 100.]\n",
      "[120. 100. 100.]\n"
     ]
    }
   ],
   "source": [
    "print(pricti20(A)); print(A); # původní pole se změnilo"
   ]
  },
  {
   "cell_type": "code",
   "execution_count": 59,
   "metadata": {},
   "outputs": [
    {
     "name": "stdout",
     "output_type": "stream",
     "text": [
      "[100. 100. 100.]\n"
     ]
    }
   ],
   "source": [
    "print(A_kopie); # v kopii jsou uchovány původní hodnoty"
   ]
  },
  {
   "cell_type": "code",
   "execution_count": 60,
   "metadata": {},
   "outputs": [
    {
     "name": "stdout",
     "output_type": "stream",
     "text": [
      "[120. 100. 100.]\n"
     ]
    }
   ],
   "source": [
    "print(B); # pole B se změnilo spolu s polem A"
   ]
  },
  {
   "cell_type": "markdown",
   "metadata": {},
   "source": [
    "#### 4.2) Další důležité funkce\n",
    "Níže vidíte ukázku použití funkcí **arange**, **linspace**, **reshape**. Více podrobností se dozvíte pomocí příkazu **help** (např. **help(np.lispace)**)."
   ]
  },
  {
   "cell_type": "code",
   "execution_count": 61,
   "metadata": {
    "scrolled": true
   },
   "outputs": [
    {
     "data": {
      "text/plain": [
       "array([10. , 10.2, 10.4, 10.6, 10.8])"
      ]
     },
     "execution_count": 61,
     "metadata": {},
     "output_type": "execute_result"
    }
   ],
   "source": [
    "np.arange(10,11,0.2)"
   ]
  },
  {
   "cell_type": "code",
   "execution_count": 62,
   "metadata": {},
   "outputs": [
    {
     "name": "stdout",
     "output_type": "stream",
     "text": [
      "[3.  3.5 4.  4.5 5.  5.5 6.  6.5 7. ]\n"
     ]
    }
   ],
   "source": [
    "x = np.linspace(3,7,9);\n",
    "print(x);"
   ]
  },
  {
   "cell_type": "code",
   "execution_count": 63,
   "metadata": {
    "scrolled": true
   },
   "outputs": [
    {
     "data": {
      "text/plain": [
       "array([[3. , 3.5, 4. ],\n",
       "       [4.5, 5. , 5.5],\n",
       "       [6. , 6.5, 7. ]])"
      ]
     },
     "execution_count": 63,
     "metadata": {},
     "output_type": "execute_result"
    }
   ],
   "source": [
    "np.reshape(x,(3,3))"
   ]
  },
  {
   "cell_type": "markdown",
   "metadata": {},
   "source": [
    "Funkce **sort**, **min**, **max**:"
   ]
  },
  {
   "cell_type": "code",
   "execution_count": 64,
   "metadata": {},
   "outputs": [
    {
     "name": "stdout",
     "output_type": "stream",
     "text": [
      "sort: [-3 -1  3  6  8  9]\n",
      "min: -3\n",
      "max: 9\n"
     ]
    }
   ],
   "source": [
    "x = np.array([6, 9, 3, -1, 8, -3]);\n",
    "print(\"sort:\", np.sort(x));\n",
    "print(\"min:\", np.min(x));\n",
    "print(\"max:\", np.max(x));"
   ]
  },
  {
   "cell_type": "markdown",
   "metadata": {},
   "source": [
    "Funkce **sin**, **cos**, **exp**, **log**, **sqrt**, **floor**, **round**:"
   ]
  },
  {
   "cell_type": "code",
   "execution_count": 65,
   "metadata": {},
   "outputs": [],
   "source": [
    "def apply_all(x):\n",
    "    print('sin(x) =', np.sin(x));\n",
    "    print('cos(x) =', np.cos(x));\n",
    "    print('exp(x) =', np.exp(x));\n",
    "    print('log(x) =', np.log(x));\n",
    "    print('sqrt(x) =', np.sqrt(x));\n",
    "    print('floor(x) =', np.floor(x));\n",
    "    print('round(x) =', np.round(x));"
   ]
  },
  {
   "cell_type": "code",
   "execution_count": 66,
   "metadata": {},
   "outputs": [
    {
     "name": "stdout",
     "output_type": "stream",
     "text": [
      "sin(x) = [8.41470985e-01 5.98472144e-01 4.10781291e-01 1.22464680e-16]\n",
      "cos(x) = [ 0.54030231 -0.80114362 -0.91173391 -1.        ]\n",
      "exp(x) = [ 2.71828183 12.18249396 15.15426224 23.14069263]\n",
      "log(x) = [0.         0.91629073 1.         1.14472989]\n",
      "sqrt(x) = [1.         1.58113883 1.64872127 1.77245385]\n",
      "floor(x) = [1. 2. 2. 3.]\n",
      "round(x) = [1. 2. 3. 3.]\n"
     ]
    }
   ],
   "source": [
    "apply_all([1, 2.5, np.e, np.pi])"
   ]
  },
  {
   "cell_type": "markdown",
   "metadata": {},
   "source": [
    "**Indexování prvků** (z vytvořené matice vybereme pouze určité řádky a sloupce)"
   ]
  },
  {
   "cell_type": "code",
   "execution_count": 67,
   "metadata": {
    "scrolled": true
   },
   "outputs": [
    {
     "name": "stdout",
     "output_type": "stream",
     "text": [
      "[[ 1  2  3  4  5]\n",
      " [10 20 30 40 50]\n",
      " [ 9  8  7  6  5]\n",
      " [99 88 77 66 55]]\n"
     ]
    }
   ],
   "source": [
    "M = np.array([[1, 2, 3, 4, 5],[10, 20, 30, 40, 50], [9, 8, 7, 6, 5], [99, 88, 77, 66, 55]]);\n",
    "print(M)"
   ]
  },
  {
   "cell_type": "code",
   "execution_count": 68,
   "metadata": {},
   "outputs": [
    {
     "data": {
      "text/plain": [
       "array([9, 8, 7, 6, 5])"
      ]
     },
     "execution_count": 68,
     "metadata": {},
     "output_type": "execute_result"
    }
   ],
   "source": [
    "M[2,:] # výběr řádku"
   ]
  },
  {
   "cell_type": "code",
   "execution_count": 69,
   "metadata": {},
   "outputs": [
    {
     "data": {
      "text/plain": [
       "array([[ 1,  2,  3],\n",
       "       [10, 20, 30],\n",
       "       [ 9,  8,  7],\n",
       "       [99, 88, 77]])"
      ]
     },
     "execution_count": 69,
     "metadata": {},
     "output_type": "execute_result"
    }
   ],
   "source": [
    "M[:,0:3] # výběr sloupců"
   ]
  },
  {
   "cell_type": "code",
   "execution_count": 70,
   "metadata": {},
   "outputs": [
    {
     "data": {
      "text/plain": [
       "array([[20, 30],\n",
       "       [ 8,  7]])"
      ]
     },
     "execution_count": 70,
     "metadata": {},
     "output_type": "execute_result"
    }
   ],
   "source": [
    "M[1:3,1:3] # výběr řádků i sloupců"
   ]
  },
  {
   "cell_type": "code",
   "execution_count": 71,
   "metadata": {},
   "outputs": [
    {
     "name": "stdout",
     "output_type": "stream",
     "text": [
      "[[ True False False False False]\n",
      " [False False False False False]\n",
      " [False False  True False False]\n",
      " [False False False False False]]\n"
     ]
    }
   ],
   "source": [
    "B = np.full((4,5),False);\n",
    "B[0,0]=True\n",
    "B[2,2]=True\n",
    "print(B)"
   ]
  },
  {
   "cell_type": "code",
   "execution_count": 72,
   "metadata": {},
   "outputs": [
    {
     "name": "stdout",
     "output_type": "stream",
     "text": [
      "[1 7]\n",
      "[[11  2  3  4  5]\n",
      " [10 20 30 40 50]\n",
      " [ 9  8 17  6  5]\n",
      " [99 88 77 66 55]]\n"
     ]
    }
   ],
   "source": [
    "print(M[B]) # indexování pomocí matice True/False\n",
    "M[B] += 10 # přičtení čísla 10 v prvkům na vybraných pozicích\n",
    "print(M)"
   ]
  },
  {
   "cell_type": "markdown",
   "metadata": {},
   "source": [
    "### 7) Modul matplotlib.pyplot"
   ]
  },
  {
   "cell_type": "code",
   "execution_count": 73,
   "metadata": {},
   "outputs": [],
   "source": [
    "x = np.linspace(-1,6,30) # mřížka x-souřadnic\n",
    "y = x**2-3*x+1 # y-souřadnice"
   ]
  },
  {
   "cell_type": "code",
   "execution_count": 74,
   "metadata": {},
   "outputs": [
    {
     "data": {
      "image/png": "[encoded data removed]",
      "text/plain": [
       "<Figure size 432x288 with 1 Axes>"
      ]
     },
     "metadata": {
      "needs_background": "light"
     },
     "output_type": "display_data"
    }
   ],
   "source": [
    "plt.plot(x,y) # vykreslení zadané kvadratické funkce\n",
    "plt.plot(x,0*x) # vykreslení nulové funkce\n",
    "plt.legend(['kvadratická funkce','nulová funkce']) # legenda\n",
    "plt.grid() # mřížka\n",
    "plt.xlabel('osa x') # popis osy x\n",
    "plt.ylabel('osa y') # popis osy y\n",
    "plt.title('Ukázka použití knihovny matplotlib') # název grafu\n",
    "plt.show() # zobrazení celého grafu"
   ]
  },
  {
   "cell_type": "markdown",
   "metadata": {},
   "source": [
    "**Vyzkoušejte:** Je možné nastavit různé barvy a typy čáry."
   ]
  },
  {
   "cell_type": "code",
   "execution_count": 75,
   "metadata": {},
   "outputs": [
    {
     "data": {
      "image/png": "[encoded data removed]",
      "text/plain": [
       "<Figure size 432x288 with 1 Axes>"
      ]
     },
     "metadata": {
      "needs_background": "light"
     },
     "output_type": "display_data"
    }
   ],
   "source": [
    "# můžete vyzkoušet 'r'  'k'  'b'  'y'  'm'  a další (pro nastavení barvy čáry)\n",
    "# v kombinaci s '-'  '--'   '-.'  ':'  '.'  (pro nastavení typu čáry)\n",
    "plt.plot(x,y,'r.')\n",
    "plt.plot(x,0*x,'b--')\n",
    "plt.legend(['kvadratická funkce','nulová funkce']) # legenda\n",
    "plt.grid() # mřížka\n",
    "plt.show() # zobrazení celého grafu"
   ]
  },
  {
   "cell_type": "markdown",
   "metadata": {},
   "source": [
    "Lze nastavovat i další parametry grafu, například tloušťka čáry (**linewidth**) nebo velikost bodů (**markersize**). Další parametry najdete v nápovědě - **help(plt.plot)**."
   ]
  },
  {
   "cell_type": "code",
   "execution_count": 76,
   "metadata": {},
   "outputs": [
    {
     "data": {
      "image/png": "[encoded data removed]",
      "text/plain": [
       "<Figure size 432x288 with 1 Axes>"
      ]
     },
     "metadata": {
      "needs_background": "light"
     },
     "output_type": "display_data"
    }
   ],
   "source": [
    "x1 = np.linspace(0,2*np.pi,100); # mřížka x-souřadnic\n",
    "x2 = np.linspace(0,2*np.pi,9); # mřížka x-souřadnic\n",
    "plt.plot(x1,np.sin(x1),linewidth=3)\n",
    "plt.plot(x2,np.sin(x2),'.',markersize=20)\n",
    "plt.grid() # mřížka\n",
    "plt.show() # zobrazení celého grafu"
   ]
  },
  {
   "cell_type": "markdown",
   "metadata": {},
   "source": [
    "### 8) Úkoly k procvičení"
   ]
  },
  {
   "cell_type": "markdown",
   "metadata": {},
   "source": [
    "**Řešený úkol:** Napište funkci, která pro zadaný poloměr a výšku válce vrátí jeho objem a povrch. Dále vypočtěte objem a povrch válce o poloměru 10 cm a výšce 5 cm."
   ]
  },
  {
   "cell_type": "code",
   "execution_count": 12,
   "metadata": {},
   "outputs": [],
   "source": [
    "def valec(polomer, vyska):\n",
    "    objem = np.pi*(polomer**2)*vyska;\n",
    "    podstava = np.pi*polomer**2;\n",
    "    plast = 2*np.pi*polomer*vyska\n",
    "    povrch = 2*podstava + plast\n",
    "    return objem, povrch"
   ]
  },
  {
   "cell_type": "code",
   "execution_count": 13,
   "metadata": {},
   "outputs": [
    {
     "name": "stdout",
     "output_type": "stream",
     "text": [
      "válec má objem 1570.7963267948967 cm^3 a povrch 942.4777960769379 cm^2\n"
     ]
    }
   ],
   "source": [
    "vysledek = valec(10,5);\n",
    "print(\"válec má objem\", vysledek[0], \"cm^3 a povrch\", vysledek[1], \"cm^2\")"
   ]
  },
  {
   "cell_type": "markdown",
   "metadata": {},
   "source": [
    "**Úkol (k doplnění):** Napište funkci, která pro zadané koeficienty a,b,c a hodnoty d0<d1 vykreslí funkci ax^2+bx+c na intervalu (d0,d1)."
   ]
  },
  {
   "cell_type": "code",
   "execution_count": 20,
   "metadata": {},
   "outputs": [
    {
     "ename": "SyntaxError",
     "evalue": "invalid syntax (<ipython-input-20-93873651a8a1>, line 2)",
     "output_type": "error",
     "traceback": [
      "\u001b[0;36m  File \u001b[0;32m\"<ipython-input-20-93873651a8a1>\"\u001b[0;36m, line \u001b[0;32m2\u001b[0m\n\u001b[0;31m    x =  # mřížka x-souřadnic\u001b[0m\n\u001b[0m         ^\u001b[0m\n\u001b[0;31mSyntaxError\u001b[0m\u001b[0;31m:\u001b[0m invalid syntax\n"
     ]
    }
   ],
   "source": [
    "def vykresleni(a,b,c,d0,d1):\n",
    "    x =  # mřížka x-souřadnic\n",
    "    y =  # y-souřadnice\n",
    "    plt.plot(x,y)\n",
    "    plt.show()"
   ]
  },
  {
   "cell_type": "code",
   "execution_count": 15,
   "metadata": {},
   "outputs": [
    {
     "ename": "NameError",
     "evalue": "name 'vykresleni' is not defined",
     "output_type": "error",
     "traceback": [
      "\u001b[0;31m---------------------------------------------------------------------------\u001b[0m",
      "\u001b[0;31mNameError\u001b[0m                                 Traceback (most recent call last)",
      "\u001b[0;32m<ipython-input-15-14146512a5fc>\u001b[0m in \u001b[0;36m<module>\u001b[0;34m\u001b[0m\n\u001b[0;32m----> 1\u001b[0;31m \u001b[0mvykresleni\u001b[0m\u001b[0;34m(\u001b[0m\u001b[0;36m1\u001b[0m\u001b[0;34m,\u001b[0m\u001b[0;36m2\u001b[0m\u001b[0;34m,\u001b[0m\u001b[0;36m1\u001b[0m\u001b[0;34m,\u001b[0m\u001b[0;34m-\u001b[0m\u001b[0;36m5\u001b[0m\u001b[0;34m,\u001b[0m\u001b[0;36m5\u001b[0m\u001b[0;34m)\u001b[0m\u001b[0;34m\u001b[0m\u001b[0;34m\u001b[0m\u001b[0m\n\u001b[0m",
      "\u001b[0;31mNameError\u001b[0m: name 'vykresleni' is not defined"
     ]
    }
   ],
   "source": [
    "vykresleni(1,2,1,-5,5)"
   ]
  },
  {
   "cell_type": "markdown",
   "metadata": {},
   "source": [
    "**Úkol (k doplnění):** Napište funkci, která pro zadané koeficienty a,b,c vypíše kořeny kvadratické rovnice ax^2+bx+c=0."
   ]
  },
  {
   "cell_type": "code",
   "execution_count": 16,
   "metadata": {},
   "outputs": [
    {
     "ename": "SyntaxError",
     "evalue": "invalid syntax (<ipython-input-16-20280985a237>, line 2)",
     "output_type": "error",
     "traceback": [
      "\u001b[0;36m  File \u001b[0;32m\"<ipython-input-16-20280985a237>\"\u001b[0;36m, line \u001b[0;32m2\u001b[0m\n\u001b[0;31m    D =  # výpočet diskriminantu\u001b[0m\n\u001b[0m         ^\u001b[0m\n\u001b[0;31mSyntaxError\u001b[0m\u001b[0;31m:\u001b[0m invalid syntax\n"
     ]
    }
   ],
   "source": [
    "def koreny(a,b,c):\n",
    "    D =  # výpočet diskriminantu\n",
    "    if D>0: # diskriminant je kladný\n",
    "        x1 =\n",
    "        x2 = \n",
    "        print(\"Rovnice má kořeny\", x1, \"a\", x2);\n",
    "    elif D==0: # diskriminant je roven 0\n",
    "        x1 =\n",
    "        print(\"Rovnice má dvojnásobný kořen\", x1);\n",
    "    else: # diskriminant je záporný\n",
    "        print(\"Rovnice nemá reálné kořeny\")\n"
   ]
  },
  {
   "cell_type": "code",
   "execution_count": 17,
   "metadata": {},
   "outputs": [
    {
     "ename": "NameError",
     "evalue": "name 'koreny' is not defined",
     "output_type": "error",
     "traceback": [
      "\u001b[0;31m---------------------------------------------------------------------------\u001b[0m",
      "\u001b[0;31mNameError\u001b[0m                                 Traceback (most recent call last)",
      "\u001b[0;32m<ipython-input-17-c69e168006cf>\u001b[0m in \u001b[0;36m<module>\u001b[0;34m\u001b[0m\n\u001b[0;32m----> 1\u001b[0;31m \u001b[0mkoreny\u001b[0m\u001b[0;34m(\u001b[0m\u001b[0;36m1\u001b[0m\u001b[0;34m,\u001b[0m\u001b[0;36m2\u001b[0m\u001b[0;34m,\u001b[0m\u001b[0;36m1\u001b[0m\u001b[0;34m)\u001b[0m\u001b[0;34m\u001b[0m\u001b[0;34m\u001b[0m\u001b[0m\n\u001b[0m",
      "\u001b[0;31mNameError\u001b[0m: name 'koreny' is not defined"
     ]
    }
   ],
   "source": [
    "koreny(1,2,1)"
   ]
  },
  {
   "cell_type": "markdown",
   "metadata": {},
   "source": [
    "**Řešený úkol:** Využijte předchozí úkoly a vytvořte funkci, která pro zadané koeficienty a,b,c a hodnoty d0<d1 vykreslí funkci ax^2+bx+c na intervalu (d0,d1) a zároveň znázorní kořeny kvadratické rovnice ax^2+bx+c=0."
   ]
  },
  {
   "cell_type": "code",
   "execution_count": 18,
   "metadata": {},
   "outputs": [],
   "source": [
    "def vykresleni_a_koreny(a,b,c,d0,d1):\n",
    "    x = np.linspace(d0,d1,100); # mřížka x-souřadnic\n",
    "    y = a*x**2 + b*x + c; # y-souřadnice\n",
    "    plt.plot(x,y) # kvadraticka funkce\n",
    "    plt.plot(x,0*x) # nulova funkce\n",
    "    plt.legend(['kvadratická funkce','nulová funkce']) # legenda\n",
    "    plt.grid()\n",
    "    D = b**2-4*a*c; # výpočet diskriminantu\n",
    "    if D>0: # diskriminant je kladný\n",
    "        sqrtD = np.sqrt(D);\n",
    "        x1 = (-b+sqrtD)/(2*a);\n",
    "        x2 = (-b-sqrtD)/(2*a);\n",
    "        print(\"Rovnice má kořeny\", x1, \"a\", x2);\n",
    "        plt.plot([x1,x2],[0,0],'.',markersize=10);\n",
    "    elif D==0: # diskriminant je roven 0\n",
    "        x1 = -b/(2*a);\n",
    "        print(\"Rovnice má dvojnásobný kořen\", x1);\n",
    "    else: # diskriminant je záporný\n",
    "        print(\"Rovnice nemá reálné kořeny\")\n",
    "    plt.show()"
   ]
  },
  {
   "cell_type": "code",
   "execution_count": 19,
   "metadata": {},
   "outputs": [
    {
     "name": "stdout",
     "output_type": "stream",
     "text": [
      "Rovnice má kořeny 5.0 a 3.0\n"
     ]
    },
    {
     "data": {
      "image/png": "[encoded data removed]",
      "text/plain": [
       "<Figure size 432x288 with 1 Axes>"
      ]
     },
     "metadata": {
      "needs_background": "light"
     },
     "output_type": "display_data"
    }
   ],
   "source": [
    "vykresleni_a_koreny(1,-8,15,0,10)"
   ]
  },
  {
   "cell_type": "code",
   "execution_count": null,
   "metadata": {},
   "outputs": [],
   "source": []
  },
  {
   "cell_type": "code",
   "execution_count": null,
   "metadata": {},
   "outputs": [],
   "source": []
  }
 ],
 "metadata": {
  "kernelspec": {
   "display_name": "Python 3",
   "language": "python",
   "name": "python3"
  },
  "language_info": {
   "codemirror_mode": {
    "name": "ipython",
    "version": 3
   },
   "file_extension": ".py",
   "mimetype": "text/x-python",
   "name": "python",
   "nbconvert_exporter": "python",
   "pygments_lexer": "ipython3",
   "version": "3.8.6"
  }
 },
 "nbformat": 4,
 "nbformat_minor": 4
}

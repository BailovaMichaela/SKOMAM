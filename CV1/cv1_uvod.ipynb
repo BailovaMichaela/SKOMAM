{
 "cells": [
  {
   "cell_type": "markdown",
   "metadata": {},
   "source": [
    "Videocvičení naleznete zde: https://youtu.be/2BVFtD5C-r8"
   ]
  },
  {
   "cell_type": "markdown",
   "metadata": {},
   "source": [
    "# Tutoriál pro Python 3"
   ]
  },
  {
   "cell_type": "markdown",
   "metadata": {},
   "source": [
    "### 0) Ovládání jupyter notebooku"
   ]
  },
  {
   "cell_type": "markdown",
   "metadata": {},
   "source": [
    "Jednotlivá políčka se nazývají \"buňky\". Každá buňka může obsahovat zdrojový kód nebo obyčejný text. Příkazy v buňce spustíme pomocí tlačítka **Run** nebo pomocí kláves **Shift+Enter**, zároveň se posuneme do nové buňky. "
   ]
  },
  {
   "cell_type": "markdown",
   "metadata": {},
   "source": [
    "### 1) Python jako kalkulačka"
   ]
  },
  {
   "cell_type": "markdown",
   "metadata": {},
   "source": [
    "Základní operace:"
   ]
  },
  {
   "cell_type": "code",
   "execution_count": null,
   "metadata": {},
   "outputs": [],
   "source": [
    "(12 + 3 * (17 - 2)) / 11"
   ]
  },
  {
   "cell_type": "markdown",
   "metadata": {},
   "source": [
    "Operace celočíselné dělení, zbytek po dělení, mocnina:"
   ]
  },
  {
   "cell_type": "code",
   "execution_count": null,
   "metadata": {},
   "outputs": [],
   "source": [
    "57 // 11"
   ]
  },
  {
   "cell_type": "code",
   "execution_count": null,
   "metadata": {},
   "outputs": [],
   "source": [
    "57 % 11"
   ]
  },
  {
   "cell_type": "code",
   "execution_count": null,
   "metadata": {},
   "outputs": [],
   "source": [
    "5 ** 3"
   ]
  },
  {
   "cell_type": "markdown",
   "metadata": {},
   "source": [
    "Přiřazení názvu proměnné, textový výpis:"
   ]
  },
  {
   "cell_type": "code",
   "execution_count": null,
   "metadata": {},
   "outputs": [],
   "source": [
    "delenec = 57\n",
    "delitel = 11\n",
    "podil = delenec//delitel\n",
    "zbytek = delenec%delitel\n",
    "print(delenec, \"děleno\", delitel, \"dává podíl\", podil, \"a zbytek\", zbytek)"
   ]
  },
  {
   "cell_type": "markdown",
   "metadata": {},
   "source": [
    "Všechny proměnné, které jsme doposud definovali, můžeme vypsat pomocí příkazu **whos**:"
   ]
  },
  {
   "cell_type": "code",
   "execution_count": null,
   "metadata": {},
   "outputs": [],
   "source": [
    "whos"
   ]
  },
  {
   "cell_type": "markdown",
   "metadata": {},
   "source": [
    "### 2) Datové struktury"
   ]
  },
  {
   "cell_type": "markdown",
   "metadata": {},
   "source": [
    "= struktury, do kterých můžeme uložit více proměnných. Mezi základní datové struktury v Pythonu patří například: **list**, **range**, **tuple**, **dictionary**. Ukážeme si je na příkladech."
   ]
  },
  {
   "cell_type": "markdown",
   "metadata": {},
   "source": [
    "#### 2.1) Range\n",
    "S tímto příkazem se setkáme později při práci s \"for\" cyklem."
   ]
  },
  {
   "cell_type": "code",
   "execution_count": null,
   "metadata": {},
   "outputs": [],
   "source": [
    "range(6) # reprezentuje sekvenci šesti celých čísel od 0 do 5 (0, 1, 2, 3, 4, 5)"
   ]
  },
  {
   "cell_type": "code",
   "execution_count": null,
   "metadata": {},
   "outputs": [],
   "source": [
    "range(5,12) # reprezentuje sekvenci celých čísel od 5 do 12 (5, 6, 7, 8, 9, 10, 11)"
   ]
  },
  {
   "cell_type": "code",
   "execution_count": null,
   "metadata": {},
   "outputs": [],
   "source": [
    "range(-3,3) # reprezentuje sekvenci celých čísel od -3 do 2 (-3, -2, -1, 0, 1, 2)"
   ]
  },
  {
   "cell_type": "markdown",
   "metadata": {},
   "source": [
    "#### 2.2) Tuple\n",
    "Jedná se o sekvence, které se po vytvoření nedají nijak modifikovat. Později se s nimi setkáme například při nastavování velikosti matice."
   ]
  },
  {
   "cell_type": "code",
   "execution_count": null,
   "metadata": {},
   "outputs": [],
   "source": [
    "t = (3, 8.5, -17)\n",
    "print(t)"
   ]
  },
  {
   "cell_type": "code",
   "execution_count": null,
   "metadata": {},
   "outputs": [],
   "source": [
    "t[1] # můžeme vypsat prvek na určité pozici (POZOR, v Pythonu indexujeme od 0)"
   ]
  },
  {
   "cell_type": "code",
   "execution_count": null,
   "metadata": {},
   "outputs": [],
   "source": [
    "t[1]=123 # nemůžeme ale prvky měnit"
   ]
  },
  {
   "cell_type": "markdown",
   "metadata": {},
   "source": [
    "#### 2.3) List\n",
    "Tato datová struktura má poměrně univerzální použití, budeme se s ní setkávat nejčastěji."
   ]
  },
  {
   "cell_type": "code",
   "execution_count": null,
   "metadata": {},
   "outputs": [],
   "source": [
    "oblibena_prvocisla = [3, 17, 'devatenact', 53, 89]\n",
    "print(oblibena_prvocisla)"
   ]
  },
  {
   "cell_type": "markdown",
   "metadata": {},
   "source": [
    "Operace s datovou strukturou List (výběr prvku, spojení seznamů).\n",
    "Indexujeme od 0."
   ]
  },
  {
   "cell_type": "code",
   "execution_count": null,
   "metadata": {},
   "outputs": [],
   "source": [
    "prvni_prvek_seznamu = oblibena_prvocisla[0]\n",
    "print(prvni_prvek_seznamu)"
   ]
  },
  {
   "cell_type": "code",
   "execution_count": null,
   "metadata": {},
   "outputs": [],
   "source": [
    "posledni_prvek_seznamu = oblibena_prvocisla[-1]\n",
    "print(posledni_prvek_seznamu)"
   ]
  },
  {
   "cell_type": "code",
   "execution_count": null,
   "metadata": {},
   "outputs": [],
   "source": [
    "druhy_az_ctvrty = oblibena_prvocisla[1:4]\n",
    "print(druhy_az_ctvrty)"
   ]
  },
  {
   "cell_type": "code",
   "execution_count": null,
   "metadata": {},
   "outputs": [],
   "source": [
    "spojeni_dvou_seznamu = oblibena_prvocisla + [2, 3, 4]\n",
    "print(spojeni_dvou_seznamu)"
   ]
  },
  {
   "cell_type": "code",
   "execution_count": null,
   "metadata": {},
   "outputs": [],
   "source": [
    "nasobeni_seznamu = oblibena_prvocisla * 3;\n",
    "print(nasobeni_seznamu)"
   ]
  },
  {
   "cell_type": "markdown",
   "metadata": {},
   "source": [
    "Délka Listu:"
   ]
  },
  {
   "cell_type": "code",
   "execution_count": null,
   "metadata": {
    "scrolled": false
   },
   "outputs": [],
   "source": [
    "print(\"Mám\", len(oblibena_prvocisla), \"oblíbených prvočísel.\")"
   ]
  },
  {
   "cell_type": "markdown",
   "metadata": {},
   "source": [
    "#### 2.4) Dictionary\n",
    "Obsahuje záznamy ve tvaru **klíč: hodnota**."
   ]
  },
  {
   "cell_type": "code",
   "execution_count": null,
   "metadata": {},
   "outputs": [],
   "source": [
    "telefonni_seznam = {'Adam': 4593, 'Karel': 1239, 'Honza': 2929, 'Jana': 4444}"
   ]
  },
  {
   "cell_type": "code",
   "execution_count": null,
   "metadata": {},
   "outputs": [],
   "source": [
    "telefonni_seznam['Karel']"
   ]
  },
  {
   "cell_type": "code",
   "execution_count": null,
   "metadata": {},
   "outputs": [],
   "source": [
    "list(telefonni_seznam) # seznam jmen"
   ]
  },
  {
   "cell_type": "markdown",
   "metadata": {},
   "source": [
    "Zadané klíče by měly být unikátní. Můžete vyzkoušet, co se stane, když do seznamu přidáme ještě jednoho Karla:"
   ]
  },
  {
   "cell_type": "code",
   "execution_count": null,
   "metadata": {},
   "outputs": [],
   "source": [
    "telefonni_seznam = {'Adam': 4593, 'Karel': 1239, 'Honza': 2929, 'Jana': 4444, 'Karel': 6543}\n",
    "telefonni_seznam"
   ]
  },
  {
   "cell_type": "markdown",
   "metadata": {},
   "source": [
    "**Poznámka:** Do seznamu proměnných a datových struktur, které jsme doposud definovali, přibyly nové položky:"
   ]
  },
  {
   "cell_type": "code",
   "execution_count": null,
   "metadata": {},
   "outputs": [],
   "source": [
    "whos"
   ]
  },
  {
   "cell_type": "markdown",
   "metadata": {},
   "source": [
    "### 3) Cykly a podmínky"
   ]
  },
  {
   "cell_type": "markdown",
   "metadata": {},
   "source": [
    "**3.1)** Cyklus **for** s využitím příkazu **range**. Michaela sní každý prosincový den tolik vanilkových rohlíčků, jako je pořadí dne v měsíci. Kolik vanilkových rohlíčků sní za celý prosinec?"
   ]
  },
  {
   "cell_type": "code",
   "execution_count": null,
   "metadata": {},
   "outputs": [],
   "source": [
    "suma = 0;\n",
    "for i in range(31):\n",
    "    poradi_dne = i+1; # v Pythonu je nutné dodržovat odsazení příkazů uvnitř cyklu\n",
    "    suma += poradi_dne;\n",
    "print(suma)    "
   ]
  },
  {
   "cell_type": "markdown",
   "metadata": {},
   "source": [
    "**3.2)** Cyklus **while**. Který den sní padesátý vanilkový rohlíček?"
   ]
  },
  {
   "cell_type": "code",
   "execution_count": null,
   "metadata": {},
   "outputs": [],
   "source": [
    "suma = 0;\n",
    "poradi_dne = 0;\n",
    "while suma<=50:\n",
    "    poradi_dne += 1;\n",
    "    suma = suma + poradi_dne;\n",
    "    print(poradi_dne, suma)\n",
    "print('Padesátý rohlíček sní', poradi_dne, '. den.')"
   ]
  },
  {
   "cell_type": "markdown",
   "metadata": {},
   "source": [
    "**3.3)** Podmínka **if**. Vypište všechna dvojciferná čísla dělitelná 3 a 7. Všimněte si také použití klíčového slova **and**."
   ]
  },
  {
   "cell_type": "code",
   "execution_count": null,
   "metadata": {
    "scrolled": false
   },
   "outputs": [],
   "source": [
    "for i in range(10,100):\n",
    "    if i%3 == 0 and i%7 == 0:\n",
    "        print(i)"
   ]
  },
  {
   "cell_type": "markdown",
   "metadata": {},
   "source": [
    "**3.4)** Předchozí úloha se dá v Pythonu vyřešit i následujícím způsobem, tzv. **list comprehension**:"
   ]
  },
  {
   "cell_type": "code",
   "execution_count": null,
   "metadata": {
    "scrolled": true
   },
   "outputs": [],
   "source": [
    "delitelna_cisla = [cislo for cislo in range(10,100) if cislo%3==0 and cislo%7==0]\n",
    "print(delitelna_cisla)"
   ]
  },
  {
   "cell_type": "markdown",
   "metadata": {},
   "source": [
    "Pomocí **list comprehension** můžeme jednak vybírat prvky z jiného pole, ale zároveň nad nimi lze provést i nějakou operaci.\n",
    "\n",
    "Některá z čísel v zadaném seznamu jsou sedminásobkem jistých přirozených čísel, zjistěte kterých."
   ]
  },
  {
   "cell_type": "code",
   "execution_count": null,
   "metadata": {},
   "outputs": [],
   "source": [
    "seznam_cisel = [483985, 2814, 57493, 20336, 858493, 14147, 489831, 43889, 11171]\n",
    "print([cislo//7 for cislo in seznam_cisel if cislo%7==0])"
   ]
  },
  {
   "cell_type": "markdown",
   "metadata": {},
   "source": [
    "### 4) Vytváření funkcí:"
   ]
  },
  {
   "cell_type": "markdown",
   "metadata": {},
   "source": [
    "Funkce může vracet více výstupních hodnot. Pokud neobsahuje klíčové slovo \"return\", nevrací nic (může sloužit např. jen pro výpis). Některé vstupní proměnné (od konce) mohou mít nastavené výchozí hodnoty.\n",
    "\n",
    "**Úkol:** Napište funkci, která pro zadané rozměry a hustotu kvádru vrátí jeho objem, povrch a hmotnost."
   ]
  },
  {
   "cell_type": "code",
   "execution_count": null,
   "metadata": {},
   "outputs": [],
   "source": [
    "def kvadr(a, b, c, hustota=1):\n",
    "    # a,b,c ... rozměry v centimetrech\n",
    "    # hustota v g/cm^3\n",
    "    objem = a*b*c;\n",
    "    povrch = 2 * (a*b + b*c + c*a)\n",
    "    hmotnost = hustota*objem\n",
    "    return objem, povrch, hmotnost"
   ]
  },
  {
   "cell_type": "code",
   "execution_count": null,
   "metadata": {},
   "outputs": [],
   "source": [
    "vysledek = kvadr(2,3,5,1.5);\n",
    "print(\"Kvádr má objem\", vysledek[0], \"cm^3, povrch\", vysledek[1], \"cm^2 a hmotnost\", vysledek[2], 'g.')"
   ]
  },
  {
   "cell_type": "code",
   "execution_count": null,
   "metadata": {},
   "outputs": [],
   "source": [
    "vysledek = kvadr(2,3,5);\n",
    "print(\"Kvádr má objem\", vysledek[0], \"cm^3, povrch\", vysledek[1], \"cm^2 a hmotnost\", vysledek[2], 'g.')"
   ]
  },
  {
   "cell_type": "markdown",
   "metadata": {},
   "source": [
    "**Úkol:** Běžná cihla má rozměry 29 cm x 14 cm x 6.5 cm a hustotu 1.9 g/cm^3. Jaká je její hmotnost?"
   ]
  },
  {
   "cell_type": "code",
   "execution_count": null,
   "metadata": {},
   "outputs": [],
   "source": [
    "vysledek = kvadr(29,14,6.5,1.9);\n",
    "print(\"Cihla má hmotnost\", vysledek[2], 'g.')"
   ]
  },
  {
   "cell_type": "markdown",
   "metadata": {},
   "source": [
    "**Poznámka:** Uvnitř funkcí můžeme používat i proměnné, které byly definované dříve mimo tuto funkci."
   ]
  },
  {
   "cell_type": "code",
   "execution_count": null,
   "metadata": {},
   "outputs": [],
   "source": [
    "a=100"
   ]
  },
  {
   "cell_type": "code",
   "execution_count": null,
   "metadata": {},
   "outputs": [],
   "source": [
    "def secti_a_b_c(b):\n",
    "    c=7;\n",
    "    return a+b+c\n",
    "secti_a_b_c(20)"
   ]
  },
  {
   "cell_type": "markdown",
   "metadata": {},
   "source": [
    "Proměnná \"a\" stále existuje, ale proměnné \"b\" a \"c\" mimo kontext funkce **secti_a_b_c** neexistují:"
   ]
  },
  {
   "cell_type": "code",
   "execution_count": null,
   "metadata": {},
   "outputs": [],
   "source": [
    "a"
   ]
  },
  {
   "cell_type": "code",
   "execution_count": null,
   "metadata": {
    "scrolled": true
   },
   "outputs": [],
   "source": [
    "c"
   ]
  },
  {
   "cell_type": "markdown",
   "metadata": {},
   "source": [
    "### 5) Import knihoven a modulů\n",
    "Vlastní naimplementované funkce můžeme ukládat do tzv. \"modulů\". Kromě toho můžeme používat již existující moduly a knihovny obsahující spoustu užitečných funkcí. Pro jejich načtení používáme příkaz **import**."
   ]
  },
  {
   "cell_type": "code",
   "execution_count": null,
   "metadata": {},
   "outputs": [],
   "source": [
    "import numpy # obsahuje základní i pokročilé matematické funkce a je vhodná pro práci s maticemi"
   ]
  },
  {
   "cell_type": "code",
   "execution_count": null,
   "metadata": {},
   "outputs": [],
   "source": [
    "import numpy as np # pokud se nám název knihovny zdá příliš dlouhý, můžeme ji \"přejmenovat\""
   ]
  },
  {
   "cell_type": "code",
   "execution_count": null,
   "metadata": {},
   "outputs": [],
   "source": [
    "np.pi # konstanta pi z knihovny numpy, knihovnu voláme pomocí zkráceného názvu \"np\""
   ]
  },
  {
   "cell_type": "code",
   "execution_count": null,
   "metadata": {},
   "outputs": [],
   "source": [
    "np.sin(np.pi/2)"
   ]
  },
  {
   "cell_type": "code",
   "execution_count": null,
   "metadata": {},
   "outputs": [],
   "source": [
    "np.sin(np.pi) # všimněte si nepřesné aritmetiky počítačových výpočtů"
   ]
  },
  {
   "cell_type": "code",
   "execution_count": null,
   "metadata": {},
   "outputs": [],
   "source": [
    "import matplotlib.pyplot as plt # slouží k vykreslování grafů"
   ]
  },
  {
   "cell_type": "markdown",
   "metadata": {},
   "source": [
    "### 6) Knihovna numpy\n",
    "#### 6.1) Vytvoření pole a matice"
   ]
  },
  {
   "cell_type": "code",
   "execution_count": null,
   "metadata": {},
   "outputs": [],
   "source": [
    "np.array([1.2, 3.4, 5.6]) # vytvořní pole zadáním prvků"
   ]
  },
  {
   "cell_type": "code",
   "execution_count": null,
   "metadata": {},
   "outputs": [],
   "source": [
    "np.zeros(3) # vytvoření pole nul"
   ]
  },
  {
   "cell_type": "code",
   "execution_count": null,
   "metadata": {},
   "outputs": [],
   "source": [
    "np.ones(3) # vytvoření pole jedniček"
   ]
  },
  {
   "cell_type": "code",
   "execution_count": null,
   "metadata": {},
   "outputs": [],
   "source": [
    "np.array([[2, 4, 6],[3, 5, 7]]) # vytvoření matice zadáním prvků"
   ]
  },
  {
   "cell_type": "code",
   "execution_count": null,
   "metadata": {},
   "outputs": [],
   "source": [
    "np.zeros((3,4)) # vytvoření matice nul"
   ]
  },
  {
   "cell_type": "code",
   "execution_count": null,
   "metadata": {},
   "outputs": [],
   "source": [
    "np.full((2,3),2.25) # vytvoření matice stejných prvků libovolné hodnoty (celé číslo, float, True/False)"
   ]
  },
  {
   "cell_type": "code",
   "execution_count": null,
   "metadata": {},
   "outputs": [],
   "source": [
    "np.full((3,4),True) # vytvoření matice stejných prvků libovolné hodnoty (celé číslo, float, True/False)"
   ]
  },
  {
   "cell_type": "code",
   "execution_count": null,
   "metadata": {},
   "outputs": [],
   "source": [
    "np.random.rand(3,4) # vytvoření matice náhodných čísel mezi 0 a 1 (všimněte si odlišné syntaxe!)"
   ]
  },
  {
   "cell_type": "code",
   "execution_count": null,
   "metadata": {},
   "outputs": [],
   "source": [
    "help(np.random.rand) # pokud nevíme, jak se některá funkce používá, můžeme využít nápovědu \"help\""
   ]
  },
  {
   "cell_type": "markdown",
   "metadata": {},
   "source": [
    "**Porovnejte:**"
   ]
  },
  {
   "cell_type": "code",
   "execution_count": null,
   "metadata": {},
   "outputs": [],
   "source": [
    "np.ones(5)"
   ]
  },
  {
   "cell_type": "code",
   "execution_count": null,
   "metadata": {
    "scrolled": true
   },
   "outputs": [],
   "source": [
    "np.ones((1,5))"
   ]
  },
  {
   "cell_type": "code",
   "execution_count": null,
   "metadata": {},
   "outputs": [],
   "source": [
    "np.ones((5,1))"
   ]
  },
  {
   "cell_type": "markdown",
   "metadata": {},
   "source": [
    "**Poznámka:** Pokud uvnitř funkce změníme hodnotu proměnné, mimo funkci bude mít tato proměnná opět původní hodnotu. Pokud ale uvnitř funkce změníme hodnoty v **numpy array** nebo v **List**u, tyto hodnoty zůstanou změněné. Pokud bychom chtěli zachovat i původní **numpy array**, museli bychom ho zkopírovat pomocí funkce **copy** (viz ukázka níže)."
   ]
  },
  {
   "cell_type": "code",
   "execution_count": null,
   "metadata": {},
   "outputs": [],
   "source": [
    "a = 100; A=100*np.ones(3); "
   ]
  },
  {
   "cell_type": "code",
   "execution_count": null,
   "metadata": {},
   "outputs": [],
   "source": [
    "def pricti10(x):\n",
    "    x = x + 10\n",
    "    return x\n",
    "\n",
    "def pricti20(x):\n",
    "    x[0] = x[0] + 20\n",
    "    return x"
   ]
  },
  {
   "cell_type": "code",
   "execution_count": null,
   "metadata": {
    "scrolled": true
   },
   "outputs": [],
   "source": [
    "print(pricti10(a))\n",
    "print(a) # původní proměnná se nezměnila"
   ]
  },
  {
   "cell_type": "code",
   "execution_count": null,
   "metadata": {},
   "outputs": [],
   "source": [
    "A_kopie = A.copy() # kopie původního pole\n",
    "B = A; # tento příkaz pole nezkopíruje, A i B budou odkazovat na stejné hodnoty"
   ]
  },
  {
   "cell_type": "code",
   "execution_count": null,
   "metadata": {},
   "outputs": [],
   "source": [
    "print(pricti20(A)); print(A); # původní pole se změnilo"
   ]
  },
  {
   "cell_type": "code",
   "execution_count": null,
   "metadata": {},
   "outputs": [],
   "source": [
    "print(A_kopie) # v kopii jsou uchovány původní hodnoty"
   ]
  },
  {
   "cell_type": "code",
   "execution_count": null,
   "metadata": {},
   "outputs": [],
   "source": [
    "print(B) # pole B se změnilo spolu s polem A"
   ]
  },
  {
   "cell_type": "markdown",
   "metadata": {},
   "source": [
    "#### 4.2) Další důležité funkce\n",
    "Níže vidíte ukázku použití funkcí **arange**, **linspace**, **reshape**, **shape**. Více podrobností se dozvíte pomocí příkazu **help** (např. **help(np.lispace)**)."
   ]
  },
  {
   "cell_type": "code",
   "execution_count": null,
   "metadata": {
    "scrolled": true
   },
   "outputs": [],
   "source": [
    "np.arange(10,11,0.2)"
   ]
  },
  {
   "cell_type": "code",
   "execution_count": null,
   "metadata": {},
   "outputs": [],
   "source": [
    "x = np.linspace(3,10,15); print(x);"
   ]
  },
  {
   "cell_type": "code",
   "execution_count": null,
   "metadata": {
    "scrolled": false
   },
   "outputs": [],
   "source": [
    "x = x.reshape((3,5)); print(x);"
   ]
  },
  {
   "cell_type": "code",
   "execution_count": null,
   "metadata": {},
   "outputs": [],
   "source": [
    "x.shape # vrací rozměry matice (počet řádků, počet sloupců), datový typ \"tuple\" "
   ]
  },
  {
   "cell_type": "markdown",
   "metadata": {},
   "source": [
    "Funkce **sort**, **min**, **max**:"
   ]
  },
  {
   "cell_type": "code",
   "execution_count": null,
   "metadata": {},
   "outputs": [],
   "source": [
    "x = np.array([6, 9, 3, -1, 8, -3]);\n",
    "print(\"sort:\", np.sort(x));\n",
    "print(\"min:\", np.min(x));\n",
    "print(\"max:\", np.max(x));"
   ]
  },
  {
   "cell_type": "markdown",
   "metadata": {},
   "source": [
    "Funkce **sin**, **cos**, **exp**, **log**, **sqrt**, **floor**, **round**:"
   ]
  },
  {
   "cell_type": "code",
   "execution_count": null,
   "metadata": {},
   "outputs": [],
   "source": [
    "def apply_all(x):\n",
    "    print('sin(x) =', np.sin(x));\n",
    "    print('cos(x) =', np.cos(x));\n",
    "    print('exp(x) =', np.exp(x));\n",
    "    print('log(x) =', np.log(x));\n",
    "    print('sqrt(x) =', np.sqrt(x));\n",
    "    print('floor(x) =', np.floor(x));\n",
    "    print('round(x) =', np.round(x));"
   ]
  },
  {
   "cell_type": "code",
   "execution_count": null,
   "metadata": {},
   "outputs": [],
   "source": [
    "apply_all([1, 2.5, np.e, np.pi])"
   ]
  },
  {
   "cell_type": "markdown",
   "metadata": {},
   "source": [
    "**Indexování prvků** (z vytvořené matice vybereme pouze určité řádky a sloupce)"
   ]
  },
  {
   "cell_type": "code",
   "execution_count": null,
   "metadata": {
    "scrolled": true
   },
   "outputs": [],
   "source": [
    "M = np.array([[1, 2, 3, 4, 5],[10, 20, 30, 40, 50], [9, 8, 7, 6, 5], [99, 88, 77, 66, 55]]);\n",
    "print(M)"
   ]
  },
  {
   "cell_type": "code",
   "execution_count": null,
   "metadata": {},
   "outputs": [],
   "source": [
    "M[2,:] # výběr řádku"
   ]
  },
  {
   "cell_type": "code",
   "execution_count": null,
   "metadata": {},
   "outputs": [],
   "source": [
    "M[:,0:3] # výběr sloupců"
   ]
  },
  {
   "cell_type": "code",
   "execution_count": null,
   "metadata": {},
   "outputs": [],
   "source": [
    "M[1:3,1:3] # výběr řádků i sloupců"
   ]
  },
  {
   "cell_type": "code",
   "execution_count": null,
   "metadata": {},
   "outputs": [],
   "source": [
    "B = np.full((4,5),False);\n",
    "B[0,0]=True\n",
    "B[2,2]=True\n",
    "print(B)"
   ]
  },
  {
   "cell_type": "code",
   "execution_count": null,
   "metadata": {},
   "outputs": [],
   "source": [
    "print(M[B]) # indexování pomocí matice True/False\n",
    "M[B] += 10 # přičtení čísla 10 v prvkům na vybraných pozicích\n",
    "print(M)"
   ]
  },
  {
   "cell_type": "markdown",
   "metadata": {},
   "source": [
    "### 7) Modul matplotlib.pyplot"
   ]
  },
  {
   "cell_type": "code",
   "execution_count": null,
   "metadata": {
    "scrolled": false
   },
   "outputs": [],
   "source": [
    "x = np.linspace(-1,6,30) # mřížka x-souřadnic\n",
    "y = x**2-3*x+1 # y-souřadnice"
   ]
  },
  {
   "cell_type": "code",
   "execution_count": null,
   "metadata": {},
   "outputs": [],
   "source": [
    "plt.plot(x,y) # vykreslení zadané kvadratické funkce\n",
    "plt.plot(x,0*x) # vykreslení nulové funkce\n",
    "plt.legend(['kvadratická funkce','nulová funkce']) # legenda\n",
    "plt.grid() # mřížka\n",
    "plt.xlabel('osa x') # popis osy x\n",
    "plt.ylabel('osa y') # popis osy y\n",
    "plt.title('Ukázka použití knihovny matplotlib') # název grafu\n",
    "plt.show() # zobrazení celého grafu"
   ]
  },
  {
   "cell_type": "markdown",
   "metadata": {},
   "source": [
    "**Vyzkoušejte:** Je možné nastavit různé barvy a typy čáry."
   ]
  },
  {
   "cell_type": "code",
   "execution_count": null,
   "metadata": {},
   "outputs": [],
   "source": [
    "# můžete vyzkoušet 'r'  'k'  'b'  'y'  'm'  a další (pro nastavení barvy čáry)\n",
    "# v kombinaci s '-'  '--'   '-.'  ':'  '.'  (pro nastavení typu čáry)\n",
    "plt.plot(x,y,'r.')\n",
    "plt.plot(x,0*x,'b--')\n",
    "plt.legend(['kvadratická funkce','nulová funkce']) # legenda\n",
    "plt.grid() # mřížka\n",
    "plt.show() # zobrazení celého grafu"
   ]
  },
  {
   "cell_type": "markdown",
   "metadata": {},
   "source": [
    "Lze nastavovat i další parametry grafu, například tloušťka čáry (**linewidth**) nebo velikost bodů (**markersize**). Další parametry najdete v nápovědě - **help(plt.plot)**."
   ]
  },
  {
   "cell_type": "code",
   "execution_count": null,
   "metadata": {},
   "outputs": [],
   "source": [
    "x1 = np.linspace(0,2*np.pi,100); # mřížka x-souřadnic\n",
    "x2 = np.linspace(0,2*np.pi,9); # mřížka x-souřadnic\n",
    "plt.plot(x1,np.sin(x1),linewidth=3)\n",
    "plt.plot(x2,np.sin(x2),'.',markersize=20)\n",
    "plt.grid() # mřížka\n",
    "plt.show() # zobrazení celého grafu"
   ]
  },
  {
   "cell_type": "markdown",
   "metadata": {},
   "source": [
    "### 8) Úkoly k procvičení"
   ]
  },
  {
   "cell_type": "markdown",
   "metadata": {},
   "source": [
    "**Úkol (k doplnění):** Napište funkci, která pro zadaný poloměr a výšku válce vrátí jeho objem a povrch. Dále vypočtěte objem a povrch válce o poloměru 10 cm a výšce 5 cm."
   ]
  },
  {
   "cell_type": "code",
   "execution_count": null,
   "metadata": {},
   "outputs": [],
   "source": [
    "def valec(polomer, vyska):\n",
    "    objem = \n",
    "    podstava = \n",
    "    plast = \n",
    "    povrch = \n",
    "    return objem, povrch"
   ]
  },
  {
   "cell_type": "code",
   "execution_count": null,
   "metadata": {},
   "outputs": [],
   "source": [
    "vysledek = valec(10,5)\n",
    "print(\"válec má objem\", vysledek[0], \"cm^3 a povrch\", vysledek[1], \"cm^2\")"
   ]
  },
  {
   "cell_type": "markdown",
   "metadata": {},
   "source": [
    "**Úkol (k doplnění):** Napište funkci, která pro zadané koeficienty a,b,c a hodnoty d0<d1 vykreslí funkci ax^2+bx+c na intervalu (d0,d1)."
   ]
  },
  {
   "cell_type": "code",
   "execution_count": null,
   "metadata": {},
   "outputs": [],
   "source": [
    "def vykresleni(a,b,c,d0,d1):\n",
    "    x =  # mřížka x-souřadnic\n",
    "    y =  # y-souřadnice\n",
    "    plt.plot(x,y)\n",
    "    plt.show()"
   ]
  },
  {
   "cell_type": "code",
   "execution_count": null,
   "metadata": {},
   "outputs": [],
   "source": [
    "vykresleni(1,2,1,-5,5)"
   ]
  },
  {
   "cell_type": "markdown",
   "metadata": {},
   "source": [
    "**Úkol (k doplnění):** Napište funkci, která pro zadané koeficienty a,b,c vypíše kořeny kvadratické funkce f(x)=ax^2+bx+c."
   ]
  },
  {
   "cell_type": "code",
   "execution_count": null,
   "metadata": {},
   "outputs": [],
   "source": [
    "def koreny(a,b,c):\n",
    "    D =  # výpočet diskriminantu\n",
    "    if D>0: # diskriminant je kladný\n",
    "        x1 =\n",
    "        x2 = \n",
    "        print(\"Funkce má kořeny\", x1, \"a\", x2);\n",
    "    elif D==0: # diskriminant je roven 0\n",
    "        x1 =\n",
    "        print(\"Funkce má dvojnásobný kořen\", x1);\n",
    "    else: # diskriminant je záporný\n",
    "        print(\"Funkce nemá reálné kořeny\")\n"
   ]
  },
  {
   "cell_type": "code",
   "execution_count": null,
   "metadata": {},
   "outputs": [],
   "source": [
    "koreny(1,2,1)"
   ]
  },
  {
   "cell_type": "markdown",
   "metadata": {},
   "source": [
    "**Řešený úkol:** Využijte předchozí úkoly a vytvořte funkci, která pro zadané koeficienty a,b,c a hodnoty d0<d1 vykreslí funkci ax^2+bx+c na intervalu (d0,d1) a zároveň znázorní její kořeny."
   ]
  },
  {
   "cell_type": "code",
   "execution_count": null,
   "metadata": {},
   "outputs": [],
   "source": [
    "def vykresleni_a_koreny(a,b,c,d0,d1):\n",
    "    x = np.linspace(d0,d1,100) # mřížka x-souřadnic\n",
    "    y = a*x**2 + b*x + c # y-souřadnice\n",
    "    plt.plot(x,y) # kvadraticka funkce\n",
    "    plt.plot(x,0*x) # nulova funkce\n",
    "    plt.legend(['kvadratická funkce','nulová funkce']) # legenda\n",
    "    plt.grid()\n",
    "    D = b**2-4*a*c # výpočet diskriminantu\n",
    "    if D>0: # diskriminant je kladný\n",
    "        sqrtD = np.sqrt(D)\n",
    "        x1 = (-b+sqrtD)/(2*a)\n",
    "        x2 = (-b-sqrtD)/(2*a)\n",
    "        print(\"Funkce má kořeny\", x1, \"a\", x2)\n",
    "        plt.plot([x1,x2],[0,0],'.',markersize=10)\n",
    "    elif D==0: # diskriminant je roven 0\n",
    "        x1 = -b/(2*a)\n",
    "        print(\"Funkce má dvojnásobný kořen\", x1)\n",
    "    else: # diskriminant je záporný\n",
    "        print(\"Funkce nemá reálné kořeny\")\n",
    "    plt.show()"
   ]
  },
  {
   "cell_type": "code",
   "execution_count": null,
   "metadata": {},
   "outputs": [],
   "source": [
    "vykresleni_a_koreny(1,-8,15,0,10)"
   ]
  },
  {
   "cell_type": "code",
   "execution_count": null,
   "metadata": {},
   "outputs": [],
   "source": []
  }
 ],
 "metadata": {
  "kernelspec": {
   "display_name": "Python 3",
   "language": "python",
   "name": "python3"
  },
  "language_info": {
   "codemirror_mode": {
    "name": "ipython",
    "version": 3
   },
   "file_extension": ".py",
   "mimetype": "text/x-python",
   "name": "python",
   "nbconvert_exporter": "python",
   "pygments_lexer": "ipython3",
   "version": "3.9.1"
  }
 },
 "nbformat": 4,
 "nbformat_minor": 4
}

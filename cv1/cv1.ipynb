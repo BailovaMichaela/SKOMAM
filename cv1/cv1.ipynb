{
  "cells": [
    {
      "cell_type": "markdown",
      "metadata": {
        "id": "3h7p6RGKOP7k"
      },
      "source": [
        "# **Cvičení 1 - Tutoriál pro Python 3**\n"
      ]
    },
    {
      "cell_type": "markdown",
      "metadata": {
        "id": "DVmz686tOP7l"
      },
      "source": [
        "# (0) Ovládání Jupyter Notebooku\n",
        "\n",
        "- Jednotlivá políčka se nazývají \"buňky\". \n",
        "- Každá buňka může obsahovat zdrojový kód nebo obyčejný text. \n",
        "- Příkazy v buňce spustíme pomocí tlačítka **\"Play\"** (na levo od buňky) nebo pomocí kláves **Shift+Enter**, zároveň se posuneme do nové buňky."
      ]
    },
    {
      "cell_type": "markdown",
      "metadata": {
        "id": "xBVp2BxoOP7l"
      },
      "source": [
        "# (1) Python jako kalkulačka\n",
        "- lze použít veškeré základní operace: `+`, `-`, `*`, `/`, \n",
        "- dále: operace celočíselné dělení `//`, zbytek po dělení `%`, mocnina `**` \n",
        "- závorky pouze `()` a fungují tak jak jsme zvyklí"
      ]
    },
    {
      "cell_type": "code",
      "execution_count": null,
      "metadata": {
        "id": "F4HS3B0tOP7m"
      },
      "outputs": [],
      "source": [
        "(12 + 3 * (17 - 2)) / 11"
      ]
    },
    {
      "cell_type": "code",
      "execution_count": null,
      "metadata": {
        "id": "hC5DxhZ_OP7n"
      },
      "outputs": [],
      "source": [
        "57 // 11"
      ]
    },
    {
      "cell_type": "code",
      "execution_count": null,
      "metadata": {
        "id": "qg_6h6nIOP7n"
      },
      "outputs": [],
      "source": [
        "57 % 11"
      ]
    },
    {
      "cell_type": "code",
      "execution_count": null,
      "metadata": {
        "id": "lQb-5I7UOP7o"
      },
      "outputs": [],
      "source": [
        "5 ** 3"
      ]
    },
    {
      "cell_type": "code",
      "execution_count": null,
      "metadata": {
        "id": "h6WgUMHZOP7o"
      },
      "outputs": [],
      "source": [
        "# Přiřazení názvu proměnné, textový výpis\n",
        "\n",
        "delenec = 57\n",
        "delitel = 11\n",
        "podil = delenec // delitel\n",
        "zbytek = delenec % delitel\n",
        "print(delenec, \"děleno\", delitel, \"dává podíl\", podil, \"a zbytek\", zbytek)"
      ]
    },
    {
      "cell_type": "code",
      "execution_count": null,
      "metadata": {
        "id": "0jCmrWBlOP7o"
      },
      "outputs": [],
      "source": [
        "# výpis všechnych proměnných v aktuálním prostředí\n",
        "%whos"
      ]
    },
    {
      "cell_type": "markdown",
      "metadata": {},
      "source": [
        "## (1.1) Řetězce a vypisování: `F-string`\n",
        "\n",
        "Formát f-string (`f\"Text{promenna}\"`) je způsob formátování řetězců v jazyce Python. Pomocí fstring můžeme vkládat hodnoty proměnných do řetězců a specifikovat jejich formátování.\n",
        "\n",
        "Symbol `:` v fstringu označuje začátek formátovacího specifikátoru. Následuje specifikátor formátu, který určuje, jak bude hodnota proměnné zobrazena v řetězci.\n",
        "\n",
        "Specifikátor `:.5f` je jedním z možných specifikátorů formátu. Znamená, že číselná hodnota bude zobrazena jako desetinné číslo s plovoucí řádovou čárkou a bude mít 5 desetinných míst.\n",
        "\n",
        "Například, pokud máme proměnnou `x` s hodnotou `3.141592653589793`, a použijeme fstring s formátovacím specifikátorem `:.5f`, výsledný řetězec bude `\"3.14159\"`.\n"
      ]
    },
    {
      "cell_type": "code",
      "execution_count": null,
      "metadata": {},
      "outputs": [],
      "source": [
        "print(f\"{delenec} děleno {delitel} dává podíl {podil} a zbytek {zbytek}\")"
      ]
    },
    {
      "cell_type": "code",
      "execution_count": null,
      "metadata": {},
      "outputs": [],
      "source": [
        "delenec = 1\n",
        "delitel = 3\n",
        "podil = delenec / delitel\n",
        "print(f\"{delenec} děleno {delitel} dává podíl {podil:.2f}\")"
      ]
    },
    {
      "cell_type": "markdown",
      "metadata": {
        "id": "hT3EUMAlOP7p"
      },
      "source": [
        "# (2) Datové struktury\n",
        "struktury, do kterých můžeme ukládat série proměnných. Mezi základní datové struktury v Pythonu patří například: \n",
        "- **list**, \n",
        "- **tuple**, \n",
        "- **dictionary**. \n",
        "\n",
        "Ukážeme si je na příkladech:"
      ]
    },
    {
      "cell_type": "markdown",
      "metadata": {
        "id": "F2KYgFwCOP7r"
      },
      "source": [
        "## (2.1) List\n",
        "Asi nejuniversalnější datová struktura v Pythonu. \n",
        "- List je seznam prvků, které mohou být různých typů (např. číslo, řetězec, další list, ...). \n",
        "- Můžeme v průběhu programu přidávat, odebírat, nebo měnit prvky listu. \n",
        "- Prvky listu (stejně jako všechny ostatní strruktury) jsou **indexovány od nuly**."
      ]
    },
    {
      "cell_type": "code",
      "execution_count": null,
      "metadata": {
        "id": "ymN8wWrfOP7r"
      },
      "outputs": [],
      "source": [
        "oblibena_prvocisla = [3, 17, 'devatenact', 53, 89]\n",
        "print(oblibena_prvocisla)"
      ]
    },
    {
      "cell_type": "code",
      "execution_count": null,
      "metadata": {
        "id": "GYysxXNXOP7r"
      },
      "outputs": [],
      "source": [
        "prvni_prvek_seznamu = oblibena_prvocisla[0]\n",
        "print(prvni_prvek_seznamu)"
      ]
    },
    {
      "cell_type": "code",
      "execution_count": null,
      "metadata": {
        "id": "K8fK6DfBOP7s"
      },
      "outputs": [],
      "source": [
        "posledni_prvek_seznamu = oblibena_prvocisla[-1]\n",
        "print(posledni_prvek_seznamu)"
      ]
    },
    {
      "cell_type": "code",
      "execution_count": null,
      "metadata": {
        "id": "xLIIjmIVOP7s"
      },
      "outputs": [],
      "source": [
        "druhy_az_ctvrty = oblibena_prvocisla[1:4]\n",
        "print(druhy_az_ctvrty)"
      ]
    },
    {
      "cell_type": "code",
      "execution_count": null,
      "metadata": {
        "id": "piDo_zbzOP7s"
      },
      "outputs": [],
      "source": [
        "spojeni_dvou_seznamu = oblibena_prvocisla + [2, 3, 4]\n",
        "print(spojeni_dvou_seznamu)"
      ]
    },
    {
      "cell_type": "code",
      "execution_count": null,
      "metadata": {
        "id": "KxTm9SWFOP7s"
      },
      "outputs": [],
      "source": [
        "list_menici_velikost = []\n",
        "print(list_menici_velikost)\n",
        "\n",
        "list_menici_velikost.append(2)\n",
        "print(list_menici_velikost)\n",
        "\n",
        "list_menici_velikost.append(3)\n",
        "print(list_menici_velikost)\n",
        "\n",
        "list_menici_velikost.append(5)\n",
        "print(list_menici_velikost)\n",
        "\n",
        "list_menici_velikost.pop(1)\n",
        "print(list_menici_velikost)"
      ]
    },
    {
      "cell_type": "code",
      "execution_count": null,
      "metadata": {
        "id": "_KRLZJ_4OP7t"
      },
      "outputs": [],
      "source": [
        "# Délka Listu:\n",
        "len(list_menici_velikost)"
      ]
    },
    {
      "cell_type": "markdown",
      "metadata": {},
      "source": [
        "## (2.2) Tuple\n",
        "\n",
        "Je to v podstatě list, který je **neměnný**: po vytvoření už nemůžeme měnit jeho prvky ani prvky přidávat či odebírat.\n"
      ]
    },
    {
      "cell_type": "code",
      "execution_count": null,
      "metadata": {},
      "outputs": [],
      "source": [
        "t = (3, 8.5, -17)\n",
        "print(t)"
      ]
    },
    {
      "cell_type": "code",
      "execution_count": null,
      "metadata": {},
      "outputs": [],
      "source": [
        "t[1]  # můžeme vypsat prvek na určité pozici (POZOR, v Pythonu indexujeme od 0)"
      ]
    },
    {
      "cell_type": "code",
      "execution_count": null,
      "metadata": {},
      "outputs": [],
      "source": [
        "t[1] = 123  # nemůžeme ale prvky měnit"
      ]
    },
    {
      "cell_type": "markdown",
      "metadata": {
        "id": "XDBNWADnOP7t"
      },
      "source": [
        "## (2.3) Dictionary\n",
        "\n",
        "Funguje podobně jako list, akorát položky nejsou očístované, ale pozici záznamů určuje tzv. klíč: tedy obsahuje záznamy ve tvaru **klíč: hodnota**.\n"
      ]
    },
    {
      "cell_type": "code",
      "execution_count": null,
      "metadata": {
        "id": "-zAbUYnrOP7t"
      },
      "outputs": [],
      "source": [
        "telefonni_seznam = {'Adam': 4593, 'Karel': 1239, 'Honza': 2929, 'Jana': 4444}"
      ]
    },
    {
      "cell_type": "code",
      "execution_count": null,
      "metadata": {
        "id": "OYgiaoDSOP7u"
      },
      "outputs": [],
      "source": [
        "telefonni_seznam['Karel']"
      ]
    },
    {
      "cell_type": "code",
      "execution_count": null,
      "metadata": {
        "id": "jmiWThUROP7u"
      },
      "outputs": [],
      "source": [
        "list(telefonni_seznam)  # seznam jmen"
      ]
    },
    {
      "cell_type": "code",
      "execution_count": null,
      "metadata": {
        "id": "1RHcORZKOP7v"
      },
      "outputs": [],
      "source": [
        "# Zadané klíče by měly být unikátní. \n",
        "# Můžete vyzkoušet, co se stane, když do seznamu přidáme ještě jednoho Karla:\n",
        "\n",
        "telefonni_seznam = {'Adam': 4593, 'Karel': 1239, 'Honza': 2929, 'Jana': 4444}\n",
        "print(telefonni_seznam)\n",
        "\n",
        "telefonni_seznam['Karel'] = 9999\n",
        "print(telefonni_seznam)"
      ]
    },
    {
      "cell_type": "markdown",
      "metadata": {
        "id": "DZa2BaJ5OP7w"
      },
      "source": [
        "# (3) Cykly a podmínky\n"
      ]
    },
    {
      "cell_type": "markdown",
      "metadata": {},
      "source": [
        "## (3.0) **`Range`**\n",
        "\n",
        "Je speciální struktura, která obsahuje čísla dle zadaného rozsahu. Bude se nám hodit při práci s cykly.\n"
      ]
    },
    {
      "cell_type": "code",
      "execution_count": null,
      "metadata": {},
      "outputs": [],
      "source": [
        "range(6)  # reprezentuje sekvenci šesti celých čísel od 0 do 5 (0, 1, 2, 3, 4, 5)"
      ]
    },
    {
      "cell_type": "code",
      "execution_count": null,
      "metadata": {},
      "outputs": [],
      "source": [
        "range(5, 12)  # reprezentuje sekvenci celých čísel od 5 do 11 (5, 6, 7, 8, 9, 10, 11)"
      ]
    },
    {
      "cell_type": "code",
      "execution_count": null,
      "metadata": {},
      "outputs": [],
      "source": [
        "range(-3, 3)  # reprezentuje sekvenci celých čísel od -3 do 2 (-3, -2, -1, 0, 1, 2)"
      ]
    },
    {
      "cell_type": "markdown",
      "metadata": {
        "id": "A1S2e7l4OP7w"
      },
      "source": [
        "## (3.1) Cyklus **`for`**\n",
        "\n",
        "\n",
        "Michaela sní každý prosincový den tolik vanilkových rohlíčků, jako je pořadí dne v měsíci. Kolik vanilkových rohlíčků sní za celý prosinec?\n"
      ]
    },
    {
      "cell_type": "code",
      "execution_count": null,
      "metadata": {
        "id": "7G-kL9ALOP7w"
      },
      "outputs": [],
      "source": [
        "suma = 0\n",
        "for i in range(1, 32):\n",
        "    suma += i\n",
        "print(suma)"
      ]
    },
    {
      "cell_type": "markdown",
      "metadata": {
        "id": "yN6fiDEWOP7x"
      },
      "source": [
        "## (3.2) Cyklus **`while`**\n",
        "Který den sní padesátý vanilkový rohlíček?\n"
      ]
    },
    {
      "cell_type": "code",
      "execution_count": null,
      "metadata": {
        "id": "CYtUqwRhOP7x"
      },
      "outputs": [],
      "source": [
        "suma = 0\n",
        "pocet_rohlicku = 0\n",
        "while suma < 50:\n",
        "    pocet_rohlicku += 1\n",
        "    suma = suma + pocet_rohlicku\n",
        "    print(f'{pocet_rohlicku}. den: {suma}')\n",
        "\n",
        "print(f'Padesátý rohlíček sní {pocet_rohlicku}. den.')"
      ]
    },
    {
      "cell_type": "markdown",
      "metadata": {
        "id": "viWhjtnZOP7x"
      },
      "source": [
        "## (3.3) Podmínka **`if`**\n",
        "\n",
        "Vypište všechna dvojciferná čísla dělitelná 3 a 7. \n",
        "\n",
        "Všimněte si také použití klíčového slova **and**.\n"
      ]
    },
    {
      "cell_type": "code",
      "execution_count": null,
      "metadata": {
        "id": "RlEcp7uqOP7x"
      },
      "outputs": [],
      "source": [
        "for i in range(10, 100):\n",
        "    if i % 3 == 0 and i % 7 == 0:\n",
        "        print(i)"
      ]
    },
    {
      "cell_type": "markdown",
      "metadata": {
        "id": "XgWWzT7eOP7y"
      },
      "source": [
        "# (4) Vytváření funkcí:\n",
        "Funkce může vracet více výstupních hodnot. Pokud neobsahuje klíčové slovo \"return\", nevrací nic (může sloužit např. jen pro výpis). Některé vstupní proměnné (od konce) mohou mít nastavené výchozí hodnoty.\n"
      ]
    },
    {
      "cell_type": "markdown",
      "metadata": {},
      "source": [
        "\n",
        "### **Úkol:** Napište funkci, která pro zadané rozměry a hustotu kvádru vrátí jeho objem, povrch a hmotnost.\n"
      ]
    },
    {
      "cell_type": "code",
      "execution_count": null,
      "metadata": {
        "id": "-Ec4anhROP7y"
      },
      "outputs": [],
      "source": [
        "def kvadr(a, b, c, hustota=1.0):\n",
        "    # a,b,c ... rozměry v centimetrech\n",
        "    # hustota v g/cm^3\n",
        "    objem = a * b * c\n",
        "    povrch = 2 * (a * b + b * c + c * a)\n",
        "    hmotnost = hustota * objem\n",
        "    return objem, povrch, hmotnost"
      ]
    },
    {
      "cell_type": "code",
      "execution_count": null,
      "metadata": {
        "id": "DCXzsFgcOP7z"
      },
      "outputs": [],
      "source": [
        "vysledek = kvadr(2, 3, 5, 1.5)\n",
        "print(f\"Kvádr má objem {vysledek[0]} cm^3, povrch {vysledek[1]} cm^2 a hmotnost {vysledek[2]} g.\")"
      ]
    },
    {
      "cell_type": "code",
      "execution_count": null,
      "metadata": {
        "id": "QdX6GP-yOP7z"
      },
      "outputs": [],
      "source": [
        "vysledek = kvadr(2, 3, 5)\n",
        "print(f\"Kvádr má objem {vysledek[0]} cm^3, povrch {vysledek[1]} cm^2 a hmotnost {vysledek[2]} g.\")"
      ]
    },
    {
      "cell_type": "markdown",
      "metadata": {
        "id": "hDlBOg6vOP7z"
      },
      "source": [
        "### **Úkol:** Běžná cihla má rozměry 29 cm x 14 cm x 6.5 cm a hustotu 1.9 g/cm^3. Jaká je její hmotnost?\n"
      ]
    },
    {
      "cell_type": "code",
      "execution_count": null,
      "metadata": {
        "id": "g4P1zEv4OP7z"
      },
      "outputs": [],
      "source": [
        "vysledek = kvadr(29, 14, 6.5, 1.9)\n",
        "print(f\"Cihla má hmotnost {vysledek[2]} g.\")"
      ]
    },
    {
      "cell_type": "markdown",
      "metadata": {
        "id": "F3EhLB_LOP7z"
      },
      "source": [
        "**Poznámka:** Uvnitř funkcí můžeme používat i proměnné, které byly definované dříve mimo tuto funkci.\n"
      ]
    },
    {
      "cell_type": "code",
      "execution_count": null,
      "metadata": {
        "id": "kRRjwlknOP7z"
      },
      "outputs": [],
      "source": [
        "a = 100"
      ]
    },
    {
      "cell_type": "code",
      "execution_count": null,
      "metadata": {
        "id": "F_YeFBV7OP70"
      },
      "outputs": [],
      "source": [
        "def secti_a_b_c(b):\n",
        "    c = 7\n",
        "    return a + b + c\n",
        "\n",
        "\n",
        "secti_a_b_c(20)"
      ]
    },
    {
      "cell_type": "markdown",
      "metadata": {
        "id": "BF0fB7pkOP70"
      },
      "source": [
        "Proměnná \"a\" stále existuje, ale proměnné \"b\" a \"c\" mimo kontext funkce **secti_a_b_c** neexistují:\n"
      ]
    },
    {
      "cell_type": "code",
      "execution_count": null,
      "metadata": {
        "id": "QqDAhGqHOP70"
      },
      "outputs": [],
      "source": [
        "a"
      ]
    },
    {
      "cell_type": "code",
      "execution_count": null,
      "metadata": {
        "id": "LZQT64Q2OP70",
        "scrolled": true
      },
      "outputs": [],
      "source": [
        "c"
      ]
    },
    {
      "cell_type": "markdown",
      "metadata": {
        "id": "kAQanf1HOP70"
      },
      "source": [
        "# (5) Import knihoven a modulů\n",
        "\n",
        "Vlastní naimplementované funkce můžeme ukládat do tzv. \"modulů\". Kromě toho můžeme používat již existující moduly a knihovny obsahující spoustu užitečných funkcí. Pro jejich načtení používáme příkaz **import**.\n"
      ]
    },
    {
      "cell_type": "code",
      "execution_count": null,
      "metadata": {
        "id": "fUsiG_SXOP70"
      },
      "outputs": [],
      "source": [
        "import numpy  # obsahuje základní i pokročilé matematické funkce a je vhodná pro práci s maticemi"
      ]
    },
    {
      "cell_type": "code",
      "execution_count": null,
      "metadata": {
        "id": "0AFkKu6hOP70"
      },
      "outputs": [],
      "source": [
        "import numpy as np  # pokud se nám název knihovny zdá příliš dlouhý, můžeme ji \"přejmenovat\""
      ]
    },
    {
      "cell_type": "code",
      "execution_count": null,
      "metadata": {
        "id": "VcnSWxJuOP71"
      },
      "outputs": [],
      "source": [
        "import matplotlib.pyplot as plt  # slouží k vykreslování grafů"
      ]
    },
    {
      "cell_type": "markdown",
      "metadata": {
        "id": "-NoZTqGiOP71"
      },
      "source": [
        "# (6) Knihovna numpy\n",
        "\n",
        "- `numpy` je knihovna pro práci s maticemi a vektory\n",
        "- obsahuje většinu základních matematických funkcí: `sin`, `cos`, `exp`, `log`, ...\n",
        "- obsahuje i konstanty: `pi`, `e`, ...\n",
        "- ale hlavně umožňuje efektivní práci s maticemi a vektory\n",
        "    - vektorizované operace `+`, `-`, `*`, `/`, `**` automaticky pracují s každým prvkem ve vektoru/matice\n",
        "    - vektorové/maticové operace: maticové násobení `@`, transpozice `.T` ...  "
      ]
    },
    {
      "cell_type": "markdown",
      "metadata": {},
      "source": [
        "## (6.1) Vytvoření pole a matice\n"
      ]
    },
    {
      "cell_type": "code",
      "execution_count": null,
      "metadata": {
        "id": "Wp5vUPJUOP72"
      },
      "outputs": [],
      "source": [
        "np.array([1.2, 3.4, 5.6])  # vytvořní pole zadáním prvků"
      ]
    },
    {
      "cell_type": "code",
      "execution_count": null,
      "metadata": {},
      "outputs": [],
      "source": [
        "np.array([[2, 4, 6], [3, 5, 7]])  # vytvoření matice zadáním prvků"
      ]
    },
    {
      "cell_type": "code",
      "execution_count": null,
      "metadata": {
        "id": "0h8j62d8OP72"
      },
      "outputs": [],
      "source": [
        "np.zeros(3)  # vytvoření pole nul"
      ]
    },
    {
      "cell_type": "code",
      "execution_count": null,
      "metadata": {
        "id": "hzCU1uVHOP72"
      },
      "outputs": [],
      "source": [
        "np.ones(3)  # vytvoření pole jedniček"
      ]
    },
    {
      "cell_type": "code",
      "execution_count": null,
      "metadata": {
        "id": "nJlSqtG_OP73"
      },
      "outputs": [],
      "source": [
        "np.zeros((3, 4))  # vytvoření matice nul"
      ]
    },
    {
      "cell_type": "code",
      "execution_count": null,
      "metadata": {},
      "outputs": [],
      "source": [
        "# vytvoření pole od 10 do 11 (bez) s krokem 0.2\n",
        "np.arange(start=10, stop=11, step=0.2)  "
      ]
    },
    {
      "cell_type": "code",
      "execution_count": null,
      "metadata": {},
      "outputs": [],
      "source": [
        "# vytvoření pole od 10 do 11 s 6 prvky (včetně krajních, dá se změnit pomocí endpoint)\n",
        "np.linspace(start=10, stop=11, num=6)  "
      ]
    },
    {
      "cell_type": "code",
      "execution_count": null,
      "metadata": {
        "id": "HO0sUlUlOP74"
      },
      "outputs": [],
      "source": [
        "# vytvoření matice náhodných čísel mezi 0 a 1 (všimněte si odlišné syntaxe oproti zeros a ones)\n",
        "np.random.rand(3, 4)"
      ]
    },
    {
      "cell_type": "markdown",
      "metadata": {},
      "source": [
        "## (6.2) Indexování matic a vektroů \n",
        "Z vytvořené matice/vektoru můžeme vybírat jednotlivé prvky, řádky, sloupce, nebo jejich části. \n"
      ]
    },
    {
      "cell_type": "code",
      "execution_count": null,
      "metadata": {},
      "outputs": [],
      "source": [
        "M = np.array([[1, 2, 3, 4, 5], [10, 20, 30, 40, 50], [9, 8, 7, 6, 5], [99, 88, 77, 66, 55]])\n",
        "print(M)"
      ]
    },
    {
      "cell_type": "code",
      "execution_count": null,
      "metadata": {},
      "outputs": [],
      "source": [
        "M[2, :]  # výběr řádku"
      ]
    },
    {
      "cell_type": "code",
      "execution_count": null,
      "metadata": {},
      "outputs": [],
      "source": [
        "M[:, 0:3]  # výběr sloupců"
      ]
    },
    {
      "cell_type": "code",
      "execution_count": null,
      "metadata": {},
      "outputs": [],
      "source": [
        "M[1:3, 1:3]  # výběr řádků i sloupců"
      ]
    },
    {
      "cell_type": "code",
      "execution_count": null,
      "metadata": {},
      "outputs": [],
      "source": [
        "B = np.full((4, 5), False)\n",
        "B[0, 0] = True\n",
        "B[2, 2] = True\n",
        "print(B)"
      ]
    },
    {
      "cell_type": "code",
      "execution_count": null,
      "metadata": {},
      "outputs": [],
      "source": [
        "print(M[B])  # indexování pomocí matice True/False\n",
        "M[B] += 10  # přičtení čísla 10 v prvkům na vybraných pozicích\n",
        "print(M)"
      ]
    },
    {
      "cell_type": "markdown",
      "metadata": {
        "id": "mTQVfOilOP77"
      },
      "source": [
        "## (6.3) Důležité vlastnosti matic a vektorů\n",
        "\n",
        "- `shape` - rozměry matice/vektoru\n",
        "- `reshape` - změna rozměrů matice/vektoru"
      ]
    },
    {
      "cell_type": "code",
      "execution_count": null,
      "metadata": {
        "id": "7hTuZwo1OP77"
      },
      "outputs": [],
      "source": [
        "x = np.array([1, 2, 3, 4, 5, 6])\n",
        "x"
      ]
    },
    {
      "cell_type": "code",
      "execution_count": null,
      "metadata": {
        "id": "iyaZJCC1OP78"
      },
      "outputs": [],
      "source": [
        "# vrací rozměry matice (počet řádků, počet sloupců), datový typ \"tuple\"\n",
        "print(x.shape)"
      ]
    },
    {
      "cell_type": "code",
      "execution_count": null,
      "metadata": {
        "id": "bGrE1C0VOP78"
      },
      "outputs": [],
      "source": [
        "x = x.reshape(2, 3)  # změna rozměrů matice\n",
        "x"
      ]
    },
    {
      "cell_type": "code",
      "execution_count": null,
      "metadata": {},
      "outputs": [],
      "source": [
        "x.shape"
      ]
    },
    {
      "cell_type": "markdown",
      "metadata": {},
      "source": [
        "Pomocí `shape` porovnejte:"
      ]
    },
    {
      "cell_type": "code",
      "execution_count": null,
      "metadata": {},
      "outputs": [],
      "source": [
        "np.ones(5)"
      ]
    },
    {
      "cell_type": "code",
      "execution_count": null,
      "metadata": {},
      "outputs": [],
      "source": [
        "np.ones((1, 5))"
      ]
    },
    {
      "cell_type": "code",
      "execution_count": null,
      "metadata": {},
      "outputs": [],
      "source": [
        "np.ones((5, 1))"
      ]
    },
    {
      "cell_type": "markdown",
      "metadata": {
        "id": "I6o5-VnrOP78"
      },
      "source": [
        "## (6.3) Práce s maticemi a vektory\n",
        "- Operace mezi vektory a maticemi se stejnou velikostí jsou prováděny mezi všemi příslušnými prvky najednou:\n",
        "    - `+`, `-`, `*`, `/`, `**`\n",
        "- matematické operace z knihovny `numpy` se také provádějí pro všechny prvky najednou:\n",
        "    - `np.sin`, `np.cos`, `np.exp`, `np.log`, ...\n",
        "- funkce aplikované na matici/vektor jako celek:\n",
        "    - součet všech prvků `np.sum`, maximum `np.max`, ...\n",
        "- maticové operace:\n",
        "    - maticové násobení `@`, transpozice `.T` ..."
      ]
    },
    {
      "cell_type": "code",
      "execution_count": null,
      "metadata": {
        "id": "iVaXEJHEOP78"
      },
      "outputs": [],
      "source": [
        "x = np.array([6, 9, 3, -1, 8, -3])\n",
        "y = np.array([2, 3, 5, 7, 11, 13])\n",
        "\n",
        "print(x + y)  # sčítání\n",
        "print(x * y)  # násobení\n",
        "print(x / y)  # dělení\n",
        "print(x ** y)  # umocňování"
      ]
    },
    {
      "cell_type": "code",
      "execution_count": null,
      "metadata": {
        "id": "BJSLEfKWOP78"
      },
      "outputs": [],
      "source": [
        "print(np.sin(x))  # sinus\n",
        "print(np.cos(x))  # kosinus\n",
        "print(np.exp(x))  # exponenciála"
      ]
    },
    {
      "cell_type": "code",
      "execution_count": null,
      "metadata": {
        "id": "AA2TNbQaOP78"
      },
      "outputs": [],
      "source": [
        "print(np.sum(x))  # součet všech prvků\n",
        "print(np.max(x))  # největší prvek"
      ]
    },
    {
      "cell_type": "code",
      "execution_count": null,
      "metadata": {},
      "outputs": [],
      "source": [
        "A = np.array([[1, 2], [3, 4]])\n",
        "print(A)\n",
        "b = np.array([5, 6])\n",
        "print(b)\n",
        "\n",
        "print(A @ b)  # násobení matice a vektoru"
      ]
    },
    {
      "cell_type": "markdown",
      "metadata": {
        "id": "7XF1rULrOP7-"
      },
      "source": [
        "# (7) Modul matplotlib.pyplot\n"
      ]
    },
    {
      "cell_type": "code",
      "execution_count": null,
      "metadata": {
        "id": "URdbiiuLOP7-"
      },
      "outputs": [],
      "source": [
        "x = np.linspace(-1, 6, 30)  # mřížka x-souřadnic\n",
        "y = x**2 - 3 * x + 1  # y-souřadnice"
      ]
    },
    {
      "cell_type": "code",
      "execution_count": null,
      "metadata": {
        "id": "epE6vkhUOP7_"
      },
      "outputs": [],
      "source": [
        "plt.plot(x, y)  # vykreslení zadané kvadratické funkce\n",
        "plt.plot(x, 0 * x)  # vykreslení nulové funkce\n",
        "plt.legend(['kvadratická funkce', 'nulová funkce'])  # legenda\n",
        "plt.grid()  # mřížka\n",
        "plt.xlabel('osa x')  # popis osy x\n",
        "plt.ylabel('osa y')  # popis osy y\n",
        "plt.title('Ukázka použití knihovny matplotlib')  # název grafu\n",
        "plt.show()  # zobrazení celého grafu"
      ]
    },
    {
      "cell_type": "markdown",
      "metadata": {
        "id": "jUmL6QV5OP7_"
      },
      "source": [
        "**Vyzkoušejte:** Je možné nastavit různé barvy a typy čáry.\n"
      ]
    },
    {
      "cell_type": "code",
      "execution_count": null,
      "metadata": {
        "id": "F5_D4MjTOP8A"
      },
      "outputs": [],
      "source": [
        "# můžete vyzkoušet 'r'  'k'  'b'  'y'  'm'  a další (pro nastavení barvy čáry)\n",
        "# v kombinaci s '-'  '--'   '-.'  ':'  '.'  (pro nastavení typu čáry)\n",
        "plt.plot(x, y, 'r.', label='kvadratická funkce')\n",
        "plt.plot(x, 0 * x, 'b--', label='nulová funkce')\n",
        "plt.legend()  # legenda\n",
        "plt.grid()  # mřížka\n",
        "plt.show()  # zobrazení celého grafu"
      ]
    },
    {
      "cell_type": "markdown",
      "metadata": {
        "id": "VfKCKoayOP8A"
      },
      "source": [
        "Lze nastavovat i další parametry grafu, například tloušťka čáry (**linewidth**) nebo velikost bodů (**markersize**). Další parametry najdete v nápovědě - **help(plt.plot)**.\n"
      ]
    },
    {
      "cell_type": "code",
      "execution_count": null,
      "metadata": {
        "id": "3u_izXBEOP8B"
      },
      "outputs": [],
      "source": [
        "x1 = np.linspace(0, 2 * np.pi, 100)  # mřížka x-souřadnic\n",
        "x2 = np.linspace(0, 2 * np.pi, 9)  # mřížka x-souřadnic\n",
        "plt.plot(x1, np.sin(x1), linewidth=3)\n",
        "plt.plot(x2, np.sin(x2), '.', markersize=20)\n",
        "plt.grid()  # mřížka\n",
        "plt.show()  # zobrazení celého grafu"
      ]
    },
    {
      "cell_type": "markdown",
      "metadata": {
        "id": "esizqv5MOP8B"
      },
      "source": [
        "# (8) Úkoly k procvičení\n"
      ]
    },
    {
      "cell_type": "markdown",
      "metadata": {
        "id": "E0SGd80AOP8B"
      },
      "source": [
        "**Úkol k doplnění:** Napište funkci, která pro zadaný poloměr a výšku válce vrátí jeho objem a povrch. Dále vypočtěte objem a povrch válce o poloměru podstavy 10 cm a výšce 5 cm.\n"
      ]
    },
    {
      "cell_type": "code",
      "execution_count": null,
      "metadata": {
        "id": "NAk1AeCUOP8B"
      },
      "outputs": [],
      "source": [
        "def valec(polomer, vyska):\n",
        "    podstava = \n",
        "    plast = \n",
        "    objem = \n",
        "    povrch = \n",
        "    return objem, povrch"
      ]
    },
    {
      "cell_type": "code",
      "execution_count": null,
      "metadata": {
        "id": "-4kvbr0OOP8B"
      },
      "outputs": [],
      "source": [
        "vysledek = valec(10, 5)\n",
        "print(f\"Válec má objem {vysledek[0]} cm^3 a povrch {vysledek[1]} cm^2.\")"
      ]
    },
    {
      "cell_type": "markdown",
      "metadata": {
        "id": "44cSTZfeOP8C"
      },
      "source": [
        "**Úkol k doplnění:** Napište funkci, která pro zadané koeficienty a, b, c a hodnoty d0 < d1 vykreslí graf funkce f(x) = ax^2 + bx + c na intervalu (d0,d1).\n"
      ]
    },
    {
      "cell_type": "code",
      "execution_count": null,
      "metadata": {
        "id": "y1Lh4omZOP8C"
      },
      "outputs": [],
      "source": [
        "def vykresleni(a, b, c, d0, d1):\n",
        "    x =  # mřížka x-souřadnic\n",
        "    y =  # y-souřadnice\n",
        "    plt.plot(x,y)\n",
        "    plt.show()"
      ]
    },
    {
      "cell_type": "code",
      "execution_count": null,
      "metadata": {
        "id": "mU9DF2AxOP8C"
      },
      "outputs": [],
      "source": [
        "vykresleni(1, 2, 1, -5, 5)"
      ]
    },
    {
      "cell_type": "markdown",
      "metadata": {
        "id": "QG82FoeLOP8C"
      },
      "source": [
        "**Úkol k doplnění:** Napište funkci, která pro zadané koeficienty a, b, c vypíše reálné kořeny kvadratické funkce f(x) = ax^2 + bx + c.\n"
      ]
    },
    {
      "cell_type": "code",
      "execution_count": null,
      "metadata": {
        "id": "cliC_VYDOP8C"
      },
      "outputs": [],
      "source": [
        "def koreny(a, b, c):\n",
        "    D =  # výpočet diskriminantu\n",
        "    if D > 0: # diskriminant je kladný\n",
        "        x1 =\n",
        "        x2 = \n",
        "        print(f\"Funkce má kořeny {x1} a {x2}.\")\n",
        "    elif D == 0: # diskriminant je roven 0\n",
        "        x1 =\n",
        "        print(f\"Funkce má dvojnásobný kořen {x1}.\")\n",
        "    else: # diskriminant je záporný\n",
        "        print(\"Funkce nemá reálné kořeny.\")\n"
      ]
    },
    {
      "cell_type": "code",
      "execution_count": null,
      "metadata": {
        "id": "0w4k-gbxOP8C"
      },
      "outputs": [],
      "source": [
        "koreny(1, 2, 1)"
      ]
    },
    {
      "cell_type": "markdown",
      "metadata": {
        "id": "A2ptWubzOP8C"
      },
      "source": [
        "**Řešený úkol:** Využijte předchozí úkoly a vytvořte funkci, která pro zadané koeficienty a, b, c a hodnoty d0 < d1 vykreslí funkci f(x) = ax^2 + bx + c na intervalu (d0,d1) a zároveň znázorní její reálné kořeny.\n"
      ]
    },
    {
      "cell_type": "code",
      "execution_count": null,
      "metadata": {
        "id": "AmHQ8zTGOP8D"
      },
      "outputs": [],
      "source": [
        "def vykresleni_a_koreny(a, b, c, d0, d1):\n",
        "    x = np.linspace(d0, d1, 100)  # mřížka x-souřadnic\n",
        "    y = a * x**2 + b * x + c  # y-souřadnice\n",
        "    plt.plot(x, y)  # kvadratická funkce\n",
        "    plt.plot(x, 0 * x)  # nulová funkce\n",
        "    plt.legend(['kvadratická funkce', 'nulová funkce'])  # legenda\n",
        "    plt.grid()\n",
        "    D = b**2 - 4 * a * c  # výpočet diskriminantu\n",
        "    if D > 0:  # diskriminant je kladný\n",
        "        sqrtD = np.sqrt(D)\n",
        "        x1 = (-b + sqrtD) / (2 * a)\n",
        "        x2 = (-b - sqrtD) / (2 * a)\n",
        "        print(f\"Funkce má kořeny {x1} a {x2}.\")\n",
        "        plt.plot([x1, x2], [0, 0], '.', markersize=10)\n",
        "    elif D == 0:  # diskriminant je roven 0\n",
        "        x1 = -b / (2 * a)\n",
        "        print(f\"Funkce má dvojnásobný kořen {x1}.\")\n",
        "    else:  # diskriminant je záporný\n",
        "        print(\"Funkce nemá reálné kořeny.\")\n",
        "    plt.show()"
      ]
    },
    {
      "cell_type": "code",
      "execution_count": null,
      "metadata": {
        "id": "M2g1IB54OP8D"
      },
      "outputs": [],
      "source": [
        "vykresleni_a_koreny(1, -8, 15, 0, 10)"
      ]
    }
  ],
  "metadata": {
    "colab": {
      "provenance": []
    },
    "kernelspec": {
      "display_name": "Python 3 (ipykernel)",
      "language": "python",
      "name": "python3"
    },
    "language_info": {
      "codemirror_mode": {
        "name": "ipython",
        "version": 3
      },
      "file_extension": ".py",
      "mimetype": "text/x-python",
      "name": "python",
      "nbconvert_exporter": "python",
      "pygments_lexer": "ipython3",
      "version": "3.11.7"
    }
  },
  "nbformat": 4,
  "nbformat_minor": 0
}
